{
 "cells": [
  {
   "cell_type": "code",
   "execution_count": 1,
   "id": "f5b2f778-7828-4d67-b881-6c5430580051",
   "metadata": {},
   "outputs": [],
   "source": [
    "import numpy as np\n",
    "import pygsti as pig\n",
    "import matplotlib.pyplot as plt\n",
    "import random\n",
    "import time\n",
    "import pandas\n",
    "from scipy.linalg import expm, sqrtm\n",
    "from tqdm import tqdm\n",
    "# from qutip import *\n",
    "\n",
    "from pygsti.modelmembers.operations import LindbladErrorgen as _LinbladErrorgen\n",
    "from pygsti.modelmembers.operations import EmbeddedErrorgen as _EmbeddedErrorgen\n",
    "from pygsti.modelmembers.operations import ExpErrorgenOp as _ExpErrorgenOp\n",
    "from pygsti.modelmembers.operations import ComposedOp as _ComposedOp\n",
    "import  pygsti.modelmembers as _mdmb\n",
    "import pygsti.processors as _proc\n",
    "\n",
    "from pygsti.tools import pdftools as _pdftools\n",
    "\n",
    "from pygsti.circuits.gstcircuits import create_lsgst_circuits\n",
    "\n",
    "from pygsti.models.memberdict import OrderedMemberDict as _OrderedMemberDict\n",
    "from pygsti.baseobjs.label import Label as _Label, CircuitLabel as _CircuitLabel\n",
    "from pygsti.circuits import Circuit\n",
    "import pygsti.circuits as _circ\n",
    "import pygsti.models as _mdl\n",
    "from pygsti.modelmembers import operations as _op"
   ]
  },
  {
   "cell_type": "code",
   "execution_count": 2,
   "id": "75b7a147-0182-40f9-8b56-d32e28729d3d",
   "metadata": {},
   "outputs": [],
   "source": [
    "def random_circuit(depth, proc_spec):\n",
    "    \"\"\"\n",
    "    works for any 1-qubit model pack and the XYZICnot 2-qubit pack\n",
    "    \"\"\"\n",
    "    layers = []\n",
    "    for i in range(depth):\n",
    "        gate = random.choice(proc_spec.gate_names)\n",
    "        if gate == '(idle)':\n",
    "            pass\n",
    "        elif gate == 'Gcnot':\n",
    "            layers.append((gate, 0, 1))\n",
    "        else:\n",
    "            layers.append((gate, random.choice(proc_spec.qubit_labels)))\n",
    "    return Circuit(layers, proc_spec.qubit_labels)"
   ]
  },
  {
   "cell_type": "code",
   "execution_count": 3,
   "id": "2a892170-59de-4087-81a4-0ca8f537064d",
   "metadata": {},
   "outputs": [],
   "source": [
    "def vector_from_outcomes(outcomes, num_outcomes):\n",
    "    vecout = np.zeros((num_outcomes))\n",
    "    for key in outcomes.keys():\n",
    "        vecout[int(key[0], 2)] = outcomes[key]\n",
    "    return(vecout)\n",
    "\n",
    "def matrix_from_jacob(jacob, num_outcomes):\n",
    "    matout = np.zeros((num_outcomes, len(jacob['0'*int(np.log2(num_outcomes))])))\n",
    "    for key in jacob.keys():\n",
    "        matout[int(key[0], 2), :] = np.array(jacob[key])\n",
    "    return matout\n",
    "\n",
    "def tensor_from_hessian(hessian, hilbert_dims):\n",
    "    \"\"\"\n",
    "    returns a 3d-array that when dotted into the state returns the jacobian \n",
    "    \"\"\"\n",
    "    num_params = len(hessian['0'*int(np.log2(hilbert_dims))])\n",
    "    tensor_out = np.zeros((hilbert_dims, num_params, num_params))\n",
    "    for key in hessian.keys():\n",
    "        tensor_out[int(key[0], 2), :, :] = hessian[key]\n",
    "    return tensor_out"
   ]
  },
  {
   "cell_type": "code",
   "execution_count": 4,
   "id": "7d9e5c9d-c42b-4549-8780-2579d761000d",
   "metadata": {},
   "outputs": [],
   "source": [
    "def compare_models(true_model, model1, model2, circuit_list, name1='x', name2='y'):\n",
    "    distribution1 = []\n",
    "    distribution2 = []\n",
    "    mx = 0\n",
    "    for idx, circ in enumerate(circuit_list): \n",
    "        hilbert_dims = 2**circ.width\n",
    "        true_outcomes = true_model.probabilities(circ)\n",
    "        outcome_set1 = model1.probabilities(circ)\n",
    "        outcome_set2 = model2.probabilities(circ)\n",
    "        dist1 = _pdftools.tvd(true_outcomes, outcome_set1)\n",
    "        dist2 = _pdftools.tvd(true_outcomes, outcome_set2)\n",
    "        if dist1 > mx:\n",
    "            mx = dist1\n",
    "        if dist2 > mx: \n",
    "            mx = dist2\n",
    "        vtrue = vector_from_outcomes(true_outcomes, hilbert_dims)\n",
    "        v1 = vector_from_outcomes(outcome_set1, hilbert_dims)\n",
    "        v2 = vector_from_outcomes(outcome_set2, hilbert_dims)\n",
    "        distribution1.append(vtrue - v1)\n",
    "        distribution2.append(vtrue - v2)\n",
    "        plt.scatter(dist1, dist2)\n",
    "    plt.xlabel(name1)\n",
    "    plt.ylabel(name2)\n",
    "    plt.plot((0, mx), (0, mx), c='black')\n",
    "    plt.show()\n",
    "    return (distribution1, distribution2)"
   ]
  },
  {
   "cell_type": "code",
   "execution_count": 5,
   "id": "e4c08330-c9c4-4d09-9594-f6ffc9d5bdb0",
   "metadata": {},
   "outputs": [],
   "source": [
    "def calculate_jacobs(circ_list, model):\n",
    "    jacobs = {}\n",
    "    for circ in circ_list:\n",
    "        hilbert_dims = 2**circ.width\n",
    "        jacobs[circ] = matrix_from_jacob(model.sim.dprobs(circ), hilbert_dims)\n",
    "    return jacobs"
   ]
  },
  {
   "cell_type": "code",
   "execution_count": 6,
   "id": "f5ee9d93-b8ed-4349-bd2e-fe51d301d2c0",
   "metadata": {},
   "outputs": [],
   "source": [
    "from pygsti.processors import CliffordCompilationRules as CCR\n",
    "\n",
    "def make_rb_param(noise_model, model_pack, length_powers=5, circuits_at_length=10):\n",
    "    pspec = model_pack.processor_spec()\n",
    "    \n",
    "    depths = [2**i for i in range(length_powers)]\n",
    "    \n",
    "    compilations = {'absolute': CCR.create_standard(pspec, 'absolute', ('paulis', '1Qcliffords'), verbosity=0),            \n",
    "                'paulieq': CCR.create_standard(pspec, 'paulieq', ('1Qcliffords', 'allcnots'), verbosity=0)}\n",
    "\n",
    "    design = pig.protocols.DirectRBDesign(model_pack.processor_spec(), compilations, depths, circuits_at_length, qubit_labels=model_pack.processor_spec().qubit_labels, sampler='edgegrab', \n",
    "                                           samplerargs=[0.5], randomizeout=True,\n",
    "                                           citerations=20)\n",
    "    pig.io.write_empty_protocol_data(design, 'RB_Data', clobber_ok=True)\n",
    "    pig.io.fill_in_empty_dataset_with_fake_data(noise_model, 'RB_Data/data/dataset.txt', num_samples=1000)\n",
    "    data = pig.io.load_data_from_dir('RB_Data')\n",
    "    protocol = pig.protocols.RB()\n",
    "    results = protocol.run(data)\n",
    "    return (results.fits['full'].estimates['r'], data)"
   ]
  },
  {
   "cell_type": "code",
   "execution_count": 7,
   "id": "4061cf7b-40c0-429d-ab23-ff1de50748ca",
   "metadata": {},
   "outputs": [],
   "source": [
    "def make_dirichlet_covar(counts, hilbert_dims):\n",
    "    total_counts = sum([counts[key] for key in counts.keys()])    \n",
    "    count_vec = np.ones(hilbert_dims)\n",
    "    for key in counts.keys():\n",
    "        count_vec[int(key[0], 2)] += counts[key]\n",
    "    prefactor = 1/( (total_counts + hilbert_dims)**2 * (total_counts + hilbert_dims + 1) )\n",
    "    meas_covar = prefactor*(\n",
    "        (total_counts + hilbert_dims)*np.diag(count_vec) - np.outer(count_vec, count_vec)\n",
    "    )\n",
    "    return meas_covar"
   ]
  },
  {
   "cell_type": "code",
   "execution_count": 8,
   "id": "0d1e1840-49f6-4b99-99df-b85b4a8c11d1",
   "metadata": {},
   "outputs": [],
   "source": [
    "def make_multinom_covar(prob_vec):\n",
    "    return np.eye(len(prob_vec)) - np.outer(prob_vec, prob_vec)"
   ]
  },
  {
   "cell_type": "code",
   "execution_count": 9,
   "id": "578fa22b-2022-4ec9-91ae-a23d651e95f7",
   "metadata": {},
   "outputs": [],
   "source": [
    "from scipy.linalg import block_diag\n",
    "\n",
    "class ExtendedKalmanFilter():\n",
    "    def __init__(self, model, P0):\n",
    "        self.model = model\n",
    "        self.P = P0\n",
    "        \n",
    "    def update(self, circ_list, data_set, jdict, hdict, stab_noise=None, max_itr=1, itr_eps=1e-4):\n",
    "        \n",
    "        \n",
    "        prior_covar = self.P\n",
    "        prior_state = self.model.to_vector()\n",
    "        \n",
    "        for itr in range(max_itr):\n",
    "            Smat = np.zeros((0,0))\n",
    "            total_innov = np.zeros((0))\n",
    "            total_jac = np.zeros((0,len(self.model.to_vector())))\n",
    "        \n",
    "            for circ in circ_list:\n",
    "                counts = data_set[circ].counts\n",
    "                total_counts = sum([counts[key] for key in counts.keys()])    \n",
    "                hilbert_dims = 2**(circ.width)\n",
    "                prior_state = self.model.to_vector()\n",
    "\n",
    "                # 0) find the mean estimate for the circuit outcome under the self.model\n",
    "                p_model = np.ones(hilbert_dims)\n",
    "                probs = self.model.probabilities(circ)\n",
    "                for key in probs.keys():\n",
    "                    p_model[int(key[0], 2)] += total_counts*probs[key]\n",
    "                p_model = (1/(total_counts+hilbert_dims))*p_model\n",
    "\n",
    "                # calculate jacobian\n",
    "                jacob = jdict[circ] + hdict[circ]@prior_state\n",
    "\n",
    "                # 1) calculate your observation frequencies\n",
    "                observation = np.ones(hilbert_dims)\n",
    "                for key in counts.keys():\n",
    "                    observation[int(key[0], 2)] += counts[key]\n",
    "                observation = (1/(total_counts+hilbert_dims))*observation\n",
    "\n",
    "                # 2) calculate the covaraiance of the observation and add model noise\n",
    "                meas_covar = (1/(total_counts+hilbert_dims))*make_multinom_covar(observation)\n",
    "                if stab_noise is not None:\n",
    "                    meas_covar += stab_noise\n",
    "                    \n",
    "                # 3) Kalman gain\n",
    "                smat = np.linalg.pinv(jacob@prior_covar@jacob.T + meas_covar, 1e-6)\n",
    "                \n",
    "                innovation = observation - p_model\n",
    "\n",
    "                Smat = block_diag(Smat, smat)\n",
    "                total_innov = np.hstack([total_innov, innovation])\n",
    "                total_jac = np.vstack([total_jac, jacob])\n",
    "            Kgain = prior_covar@total_jac.T@Smat\n",
    "            post_state = prior_state + Kgain@total_innov\n",
    "            self.P = prior_covar - Kgain@total_jac@prior_covar\n",
    "            if np.linalg.norm(post_state - prior_state) < itr_eps:\n",
    "                break\n",
    "        self.model.from_vector(post_state)"
   ]
  },
  {
   "cell_type": "code",
   "execution_count": 10,
   "id": "428a57cb-1e15-45b2-8744-959690a5ee34",
   "metadata": {},
   "outputs": [],
   "source": [
    "from scipy.linalg import block_diag\n",
    "\n",
    "class ExtendedKalmanFilter2():\n",
    "    def __init__(self, model, P0):\n",
    "        self.model = model\n",
    "        self.P = P0\n",
    "        \n",
    "    def update(self, circ_list, data_set, jdict, hdict, stab_noise=None, max_itr=1, itr_eps=1e-4):\n",
    "        \n",
    "        \n",
    "        prior_covar = self.P\n",
    "        prior_state = self.model.to_vector()\n",
    "        \n",
    "        for itr in range(max_itr):\n",
    "            Smat = np.zeros((0,0))\n",
    "            total_innov = np.zeros((0))\n",
    "            total_jac = np.zeros((0,len(self.model.to_vector())))\n",
    "        \n",
    "            for circ in circ_list:\n",
    "                counts = data_set[circ].counts\n",
    "                total_counts = sum([counts[key] for key in counts.keys()])    \n",
    "                hilbert_dims = 2**(circ.width)\n",
    "                prior_state = self.model.to_vector()\n",
    "\n",
    "                # 0) find the mean estimate for the circuit outcome under the self.model\n",
    "                p_model = np.zeros(hilbert_dims)\n",
    "                probs = self.model.probabilities(circ)\n",
    "                for key in probs.keys():\n",
    "                    p_model[int(key[0], 2)] += probs[key]\n",
    "\n",
    "                # calculate jacobian\n",
    "                jacob = jdict[circ] + hdict[circ]@prior_state\n",
    "\n",
    "                # 1) calculate your observation frequencies\n",
    "                observation = np.ones(hilbert_dims)\n",
    "                for key in counts.keys():\n",
    "                    observation[int(key[0], 2)] += counts[key]\n",
    "                observation = (1/(total_counts+hilbert_dims))*observation\n",
    "\n",
    "                # 2) calculate the covaraiance of the observation and add model noise\n",
    "                meas_covar = (1/(total_counts+hilbert_dims))*make_multinom_covar(observation)\n",
    "                if stab_noise is not None:\n",
    "                    meas_covar += stab_noise\n",
    "                    \n",
    "                # 3) Kalman gain\n",
    "                smat = np.linalg.pinv(jacob@prior_covar@jacob.T + meas_covar, 1e-6)\n",
    "                \n",
    "                innovation = observation - p_model\n",
    "\n",
    "                Smat = block_diag(Smat, smat)\n",
    "                total_innov = np.hstack([total_innov, innovation])\n",
    "                total_jac = np.vstack([total_jac, jacob])\n",
    "            Kgain = prior_covar@total_jac.T@Smat\n",
    "            post_state = prior_state + Kgain@total_innov\n",
    "            self.P = prior_covar - Kgain@total_jac@prior_covar\n",
    "            if np.linalg.norm(post_state - prior_state) < itr_eps:\n",
    "                break\n",
    "        self.model.from_vector(post_state)"
   ]
  },
  {
   "cell_type": "code",
   "execution_count": 10,
   "id": "0ee40834-4801-4f81-a0fd-ea4138d624a9",
   "metadata": {},
   "outputs": [],
   "source": [
    "from filterpy.kalman import KalmanFilter\n",
    "\n",
    "class LinearKalmanFilter(KalmanFilter):\n",
    "    def __init__(self, x0, P0, hilbert_dims):\n",
    "        super().__init__(len(x0), hilbert_dims)\n",
    "        self.x = x0\n",
    "        self.P = P0\n",
    "        \n",
    "        self.F = np.eye(len(x0))\n",
    "        self.Q = np.zeros((len(x0), len(x0)))\n",
    "        \n",
    "    def update_filter(self, circ, count_vec, pvec_model, jacob, stab_noise=None):\n",
    "        \n",
    "        total_counts = sum(count_vec)\n",
    "        \n",
    "        hilbert_dims = 2**circ.width\n",
    "        \n",
    "        prediction = (total_counts*pvec_model + np.ones(hilbert_dims))/(total_counts + hilbert_dims)\n",
    "        observation = (count_vec + np.ones(hilbert_dims))/(total_counts + hilbert_dims)\n",
    "        \n",
    "        self.H = jacob\n",
    "        shot_noise = (1/total_counts)*make_multinom_covar(observation)\n",
    "        if stab_noise is not None:\n",
    "            shot_noise += stab_noise\n",
    "        self.R = shot_noise\n",
    "        \n",
    "        self.update(observation - prediction)"
   ]
  },
  {
   "cell_type": "code",
   "execution_count": 11,
   "id": "d8e1b3fb-903b-43bc-9042-5dde05c2ab99",
   "metadata": {},
   "outputs": [],
   "source": [
    "def regression_fit(circ_list, data_set, ref_model, jdict):\n",
    "    pvec = np.zeros((0))\n",
    "    jmat = np.zeros((0, num_params))\n",
    "    \n",
    "    for circ in circ_list:\n",
    "        hilbert_dims = 2**circ.width\n",
    "        \n",
    "        counts = vector_from_outcomes(data_set[circ].counts, hilbert_dims)\n",
    "        total_counts = sum(counts)\n",
    "        observation = (counts + np.ones((hilbert_dims)))/(total_counts + hilbert_dims)\n",
    "        \n",
    "        p_model = np.ones((hilbert_dims))\n",
    "        probs = ref_model.probabilities(circ)\n",
    "        for key in probs.keys():\n",
    "            p_model[int(key[0], 2)] += total_counts*probs[key]\n",
    "        p_model = p_model/(total_counts + hilbert_dims)\n",
    "        \n",
    "        pvec = np.hstack((pvec, observation-p_model))\n",
    "        jmat = np.vstack((jmat, jdict[circ]))\n",
    "    return np.linalg.pinv(jmat, 1e-6)@pvec\n",
    "        "
   ]
  },
  {
   "cell_type": "markdown",
   "id": "1fe885cd-c723-4991-a1d8-6e860d05acd9",
   "metadata": {},
   "source": [
    "# [1] Pick a Model"
   ]
  },
  {
   "cell_type": "code",
   "execution_count": 12,
   "id": "db08c1a0-b3ce-4e3e-abc3-8a77dee824b3",
   "metadata": {},
   "outputs": [],
   "source": [
    "from pygsti.modelpacks import smq1Q_XYI as _smq1Q_XYI\n",
    "from pygsti.modelpacks import smq1Q_XYZI as _smq1Q_XYZI\n",
    "from pygsti.modelpacks import smq1Q_XYI as _smq1Q_XZ\n",
    "from pygsti.modelpacks import smq2Q_XYZICNOT as _smq2Q_XYZICNOT\n",
    "MODEL_PACK = _smq1Q_XYZI\n",
    "REF_MODEL = MODEL_PACK.target_model('H+S')"
   ]
  },
  {
   "cell_type": "markdown",
   "id": "8a1a3bd4-44ab-4e73-8e23-f118da635613",
   "metadata": {},
   "source": [
    "# [2] Make Random Circuits and Calculate the Jacobians and Hessians"
   ]
  },
  {
   "cell_type": "code",
   "execution_count": 13,
   "id": "9dc80053-c13d-4066-a6c5-77fc389c9e27",
   "metadata": {},
   "outputs": [
    {
     "name": "stderr",
     "output_type": "stream",
     "text": [
      "4000it [1:04:54,  1.03it/s]\n"
     ]
    }
   ],
   "source": [
    "# make random circuits and design matrices\n",
    "N_circs = 4000\n",
    "depth = 64\n",
    "\n",
    "random_circuits = []\n",
    "for n in range(N_circs):\n",
    "    random_circuits.append(random_circuit(random.choice(range(depth)), MODEL_PACK.processor_spec()))\n",
    "\n",
    "jdict_random = dict()\n",
    "hdict_random = dict()\n",
    "for idx, circ in tqdm(enumerate(random_circuits)):\n",
    "    jdict_random[circ] = matrix_from_jacob(REF_MODEL.sim.dprobs(circ), 2**circ.width)\n",
    "    hdict_random[circ] = tensor_from_hessian(REF_MODEL.sim.hprobs(circ), 2**circ.width)"
   ]
  },
  {
   "cell_type": "markdown",
   "id": "6c73c030-387c-47d4-ae98-3fd65a189514",
   "metadata": {},
   "source": [
    "# [2] Design Experiments (total of 20 trials) and make models"
   ]
  },
  {
   "cell_type": "code",
   "execution_count": 14,
   "id": "98a692fd-18a3-4100-82b4-6aa924419893",
   "metadata": {},
   "outputs": [],
   "source": [
    "import random\n",
    "\n",
    "num_trials = 20\n",
    "len_trial = 1000\n",
    "\n",
    "trial_circ_lists = []\n",
    "for i in range(num_trials):\n",
    "    trial_circ_lists.append(random.sample(random_circuits, len_trial))"
   ]
  },
  {
   "cell_type": "code",
   "execution_count": 15,
   "id": "fc7f05d6-c8ed-4045-b4a5-636ed861bb01",
   "metadata": {},
   "outputs": [],
   "source": [
    "linear_model = REF_MODEL.copy()\n",
    "extended_model = REF_MODEL.copy()\n",
    "regression_model = REF_MODEL.copy()\n",
    "noise_model = MODEL_PACK.target_model()\n",
    "noise_model = noise_model.depolarize(max_op_noise=0.01, max_spam_noise=0.001)\n",
    "noise_model = noise_model.rotate(max_rotate=0.01)"
   ]
  },
  {
   "cell_type": "code",
   "execution_count": 16,
   "id": "38f1f1d7-b4c0-47d5-8e53-899d9f081d81",
   "metadata": {},
   "outputs": [],
   "source": [
    "def compare_model_list(noise_model, model_list, circ_list):\n",
    "    avg_tvds = np.zeros((len(model_list)))\n",
    "    for circ in circ_list:\n",
    "        for i, model in enumerate(model_list):\n",
    "            avg_tvds[i] += _pdftools.tvd(model.probabilities(circ), noise_model.probabilities(circ))\n",
    "    return (1/len(circ_list))*avg_tvds"
   ]
  },
  {
   "cell_type": "code",
   "execution_count": 17,
   "id": "94c52644-e7ed-460b-9961-a24e83f06b2b",
   "metadata": {},
   "outputs": [],
   "source": [
    "N_circs = 100\n",
    "depth = 128\n",
    "\n",
    "test_list = []\n",
    "for n in range(N_circs):\n",
    "    test_list.append(random_circuit(random.choice(range(depth)), MODEL_PACK.processor_spec()))"
   ]
  },
  {
   "cell_type": "markdown",
   "id": "7261c860-760d-4347-9992-e907132cc58b",
   "metadata": {},
   "source": [
    "# [3] Run experiments\n",
    "\n",
    "An experiment consists of \n",
    "\n",
    "1) make RB param and sample the circs a set number of times\n",
    "2) run a set number of kalman iterations on the outcomes\n",
    "3) after a set number, do a linear fit, sample 250 more random circuits, and record the average errors vs fit\n",
    "4) Iterate, recording the prior innovation vs circuit index\n",
    "\n",
    "\n",
    "The final plot will look like:\n",
    "\n",
    "- A main plot with the learning curve as a function of time\n",
    "- A secondary insert plot with the average error points and error bars\n",
    "- a plot with the sampling error ceiling\n"
   ]
  },
  {
   "cell_type": "code",
   "execution_count": 18,
   "id": "5ab95685-094a-4758-a3de-2c1d19f12dff",
   "metadata": {},
   "outputs": [],
   "source": [
    "num_params = len(REF_MODEL.to_vector())\n",
    "hilbert_dims = 2**random_circuits[0].width"
   ]
  },
  {
   "cell_type": "code",
   "execution_count": 19,
   "id": "59c10e54-3f53-4a8e-ae93-b135d554808b",
   "metadata": {},
   "outputs": [
    {
     "name": "stdout",
     "output_type": "stream",
     "text": [
      "- Sampling 10 circuits at DRB length 1 (1 of 5 depths) with seed 842003\n",
      "- Sampling 10 circuits at DRB length 2 (2 of 5 depths) with seed 842013\n",
      "- Sampling 10 circuits at DRB length 4 (3 of 5 depths) with seed 842023\n",
      "- Sampling 10 circuits at DRB length 8 (4 of 5 depths) with seed 842033\n",
      "- Sampling 10 circuits at DRB length 16 (5 of 5 depths) with seed 842043\n"
     ]
    },
    {
     "name": "stderr",
     "output_type": "stream",
     "text": [
      "/home/jpmarceaux/Applications/pyGSTi/pygsti/io/writers.py:502: UserWarning: write_empty_protocol_data has recently changed its signature - it looks like you need to swap the first two arguments.  Continuing using the old signature...\n",
      "  _warnings.warn((\"write_empty_protocol_data has recently changed its signature - it looks like you need to swap\"\n",
      "/home/jpmarceaux/Applications/pyGSTi/pygsti/io/writers.py:623: UserWarning: fill_in_empty_dataset_with_fake_data has recently changed its signature - it looks like you need to swap the first two arguments.  Continuing using the old signature...\n",
      "  _warnings.warn((\"fill_in_empty_dataset_with_fake_data has recently changed its signature - it looks like\"\n",
      "/home/jpmarceaux/Applications/pyGSTi/pygsti/layouts/evaltree.py:183: UserWarning: Created an evaluation tree that is inefficient: tree-size > 3 * #circuits !\n",
      "This is likely due to the fact that the circuits being simulated do not have a\n",
      "periodic structure. Consider using a different forward simulator (e.g. MapForwardSimulator).\n",
      "  _warnings.warn((\"Created an evaluation tree that is inefficient: tree-size > %d * #circuits !\\n\"\n",
      "/home/jpmarceaux/Applications/pyGSTi/pygsti/tools/legacytools.py:38: UserWarning: The function load_data_from_dir is deprecated, and may not be present in future versions of pygsti.\n",
      "    Please use read_data_from_dir instead.\n",
      "  _warnings.warn(message)\n",
      "1000it [01:49,  9.16it/s]\n"
     ]
    },
    {
     "name": "stdout",
     "output_type": "stream",
     "text": [
      "- Sampling 10 circuits at DRB length 1 (1 of 5 depths) with seed 938239\n",
      "- Sampling 10 circuits at DRB length 2 (2 of 5 depths) with seed 938249\n",
      "- Sampling 10 circuits at DRB length 4 (3 of 5 depths) with seed 938259\n",
      "- Sampling 10 circuits at DRB length 8 (4 of 5 depths) with seed 938269\n",
      "- Sampling 10 circuits at DRB length 16 (5 of 5 depths) with seed 938279\n"
     ]
    },
    {
     "name": "stderr",
     "output_type": "stream",
     "text": [
      "1000it [01:51,  8.97it/s]\n"
     ]
    },
    {
     "name": "stdout",
     "output_type": "stream",
     "text": [
      "- Sampling 10 circuits at DRB length 1 (1 of 5 depths) with seed 845587\n",
      "- Sampling 10 circuits at DRB length 2 (2 of 5 depths) with seed 845597\n",
      "- Sampling 10 circuits at DRB length 4 (3 of 5 depths) with seed 845607\n",
      "- Sampling 10 circuits at DRB length 8 (4 of 5 depths) with seed 845617\n",
      "- Sampling 10 circuits at DRB length 16 (5 of 5 depths) with seed 845627\n"
     ]
    },
    {
     "name": "stderr",
     "output_type": "stream",
     "text": [
      "1000it [01:48,  9.20it/s]\n"
     ]
    },
    {
     "name": "stdout",
     "output_type": "stream",
     "text": [
      "- Sampling 10 circuits at DRB length 1 (1 of 5 depths) with seed 793610\n",
      "- Sampling 10 circuits at DRB length 2 (2 of 5 depths) with seed 793620\n",
      "- Sampling 10 circuits at DRB length 4 (3 of 5 depths) with seed 793630\n",
      "- Sampling 10 circuits at DRB length 8 (4 of 5 depths) with seed 793640\n",
      "- Sampling 10 circuits at DRB length 16 (5 of 5 depths) with seed 793650\n"
     ]
    },
    {
     "name": "stderr",
     "output_type": "stream",
     "text": [
      "1000it [01:46,  9.42it/s]\n"
     ]
    },
    {
     "name": "stdout",
     "output_type": "stream",
     "text": [
      "- Sampling 10 circuits at DRB length 1 (1 of 5 depths) with seed 396004\n",
      "- Sampling 10 circuits at DRB length 2 (2 of 5 depths) with seed 396014\n",
      "- Sampling 10 circuits at DRB length 4 (3 of 5 depths) with seed 396024\n",
      "- Sampling 10 circuits at DRB length 8 (4 of 5 depths) with seed 396034\n",
      "- Sampling 10 circuits at DRB length 16 (5 of 5 depths) with seed 396044\n"
     ]
    },
    {
     "name": "stderr",
     "output_type": "stream",
     "text": [
      "1000it [01:49,  9.12it/s]\n"
     ]
    },
    {
     "name": "stdout",
     "output_type": "stream",
     "text": [
      "- Sampling 10 circuits at DRB length 1 (1 of 5 depths) with seed 645139\n",
      "- Sampling 10 circuits at DRB length 2 (2 of 5 depths) with seed 645149\n",
      "- Sampling 10 circuits at DRB length 4 (3 of 5 depths) with seed 645159\n",
      "- Sampling 10 circuits at DRB length 8 (4 of 5 depths) with seed 645169\n",
      "- Sampling 10 circuits at DRB length 16 (5 of 5 depths) with seed 645179\n"
     ]
    },
    {
     "name": "stderr",
     "output_type": "stream",
     "text": [
      "1000it [01:47,  9.35it/s]\n"
     ]
    },
    {
     "name": "stdout",
     "output_type": "stream",
     "text": [
      "- Sampling 10 circuits at DRB length 1 (1 of 5 depths) with seed 160460\n",
      "- Sampling 10 circuits at DRB length 2 (2 of 5 depths) with seed 160470\n",
      "- Sampling 10 circuits at DRB length 4 (3 of 5 depths) with seed 160480\n",
      "- Sampling 10 circuits at DRB length 8 (4 of 5 depths) with seed 160490\n",
      "- Sampling 10 circuits at DRB length 16 (5 of 5 depths) with seed 160500\n"
     ]
    },
    {
     "name": "stderr",
     "output_type": "stream",
     "text": [
      "1000it [01:45,  9.44it/s]\n"
     ]
    },
    {
     "name": "stdout",
     "output_type": "stream",
     "text": [
      "- Sampling 10 circuits at DRB length 1 (1 of 5 depths) with seed 742243\n",
      "- Sampling 10 circuits at DRB length 2 (2 of 5 depths) with seed 742253\n",
      "- Sampling 10 circuits at DRB length 4 (3 of 5 depths) with seed 742263\n",
      "- Sampling 10 circuits at DRB length 8 (4 of 5 depths) with seed 742273\n",
      "- Sampling 10 circuits at DRB length 16 (5 of 5 depths) with seed 742283\n"
     ]
    },
    {
     "name": "stderr",
     "output_type": "stream",
     "text": [
      "1000it [01:48,  9.24it/s]\n"
     ]
    },
    {
     "name": "stdout",
     "output_type": "stream",
     "text": [
      "- Sampling 10 circuits at DRB length 1 (1 of 5 depths) with seed 8892\n",
      "- Sampling 10 circuits at DRB length 2 (2 of 5 depths) with seed 8902\n",
      "- Sampling 10 circuits at DRB length 4 (3 of 5 depths) with seed 8912\n",
      "- Sampling 10 circuits at DRB length 8 (4 of 5 depths) with seed 8922\n",
      "- Sampling 10 circuits at DRB length 16 (5 of 5 depths) with seed 8932\n"
     ]
    },
    {
     "name": "stderr",
     "output_type": "stream",
     "text": [
      "1000it [01:49,  9.14it/s]\n"
     ]
    },
    {
     "name": "stdout",
     "output_type": "stream",
     "text": [
      "- Sampling 10 circuits at DRB length 1 (1 of 5 depths) with seed 858280\n",
      "- Sampling 10 circuits at DRB length 2 (2 of 5 depths) with seed 858290\n",
      "- Sampling 10 circuits at DRB length 4 (3 of 5 depths) with seed 858300\n",
      "- Sampling 10 circuits at DRB length 8 (4 of 5 depths) with seed 858310\n",
      "- Sampling 10 circuits at DRB length 16 (5 of 5 depths) with seed 858320\n"
     ]
    },
    {
     "name": "stderr",
     "output_type": "stream",
     "text": [
      "1000it [01:47,  9.32it/s]\n"
     ]
    },
    {
     "name": "stdout",
     "output_type": "stream",
     "text": [
      "- Sampling 10 circuits at DRB length 1 (1 of 5 depths) with seed 553045\n",
      "- Sampling 10 circuits at DRB length 2 (2 of 5 depths) with seed 553055\n",
      "- Sampling 10 circuits at DRB length 4 (3 of 5 depths) with seed 553065\n",
      "- Sampling 10 circuits at DRB length 8 (4 of 5 depths) with seed 553075\n",
      "- Sampling 10 circuits at DRB length 16 (5 of 5 depths) with seed 553085\n"
     ]
    },
    {
     "name": "stderr",
     "output_type": "stream",
     "text": [
      "1000it [01:45,  9.52it/s]\n"
     ]
    },
    {
     "name": "stdout",
     "output_type": "stream",
     "text": [
      "- Sampling 10 circuits at DRB length 1 (1 of 5 depths) with seed 733468\n",
      "- Sampling 10 circuits at DRB length 2 (2 of 5 depths) with seed 733478\n",
      "- Sampling 10 circuits at DRB length 4 (3 of 5 depths) with seed 733488\n",
      "- Sampling 10 circuits at DRB length 8 (4 of 5 depths) with seed 733498\n",
      "- Sampling 10 circuits at DRB length 16 (5 of 5 depths) with seed 733508\n"
     ]
    },
    {
     "name": "stderr",
     "output_type": "stream",
     "text": [
      "1000it [01:47,  9.33it/s]\n"
     ]
    },
    {
     "name": "stdout",
     "output_type": "stream",
     "text": [
      "- Sampling 10 circuits at DRB length 1 (1 of 5 depths) with seed 589683\n",
      "- Sampling 10 circuits at DRB length 2 (2 of 5 depths) with seed 589693\n",
      "- Sampling 10 circuits at DRB length 4 (3 of 5 depths) with seed 589703\n",
      "- Sampling 10 circuits at DRB length 8 (4 of 5 depths) with seed 589713\n",
      "- Sampling 10 circuits at DRB length 16 (5 of 5 depths) with seed 589723\n"
     ]
    },
    {
     "name": "stderr",
     "output_type": "stream",
     "text": [
      "1000it [01:44,  9.55it/s]\n"
     ]
    },
    {
     "name": "stdout",
     "output_type": "stream",
     "text": [
      "- Sampling 10 circuits at DRB length 1 (1 of 5 depths) with seed 322326\n",
      "- Sampling 10 circuits at DRB length 2 (2 of 5 depths) with seed 322336\n",
      "- Sampling 10 circuits at DRB length 4 (3 of 5 depths) with seed 322346\n",
      "- Sampling 10 circuits at DRB length 8 (4 of 5 depths) with seed 322356\n",
      "- Sampling 10 circuits at DRB length 16 (5 of 5 depths) with seed 322366\n"
     ]
    },
    {
     "name": "stderr",
     "output_type": "stream",
     "text": [
      "1000it [01:48,  9.23it/s]\n"
     ]
    },
    {
     "name": "stdout",
     "output_type": "stream",
     "text": [
      "- Sampling 10 circuits at DRB length 1 (1 of 5 depths) with seed 403436\n",
      "- Sampling 10 circuits at DRB length 2 (2 of 5 depths) with seed 403446\n",
      "- Sampling 10 circuits at DRB length 4 (3 of 5 depths) with seed 403456\n",
      "- Sampling 10 circuits at DRB length 8 (4 of 5 depths) with seed 403466\n",
      "- Sampling 10 circuits at DRB length 16 (5 of 5 depths) with seed 403476\n"
     ]
    },
    {
     "name": "stderr",
     "output_type": "stream",
     "text": [
      "1000it [01:45,  9.46it/s]\n"
     ]
    },
    {
     "name": "stdout",
     "output_type": "stream",
     "text": [
      "- Sampling 10 circuits at DRB length 1 (1 of 5 depths) with seed 822969\n",
      "- Sampling 10 circuits at DRB length 2 (2 of 5 depths) with seed 822979\n",
      "- Sampling 10 circuits at DRB length 4 (3 of 5 depths) with seed 822989\n",
      "- Sampling 10 circuits at DRB length 8 (4 of 5 depths) with seed 822999\n",
      "- Sampling 10 circuits at DRB length 16 (5 of 5 depths) with seed 823009\n"
     ]
    },
    {
     "name": "stderr",
     "output_type": "stream",
     "text": [
      "1000it [01:48,  9.18it/s]\n"
     ]
    },
    {
     "name": "stdout",
     "output_type": "stream",
     "text": [
      "- Sampling 10 circuits at DRB length 1 (1 of 5 depths) with seed 95951\n",
      "- Sampling 10 circuits at DRB length 2 (2 of 5 depths) with seed 95961\n",
      "- Sampling 10 circuits at DRB length 4 (3 of 5 depths) with seed 95971\n",
      "- Sampling 10 circuits at DRB length 8 (4 of 5 depths) with seed 95981\n",
      "- Sampling 10 circuits at DRB length 16 (5 of 5 depths) with seed 95991\n"
     ]
    },
    {
     "name": "stderr",
     "output_type": "stream",
     "text": [
      "1000it [01:45,  9.52it/s]\n"
     ]
    },
    {
     "name": "stdout",
     "output_type": "stream",
     "text": [
      "- Sampling 10 circuits at DRB length 1 (1 of 5 depths) with seed 699714\n",
      "- Sampling 10 circuits at DRB length 2 (2 of 5 depths) with seed 699724\n",
      "- Sampling 10 circuits at DRB length 4 (3 of 5 depths) with seed 699734\n",
      "- Sampling 10 circuits at DRB length 8 (4 of 5 depths) with seed 699744\n",
      "- Sampling 10 circuits at DRB length 16 (5 of 5 depths) with seed 699754\n"
     ]
    },
    {
     "name": "stderr",
     "output_type": "stream",
     "text": [
      "1000it [01:46,  9.41it/s]\n"
     ]
    },
    {
     "name": "stdout",
     "output_type": "stream",
     "text": [
      "- Sampling 10 circuits at DRB length 1 (1 of 5 depths) with seed 560589\n",
      "- Sampling 10 circuits at DRB length 2 (2 of 5 depths) with seed 560599\n",
      "- Sampling 10 circuits at DRB length 4 (3 of 5 depths) with seed 560609\n",
      "- Sampling 10 circuits at DRB length 8 (4 of 5 depths) with seed 560619\n",
      "- Sampling 10 circuits at DRB length 16 (5 of 5 depths) with seed 560629\n"
     ]
    },
    {
     "name": "stderr",
     "output_type": "stream",
     "text": [
      "1000it [01:49,  9.10it/s]\n"
     ]
    },
    {
     "name": "stdout",
     "output_type": "stream",
     "text": [
      "- Sampling 10 circuits at DRB length 1 (1 of 5 depths) with seed 756071\n",
      "- Sampling 10 circuits at DRB length 2 (2 of 5 depths) with seed 756081\n",
      "- Sampling 10 circuits at DRB length 4 (3 of 5 depths) with seed 756091\n",
      "- Sampling 10 circuits at DRB length 8 (4 of 5 depths) with seed 756101\n",
      "- Sampling 10 circuits at DRB length 16 (5 of 5 depths) with seed 756111\n"
     ]
    },
    {
     "name": "stderr",
     "output_type": "stream",
     "text": [
      "1000it [01:46,  9.40it/s]\n"
     ]
    }
   ],
   "source": [
    "num_samples = 1000\n",
    "resample_window = 250\n",
    "\n",
    "max_iterations = 5\n",
    "itr_epsilon = 1e-4\n",
    "\n",
    "\n",
    "experimental_outcomes = dict()\n",
    "\n",
    "innovation_lists = []\n",
    "test_lists = []\n",
    "\n",
    "ref_prediction_errors = []\n",
    "linear_prediction_errors = []\n",
    "extended_prediction_errors = []\n",
    "\n",
    "test_sets = [] # list of lists of arrays of avg tvds\n",
    "\n",
    "shot_noise_ceil = 1/np.sqrt(num_samples)\n",
    "\n",
    "\n",
    "\n",
    "for list_index, circ_list in enumerate(trial_circ_lists):\n",
    "    rb_param, data = make_rb_param(noise_model, MODEL_PACK);\n",
    "    dataset = pig.data.simulate_data(noise_model, circ_list, num_samples=num_samples)\n",
    "\n",
    "    P = 2*np.sqrt(rb_param)*np.eye(num_params)\n",
    "    extended_model.from_vector(np.zeros(num_params))\n",
    "    lkf = LinearKalmanFilter(np.zeros(num_params), P, hilbert_dims)\n",
    "    ekf = ExtendedKalmanFilter(extended_model, P)\n",
    "\n",
    "    ref_pred_error = np.zeros((len_trial))\n",
    "    linear_pred_error = np.zeros((len_trial))\n",
    "    extended_pred_error = np.zeros((len_trial))\n",
    "\n",
    "    trial_test_list = []\n",
    "\n",
    "    for idx, circ in tqdm(enumerate(circ_list)):\n",
    "        if idx % resample_window == 0: \n",
    "            #regression_model.from_vector(regression_fit(circ_list[0:idx], dataset, REF_MODEL, jdict_random))\n",
    "            trial_test_list.append(compare_model_list(noise_model, [REF_MODEL, linear_model, extended_model, regression_model], test_list))\n",
    "\n",
    "        linear_model.from_vector(lkf.x)\n",
    "        extended_model = ekf.model\n",
    "        ref_pred_error[idx] = _pdftools.tvd(REF_MODEL.probabilities(circ), dataset[circ].fractions)\n",
    "        linear_pred_error[idx] = _pdftools.tvd(linear_model.probabilities(circ), dataset[circ].fractions)\n",
    "        extended_pred_error[idx] = _pdftools.tvd(extended_model.probabilities(circ), dataset[circ].fractions)\n",
    "\n",
    "        count_vec = vector_from_outcomes(dataset[circ].counts, hilbert_dims)\n",
    "        ref_prob = vector_from_outcomes(REF_MODEL.probabilities(circ), hilbert_dims)\n",
    "\n",
    "        lkf.update_filter(circ, count_vec, ref_prob, jdict_random[circ], 1e-4*np.eye(hilbert_dims))\n",
    "        ekf.update([circ], dataset, jdict_random, hdict_random, 1e-1*np.eye(hilbert_dims), max_iterations, itr_epsilon)\n",
    "\n",
    "    test_sets.append(trial_test_list)\n",
    "    ref_prediction_errors.append(ref_pred_error)\n",
    "    linear_prediction_errors.append(linear_pred_error)\n",
    "    extended_prediction_errors.append(extended_pred_error)"
   ]
  },
  {
   "cell_type": "code",
   "execution_count": 20,
   "id": "c4e8aa3f-82a3-4d6c-b675-2ab16afea4f9",
   "metadata": {},
   "outputs": [
    {
     "name": "stdout",
     "output_type": "stream",
     "text": [
      "0.014533939770035642\n"
     ]
    }
   ],
   "source": [
    "print(rb_param)"
   ]
  },
  {
   "cell_type": "code",
   "execution_count": 21,
   "id": "594ed13a-5397-4019-a2ea-c52e6fb24c50",
   "metadata": {},
   "outputs": [],
   "source": [
    "avg_ref_error = sum([evec for evec in ref_prediction_errors])/len(ref_prediction_errors)\n",
    "avg_linear_error = sum([evec for evec in linear_prediction_errors])/len(linear_prediction_errors)\n",
    "avg_extended_error = sum([evec for evec in extended_prediction_errors])/len(extended_prediction_errors)"
   ]
  },
  {
   "cell_type": "code",
   "execution_count": 22,
   "id": "565d6374-b85b-4840-b3c6-2230980da351",
   "metadata": {},
   "outputs": [
    {
     "name": "stdout",
     "output_type": "stream",
     "text": [
      "20\n"
     ]
    }
   ],
   "source": [
    "print(len(test_sets))"
   ]
  },
  {
   "cell_type": "code",
   "execution_count": 23,
   "id": "6328cee7-03e7-4fba-9473-26f15142077b",
   "metadata": {},
   "outputs": [
    {
     "name": "stdout",
     "output_type": "stream",
     "text": [
      "[[array([0.04135732, 0.04135732, 0.04135732, 0.04135732]), array([0.04135732, 0.0297464 , 0.00387638, 0.04135732]), array([0.04135732, 0.02579353, 0.00327656, 0.04135732]), array([0.04135732, 0.01952078, 0.00281196, 0.04135732])], [array([0.04135732, 0.01064554, 0.04135732, 0.04135732]), array([0.04135732, 0.03065456, 0.00456734, 0.04135732]), array([0.04135732, 0.02695879, 0.00449693, 0.04135732]), array([0.04135732, 0.02188455, 0.00326647, 0.04135732])], [array([0.04135732, 0.01628538, 0.04135732, 0.04135732]), array([0.04135732, 0.02801617, 0.00407795, 0.04135732]), array([0.04135732, 0.01989475, 0.00284841, 0.04135732]), array([0.04135732, 0.00490174, 0.00235503, 0.04135732])], [array([0.04135732, 0.01242236, 0.04135732, 0.04135732]), array([0.04135732, 0.03066866, 0.0045896 , 0.04135732]), array([0.04135732, 0.02816704, 0.00297001, 0.04135732]), array([0.04135732, 0.0251713 , 0.00195836, 0.04135732])], [array([0.04135732, 0.02163772, 0.04135732, 0.04135732]), array([0.04135732, 0.03028613, 0.0032014 , 0.04135732]), array([0.04135732, 0.02669163, 0.00248554, 0.04135732]), array([0.04135732, 0.02134974, 0.00195592, 0.04135732])], [array([0.04135732, 0.01569822, 0.04135732, 0.04135732]), array([0.04135732, 0.03112584, 0.00364303, 0.04135732]), array([0.04135732, 0.02962903, 0.00259755, 0.04135732]), array([0.04135732, 0.02795435, 0.00230376, 0.04135732])], [array([0.04135732, 0.02607428, 0.04135732, 0.04135732]), array([0.04135732, 0.03191341, 0.0038472 , 0.04135732]), array([0.04135732, 0.03101688, 0.00316619, 0.04135732]), array([0.04135732, 0.03031652, 0.00258656, 0.04135732])], [array([0.04135732, 0.02978234, 0.04135732, 0.04135732]), array([0.04135732, 0.0308419 , 0.00462224, 0.04135732]), array([0.04135732, 0.02697011, 0.00286231, 0.04135732]), array([0.04135732, 0.0206204 , 0.00175212, 0.04135732])], [array([0.04135732, 0.01377439, 0.04135732, 0.04135732]), array([0.04135732, 0.03032489, 0.0039078 , 0.04135732]), array([0.04135732, 0.02539971, 0.00260558, 0.04135732]), array([0.04135732, 0.01913251, 0.0023062 , 0.04135732])], [array([0.04135732, 0.01280314, 0.04135732, 0.04135732]), array([0.04135732, 0.03220802, 0.00441782, 0.04135732]), array([0.04135732, 0.03168235, 0.00354991, 0.04135732]), array([0.04135732, 0.03115253, 0.00328898, 0.04135732])], [array([0.04135732, 0.03022938, 0.04135732, 0.04135732]), array([0.04135732, 0.03178478, 0.00367763, 0.04135732]), array([0.04135732, 0.03061392, 0.00202925, 0.04135732]), array([0.04135732, 0.03035982, 0.00208666, 0.04135732])], [array([0.04135732, 0.0299119 , 0.04135732, 0.04135732]), array([0.04135732, 0.0328542 , 0.0050721 , 0.04135732]), array([0.04135732, 0.03184515, 0.00381006, 0.04135732]), array([0.04135732, 0.03094229, 0.00306503, 0.04135732])], [array([0.04135732, 0.0303529 , 0.04135732, 0.04135732]), array([0.04135732, 0.03192746, 0.00370649, 0.04135732]), array([0.04135732, 0.03086818, 0.00277502, 0.04135732]), array([0.04135732, 0.03040641, 0.00240509, 0.04135732])], [array([0.04135732, 0.02959193, 0.04135732, 0.04135732]), array([0.04135732, 0.0310616 , 0.00548074, 0.04135732]), array([0.04135732, 0.02844995, 0.00361036, 0.04135732]), array([0.04135732, 0.02589346, 0.0026536 , 0.04135732])], [array([0.04135732, 0.02190882, 0.04135732, 0.04135732]), array([0.04135732, 0.03180885, 0.00382791, 0.04135732]), array([0.04135732, 0.03160684, 0.00348325, 0.04135732]), array([0.04135732, 0.03138184, 0.00330231, 0.04135732])], [array([0.04135732, 0.03037203, 0.04135732, 0.04135732]), array([0.04135732, 0.03127026, 0.00602561, 0.04135732]), array([0.04135732, 0.02735987, 0.00421944, 0.04135732]), array([0.04135732, 0.02330003, 0.00370083, 0.04135732])], [array([0.04135732, 0.01890877, 0.04135732, 0.04135732]), array([0.04135732, 0.03130811, 0.00349582, 0.04135732]), array([0.04135732, 0.03089983, 0.00262513, 0.04135732]), array([0.04135732, 0.02968732, 0.00202404, 0.04135732])], [array([0.04135732, 0.02878885, 0.04135732, 0.04135732]), array([0.04135732, 0.03118589, 0.00370633, 0.04135732]), array([0.04135732, 0.03070284, 0.0025942 , 0.04135732]), array([0.04135732, 0.02996522, 0.00221725, 0.04135732])], [array([0.04135732, 0.02946519, 0.04135732, 0.04135732]), array([0.04135732, 0.03164673, 0.00529072, 0.04135732]), array([0.04135732, 0.03111827, 0.00426376, 0.04135732]), array([0.04135732, 0.03033223, 0.00378289, 0.04135732])], [array([0.04135732, 0.02996755, 0.04135732, 0.04135732]), array([0.04135732, 0.03033031, 0.00479258, 0.04135732]), array([0.04135732, 0.02891744, 0.00273936, 0.04135732]), array([0.04135732, 0.02637864, 0.00247883, 0.04135732])]]\n"
     ]
    }
   ],
   "source": [
    "print(test_sets)"
   ]
  },
  {
   "cell_type": "code",
   "execution_count": 24,
   "id": "310ae869-aade-4ee2-9ff8-3b697dcd1fc9",
   "metadata": {},
   "outputs": [],
   "source": [
    "num_batches = int(np.floor(len_trial/resample_window))\n",
    "avg_test_errors = [np.zeros(4)]*num_batches\n",
    "mats = []\n",
    "for trial in test_sets:\n",
    "    mats.append(np.vstack([batch for batch in trial]))"
   ]
  },
  {
   "cell_type": "code",
   "execution_count": 25,
   "id": "7ad81b90-6150-47eb-91f3-30fc2adfcc37",
   "metadata": {},
   "outputs": [],
   "source": [
    "avg = np.zeros(mats[0].shape)\n",
    "for mat in mats:\n",
    "    avg += mat/len(mats)\n",
    "sigma = np.zeros(mats[0].shape)\n",
    "for mat in mats:\n",
    "    sigma += (mat - avg)**2/len(mats)"
   ]
  },
  {
   "cell_type": "code",
   "execution_count": 26,
   "id": "9b16fb4c-12b2-41b6-aae8-f0dbfd15bedc",
   "metadata": {},
   "outputs": [
    {
     "name": "stdout",
     "output_type": "stream",
     "text": [
      "[[0.04135732 0.0239989  0.04135732 0.04135732]\n",
      " [0.04135732 0.03104821 0.00429133 0.04135732]\n",
      " [0.04135732 0.02872931 0.00315044 0.04135732]\n",
      " [0.04135732 0.02553258 0.00261509 0.04135732]]\n"
     ]
    }
   ],
   "source": [
    "print(avg)"
   ]
  },
  {
   "cell_type": "code",
   "execution_count": 27,
   "id": "27cf916e-468b-4db4-85c4-24dcfbc44485",
   "metadata": {},
   "outputs": [
    {
     "name": "stdout",
     "output_type": "stream",
     "text": [
      "[[0.00000000e+00 6.60020012e-05 1.92592994e-34 0.00000000e+00]\n",
      " [0.00000000e+00 1.02993297e-06 5.32576091e-07 0.00000000e+00]\n",
      " [0.00000000e+00 8.28161489e-06 4.26610223e-07 0.00000000e+00]\n",
      " [0.00000000e+00 3.97223006e-05 3.42838246e-07 0.00000000e+00]]\n"
     ]
    }
   ],
   "source": [
    "print(sigma)"
   ]
  },
  {
   "cell_type": "code",
   "execution_count": 37,
   "id": "3df93b0a-ab19-4492-a745-81d89ade1d21",
   "metadata": {},
   "outputs": [
    {
     "name": "stdout",
     "output_type": "stream",
     "text": [
      "Using matplotlib backend: Qt5Agg\n"
     ]
    },
    {
     "data": {
      "text/plain": [
       "<matplotlib.legend.Legend at 0x7f51cc13d340>"
      ]
     },
     "execution_count": 37,
     "metadata": {},
     "output_type": "execute_result"
    }
   ],
   "source": [
    "%matplotlib\n",
    "\n",
    "from mpl_toolkits.axes_grid.inset_locator import (inset_axes, InsetPosition,\n",
    "                                                  mark_inset)\n",
    "\n",
    "plt.rc('font', size=24)\n",
    "\n",
    "fig, ax1 = plt.subplots()\n",
    "plt.title(f'Average prior prediction errors on training set')\n",
    "plt.ylabel('Prediction error [TVD]')\n",
    "plt.xlabel('Circuit Index')\n",
    "\n",
    "\n",
    "for trial in range(num_trials):\n",
    "    I = [i for i in range(len_trial)]\n",
    "    ax1.plot(I, avg_ref_error, c='red')\n",
    "    ax1.plot(I, avg_linear_error, c='blue')\n",
    "    ax1.plot(I, avg_extended_error, c='green')\n",
    "    \n",
    "#     for idx, val in enumerate(ref_prediction_errors[trial]):\n",
    "#         ax1.scatter(idx, val, c='red', alpha=0.1)\n",
    "#         ax1.scatter(idx, linear_prediction_errors[trial][idx], c='blue', alpha=0.1)\n",
    "#         ax1.scatter(idx, extended_prediction_errors[trial][idx], c='green', alpha=0.1)\n",
    "        \n",
    "\n",
    "    \n",
    "ax2 = plt.axes([0,0,num_trials,0.04])\n",
    "ip = InsetPosition(ax1, [0.5,0.5,0.4,0.4])\n",
    "ax2.set_axes_locator(ip)\n",
    "ax2.set_ylim([0, 0.06])\n",
    "\n",
    "plt.title('Average error on test set')\n",
    "\n",
    "\n",
    "ax2.scatter(0, avg[0,0], c='red', marker='x')\n",
    "for b in range(num_batches):\n",
    "    bp = b+1\n",
    "    ideal_points = ax2.scatter(resample_window*bp, avg[b, 0], c='red', marker='x')\n",
    "    linear_points = ax2.scatter(resample_window*bp, avg[b, 1], c='blue', marker='v', label='Linear Kalman')\n",
    "    extended_points = ax2.scatter(resample_window*bp, avg[b, 2], c='green', marker='o', label='Extended Kalman')\n",
    "    \n",
    "plt.rc('font', size=14)\n",
    "\n",
    "ax2.legend([ideal_points, linear_points, extended_points], ['Ideal Model', 'Linear KF', 'Extended KF'])\n",
    "#     ax2.scatter(resample_window*bp, avg_batch_errors[b][3], c='yellow')\n",
    "#     ax2.errorbar(resample_window*bp, avg_batch_errors[b][3], batch_sigma[b][3], c='yellow')\n",
    "\n",
    "\n"
   ]
  },
  {
   "cell_type": "code",
   "execution_count": 29,
   "id": "c8e06cae-8d9a-4d7c-9810-857467f39d5f",
   "metadata": {},
   "outputs": [
    {
     "name": "stdout",
     "output_type": "stream",
     "text": [
      "0.03537786258200021\n"
     ]
    }
   ],
   "source": [
    "print(rb_param)"
   ]
  },
  {
   "cell_type": "code",
   "execution_count": 67,
   "id": "78be597b-b327-4c88-a51c-6692c4db365b",
   "metadata": {},
   "outputs": [
    {
     "ename": "NameError",
     "evalue": "name 'f' is not defined",
     "output_type": "error",
     "traceback": [
      "\u001b[0;31m---------------------------------------------------------------------------\u001b[0m",
      "\u001b[0;31mNameError\u001b[0m                                 Traceback (most recent call last)",
      "\u001b[0;32m<ipython-input-67-a9fcd54b25e7>\u001b[0m in \u001b[0;36m<module>\u001b[0;34m\u001b[0m\n\u001b[0;32m----> 1\u001b[0;31m \u001b[0mf\u001b[0m\u001b[0;34m\u001b[0m\u001b[0;34m\u001b[0m\u001b[0m\n\u001b[0m",
      "\u001b[0;31mNameError\u001b[0m: name 'f' is not defined"
     ]
    }
   ],
   "source": [
    "f"
   ]
  },
  {
   "cell_type": "code",
   "execution_count": 26,
   "id": "5b92711c-4568-43ba-93ad-75c28aa66593",
   "metadata": {},
   "outputs": [
    {
     "ename": "NameError",
     "evalue": "name 'f' is not defined",
     "output_type": "error",
     "traceback": [
      "\u001b[0;31m---------------------------------------------------------------------------\u001b[0m",
      "\u001b[0;31mNameError\u001b[0m                                 Traceback (most recent call last)",
      "\u001b[0;32m<ipython-input-26-a9fcd54b25e7>\u001b[0m in \u001b[0;36m<module>\u001b[0;34m\u001b[0m\n\u001b[0;32m----> 1\u001b[0;31m \u001b[0mf\u001b[0m\u001b[0;34m\u001b[0m\u001b[0;34m\u001b[0m\u001b[0m\n\u001b[0m",
      "\u001b[0;31mNameError\u001b[0m: name 'f' is not defined"
     ]
    }
   ],
   "source": [
    "f"
   ]
  },
  {
   "cell_type": "code",
   "execution_count": null,
   "id": "4b623647-743c-4211-88d7-517d31e43fa3",
   "metadata": {},
   "outputs": [],
   "source": []
  }
 ],
 "metadata": {
  "kernelspec": {
   "display_name": "Python 3",
   "language": "python",
   "name": "python3"
  },
  "language_info": {
   "codemirror_mode": {
    "name": "ipython",
    "version": 3
   },
   "file_extension": ".py",
   "mimetype": "text/x-python",
   "name": "python",
   "nbconvert_exporter": "python",
   "pygments_lexer": "ipython3",
   "version": "3.9.5"
  }
 },
 "nbformat": 4,
 "nbformat_minor": 5
}
