{
 "cells": [
  {
   "cell_type": "code",
   "execution_count": 1,
   "id": "3a11a712-c4d7-4b30-8c30-805e88c6b256",
   "metadata": {},
   "outputs": [],
   "source": [
    "import numpy as np\n",
    "import pygsti as pig\n",
    "import matplotlib.pyplot as plt\n",
    "import random\n",
    "import time\n",
    "import pandas\n",
    "from scipy.linalg import expm, sqrtm\n",
    "# from qutip import *\n",
    "\n",
    "from pygsti.modelmembers.operations import LindbladErrorgen as _LinbladErrorgen\n",
    "from pygsti.modelmembers.operations import EmbeddedErrorgen as _EmbeddedErrorgen\n",
    "from pygsti.modelmembers.operations import ExpErrorgenOp as _ExpErrorgenOp\n",
    "from pygsti.modelmembers.operations import ComposedOp as _ComposedOp\n",
    "import  pygsti.modelmembers as _mdmb\n",
    "import pygsti.processors as _proc\n",
    "\n",
    "from pygsti.tools import pdftools as _pdftools\n",
    "\n",
    "from pygsti.circuits.gstcircuits import create_lsgst_circuits\n",
    "\n",
    "from pygsti.models.memberdict import OrderedMemberDict as _OrderedMemberDict\n",
    "from pygsti.baseobjs.label import Label as _Label, CircuitLabel as _CircuitLabel\n",
    "from pygsti.circuits import Circuit\n",
    "import pygsti.circuits as _circ\n",
    "import pygsti.models as _mdl\n",
    "from pygsti.modelmembers import operations as _op"
   ]
  },
  {
   "cell_type": "code",
   "execution_count": 2,
   "id": "f4c76844-b8d1-47d9-b148-2835f623017e",
   "metadata": {},
   "outputs": [],
   "source": [
    "def random_circuit(depth, proc_spec):\n",
    "    \"\"\"\n",
    "    works for any 1-qubit model pack and the XYZICnot 2-qubit pack\n",
    "    \"\"\"\n",
    "    layers = []\n",
    "    for i in range(depth):\n",
    "        gate = random.choice(proc_spec.gate_names)\n",
    "        if gate == '(idle)':\n",
    "            pass\n",
    "        elif gate == 'Gcnot':\n",
    "            layers.append((gate, 0, 1))\n",
    "        else:\n",
    "            layers.append((gate, random.choice(proc_spec.qubit_labels)))\n",
    "    return Circuit(layers, proc_spec.qubit_labels)"
   ]
  },
  {
   "cell_type": "code",
   "execution_count": 3,
   "id": "c01761d4-165a-4aea-9f5f-1380287068ba",
   "metadata": {},
   "outputs": [],
   "source": [
    "def vector_from_outcomes(outcomes, num_outcomes):\n",
    "    vecout = np.zeros((num_outcomes))\n",
    "    for key in outcomes.keys():\n",
    "        vecout[int(key[0], 2)] = outcomes[key]\n",
    "    return(vecout)\n",
    "\n",
    "def matrix_from_jacob(jacob, num_outcomes):\n",
    "    matout = np.zeros((num_outcomes, len(jacob['0'*int(np.log2(num_outcomes))])))\n",
    "    for key in jacob.keys():\n",
    "        matout[int(key[0], 2), :] = np.array(jacob[key])\n",
    "    return matout\n",
    "\n",
    "def tensor_from_hessian(hessian, hilbert_dims):\n",
    "    \"\"\"\n",
    "    returns a 3d-array that when dotted into the state returns the jacobian \n",
    "    \"\"\"\n",
    "    num_params = len(hessian['0'*int(np.log2(hilbert_dims))])\n",
    "    tensor_out = np.zeros((hilbert_dims, num_params, num_params))\n",
    "    for key in hessian.keys():\n",
    "        tensor_out[int(key[0], 2), :, :] = hessian[key]\n",
    "    return tensor_out"
   ]
  },
  {
   "cell_type": "code",
   "execution_count": 4,
   "id": "97fc46b4-4c17-48b3-a8b8-b34b23aff323",
   "metadata": {},
   "outputs": [],
   "source": [
    "def compare_models(true_model, model1, model2, circuit_list, name1='x', name2='y'):\n",
    "    distribution1 = []\n",
    "    distribution2 = []\n",
    "    for idx, circ in enumerate(circuit_list): \n",
    "        true_outcomes = true_model.probabilities(circ)\n",
    "        outcome_set1 = model1.probabilities(circ)\n",
    "        outcome_set2 = model2.probabilities(circ)\n",
    "        dist1 = _pdftools.tvd(true_outcomes, outcome_set1)\n",
    "        dist2 = _pdftools.tvd(true_outcomes, outcome_set2)\n",
    "        distribution1.append(dist1)\n",
    "        distribution2.append(dist2)\n",
    "        plt.scatter(dist1, dist2)\n",
    "    plt.xlabel(name1)\n",
    "    plt.ylabel(name2)\n",
    "    mx = max([max(distribution1), max(distribution2)])\n",
    "    plt.plot((0, mx), (0, mx), c='black')\n",
    "    plt.show()"
   ]
  },
  {
   "cell_type": "code",
   "execution_count": 5,
   "id": "f0c2f0de-900c-4612-8e3a-b20323857e95",
   "metadata": {},
   "outputs": [],
   "source": [
    "def calculate_jacobs(circ_list, model):\n",
    "    jacobs = {}\n",
    "    for circ in circ_list:\n",
    "        hilbert_dims = 2**circ.width\n",
    "        jacobs[circ] = matrix_from_jacob(model.sim.dprobs(circ), hilbert_dims)\n",
    "    return jacobs"
   ]
  },
  {
   "cell_type": "code",
   "execution_count": 6,
   "id": "0f6bc6b5-b6f7-4b44-8951-45b3edfe0333",
   "metadata": {},
   "outputs": [],
   "source": [
    "from pygsti.processors import CliffordCompilationRules as CCR\n",
    "\n",
    "def make_rb_param(noise_model, model_pack, length_powers=5, circuits_at_length=10):\n",
    "    pspec = model_pack.processor_spec()\n",
    "    \n",
    "    depths = [2**i for i in range(length_powers)]\n",
    "    \n",
    "    compilations = {'absolute': CCR.create_standard(pspec, 'absolute', ('paulis', '1Qcliffords'), verbosity=0),            \n",
    "                'paulieq': CCR.create_standard(pspec, 'paulieq', ('1Qcliffords', 'allcnots'), verbosity=0)}\n",
    "\n",
    "    design = pig.protocols.DirectRBDesign(model_pack.processor_spec(), compilations, depths, circuits_at_length, qubit_labels=model_pack.processor_spec().qubit_labels, sampler='edgegrab', \n",
    "                                           samplerargs=[0.5], randomizeout=True,\n",
    "                                           citerations=20)\n",
    "    pig.io.write_empty_protocol_data(design, 'RB_Data', clobber_ok=True)\n",
    "    pig.io.fill_in_empty_dataset_with_fake_data(noise_model, 'RB_Data/data/dataset.txt', num_samples=1000)\n",
    "    data = pig.io.load_data_from_dir('RB_Data')\n",
    "    protocol = pig.protocols.RB()\n",
    "    results = protocol.run(data)\n",
    "    return results.fits['full'].estimates['r'] "
   ]
  },
  {
   "cell_type": "code",
   "execution_count": 7,
   "id": "054ca025-51c3-412a-9834-186d1b56c550",
   "metadata": {},
   "outputs": [],
   "source": [
    "def make_dirichlet_covar(counts, hilbert_dims):\n",
    "    total_counts = sum([counts[key] for key in counts.keys()])    \n",
    "    count_vec = np.ones(hilbert_dims)\n",
    "    for key in counts.keys():\n",
    "        count_vec[int(key[0], 2)] += counts[key]\n",
    "    prefactor = 1/( (total_counts + hilbert_dims)**2 * (total_counts + hilbert_dims + 1) )\n",
    "    meas_covar = prefactor*(\n",
    "        (total_counts + hilbert_dims)*np.diag(count_vec) - np.outer(count_vec, count_vec)\n",
    "    )\n",
    "    return meas_covar"
   ]
  },
  {
   "cell_type": "code",
   "execution_count": 8,
   "id": "5b7751ae-1a4e-440d-8e5c-30ddbad3d108",
   "metadata": {},
   "outputs": [],
   "source": [
    "def make_multinom_covar(prob_vec):\n",
    "    return np.eye(len(prob_vec)) - np.outer(prob_vec, prob_vec)"
   ]
  },
  {
   "cell_type": "code",
   "execution_count": 57,
   "id": "ab8b00b4-2e38-4835-bfe3-9e9ac93849f1",
   "metadata": {},
   "outputs": [],
   "source": [
    "from pygsti.modelpacks import smq1Q_XYI as _smq1Q_XYI\n",
    "from pygsti.modelpacks import smq1Q_XYZI as _smq1Q_XYZI\n",
    "from pygsti.modelpacks import smq1Q_XYI as _smq1Q_XZ\n",
    "from pygsti.modelpacks import smq2Q_XYZICNOT as _smq2Q_XYZICNOT"
   ]
  },
  {
   "cell_type": "code",
   "execution_count": 58,
   "id": "83374ec9-6658-465c-9584-8b9828cde5f7",
   "metadata": {},
   "outputs": [],
   "source": [
    "# make random circuits \n",
    "N_circs = 250\n",
    "depth = 20\n",
    "\n",
    "circ_list = []\n",
    "for n in range(N_circs):\n",
    "    circ_list.append(random_circuit(random.choice(range(depth)), MODEL_PACK.processor_spec()))\n",
    "circ_list = _circ.to_circuits(circ_list) \n",
    "\n",
    "# no need to calculate design matrices with unscented filter!\n",
    "# jdict = dict()\n",
    "# #hdict = dict()\n",
    "# for idx, circ in enumerate(circ_list):\n",
    "#     if idx%10 == 0:\n",
    "#         print(idx/10, N_circs/10)\n",
    "#     jdict[circ] = matrix_from_jacob(ref_model.sim.dprobs(circ), 2**circ.width)\n",
    "#     #hdict[circ] = tensor_from_hessian(ref_model.sim.hprobs(circ), 2**circ.width)"
   ]
  },
  {
   "cell_type": "markdown",
   "id": "5da44931-663d-4b24-9db3-cd9e2cf744f2",
   "metadata": {},
   "source": [
    "---from filterpy.kalman import KalmanFilter\n",
    "dog_filter = KalmanFilter(dim_x=2, dim_z=1)\n",
    "print('x = ', dog_filter.x.T)\n",
    "print('R = ', dog_filter.R)\n",
    "print('Q = \\n', dog_filter.Q)\n",
    "\n",
    "# Unscented Kalman Filter "
   ]
  },
  {
   "cell_type": "code",
   "execution_count": 59,
   "id": "f4974039-cc8a-457b-aca2-cea4b063f1f3",
   "metadata": {},
   "outputs": [],
   "source": [
    "# make a model from a model pack\n",
    "MODEL_PACK = _smq1Q_XYZI\n",
    "ref_model = MODEL_PACK.target_model('H+S')\n",
    "filter_model = MODEL_PACK.target_model('H+S')\n",
    "noise_model = MODEL_PACK.target_model()\n",
    "noise_model = noise_model.depolarize(max_op_noise=0.01)\n",
    "noise_model = noise_model.rotate(max_rotate=0.01)"
   ]
  },
  {
   "cell_type": "code",
   "execution_count": 60,
   "id": "997e9db3-4be4-493b-9614-d22e6e30105e",
   "metadata": {},
   "outputs": [],
   "source": [
    "# sample circuits\n",
    "num_samples = 1000\n",
    "data_set = pig.data.simulate_data(noise_model, circ_list, num_samples=num_samples)\n",
    "shot_noise = 1/np.sqrt(num_samples)"
   ]
  },
  {
   "cell_type": "code",
   "execution_count": 61,
   "id": "0092a273-7c19-41f0-9b6e-f38c60544694",
   "metadata": {},
   "outputs": [
    {
     "name": "stdout",
     "output_type": "stream",
     "text": [
      "- Sampling 10 circuits at DRB length 1 (1 of 5 depths) with seed 629064\n",
      "- Sampling 10 circuits at DRB length 2 (2 of 5 depths) with seed 629074\n",
      "- Sampling 10 circuits at DRB length 4 (3 of 5 depths) with seed 629084\n",
      "- Sampling 10 circuits at DRB length 8 (4 of 5 depths) with seed 629094\n",
      "- Sampling 10 circuits at DRB length 16 (5 of 5 depths) with seed 629104\n",
      "0.001560381020725865 0.03950165845538469\n"
     ]
    }
   ],
   "source": [
    "# make rb param\n",
    "rb_param = make_rb_param(noise_model, MODEL_PACK)\n",
    "print(rb_param, np.sqrt(rb_param))"
   ]
  },
  {
   "cell_type": "code",
   "execution_count": 62,
   "id": "ac1bf940-87b7-4661-ac91-d06b6820fe33",
   "metadata": {},
   "outputs": [],
   "source": [
    "# trasnition and measurement function \n",
    "def fx(x, dt):\n",
    "    return x\n",
    "\n",
    "def hx(xvec, **hxargs):\n",
    "    circ = hxargs['hx_args']\n",
    "    filter_model.from_vector(xvec)\n",
    "    probs = filter_model.probabilities(circ)\n",
    "    pvec = vector_from_outcomes(probs, hilbert_dims)\n",
    "    return (num_samples*pvec + np.ones(hilbert_dims))/(num_samples + hilbert_dims)"
   ]
  },
  {
   "cell_type": "code",
   "execution_count": 63,
   "id": "e7a9927e-f469-48cd-84e4-1b485c27707b",
   "metadata": {},
   "outputs": [],
   "source": [
    "# setup the filter\n",
    "from filterpy.kalman import UnscentedKalmanFilter, MerweScaledSigmaPoints\n",
    "\n",
    "hilbert_dims = 2**len(MODEL_PACK.processor_spec().qubit_labels)\n",
    "num_params = len(filter_model.to_vector())\n",
    "\n",
    "points = MerweScaledSigmaPoints(num_params, alpha=.1, beta=2., kappa=-1)\n",
    "\n",
    "kf = UnscentedKalmanFilter(dim_x=num_params, dim_z=hilbert_dims, dt=1, hx=hx, fx=fx, points=points)\n",
    "\n",
    "kf.x = np.zeros(num_params)\n",
    "kf.P *= np.sqrt(rb_param)\n",
    "\n",
    "kf.Q = 0.1*np.eye(num_params)"
   ]
  },
  {
   "cell_type": "code",
   "execution_count": 64,
   "id": "ec1ea8e2-1645-4707-bc3a-320c266a557c",
   "metadata": {
    "tags": []
   },
   "outputs": [
    {
     "name": "stdout",
     "output_type": "stream",
     "text": [
      "Using matplotlib backend: Qt5Agg\n",
      "0.04 percent finished\n",
      "0.08 percent finished\n",
      "0.12 percent finished\n",
      "0.16 percent finished\n",
      "0.2 percent finished\n",
      "0.24 percent finished\n",
      "0.28 percent finished\n",
      "0.32 percent finished\n",
      "0.36 percent finished\n",
      "0.4 percent finished\n",
      "0.44 percent finished\n",
      "0.48 percent finished\n",
      "0.52 percent finished\n",
      "0.56 percent finished\n",
      "0.6 percent finished\n",
      "0.64 percent finished\n",
      "0.68 percent finished\n",
      "0.72 percent finished\n",
      "0.76 percent finished\n",
      "0.8 percent finished\n",
      "0.84 percent finished\n",
      "0.88 percent finished\n",
      "0.92 percent finished\n",
      "0.96 percent finished\n"
     ]
    }
   ],
   "source": [
    "# run it\n",
    "%matplotlib\n",
    "\n",
    "plotting = True\n",
    "\n",
    "for idx, circ in enumerate(circ_list): \n",
    "    if idx % 10 == 0 and idx != 0:\n",
    "        print(idx/len(circ_list), \"percent finished\")\n",
    "    # make observation\n",
    "    counts = vector_from_outcomes(data_set[circ].counts, hilbert_dims)\n",
    "    observation = (counts + np.ones(hilbert_dims))/(num_samples + hilbert_dims)\n",
    "\n",
    "    # estimate the observation noiseetrainingcurvesforthedifferentdualandjointKalma\n",
    "    shot_noise = make_multinom_covar(observation)\n",
    "    R = shot_noise\n",
    "     \n",
    "    # update filter\n",
    "    kf.predict()\n",
    "    kf.update(observation, R=R, hx=hx, hx_args=circ)\n",
    "    \n",
    "    if(plotting):\n",
    "        filter_model.from_vector(kf.x)\n",
    "        naive_error = _pdftools.tvd(ref_model.probabilities(circ), data_set[circ].fractions)\n",
    "        plt.scatter(idx, naive_error, c='blue', alpha=0.5)\n",
    "        error = _pdftools.tvd(filter_model.probabilities(circ), data_set[circ].fractions)\n",
    "        plt.scatter(idx, error, c='red', alpha=0.5)\n",
    "        #plt.errorbar(idx, error, yerr=np.sqrt(np.trace(model_covar)), c='red', alpha=0.4)"
   ]
  },
  {
   "cell_type": "code",
   "execution_count": 54,
   "id": "62231dba-c924-424a-a2e8-407fa3f8f241",
   "metadata": {},
   "outputs": [
    {
     "name": "stdout",
     "output_type": "stream",
     "text": [
      "[ 0.01538269 -0.06651926  0.00362715  0.          0.          0.\n",
      "  0.02507197 -0.07338504 -0.00273538  0.          0.          0.\n",
      "  0.          0.          0.          0.          0.          0.\n",
      " -0.12518542  0.00705204 -0.12305834  0.          0.          0.\n",
      " -0.05082502 -0.00598351  0.0457722   0.          0.          0.\n",
      " -0.04527021 -0.07912662 -0.19960582  0.          0.          0.        ]\n"
     ]
    }
   ],
   "source": [
    "# update the model\n",
    "print(kf.x)\n",
    "filter_model.from_vector(kf.x)"
   ]
  },
  {
   "cell_type": "code",
   "execution_count": 56,
   "id": "7079304a-0549-4197-86ee-cf3f5ca654d8",
   "metadata": {},
   "outputs": [],
   "source": [
    "# make random circuits \n",
    "N_circs = 350\n",
    "depth = 20\n",
    "new_circ_list = []\n",
    "for n in range(N_circs):\n",
    "    new_circ_list.append(random_circuit(depth, MODEL_PACK.processor_spec()))\n",
    "new_circ_list = _circ.to_circuits(circ_list) \n",
    "\n",
    "compare_models(noise_model, ref_model, filter_model, new_circ_list, 'ref', 'filter')"
   ]
  },
  {
   "cell_type": "code",
   "execution_count": null,
   "id": "6e4a95a3-9ca7-40da-befb-7f7c9a2ad1ce",
   "metadata": {},
   "outputs": [],
   "source": []
  }
 ],
 "metadata": {
  "kernelspec": {
   "display_name": "Python 3",
   "language": "python",
   "name": "python3"
  },
  "language_info": {
   "codemirror_mode": {
    "name": "ipython",
    "version": 3
   },
   "file_extension": ".py",
   "mimetype": "text/x-python",
   "name": "python",
   "nbconvert_exporter": "python",
   "pygments_lexer": "ipython3",
   "version": "3.9.5"
  }
 },
 "nbformat": 4,
 "nbformat_minor": 5
}
