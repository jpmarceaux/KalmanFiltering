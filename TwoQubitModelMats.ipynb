{
 "cells": [
  {
   "cell_type": "code",
   "execution_count": 1,
   "id": "f7a3f209-236f-4205-b992-4c1541cfa4f4",
   "metadata": {},
   "outputs": [],
   "source": [
    "import pygsti\n",
    "import pickle \n",
    "from tqdm import tqdm\n",
    "import numpy as np"
   ]
  },
  {
   "cell_type": "code",
   "execution_count": 2,
   "id": "aea0e041-95c6-460e-a576-b3d9714617c1",
   "metadata": {},
   "outputs": [],
   "source": [
    "def vector_from_outcomes(outcomes, num_outcomes):\n",
    "    vecout = np.zeros((num_outcomes))\n",
    "    for key in outcomes.keys():\n",
    "        vecout[int(key[0], 2)] = outcomes[key]\n",
    "    return(vecout)\n",
    "\n",
    "def matrix_from_jacob(jacob, num_outcomes):\n",
    "    matout = np.zeros((num_outcomes, len(jacob['0'*int(np.log2(num_outcomes))])))\n",
    "    for key in jacob.keys():\n",
    "        matout[int(key[0], 2), :] = np.array(jacob[key])\n",
    "    return matout\n",
    "\n",
    "def tensor_from_hessian(hessian, hilbert_dims):\n",
    "    \"\"\"\n",
    "    returns a 3d-array that when dotted into the state returns the jacobian \n",
    "    \"\"\"\n",
    "    num_params = len(hessian['0'*int(np.log2(hilbert_dims))])\n",
    "    tensor_out = np.zeros((hilbert_dims, num_params, num_params))\n",
    "    for key in hessian.keys():\n",
    "        tensor_out[int(key[0], 2), :, :] = hessian[key]\n",
    "    return tensor_out"
   ]
  },
  {
   "cell_type": "code",
   "execution_count": 3,
   "id": "a8a4efa2-0d92-4147-901f-ce52bf391139",
   "metadata": {},
   "outputs": [],
   "source": [
    "def pickle_dict(obj, filename):\n",
    "    with open(filename + '.pickle', 'wb') as f:\n",
    "        pickle.dump(obj, f, pickle.HIGHEST_PROTOCOL)\n",
    "    \n",
    "def load_dict(filename):\n",
    "    with open(filename + '.pickle', 'rb') as f:\n",
    "        return pickle.load(f)"
   ]
  },
  {
   "cell_type": "code",
   "execution_count": 4,
   "id": "a7f25482-37b6-415a-a79a-3cc254e77a25",
   "metadata": {},
   "outputs": [],
   "source": [
    "from pygsti.modelpacks import smq2Q_XYICNOT as std\n",
    "edesign = std.create_gst_experiment_design(8)\n",
    "target_model = std.target_model()"
   ]
  },
  {
   "cell_type": "code",
   "execution_count": 5,
   "id": "fad545cf-52ca-4806-adfd-7606435ae7a7",
   "metadata": {},
   "outputs": [
    {
     "name": "stderr",
     "output_type": "stream",
     "text": [
      "  0%|                                                                                                                                                                                                                | 0/907 [00:05<?, ?it/s]\n",
      "\n",
      "KeyboardInterrupt\n",
      "\n"
     ]
    }
   ],
   "source": [
    "#calculate jacobians and hessians\n",
    "\n",
    "jdict = dict()\n",
    "hdict = dict()\n",
    "\n",
    "for circ_list in edesign.circuit_lists:\n",
    "    for circ in tqdm(circ_list):\n",
    "        jdict[circ] = matrix_from_jacob(target_model.sim.dprobs(circ), 2**circ.width)\n",
    "        hdict[circ] = tensor_from_hessian(target_model.sim.hprobs(circ), 2**circ.width)\n",
    "        \n",
    "pickle_dict(jdict, 'IXY_jacs')\n",
    "pickle_dict(hdict, 'IXY_hess')"
   ]
  },
  {
   "cell_type": "code",
   "execution_count": null,
   "id": "6514de55-d689-425c-b37a-9e49ee7777a1",
   "metadata": {},
   "outputs": [],
   "source": [
    " "
   ]
  }
 ],
 "metadata": {
  "kernelspec": {
   "display_name": "Python 3 (ipykernel)",
   "language": "python",
   "name": "python3"
  },
  "language_info": {
   "codemirror_mode": {
    "name": "ipython",
    "version": 3
   },
   "file_extension": ".py",
   "mimetype": "text/x-python",
   "name": "python",
   "nbconvert_exporter": "python",
   "pygments_lexer": "ipython3",
   "version": "3.10.4"
  }
 },
 "nbformat": 4,
 "nbformat_minor": 5
}
