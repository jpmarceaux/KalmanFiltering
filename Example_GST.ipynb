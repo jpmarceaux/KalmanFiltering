{
 "cells": [
  {
   "cell_type": "code",
   "execution_count": 1,
   "id": "58917345-e73f-496e-b149-53f51568cc08",
   "metadata": {},
   "outputs": [],
   "source": [
    "import numpy as np\n",
    "import pygsti as pig\n",
    "import matplotlib.pyplot as plt\n",
    "import random\n",
    "import time\n",
    "import pandas\n",
    "from scipy.linalg import expm, sqrtm\n",
    "# from qutip import *\n",
    "from tqdm import tqdm\n",
    "\n",
    "from pygsti.modelmembers.operations import LindbladErrorgen as _LinbladErrorgen\n",
    "from pygsti.modelmembers.operations import EmbeddedErrorgen as _EmbeddedErrorgen\n",
    "from pygsti.modelmembers.operations import ExpErrorgenOp as _ExpErrorgenOp\n",
    "from pygsti.modelmembers.operations import ComposedOp as _ComposedOp\n",
    "import  pygsti.modelmembers as _mdmb\n",
    "import pygsti.processors as _proc\n",
    "\n",
    "from pygsti.tools import pdftools as _pdftools\n",
    "\n",
    "from pygsti.circuits.gstcircuits import create_lsgst_circuits\n",
    "\n",
    "from pygsti.models.memberdict import OrderedMemberDict as _OrderedMemberDict\n",
    "from pygsti.baseobjs.label import Label as _Label, CircuitLabel as _CircuitLabel\n",
    "from pygsti.circuits import Circuit\n",
    "import pygsti.circuits as _circ\n",
    "import pygsti.models as _mdl\n",
    "from pygsti.modelmembers import operations as _op"
   ]
  },
  {
   "cell_type": "code",
   "execution_count": 2,
   "id": "ddf1d4cb-582c-43f5-bb1d-6528c990069b",
   "metadata": {},
   "outputs": [],
   "source": [
    "def random_circuit(depth, proc_spec):\n",
    "    \"\"\"\n",
    "    works for any 1-qubit model pack and the XYZICnot 2-qubit pack\n",
    "    \"\"\"\n",
    "    layers = []\n",
    "    for i in range(depth):\n",
    "        gate = random.choice(proc_spec.gate_names)\n",
    "        if gate == '(idle)':\n",
    "            pass\n",
    "        elif gate == 'Gcnot':\n",
    "            layers.append((gate, 0, 1))\n",
    "        else:\n",
    "            layers.append((gate, random.choice(proc_spec.qubit_labels)))\n",
    "    return Circuit(layers, proc_spec.qubit_labels)"
   ]
  },
  {
   "cell_type": "code",
   "execution_count": 3,
   "id": "73d43a82-8ca7-46e7-bb6c-1fcd7cf0f229",
   "metadata": {},
   "outputs": [],
   "source": [
    "def vector_from_outcomes(outcomes, num_outcomes):\n",
    "    vecout = np.zeros((num_outcomes))\n",
    "    for key in outcomes.keys():\n",
    "        vecout[int(key[0], 2)] = outcomes[key]\n",
    "    return(vecout)\n",
    "\n",
    "def matrix_from_jacob(jacob, num_outcomes):\n",
    "    matout = np.zeros((num_outcomes, len(jacob['0'*int(np.log2(num_outcomes))])))\n",
    "    for key in jacob.keys():\n",
    "        matout[int(key[0], 2), :] = np.array(jacob[key])\n",
    "    return matout\n",
    "\n",
    "def tensor_from_hessian(hessian, hilbert_dims):\n",
    "    \"\"\"\n",
    "    returns a 3d-array that when dotted into the state returns the jacobian \n",
    "    \"\"\"\n",
    "    num_params = len(hessian['0'*int(np.log2(hilbert_dims))])\n",
    "    tensor_out = np.zeros((hilbert_dims, num_params, num_params))\n",
    "    for key in hessian.keys():\n",
    "        tensor_out[int(key[0], 2), :, :] = hessian[key]\n",
    "    return tensor_out"
   ]
  },
  {
   "cell_type": "code",
   "execution_count": 4,
   "id": "95b87a97-d4a0-4f22-9d57-cdcd031238bd",
   "metadata": {},
   "outputs": [],
   "source": [
    "def compare_models(true_model, model1, model2, circuit_list, name1='x', name2='y'):\n",
    "    distribution1 = []\n",
    "    distribution2 = []\n",
    "    mx = 0\n",
    "    for idx, circ in enumerate(circuit_list): \n",
    "        hilbert_dims = 2**circ.width\n",
    "        true_outcomes = true_model.probabilities(circ)\n",
    "        outcome_set1 = model1.probabilities(circ)\n",
    "        outcome_set2 = model2.probabilities(circ)\n",
    "        dist1 = _pdftools.tvd(true_outcomes, outcome_set1)\n",
    "        dist2 = _pdftools.tvd(true_outcomes, outcome_set2)\n",
    "        if dist1 > mx:\n",
    "            mx = dist1\n",
    "        if dist2 > mx: \n",
    "            mx = dist2\n",
    "        vtrue = vector_from_outcomes(true_outcomes, hilbert_dims)\n",
    "        v1 = vector_from_outcomes(outcome_set1, hilbert_dims)\n",
    "        v2 = vector_from_outcomes(outcome_set2, hilbert_dims)\n",
    "        distribution1.append(vtrue - v1)\n",
    "        distribution2.append(vtrue - v2)\n",
    "        plt.scatter(dist1, dist2)\n",
    "    plt.xlabel(name1)\n",
    "    plt.ylabel(name2)\n",
    "    plt.plot((0, mx), (0, mx), c='black')\n",
    "    plt.show()\n",
    "    return (distribution1, distribution2)"
   ]
  },
  {
   "cell_type": "code",
   "execution_count": 5,
   "id": "8e0f59a7-b45a-4347-97d3-e2a4e8b23332",
   "metadata": {},
   "outputs": [],
   "source": [
    "def calculate_jacobs(circ_list, model):\n",
    "    jacobs = {}\n",
    "    for circ in circ_list:\n",
    "        hilbert_dims = 2**circ.width\n",
    "        jacobs[circ] = matrix_from_jacob(model.sim.dprobs(circ), hilbert_dims)\n",
    "    return jacobs"
   ]
  },
  {
   "cell_type": "code",
   "execution_count": 6,
   "id": "bc63c97f-5e0f-4069-94b3-2a933bc7a733",
   "metadata": {},
   "outputs": [],
   "source": [
    "from pygsti.processors import CliffordCompilationRules as CCR\n",
    "\n",
    "def make_rb_param(noise_model, model_pack, length_powers=5, circuits_at_length=10):\n",
    "    pspec = model_pack.processor_spec()\n",
    "    \n",
    "    depths = [2**i for i in range(length_powers)]\n",
    "    \n",
    "    compilations = {'absolute': CCR.create_standard(pspec, 'absolute', ('paulis', '1Qcliffords'), verbosity=0),            \n",
    "                'paulieq': CCR.create_standard(pspec, 'paulieq', ('1Qcliffords', 'allcnots'), verbosity=0)}\n",
    "\n",
    "    design = pig.protocols.DirectRBDesign(model_pack.processor_spec(), compilations, depths, circuits_at_length, qubit_labels=model_pack.processor_spec().qubit_labels, sampler='edgegrab', \n",
    "                                           samplerargs=[0.5], randomizeout=True,\n",
    "                                           citerations=20)\n",
    "    pig.io.write_empty_protocol_data(design, 'RB_Data', clobber_ok=True)\n",
    "    pig.io.fill_in_empty_dataset_with_fake_data(noise_model, 'RB_Data/data/dataset.txt', num_samples=1000)\n",
    "    data = pig.io.load_data_from_dir('RB_Data')\n",
    "    protocol = pig.protocols.RB()\n",
    "    results = protocol.run(data)\n",
    "    return (results.fits['full'].estimates['r'], data)"
   ]
  },
  {
   "cell_type": "code",
   "execution_count": 7,
   "id": "1f4e1e91-cd72-4366-baee-9a2c4683bf0b",
   "metadata": {},
   "outputs": [],
   "source": [
    "def make_dirichlet_covar(counts, hilbert_dims):\n",
    "    total_counts = sum([counts[key] for key in counts.keys()])    \n",
    "    count_vec = np.ones(hilbert_dims)\n",
    "    for key in counts.keys():\n",
    "        count_vec[int(key[0], 2)] += counts[key]\n",
    "    prefactor = 1/( (total_counts + hilbert_dims)**2 * (total_counts + hilbert_dims + 1) )\n",
    "    meas_covar = prefactor*(\n",
    "        (total_counts + hilbert_dims)*np.diag(count_vec) - np.outer(count_vec, count_vec)\n",
    "    )\n",
    "    return meas_covar"
   ]
  },
  {
   "cell_type": "code",
   "execution_count": 8,
   "id": "1a61eb5f-2f3b-4b14-9cb1-58310479120f",
   "metadata": {},
   "outputs": [],
   "source": [
    "def make_multinom_covar(prob_vec):\n",
    "    return np.eye(len(prob_vec)) - np.outer(prob_vec, prob_vec)"
   ]
  },
  {
   "cell_type": "code",
   "execution_count": 9,
   "id": "9bece199-9c39-42d8-b4aa-0501cae24c99",
   "metadata": {},
   "outputs": [],
   "source": [
    "from scipy.linalg import block_diag\n",
    "\n",
    "class ExtendedKalmanFilter():\n",
    "    def __init__(self, model, P0):\n",
    "        self.model = model\n",
    "        self.P = P0\n",
    "        \n",
    "    def update(self, circ_list, data_set, jdict, hdict, stab_noise=None, max_itr=1, itr_eps=1e-4):\n",
    "        \n",
    "        \n",
    "        prior_covar = self.P\n",
    "        prior_state = self.model.to_vector()\n",
    "        \n",
    "        for itr in range(max_itr):\n",
    "            Smat = np.zeros((0,0))\n",
    "            total_innov = np.zeros((0))\n",
    "            total_jac = np.zeros((0,len(self.model.to_vector())))\n",
    "        \n",
    "            for circ in circ_list:\n",
    "                counts = data_set[circ].counts\n",
    "                total_counts = sum([counts[key] for key in counts.keys()])    \n",
    "                if total_counts > num_samples:\n",
    "                    print('counts exceeded num_samples, ', total_counts)\n",
    "                hilbert_dims = 2**(circ.width)\n",
    "                prior_state = self.model.to_vector()\n",
    "\n",
    "                # 0) find the mean estimate for the circuit outcome under the self.model\n",
    "                p_model = np.ones(hilbert_dims)\n",
    "                probs = self.model.probabilities(circ)\n",
    "                for key in probs.keys():\n",
    "                    p_model[int(key[0], 2)] += total_counts*probs[key]\n",
    "                p_model = (1/(total_counts+hilbert_dims))*p_model\n",
    "\n",
    "                # calculate jacobian\n",
    "                jacob = jdict[circ] + hdict[circ]@prior_state\n",
    "\n",
    "                # 1) calculate your observation frequencies\n",
    "                observation = np.ones(hilbert_dims)\n",
    "                for key in counts.keys():\n",
    "                    observation[int(key[0], 2)] += counts[key]\n",
    "                observation = (1/(total_counts+hilbert_dims))*observation\n",
    "\n",
    "                # 2) calculate the covaraiance of the observation and add model noise\n",
    "                meas_covar = (1/(total_counts+hilbert_dims))*make_multinom_covar(observation)\n",
    "                if stab_noise is not None:\n",
    "                    meas_covar += stab_noise\n",
    "                    \n",
    "                # 3) Kalman gain\n",
    "                smat = np.linalg.pinv(jacob@prior_covar@jacob.T + meas_covar, 1e-6)\n",
    "                \n",
    "                innovation = observation - p_model\n",
    "\n",
    "                Smat = block_diag(Smat, smat)\n",
    "                total_innov = np.hstack([total_innov, innovation])\n",
    "                total_jac = np.vstack([total_jac, jacob])\n",
    "            Kgain = prior_covar@total_jac.T@Smat\n",
    "            post_state = prior_state + Kgain@total_innov\n",
    "            if np.linalg.norm(post_state - prior_state) < itr_eps:\n",
    "                break\n",
    "            prior_state = post_state\n",
    "        self.P = prior_covar - Kgain@total_jac@prior_covar\n",
    "        self.model.from_vector(post_state)"
   ]
  },
  {
   "cell_type": "code",
   "execution_count": 10,
   "id": "3e2c436a-829a-4cf6-a809-566c39aa7897",
   "metadata": {},
   "outputs": [],
   "source": [
    "def regression_fit(circ_list, data_set, ref_model, jdict):\n",
    "    num_params = len(ref_model.to_vector())\n",
    "    pvec = np.zeros((0))\n",
    "    jmat = np.zeros((0, num_params))\n",
    "    \n",
    "    for circ in circ_list:\n",
    "        hilbert_dims = 2**circ.width\n",
    "        \n",
    "        counts = vector_from_outcomes(data_set[circ].counts, hilbert_dims)\n",
    "        total_counts = sum(counts)\n",
    "        observation = (counts + np.ones((hilbert_dims)))/(total_counts + hilbert_dims)\n",
    "        \n",
    "        p_model = np.ones((hilbert_dims))\n",
    "        probs = ref_model.probabilities(circ)\n",
    "        for key in probs.keys():\n",
    "            p_model[int(key[0], 2)] += total_counts*probs[key]\n",
    "        p_model = p_model/(total_counts + hilbert_dims)\n",
    "        \n",
    "        pvec = np.hstack((pvec, observation-p_model))\n",
    "        jmat = np.vstack((jmat, jdict[circ]))\n",
    "    return np.linalg.pinv(jmat, 1e-4)@pvec"
   ]
  },
  {
   "cell_type": "code",
   "execution_count": 11,
   "id": "cbc72b10-a662-4b2a-b6e6-7369cadf3345",
   "metadata": {},
   "outputs": [],
   "source": [
    "from filterpy.kalman import KalmanFilter\n",
    "\n",
    "class LinearKalmanFilter(KalmanFilter):\n",
    "    def __init__(self, x0, P0, hilbert_dims):\n",
    "        super().__init__(len(x0), hilbert_dims)\n",
    "        self.x = x0\n",
    "        self.P = P0\n",
    "        \n",
    "        self.F = np.eye(len(x0))\n",
    "        self.Q = np.zeros((len(x0), len(x0)))\n",
    "        \n",
    "    def update_filter(self, circ, count_vec, pvec_model, jacob, stab_noise=None):\n",
    "        \n",
    "        total_counts = sum(count_vec)\n",
    "        \n",
    "        hilbert_dims = 2**circ.width\n",
    "        \n",
    "        prediction = (total_counts*pvec_model + np.ones(hilbert_dims))/(total_counts + hilbert_dims)\n",
    "        observation = (count_vec + np.ones(hilbert_dims))/(total_counts + hilbert_dims)\n",
    "        \n",
    "        self.H = jacob\n",
    "        shot_noise = (1/total_counts)*make_multinom_covar(observation)\n",
    "        if stab_noise is not None:\n",
    "            shot_noise += stab_noise\n",
    "        self.R = shot_noise\n",
    "        \n",
    "        self.update(observation - prediction)"
   ]
  },
  {
   "cell_type": "code",
   "execution_count": 12,
   "id": "b619cd81-0568-4935-86ed-e3d2fd680aed",
   "metadata": {},
   "outputs": [],
   "source": [
    "def compare_model_list(noise_model, model_list, circ_list):\n",
    "    # report average and std-dev of tvd errors \n",
    "    tvds = np.zeros((len(circ_list), len(model_list)))\n",
    "    print('Total number of circuits: ', len(circ_list))\n",
    "    for idx, circ in tqdm(enumerate(circ_list)):\n",
    "        for i, model in enumerate(model_list):\n",
    "            tvds[idx, i] = _pdftools.tvd(model.probabilities(circ), noise_model.probabilities(circ))\n",
    "    avg_tvds = np.sum(tvds, axis=0)/len(tvds)\n",
    "    var_tvds = np.zeros(avg_tvds.shape)\n",
    "    for idx, tvd in enumerate(tvds):\n",
    "        var_tvds += (tvd - avg_tvds)**2/len(tvds)\n",
    "    sigma_tvds = np.sqrt(var_tvds)\n",
    "    return (avg_tvds, sigma_tvds)"
   ]
  },
  {
   "cell_type": "code",
   "execution_count": 13,
   "id": "b96f9886-a66b-4da5-bfe5-c2e32d6e23c2",
   "metadata": {},
   "outputs": [],
   "source": [
    "import pygsti\n",
    "from pygsti.report import reportables as rptbl\n",
    "basis = pygsti.baseobjs.Basis.cast(\"pp\",4) # 1-qubit Pauli basis (2x2 matrices)\n",
    "\n",
    "def avg_eigenvalue_infidelity(model1, model2, gateset):\n",
    "    aei = 0\n",
    "    for element in gateset:\n",
    "        aei += rptbl.eigenvalue_entanglement_infidelity(model1[element].to_dense(), model2[element].to_dense(), basis)\n",
    "    return aei/len(gateset)"
   ]
  },
  {
   "cell_type": "markdown",
   "id": "0cc864e5-6351-441f-9374-cdd87266dd51",
   "metadata": {},
   "source": [
    "# [1] Pick a Model"
   ]
  },
  {
   "cell_type": "code",
   "execution_count": 54,
   "id": "11025733-9a8b-4973-bb8e-c4a0eb8097eb",
   "metadata": {},
   "outputs": [],
   "source": [
    "from pygsti.modelpacks import smq1Q_XYI as _smq1Q_XYI\n",
    "from pygsti.modelpacks import smq1Q_XYZI as _smq1Q_XYZI\n",
    "from pygsti.modelpacks import smq1Q_XYI as _smq1Q_XZ\n",
    "from pygsti.modelpacks import smq2Q_XYZICNOT as _smq2Q_XYZICNOT\n",
    "MODEL_PACK = _smq1Q_XYZI\n",
    "REF_MODEL = MODEL_PACK.target_model('H+S')"
   ]
  },
  {
   "cell_type": "code",
   "execution_count": 15,
   "id": "d4fb4633-fc60-4494-b571-c688209c7bec",
   "metadata": {},
   "outputs": [],
   "source": [
    "GATES = [('Gzpi2', 0), ('Gypi2', 0), ('Gxpi2', 0)]"
   ]
  },
  {
   "cell_type": "markdown",
   "id": "2e35711a-91d2-482d-88d4-61b341990935",
   "metadata": {},
   "source": [
    "# [2] Design Experiments and Calculate the Jacobians and Hessians"
   ]
  },
  {
   "cell_type": "code",
   "execution_count": 16,
   "id": "3098506a-373a-431b-84f9-de4d9eae2554",
   "metadata": {},
   "outputs": [],
   "source": [
    "# make GST design\n",
    "import pygsti\n",
    "\n",
    "target_model = MODEL_PACK.target_model('H+S')      # a Model object\n",
    "prep_fiducials = MODEL_PACK.prep_fiducials()  # a list of Circuit objects\n",
    "meas_fiducials = MODEL_PACK.meas_fiducials()  # a list of Circuit objects\n",
    "germs = MODEL_PACK.germs()                    # a list of Circuit objects\n",
    "maxLengths = [1,2, 4, 8, 16, 32]  \n",
    "exp_design = pygsti.protocols.StandardGSTDesign(target_model, prep_fiducials, meas_fiducials,\n",
    "                                                germs, maxLengths)\n",
    "gst_circuits = exp_design.all_circuits_needing_data"
   ]
  },
  {
   "cell_type": "code",
   "execution_count": 17,
   "id": "231af96e-62a5-4fe7-93b2-53d852262207",
   "metadata": {},
   "outputs": [
    {
     "name": "stdout",
     "output_type": "stream",
     "text": [
      "total circuits:  1570\n"
     ]
    },
    {
     "name": "stderr",
     "output_type": "stream",
     "text": [
      "1570it [17:33,  1.49it/s]\n"
     ]
    }
   ],
   "source": [
    "jdict_gst = dict()\n",
    "hdict_gst = dict()\n",
    "print(\"total circuits: \", len(gst_circuits))\n",
    "for idx, circ in tqdm(enumerate(gst_circuits)):\n",
    "    jdict_gst[circ] = matrix_from_jacob(REF_MODEL.sim.dprobs(circ), 2**circ.width)\n",
    "    hdict_gst[circ] = tensor_from_hessian(REF_MODEL.sim.hprobs(circ), 2**circ.width)"
   ]
  },
  {
   "cell_type": "markdown",
   "id": "72a1dc14-1747-4d71-9af1-1146132a89ba",
   "metadata": {},
   "source": [
    "# [3] Add noise and make the filter model"
   ]
  },
  {
   "cell_type": "code",
   "execution_count": 128,
   "id": "6a5b6213-2499-48f7-8c3c-a4b05bf088f7",
   "metadata": {},
   "outputs": [],
   "source": [
    "# make a model from a model pack\n",
    "filter_model = REF_MODEL.copy()\n",
    "regression_model = REF_MODEL.copy()\n",
    "noise_model = MODEL_PACK.target_model()\n",
    "noise_model = noise_model.depolarize(max_op_noise=0.0007, max_spam_noise=0.0001)\n",
    "noise_model = noise_model.rotate(max_rotate=0.0007)"
   ]
  },
  {
   "cell_type": "code",
   "execution_count": 129,
   "id": "1e367324-24d7-4506-9b33-dafd0b2ea367",
   "metadata": {},
   "outputs": [
    {
     "name": "stdout",
     "output_type": "stream",
     "text": [
      "0.0008420683071486135\n"
     ]
    }
   ],
   "source": [
    "# preint average entanglement infidelity of the noise model\n",
    "aei = 0\n",
    "for op in list(REF_MODEL.operations.keys()):\n",
    "    aei += 1-rptbl.entanglement_fidelity(noise_model[op], REF_MODEL[op].to_dense(), basis)\n",
    "print(aei)"
   ]
  },
  {
   "cell_type": "markdown",
   "id": "ec7fceb0-2f69-4689-aa85-320342c5dbd9",
   "metadata": {},
   "source": [
    "# [4] Run an RB experiment and collect outcome data for the filter run"
   ]
  },
  {
   "cell_type": "code",
   "execution_count": 130,
   "id": "6845dab7-fdc1-4f83-aacd-fa451dc8b34d",
   "metadata": {},
   "outputs": [
    {
     "name": "stdout",
     "output_type": "stream",
     "text": [
      "- Sampling 10 circuits at DRB length 1 (1 of 5 depths) with seed 551104\n",
      "- Sampling 10 circuits at DRB length 2 (2 of 5 depths) with seed 551114\n",
      "- Sampling 10 circuits at DRB length 4 (3 of 5 depths) with seed 551124\n",
      "- Sampling 10 circuits at DRB length 8 (4 of 5 depths) with seed 551134\n",
      "- Sampling 10 circuits at DRB length 16 (5 of 5 depths) with seed 551144\n"
     ]
    },
    {
     "name": "stderr",
     "output_type": "stream",
     "text": [
      "/home/jpmarceaux/Applications/pyGSTi/pygsti/layouts/evaltree.py:183: UserWarning: Created an evaluation tree that is inefficient: tree-size > 3 * #circuits !\n",
      "This is likely due to the fact that the circuits being simulated do not have a\n",
      "periodic structure. Consider using a different forward simulator (e.g. MapForwardSimulator).\n",
      "  _warnings.warn((\"Created an evaluation tree that is inefficient: tree-size > %d * #circuits !\\n\"\n"
     ]
    },
    {
     "name": "stdout",
     "output_type": "stream",
     "text": [
      "0.00014658295533900856\n"
     ]
    }
   ],
   "source": [
    "rb_param, data = make_rb_param(noise_model, MODEL_PACK)\n",
    "print(rb_param)"
   ]
  },
  {
   "cell_type": "markdown",
   "id": "72ea779f-1117-4572-8c93-96b929c87ad6",
   "metadata": {},
   "source": [
    "# [5] Sample the circuits "
   ]
  },
  {
   "cell_type": "code",
   "execution_count": 131,
   "id": "2d0d303c-f652-414e-8508-85b5219c379e",
   "metadata": {},
   "outputs": [],
   "source": [
    "num_samples=8000\n",
    "\n",
    "# GST samples\n",
    "\n",
    "def simulate_taking_data(data_template_filename):\n",
    "    \"\"\"Simulate taking 1-qubit data and filling the results into a template dataset.txt file\"\"\"\n",
    "    datagen_model = noise_model\n",
    "    pygsti.io.fill_in_empty_dataset_with_fake_data(datagen_model, data_template_filename, num_samples=num_samples)\n",
    "    \n",
    "pygsti.io.write_empty_protocol_data(exp_design, 'test_gst_dir', clobber_ok=True)\n",
    "\n",
    "# -- fill in the dataset file in tutorial_files/test_gst_dir/data/dataset.txt --\n",
    "simulate_taking_data(\"test_gst_dir/data/dataset.txt\")  # REPLACE with actual data-taking\n",
    "\n",
    "data = pygsti.io.load_data_from_dir('test_gst_dir')\n",
    "dataset_gst = data.dataset"
   ]
  },
  {
   "cell_type": "markdown",
   "id": "8b11bedb-3c56-43d2-8b59-8dced3d5d14c",
   "metadata": {},
   "source": [
    "# [6] Setup the experiments\n",
    "\n",
    "Each experiment consists of running MLE and the filter on GST circuits of fixed max length, then comparing on a fixed noise model with fixed circuit length"
   ]
  },
  {
   "cell_type": "code",
   "execution_count": 132,
   "id": "fb1de628-de13-4ca4-9ef5-86708a7f2811",
   "metadata": {},
   "outputs": [],
   "source": [
    "# make random circuits \n",
    "N_circs = 100\n",
    "depth = 128\n",
    "test_circuits = []\n",
    "for n in range(N_circs):\n",
    "    test_circuits.append(random_circuit(depth, MODEL_PACK.processor_spec()))"
   ]
  },
  {
   "cell_type": "code",
   "execution_count": 133,
   "id": "8a0ae772-04b7-4835-b130-e928a8798ad9",
   "metadata": {},
   "outputs": [
    {
     "name": "stdout",
     "output_type": "stream",
     "text": [
      "Using matplotlib backend: Qt5Agg\n"
     ]
    }
   ],
   "source": [
    "# Setup\n",
    "%matplotlib\n",
    "\n",
    "hilbert_dims = 2**len(MODEL_PACK.processor_spec().qubit_labels)\n",
    "num_params = len(filter_model.to_vector())\n",
    "\n",
    "max_itr = 5\n",
    "itr_epsilon = 1e-4"
   ]
  },
  {
   "cell_type": "code",
   "execution_count": 134,
   "id": "e14f59ab-e8c6-48bb-a6db-525f4b84cdaa",
   "metadata": {},
   "outputs": [
    {
     "name": "stdout",
     "output_type": "stream",
     "text": [
      "-- Std Practice:  Iter 1 of 2  (full TP) --: \n",
      "  --- Iterative GST: [##################################################] 100.0%  128 circuits ---\n",
      "  Iterative GST Total Time: 0.8s\n",
      "-- Std Practice:  Iter 2 of 2  (H+S) --: \n",
      "  --- Iterative GST: [##################################################] 100.0%  128 circuits ---\n",
      "  Iterative GST Total Time: 1.1s\n"
     ]
    }
   ],
   "source": [
    "# run linear GST\n",
    "linear_design = pygsti.protocols.StandardGSTDesign(target_model, prep_fiducials, meas_fiducials,\n",
    "                                            germs, [1])\n",
    "linear_circuits = linear_design.all_circuits_needing_data\n",
    "pygsti.io.write_empty_protocol_data(linear_design, 'test_gst_dir', clobber_ok=True)\n",
    "simulate_taking_data(\"test_gst_dir/data/dataset.txt\")  # REPLACE with actual data-taking\n",
    "linear_data = pygsti.io.load_data_from_dir('test_gst_dir')\n",
    "gst_protocol = pygsti.protocols.StandardGST('full TP,H+S')\n",
    "results = gst_protocol.run(linear_data)\n",
    "linear_hs_model = results.estimates['H+S'].models['final iteration estimate']\n",
    "\n",
    "x_linear_hs = linear_hs_model.to_vector()"
   ]
  },
  {
   "cell_type": "code",
   "execution_count": 136,
   "id": "dcdfa03e-ff40-4835-adce-4262167e1812",
   "metadata": {},
   "outputs": [
    {
     "name": "stdout",
     "output_type": "stream",
     "text": [
      "-- Std Practice:  Iter 1 of 2  (full TP) --: \n",
      "  --- Iterative GST: [##################################################] 100.0%  128 circuits ---\n",
      "  Iterative GST Total Time: 0.6s\n",
      "-- Std Practice:  Iter 2 of 2  (H+S) --: \n",
      "  --- Iterative GST: [##################################################] 100.0%  128 circuits ---\n",
      "  Iterative GST Total Time: 2.0s\n",
      "[-1.86671093e-03 -1.60833146e-03 -1.42557986e-06  5.15374256e-03\n",
      "  5.15373725e-03  4.26762422e-12 -3.01877507e-04  3.20789820e-03\n",
      " -1.18538787e-06  5.15367900e-03  5.15377246e-03  3.90950579e-12\n",
      "  6.03418164e-03  1.16805855e-04 -1.38082280e-03  1.17608138e-02\n",
      "  3.35394423e-03  1.01716205e-02 -2.72792433e-04  2.20148589e-03\n",
      "  6.35396116e-03 -2.65454294e-03 -1.05634250e-02  3.13607645e-03\n",
      "  5.82239565e-03 -1.80470054e-03 -9.86128779e-04  2.08306275e-03\n",
      " -2.42091243e-05 -3.06850591e-03  2.53050942e-03  6.65644862e-03\n",
      " -9.55232539e-04 -2.42521230e-05  1.24802339e-02  5.94387887e-03]\n"
     ]
    },
    {
     "name": "stderr",
     "output_type": "stream",
     "text": [
      "128it [00:02, 55.76it/s]\n"
     ]
    },
    {
     "name": "stdout",
     "output_type": "stream",
     "text": [
      "Total number of circuits:  100\n"
     ]
    },
    {
     "name": "stderr",
     "output_type": "stream",
     "text": [
      "100it [00:19,  5.17it/s]\n"
     ]
    },
    {
     "name": "stdout",
     "output_type": "stream",
     "text": [
      "-- Std Practice:  Iter 1 of 2  (full TP) --: \n",
      "  --- Iterative GST: [##################################################] 100.0%  258 circuits ---\n",
      "  Iterative GST Total Time: 1.2s\n",
      "-- Std Practice:  Iter 2 of 2  (H+S) --: \n",
      "  --- Iterative GST: [##################################################] 100.0%  258 circuits ---\n",
      "  Iterative GST Total Time: 3.4s\n"
     ]
    },
    {
     "name": "stderr",
     "output_type": "stream",
     "text": [
      "258it [00:06, 40.06it/s]\n"
     ]
    },
    {
     "name": "stdout",
     "output_type": "stream",
     "text": [
      "Total number of circuits:  100\n"
     ]
    },
    {
     "name": "stderr",
     "output_type": "stream",
     "text": [
      "100it [00:19,  5.21it/s]\n"
     ]
    },
    {
     "name": "stdout",
     "output_type": "stream",
     "text": [
      "-- Std Practice:  Iter 1 of 2  (full TP) --: \n",
      "  --- Iterative GST: [##################################################] 100.0%  531 circuits ---\n",
      "  Iterative GST Total Time: 1.9s\n",
      "-- Std Practice:  Iter 2 of 2  (H+S) --: \n",
      "  --- Iterative GST: [##################################################] 100.0%  531 circuits ---\n",
      "  Iterative GST Total Time: 3.7s\n"
     ]
    },
    {
     "name": "stderr",
     "output_type": "stream",
     "text": [
      "531it [00:15, 35.24it/s]\n"
     ]
    },
    {
     "name": "stdout",
     "output_type": "stream",
     "text": [
      "Total number of circuits:  100\n"
     ]
    },
    {
     "name": "stderr",
     "output_type": "stream",
     "text": [
      "100it [00:18,  5.27it/s]\n"
     ]
    },
    {
     "name": "stdout",
     "output_type": "stream",
     "text": [
      "-- Std Practice:  Iter 1 of 2  (full TP) --: \n",
      "  --- Iterative GST: [##################################################] 100.0%  874 circuits ---\n",
      "  Iterative GST Total Time: 2.7s\n",
      "-- Std Practice:  Iter 2 of 2  (H+S) --: \n",
      "  --- Iterative GST: [##################################################] 100.0%  874 circuits ---\n",
      "  Iterative GST Total Time: 5.9s\n"
     ]
    },
    {
     "name": "stderr",
     "output_type": "stream",
     "text": [
      "874it [00:25, 34.39it/s]\n"
     ]
    },
    {
     "name": "stdout",
     "output_type": "stream",
     "text": [
      "Total number of circuits:  100\n"
     ]
    },
    {
     "name": "stderr",
     "output_type": "stream",
     "text": [
      "100it [00:19,  5.12it/s]\n"
     ]
    },
    {
     "name": "stdout",
     "output_type": "stream",
     "text": [
      "-- Std Practice:  Iter 1 of 2  (full TP) --: \n",
      "  --- Iterative GST: [##################################################] 100.0%  1222 circuits ---\n",
      "  Iterative GST Total Time: 3.7s\n",
      "-- Std Practice:  Iter 2 of 2  (H+S) --: \n",
      "  --- Iterative GST: [##################################################] 100.0%  1222 circuits ---\n",
      "  Iterative GST Total Time: 4.5s\n"
     ]
    },
    {
     "name": "stderr",
     "output_type": "stream",
     "text": [
      "1222it [00:41, 29.72it/s]\n"
     ]
    },
    {
     "name": "stdout",
     "output_type": "stream",
     "text": [
      "Total number of circuits:  100\n"
     ]
    },
    {
     "name": "stderr",
     "output_type": "stream",
     "text": [
      "100it [00:19,  5.21it/s]\n"
     ]
    },
    {
     "name": "stdout",
     "output_type": "stream",
     "text": [
      "-- Std Practice:  Iter 1 of 2  (full TP) --: \n",
      "  --- Iterative GST: [##################################################] 100.0%  1570 circuits ---\n",
      "  Iterative GST Total Time: 5.1s\n",
      "-- Std Practice:  Iter 2 of 2  (H+S) --: \n",
      "  --- Iterative GST: [##################################################] 100.0%  1570 circuits ---\n",
      "  Iterative GST Total Time: 6.0s\n"
     ]
    },
    {
     "name": "stderr",
     "output_type": "stream",
     "text": [
      "1570it [00:56, 27.57it/s]\n"
     ]
    },
    {
     "name": "stdout",
     "output_type": "stream",
     "text": [
      "Total number of circuits:  100\n"
     ]
    },
    {
     "name": "stderr",
     "output_type": "stream",
     "text": [
      "100it [00:19,  5.21it/s]\n"
     ]
    }
   ],
   "source": [
    "error_history = dict()\n",
    "for i in range(0, len(maxLengths)):\n",
    "    exdesign = pygsti.protocols.StandardGSTDesign(target_model, prep_fiducials, meas_fiducials,\n",
    "                                                germs, maxLengths[0:i+1])\n",
    "    gst_circuits = exdesign.all_circuits_needing_data\n",
    "    \n",
    "    \n",
    "    # make this run's MLE \n",
    "    pygsti.io.write_empty_protocol_data(exdesign, 'test_gst_dir', clobber_ok=True)\n",
    "    simulate_taking_data(\"test_gst_dir/data/dataset.txt\")  # REPLACE with actual data-taking\n",
    "    data = pygsti.io.load_data_from_dir('test_gst_dir')\n",
    "    dataset_gst = data.dataset \n",
    "    gst_protocol = pygsti.protocols.StandardGST('full TP,H+S')\n",
    "    results = gst_protocol.run(data)\n",
    "    gst_hs_model = results.estimates['H+S'].models['final iteration estimate']\n",
    "    gst_tp_model = results.estimates['full TP'].models['final iteration estimate']\n",
    "    \n",
    "    if i == 0:\n",
    "        print(gst_hs_model.to_vector() - x_linear_hs)\n",
    "    \n",
    "    # setup filter\n",
    "    P = 5*np.sqrt(rb_param)*np.eye(num_params)\n",
    "    filter_model.from_vector(np.zeros(num_params))\n",
    "    zero_kf = ExtendedKalmanFilter(filter_model.copy(), P)\n",
    "    filter_model.from_vector(x_linear_hs)\n",
    "    P = 2*np.sqrt(rb_param)*np.eye(num_params)\n",
    "    seeded_kf = ExtendedKalmanFilter(filter_model.copy(), P)\n",
    "    lkf = LinearKalmanFilter(np.zeros(num_params), P, hilbert_dims)\n",
    "\n",
    "    # train on gst circuits\n",
    "    for idx, circ in tqdm(enumerate(gst_circuits)): \n",
    "        zero_kf.update([circ], dataset_gst, jdict_gst, hdict_gst, 0.05*np.eye(2), max_itr, itr_epsilon)\n",
    "        cvec = vector_from_outcomes(dataset_gst[circ].counts, hilbert_dims)\n",
    "        pvec = vector_from_outcomes(REF_MODEL.probabilities(circ), hilbert_dims)\n",
    "        lkf.update_filter(circ, cvec, pvec, jdict_gst[circ], 1e-2*np.eye(hilbert_dims))\n",
    "        if circ not in linear_circuits:\n",
    "            seeded_kf.update([circ], dataset_gst, jdict_gst, hdict_gst, 0.05*np.eye(2), max_itr, itr_epsilon)\n",
    "            \n",
    "    \n",
    "    # regression model\n",
    "    x_regression = regression_fit(gst_circuits, dataset_gst, REF_MODEL, jdict_gst)\n",
    "    regression_model.from_vector(x_regression)\n",
    "    \n",
    "    # test performance on the training set \n",
    "    filter_model.from_vector(lkf.x)\n",
    "    error_history[i] = compare_model_list(noise_model, [zero_kf.model, seeded_kf.model, gst_hs_model, gst_tp_model, regression_model, REF_MODEL, filter_model], test_circuits)"
   ]
  },
  {
   "cell_type": "markdown",
   "id": "2e30f0ed-a5dd-4b6c-96a6-e97075178685",
   "metadata": {},
   "source": [
    "# [6] Plot results"
   ]
  },
  {
   "cell_type": "code",
   "execution_count": 137,
   "id": "9bdfdc5f-7203-491d-b9f5-89c0afbeb279",
   "metadata": {},
   "outputs": [
    {
     "data": {
      "text/plain": [
       "{0: (array([0.0084458 , 0.00757642, 0.00617653, 0.01611301, 0.00932441,\n",
       "         0.00470895, 0.00883451]),\n",
       "  array([0.00457856, 0.0086678 , 0.00617063, 0.01454997, 0.00529241,\n",
       "         0.00417952, 0.00488365])),\n",
       " 1: (array([0.00593793, 0.00182852, 0.00318001, 0.00872625, 0.00603479,\n",
       "         0.00470895, 0.00598263]),\n",
       "  array([0.00396841, 0.00162945, 0.00270116, 0.00882736, 0.00398242,\n",
       "         0.00417952, 0.0039741 ])),\n",
       " 2: (array([0.00410514, 0.00116896, 0.00110657, 0.00348855, 0.00412324,\n",
       "         0.00470895, 0.00411489]),\n",
       "  array([0.00446261, 0.00089062, 0.00066974, 0.00331068, 0.00445223,\n",
       "         0.00417952, 0.00445709])),\n",
       " 3: (array([0.00470946, 0.0015023 , 0.00136497, 0.00217291, 0.0047121 ,\n",
       "         0.00470895, 0.00470766]),\n",
       "  array([0.00423097, 0.00141121, 0.00160608, 0.00251733, 0.00423141,\n",
       "         0.00417952, 0.00423279])),\n",
       " 4: (array([0.00222132, 0.00093231, 0.00057802, 0.00114811, 0.00391142,\n",
       "         0.00470895, 0.00391086]),\n",
       "  array([0.00219824, 0.0006723 , 0.00066312, 0.00130302, 0.0045825 ,\n",
       "         0.00417952, 0.00458282])),\n",
       " 5: (array([0.00096659, 0.0007435 , 0.00034522, 0.00076855, 0.00369405,\n",
       "         0.00470895, 0.00369389]),\n",
       "  array([0.00083924, 0.00055144, 0.00035237, 0.00071776, 0.00470363,\n",
       "         0.00417952, 0.00470373]))}"
      ]
     },
     "execution_count": 137,
     "metadata": {},
     "output_type": "execute_result"
    }
   ],
   "source": [
    "error_history"
   ]
  },
  {
   "cell_type": "code",
   "execution_count": 139,
   "id": "df3438d4-fe71-4ab0-9ee6-3eba06eb8b69",
   "metadata": {},
   "outputs": [
    {
     "data": {
      "text/plain": [
       "Text(0, 0.5, 'Prediction Error [TVD]')"
      ]
     },
     "execution_count": 139,
     "metadata": {},
     "output_type": "execute_result"
    }
   ],
   "source": [
    "plt.figure()\n",
    "for i in range(len(error_history.keys())):\n",
    "    pts1 = plt.scatter(i, error_history[i][0][0], c='blue', marker='v', label='EKF')\n",
    "    if i != 0:\n",
    "        pts2 = plt.scatter(i, error_history[i][0][1], c='green', marker='p', label='seeded EKF')\n",
    "    pts3 = plt.scatter(i, error_history[i][0][2], c='red', marker='D', label='MLE H+S')\n",
    "    pts4 = plt.scatter(i, error_history[i][0][3], c='magenta', marker='h', label='MLE TP')\n",
    "    pts5 = plt.scatter(i, error_history[i][0][4], c='brown', marker='x', label='Regression')\n",
    "    pts6 = plt.scatter(i, error_history[i][0][5], c='orange', marker='X', label='Ideal')\n",
    "    pts7 = plt.scatter(i, error_history[i][0][6], c='pink', marker='*', label='LKF')\n",
    "plt.legend([pts1, pts2, pts3, pts4, pts5, pts6, pts7], ['EKF', 'seeded EKF', 'MLE H+S', 'MLE TP', 'Regression', 'Ideal', 'LKF'])\n",
    "plt.title('Filter performance vs MLE')\n",
    "plt.xlabel('Max Germ Length (log)')\n",
    "plt.ylabel('Prediction Error [TVD]')"
   ]
  },
  {
   "cell_type": "code",
   "execution_count": 207,
   "id": "6a438297-aa9d-4d83-b166-a3ffcb625d56",
   "metadata": {},
   "outputs": [
    {
     "data": {
      "text/plain": [
       "0.007146514537702616"
      ]
     },
     "execution_count": 207,
     "metadata": {},
     "output_type": "execute_result"
    }
   ],
   "source": [
    "avg_eigenvalue_infidelity(noise_model, filter_model, GATES)"
   ]
  },
  {
   "cell_type": "code",
   "execution_count": 208,
   "id": "5da19b25-b0cc-4dd6-a16b-e5e1ad7fe2b3",
   "metadata": {},
   "outputs": [
    {
     "data": {
      "text/plain": [
       "0.007201298314319704"
      ]
     },
     "execution_count": 208,
     "metadata": {},
     "output_type": "execute_result"
    }
   ],
   "source": [
    "avg_eigenvalue_infidelity(noise_model, gst_hs_model, GATES)"
   ]
  },
  {
   "cell_type": "code",
   "execution_count": 209,
   "id": "7532a7ac-4b8e-4f32-bffb-f3999dd96dcb",
   "metadata": {},
   "outputs": [
    {
     "data": {
      "text/plain": [
       "0.007203789666050693"
      ]
     },
     "execution_count": 209,
     "metadata": {},
     "output_type": "execute_result"
    }
   ],
   "source": [
    "avg_eigenvalue_infidelity(noise_model, gst_tp_model, GATES)"
   ]
  },
  {
   "cell_type": "code",
   "execution_count": 210,
   "id": "b678a806-671d-43ac-a060-55fb886c1e39",
   "metadata": {},
   "outputs": [
    {
     "data": {
      "text/plain": [
       "0.0035844924687810087"
      ]
     },
     "execution_count": 210,
     "metadata": {},
     "output_type": "execute_result"
    }
   ],
   "source": [
    "avg_eigenvalue_infidelity(noise_model, REF_MODEL, GATES)"
   ]
  },
  {
   "cell_type": "code",
   "execution_count": null,
   "id": "ed64868f-970a-4945-8141-fdab4d6a2c6b",
   "metadata": {},
   "outputs": [],
   "source": []
  },
  {
   "cell_type": "code",
   "execution_count": null,
   "id": "d0b2c62b-5572-4a34-aba2-04fe5563dee0",
   "metadata": {},
   "outputs": [],
   "source": []
  }
 ],
 "metadata": {
  "kernelspec": {
   "display_name": "Python 3 (ipykernel)",
   "language": "python",
   "name": "python3"
  },
  "language_info": {
   "codemirror_mode": {
    "name": "ipython",
    "version": 3
   },
   "file_extension": ".py",
   "mimetype": "text/x-python",
   "name": "python",
   "nbconvert_exporter": "python",
   "pygments_lexer": "ipython3",
   "version": "3.10.4"
  }
 },
 "nbformat": 4,
 "nbformat_minor": 5
}
