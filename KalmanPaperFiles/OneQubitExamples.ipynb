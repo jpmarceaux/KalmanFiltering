{
 "cells": [
  {
   "cell_type": "code",
   "execution_count": 1,
   "id": "acc95818-4aed-4fe6-bea4-56ef11033e58",
   "metadata": {},
   "outputs": [],
   "source": [
    "import sys\n",
    "sys.path.append(\"..\")\n",
    "from lib.kalman_gst import *  \n",
    "from pygsti.modelpacks import smq1Q_XYI as std"
   ]
  },
  {
   "cell_type": "code",
   "execution_count": 38,
   "id": "e04af625-ea2a-41d3-9e6c-652eab65111b",
   "metadata": {},
   "outputs": [
    {
     "data": {
      "text/plain": [
       "'/home/jpmarceaux/Projects/KalmanFiltering/KalmanPaperFiles'"
      ]
     },
     "execution_count": 38,
     "metadata": {},
     "output_type": "execute_result"
    }
   ],
   "source": [
    "pwd"
   ]
  },
  {
   "cell_type": "code",
   "execution_count": 2,
   "id": "8ba736cd-e701-4239-853d-9001080e68ed",
   "metadata": {},
   "outputs": [],
   "source": [
    "SEED = 2021\n",
    "SAMPLES = 256\n",
    "np.random.seed(SEED)"
   ]
  },
  {
   "cell_type": "markdown",
   "id": "b33980ce-2658-4a36-ac63-f3a7e9a761fb",
   "metadata": {},
   "source": [
    "# Example 1\n",
    "\n",
    "Performance of many exact extended filters vs batched MLE"
   ]
  },
  {
   "cell_type": "code",
   "execution_count": 3,
   "id": "545bb707-36f8-45a3-80df-96d2386137d3",
   "metadata": {},
   "outputs": [],
   "source": [
    "# setup the datagen model\n",
    "max_fogi_error_rate = 0.05\n",
    "mdl_datagen = std.target_model('H+s')\n",
    "basis1q = pygsti.baseobjs.Basis.cast('pp', 4)\n",
    "gauge_basis = pygsti.baseobjs.CompleteElementaryErrorgenBasis(\n",
    "                        basis1q, mdl_datagen.state_space, elementary_errorgen_types='HS')\n",
    "mdl_datagen.setup_fogi(gauge_basis, None, None, reparameterize=True,\n",
    "                     dependent_fogi_action='drop', include_spam=True)\n",
    "ar = mdl_datagen.fogi_errorgen_components_array(include_fogv=False, normalized_elem_gens=True)\n",
    "target_model = mdl_datagen.copy()\n",
    "np.random.seed(SEED)\n",
    "ar = max_fogi_error_rate * np.random.rand(len(ar))\n",
    "mdl_datagen.set_fogi_errorgen_components_array(ar, include_fogv=False, normalized_elem_gens=True)"
   ]
  },
  {
   "cell_type": "code",
   "execution_count": 4,
   "id": "76fa9735-e378-47ac-b296-4ae8d093babf",
   "metadata": {},
   "outputs": [],
   "source": [
    "# make an edesign and simulate the data\n",
    "maxLengths = [1,2,4,8,16]\n",
    "maxlength_edesign = pygsti.protocols.StandardGSTDesign(target_model, std.prep_fiducials(), std.meas_fiducials(),\n",
    "                                                std.germs(), maxLengths)\n",
    "dataset = pygsti.data.simulate_data(mdl_datagen, maxlength_edesign, SAMPLES, seed=SEED) #, sample_error='none')"
   ]
  },
  {
   "cell_type": "code",
   "execution_count": 5,
   "id": "00c62e7b-7332-4482-9419-46992057f7a4",
   "metadata": {},
   "outputs": [
    {
     "name": "stdout",
     "output_type": "stream",
     "text": [
      "--- Iterative GST: [##################################################] 100.0%  92 circuits ---\n",
      "Iterative GST Total Time: 0.6s\n",
      "--- Iterative GST: [##################################################] 100.0%  168 circuits ---\n",
      "Iterative GST Total Time: 0.8s\n",
      "--- Iterative GST: [##################################################] 100.0%  285 circuits ---\n",
      "Iterative GST Total Time: 1.1s\n",
      "--- Iterative GST: [##################################################] 100.0%  448 circuits ---\n",
      "Iterative GST Total Time: 1.6s\n",
      "--- Iterative GST: [##################################################] 100.0%  616 circuits ---\n",
      "Iterative GST Total Time: 2.1s\n"
     ]
    }
   ],
   "source": [
    "mle_estimates, edesigns = make_mle_estimates(dataset, std, target_model, maxLengths)"
   ]
  },
  {
   "cell_type": "code",
   "execution_count": 6,
   "id": "8d64fcf2-60d0-4a74-a784-2d13e5b09cf9",
   "metadata": {},
   "outputs": [],
   "source": [
    "germ_length_ranges = {\n",
    "    0: [0, 92], \n",
    "    1: [92, 168], \n",
    "    2: [168, 285], \n",
    "    3: [285, 448],\n",
    "    4: [448, 616]\n",
    "}"
   ]
  },
  {
   "cell_type": "code",
   "execution_count": 7,
   "id": "74e1d46d-34c2-49b5-b616-8f7c525ebf80",
   "metadata": {},
   "outputs": [],
   "source": [
    "def random_copy(max_error_rate, target_model):\n",
    "    np.random.seed()\n",
    "    output_model = target_model.copy()\n",
    "    er = max_error_rate * np.random.rand(target_model.num_params)\n",
    "    output_model.from_vector(er)\n",
    "    return output_model"
   ]
  },
  {
   "cell_type": "code",
   "execution_count": 8,
   "id": "8aea4179-cb40-49a9-a2f0-87766829e0ea",
   "metadata": {},
   "outputs": [
    {
     "name": "stdout",
     "output_type": "stream",
     "text": [
      "0.10136735741557625\n"
     ]
    }
   ],
   "source": [
    "# find AGSI for the given max fogi rate\n",
    "avg_fidel = 0\n",
    "idx = 0\n",
    "while idx < 500:\n",
    "    noise_model = random_copy(0.09, target_model)\n",
    "    if model_is_cptp(noise_model):\n",
    "        avg_fidel += avg_gs_infidelity(noise_model, target_model)\n",
    "        idx += 1\n",
    "    else:\n",
    "        print('non cptp model')\n",
    "print(avg_fidel/500)"
   ]
  },
  {
   "cell_type": "code",
   "execution_count": 10,
   "id": "ceb3931f-85d2-420f-869c-98e18bfed189",
   "metadata": {},
   "outputs": [
    {
     "name": "stdout",
     "output_type": "stream",
     "text": [
      "outlying model of fidelity 0.11351494942762004\n",
      "outlying model of fidelity 0.1314496386399625\n"
     ]
    }
   ],
   "source": [
    "# make many random FOGI models with approximately the same AGSI\n",
    "target_avg_infidelity = 0.10\n",
    "fidelity_epsilon = 0.005\n",
    "num_noise_models = 3\n",
    "\n",
    "\n",
    "noise_model_list = []\n",
    "idx = 0\n",
    "while idx < num_noise_models:\n",
    "    noise_model = random_copy(0.09, target_model)\n",
    "    if model_is_cptp(noise_model):\n",
    "        infidel = avg_gs_infidelity(noise_model, target_model)\n",
    "        if abs(infidel - target_avg_infidelity) < fidelity_epsilon:\n",
    "            noise_model_list.append(noise_model)\n",
    "            idx += 1\n",
    "        else:\n",
    "            print(f'outlying model of fidelity {infidel}')\n",
    "    else:\n",
    "        print('non cptp model')"
   ]
  },
  {
   "cell_type": "code",
   "execution_count": 11,
   "id": "97881ffd-0664-4488-ae21-a6db30ab2ba5",
   "metadata": {},
   "outputs": [
    {
     "name": "stdout",
     "output_type": "stream",
     "text": [
      "--- Iterative GST: [##################################################] 100.0%  92 circuits ---\n",
      "Iterative GST Total Time: 0.7s\n",
      "--- Iterative GST: [##################################################] 100.0%  168 circuits ---\n",
      "Iterative GST Total Time: 0.9s\n",
      "--- Iterative GST: [##################################################] 100.0%  285 circuits ---\n",
      "Iterative GST Total Time: 1.3s\n",
      "--- Iterative GST: [##################################################] 100.0%  448 circuits ---\n",
      "Iterative GST Total Time: 1.7s\n",
      "0.000862964309068402\n"
     ]
    },
    {
     "name": "stderr",
     "output_type": "stream",
     "text": [
      "100%|██████████████████████████████████████████████████████████████████████████████████████████████████████████████████████████████████████████████████████████████████████████████████████████████████████| 448/448 [00:24<00:00, 18.18it/s]"
     ]
    },
    {
     "name": "stdout",
     "output_type": "stream",
     "text": [
      "--- Iterative GST: [--------------------------------------------------] 0.0%  92 circuits ---\r"
     ]
    },
    {
     "name": "stderr",
     "output_type": "stream",
     "text": [
      "\n"
     ]
    },
    {
     "name": "stdout",
     "output_type": "stream",
     "text": [
      "--- Iterative GST: [##################################################] 100.0%  92 circuits ---\n",
      "Iterative GST Total Time: 0.6s\n",
      "--- Iterative GST: [##################################################] 100.0%  168 circuits ---\n",
      "Iterative GST Total Time: 0.8s\n",
      "--- Iterative GST: [##################################################] 100.0%  285 circuits ---\n",
      "Iterative GST Total Time: 1.2s\n",
      "--- Iterative GST: [##################################################] 100.0%  448 circuits ---\n",
      "Iterative GST Total Time: 1.7s\n",
      "0.000503581537230326\n"
     ]
    },
    {
     "name": "stderr",
     "output_type": "stream",
     "text": [
      "100%|██████████████████████████████████████████████████████████████████████████████████████████████████████████████████████████████████████████████████████████████████████████████████████████████████████| 448/448 [00:23<00:00, 19.01it/s]"
     ]
    },
    {
     "name": "stdout",
     "output_type": "stream",
     "text": [
      "--- Iterative GST: [--------------------------------------------------] 0.0%  92 circuits ---\r"
     ]
    },
    {
     "name": "stderr",
     "output_type": "stream",
     "text": [
      "\n"
     ]
    },
    {
     "name": "stdout",
     "output_type": "stream",
     "text": [
      "--- Iterative GST: [##################################################] 100.0%  92 circuits ---\n",
      "Iterative GST Total Time: 0.7s\n",
      "--- Iterative GST: [##################################################] 100.0%  168 circuits ---\n",
      "Iterative GST Total Time: 0.9s\n",
      "--- Iterative GST: [##################################################] 100.0%  285 circuits ---\n",
      "Iterative GST Total Time: 1.3s\n",
      "--- Iterative GST: [##################################################] 100.0%  448 circuits ---\n",
      "Iterative GST Total Time: 1.8s\n",
      "0.0022735162553331797\n"
     ]
    },
    {
     "name": "stderr",
     "output_type": "stream",
     "text": [
      "100%|██████████████████████████████████████████████████████████████████████████████████████████████████████████████████████████████████████████████████████████████████████████████████████████████████████| 448/448 [00:24<00:00, 18.10it/s]\n"
     ]
    }
   ],
   "source": [
    "# make batched MLE estimates and filter estimates for all the random models\n",
    "num_samples = 256\n",
    "maxLengths = [1,2,4,8]\n",
    "prior_model = target_model # start at the target \n",
    "prior_covar = 0.01*np.eye(prior_model.num_params) # set the prior covar\n",
    "\n",
    "list_of_model_lists = []\n",
    "list_of_covars_lists = []\n",
    "datasets = []\n",
    "mle_estimates_history = []\n",
    "\n",
    "maxlength_edesign = std.create_gst_experiment_design(maxLengths[-1])\n",
    "for model in noise_model_list:\n",
    "    dataset = pygsti.data.simulate_data(model, maxlength_edesign, num_samples, seed=SEED)\n",
    "    datasets.append(dataset)\n",
    "    mle_estimates, edesigns = make_mle_estimates(dataset, std, target_model, maxLengths)\n",
    "    print(mserror(mle_estimates[-1], model))\n",
    "    mle_estimates_history.append(mle_estimates)\n",
    "    circ_list = maxlength_edesign.circuit_lists[-1]\n",
    "    post_model, post_covar, saved_data = filter_dataset(prior_model, prior_covar, dataset, circ_list, \n",
    "                   None, None, clip_range=[-1, 1],\n",
    "                   max_itr=1, itr_eps=1e-4,\n",
    "                   save_params_and_covars=True, save_prior_innovations=False, save_posterior_innovations=False, save_kgains=False)\n",
    "    vector_history = saved_data[0]\n",
    "    covar_history = saved_data[1]\n",
    "    list_of_model_lists.append(vector_history)\n",
    "    list_of_covars_lists.append(covar_history)"
   ]
  },
  {
   "cell_type": "code",
   "execution_count": 12,
   "id": "deba59a9-a437-44bf-b91f-c3b1eb32fa21",
   "metadata": {},
   "outputs": [],
   "source": [
    "def make_singlerun_error_plot(plt_title, model_vectors, mdl_datagen, filter_covars, y_range, mle_estimates=None, germ_length_ranges=None, plt_spacing=25):\n",
    "    \"\"\"\n",
    "    Make a plot of the evolution of the logarithm of error parameters and their uncertainty \n",
    "    \n",
    "    --- Arguments ---\n",
    "    plt_title: title of the plot\n",
    "    model_vectors: list of model parameter vectors after each update\n",
    "    true_params: parameters used in the datagen model\n",
    "    filter_covars: list of model covariance matrices after each update\n",
    "    y_range: display range for the y-axis\n",
    "    mle_estimates: list of mle models after each increase in germ length\n",
    "    germ_length_ranges: list of ranges of different germ lengths for the gst circuits\n",
    "    plt_space: how frequently points are plotted \n",
    "    \"\"\"\n",
    "    fig, axs = plt.subplots(1, 2)\n",
    "    \n",
    "    fig.suptitle(plt_title)\n",
    "\n",
    "    axs[0].set_title('Estimate')\n",
    "    axs[1].set_title('Total uncertainty')\n",
    "\n",
    "    true_params = mdl_datagen.to_vector()\n",
    "    for i in range(0, len(model_vectors), plt_spacing):\n",
    "        params = model_vectors[i]\n",
    "        error = np.log10((params-true_params)@(params-true_params))\n",
    "        axs[0].scatter(i, error, c='black')\n",
    "        axs[1].scatter(i, np.log10((np.trace(filter_covars[i]))), c='black')\n",
    "        \n",
    "    if mle_estimates is not None:\n",
    "        if germ_length_ranges is None:\n",
    "            raise ValueError(\"no germ_length_ranges. Please set circuit ranges for the mle estimates\")\n",
    "        for i, mdl in enumerate(mle_estimates):\n",
    "            mle_error = np.log10(mserror(mdl, mdl_datagen))\n",
    "            mle_line, = axs[0].plot(germ_length_ranges[i], (mle_error, mle_error), c='red', label='MLE Estimate')\n",
    "            \n",
    "    axs[0].legend([mle_line, ], ['MLE Estimates',])\n",
    "    if y_range is not None:\n",
    "        axs[0].set_ylim(y_range[0], y_range[1])\n",
    "        axs[1].set_ylim(y_range[0], y_range[1])\n",
    "    axs[0].set_xlabel('Circuit Index')\n",
    "    axs[1].set_xlabel('Circuit Index')\n",
    "    axs[0].set_ylabel('MSE [log]')"
   ]
  },
  {
   "cell_type": "code",
   "execution_count": 13,
   "id": "13bb2d88-10ce-4caa-bec5-40fc33eb1f38",
   "metadata": {},
   "outputs": [],
   "source": [
    "%matplotlib qt5\n",
    "# plot the results of a particular run\n",
    "i = 1\n",
    "plt_spacing = 5\n",
    "make_singlerun_error_plot('Evolution of Filter Estimate MSE', list_of_model_lists[i], noise_model_list[i], list_of_covars_lists[i], None, mle_estimates_history[i], germ_length_ranges, plt_spacing)"
   ]
  },
  {
   "cell_type": "code",
   "execution_count": 21,
   "id": "d8521ede-f6c4-4588-8d18-e35741ca9a10",
   "metadata": {},
   "outputs": [],
   "source": [
    "# make average performance plot over all the runs\n",
    "fig, axes = plt.subplots(nrows=1, ncols=1)\n",
    "fiducial_model = target_model.copy()\n",
    "plt_spacing = 1\n",
    "\n",
    "axes.set_ylim(-4, 0)\n",
    "\n",
    "mle_mserrors = []\n",
    "\n",
    "mse_points = {idx: [] for idx in range(num_noise_models)}\n",
    "\n",
    "num_circs = len(list_of_model_lists[0])\n",
    "\n",
    "for batch_idx, mle_estimate_set in enumerate(mle_estimates_history):\n",
    "    for idx, estimate in enumerate(mle_estimate_set):\n",
    "        mle_mserror = np.log10( mserror(estimate, noise_model_list[batch_idx]) )\n",
    "        mle_mserrors.append(mle_mserror)\n",
    "        mle_lines, = axes.plot(germ_length_ranges[idx], (mle_mserror, mle_mserror), alpha=0.4, c='blue', lw=2)\n",
    "        \n",
    "for idx in range(num_noise_models):\n",
    "    for id_model, model_vector in enumerate(list_of_model_lists[idx]):\n",
    "        if id_model % plt_spacing == 0:\n",
    "            fiducial_model.from_vector(model_vector)\n",
    "            mse_points[idx].append(np.log10(mserror(fiducial_model, noise_model_list[idx])))\n",
    "            #agsi_points[idx].append(np.log10(avg_gs_infidelity(fiducial_model, noise_model_list[idx])))\n",
    "\n",
    "for idx in range(len(mse_points)):\n",
    "    filter_lines, = axes.plot(range(0, num_circs, plt_spacing), mse_points[idx], alpha=0.7, c='black')\n",
    "\n",
    "axes.set_title('MSE between estimate and datagen')\n",
    "axes.legend([filter_lines, mle_lines], ['Filter Estimate', 'Batched MLE Estimates'])\n",
    "\n",
    "axes.set_ylabel('MSE [log]')\n",
    "axes.set_xlabel('Circuit Index')\n",
    "\n",
    "plt.show()"
   ]
  },
  {
   "cell_type": "code",
   "execution_count": 22,
   "id": "fcb09dd5-d229-4edf-89ef-d36665e5b1d3",
   "metadata": {},
   "outputs": [
    {
     "data": {
      "text/plain": [
       "(-3.8, -2.5)"
      ]
     },
     "execution_count": 22,
     "metadata": {},
     "output_type": "execute_result"
    }
   ],
   "source": [
    "# MSE distribution of MLE and Kalman Filter final estimates\n",
    "fig, axes = plt.subplots(nrows=2, ncols=1)\n",
    "\n",
    "filter_mserrors = []\n",
    "for id_model, vector_list in enumerate(list_of_model_lists):\n",
    "    fiducial_model.from_vector(vector_list[-1])\n",
    "    filter_mserrors.append( np.log10(mserror(fiducial_model, noise_model_list[id_model])) )\n",
    "\n",
    "axes[0].hist(filter_mserrors, color='black')\n",
    "axes[0].set_title('Final Filter Estimate MSE history')\n",
    "axes[1].hist(mle_mserrors, color='black')\n",
    "axes[1].set_title('Finale MLE Estimate MSE history')\n",
    "axes[1].set_xlabel('MSE [log]')\n",
    "axes[1].set_ylabel('Number of models')\n",
    "axes[0].set_ylabel('Number of models')\n",
    "axes[0].set_xlim([-3.8, -2.5])\n",
    "axes[1].set_xlim([-3.8, -2.5])"
   ]
  },
  {
   "cell_type": "code",
   "execution_count": 22,
   "id": "2e83b58b-c92d-4e36-96b3-b9d56c0e31da",
   "metadata": {},
   "outputs": [
    {
     "data": {
      "text/plain": [
       "(-3.8, -2.5)"
      ]
     },
     "execution_count": 22,
     "metadata": {},
     "output_type": "execute_result"
    },
    {
     "data": {
      "image/png": "[encoded data removed]",
      "text/plain": [
       "<Figure size 432x288 with 2 Axes>"
      ]
     },
     "metadata": {
      "needs_background": "light"
     },
     "output_type": "display_data"
    }
   ],
   "source": [
    "# AGSI distribution of MLE and Kalman Filter final estimates\n",
    "fig, axes = plt.subplots(nrows=2, ncols=1)\n",
    "\n",
    "filter_agsis = []\n",
    "for id_model, vector_list in enumerate(list_of_model_lists):\n",
    "    fiducial_model.from_vector(vector_list[-1])\n",
    "    filter_agsis.append( np.log10(avg_gs_infidelity(fiducial_model, noise_model_list[id_model])) )\n",
    "    \n",
    "mle_agsis = []\n",
    "for id_model, model_list in enumerate(mle_estimates_history):\n",
    "    mle_agsis.append( np.log10(avg_gs_infidelity(model_list[-1], noise_model_list[id_model])) )\n",
    "\n",
    "axes[0].hist(filter_agsis, color='black')\n",
    "axes[0].set_title('Final Filter Estimate AGSI history')\n",
    "axes[1].hist(mle_agsis, color='black')\n",
    "axes[1].set_title('Finale MLE Estimate AGSI history')\n",
    "axes[1].set_xlabel('AGSI [log]')\n",
    "axes[1].set_ylabel('Number of models')\n",
    "axes[0].set_ylabel('Number of models')\n",
    "axes[0].set_xlim([-3.8, -2.5])\n",
    "axes[1].set_xlim([-3.8, -2.5])"
   ]
  },
  {
   "cell_type": "markdown",
   "id": "6d42bc0f-f381-40a9-b0e6-167e012517c8",
   "metadata": {},
   "source": [
    "# Experiment 2\n",
    "\n",
    "Average performance of fast filtering "
   ]
  },
  {
   "cell_type": "code",
   "execution_count": 23,
   "id": "91ce0d95-95aa-4ddd-992e-f28f7ad1f904",
   "metadata": {},
   "outputs": [],
   "source": [
    "def fast_filter_dataset(prior_model, prior_covar, dataset, circ_list, target_preds, jdict, hdict,\n",
    "                   Q_add, R_add, clip_range=[-1, 1],\n",
    "                   max_itr=1, itr_eps=1e-4,\n",
    "                   save_params_and_covars=False, save_prior_innovations=False, save_posterior_innovations=False, save_kgains=False):\n",
    "    \n",
    "    \"\"\"\n",
    "    Approximate (fast) extended filtering of the dataset in the order of the circuit list\n",
    "    \n",
    "    returns:\n",
    "        -post. model\n",
    "        -post. covar\n",
    "        -saved data in order: \n",
    "        ((param_history, covar_history, prior_innovs, post_innovs, kgains)\n",
    "    \"\"\"\n",
    "    param_history = []\n",
    "    covar_history = []\n",
    "    prior_innovs = []\n",
    "    post_innovs = []\n",
    "    kgains = []\n",
    "    \n",
    "    ekf = ExtendedKalmanFilter(prior_model.copy(), prior_covar)\n",
    "    if save_params_and_covars:\n",
    "        param_history.append(prior_model.to_vector())\n",
    "        covar_history.append(prior_covar)\n",
    "    for circ in tqdm(circ_list):\n",
    "        counts = dataset[circ].counts\n",
    "        cvec = vector_from_outcomes(counts, 2**circ.width)\n",
    "        innov, kgain = ekf.update_approx(circ, cvec, target_preds[circ], jdict[circ], hdict[circ], clip_range=clip_range, Q=Q_add, R_additional=R_add, max_itr=max_itr, itr_eps=itr_eps)\n",
    "        if save_prior_innovations:\n",
    "            prior_innovs.append(innov)\n",
    "        if save_kgains:\n",
    "            kgains.append(kgain)\n",
    "        if save_posterior_innovations:\n",
    "            post_predict = vector_from_outcomes(ekf.model.probabilities(circ), 2**circ.width)\n",
    "            post_innov = cvec/sum(cvec) - post_predict\n",
    "            post_innovs.append(post_innov)\n",
    "        if save_params_and_covars:\n",
    "            param_history.append(ekf.model.to_vector())\n",
    "            covar_history.append(ekf.P)\n",
    "    return ekf.model, ekf.P, (param_history, covar_history, prior_innovs, post_innovs, kgains)"
   ]
  },
  {
   "cell_type": "code",
   "execution_count": 31,
   "id": "a147ff88-934d-4a7d-9a7d-732373961029",
   "metadata": {},
   "outputs": [],
   "source": [
    "class ExtendedKalmanFilter():\n",
    "    \"\"\"\n",
    "    An extended Kalman filter for gate-set tomography\n",
    "    \n",
    "    --- Parameters ---\n",
    "    model: an underlying pygsti model\n",
    "    num_params: number of parameters in the pygsti model\n",
    "    P: current covariance matrix\n",
    "    \"\"\"\n",
    "    def __init__(self, model, P0):\n",
    "        self.model = model\n",
    "        self.num_params = len(model.to_vector())\n",
    "        self.P = P0\n",
    "        \n",
    "    def update(self, circ, count_vec, clip_range=[-1,1], Q=None, R_additional=None, max_itr=1, itr_eps=1e-4):\n",
    "        \"\"\"\n",
    "        Makes an exact update to the model\n",
    "        where the jacobian is calculated as the current estimate\n",
    "        \n",
    "        --- Arguments ---\n",
    "        circ: pygsti circuit used in the update\n",
    "        count_vec: vector of observed counts\n",
    "        clip_range: reasonable clipping range for the parameter update\n",
    "        Q: state-space covariance \n",
    "        R_additional: additional measurement covariance\n",
    "        max_itr: maximum number of iterations to the update\n",
    "        itr_eps: epsilon for minimum difference to end iterated updates\n",
    "        \n",
    "        --- Returns --- \n",
    "        innovation: the prior innovation\n",
    "        kgain: the Kalman gain\n",
    "        \"\"\"\n",
    "        prior_covar = self.P\n",
    "        prior_state = self.model.to_vector()\n",
    "        hilbert_dims = 2**(circ.width)\n",
    "        \n",
    "        for itr in range(max_itr):\n",
    "            # find the predicted frequency for the circuit outcome under the model\n",
    "            probs = self.model.probabilities(circ)\n",
    "            p_model = vector_from_outcomes(probs, hilbert_dims)\n",
    "            \n",
    "            # calculate the observed frequency\n",
    "            total_counts = sum(count_vec)\n",
    "            observation = count_vec/total_counts\n",
    "\n",
    "            # calculate jacobian\n",
    "            jacob = matrix_from_jacob(self.model.sim.dprobs(circ), 2**circ.width)\n",
    "\n",
    "            # calculate the covaraiance of the observation\n",
    "            mean_frequency = ( count_vec+np.ones(len(count_vec)) )/( sum(count_vec)+len(count_vec) )\n",
    "            R = (1/(sum(count_vec)+len(count_vec)+1))*categorical_covar(mean_frequency)\n",
    "            \n",
    "            # add any additional noise\n",
    "            if R_additional is not None:\n",
    "                R += R_additional\n",
    "            if Q is None: \n",
    "                Q = 0*np.eye(self.num_params)\n",
    "\n",
    "            # Kalman gain\n",
    "            P = prior_covar + Q\n",
    "            kgain = P@jacob.T@np.linalg.pinv(jacob@P@jacob.T + R, 1e-15)\n",
    "            \n",
    "            # Kalman update\n",
    "            innovation = observation - p_model\n",
    "            post_state = prior_state + kgain@innovation\n",
    "            post_state = np.clip(post_state, clip_range[0], clip_range[1])\n",
    "            \n",
    "            # check if iteration should end\n",
    "            if np.linalg.norm(post_state - prior_state) < itr_eps:\n",
    "                break\n",
    "            else:\n",
    "                prior_state = post_state\n",
    "                self.model.from_vector(post_state)\n",
    "        \n",
    "        # update class parameters\n",
    "        self.P = (np.eye(self.num_params) - kgain@jacob)@P\n",
    "        self.model.from_vector(post_state)\n",
    "        return innovation, kgain \n",
    "            \n",
    "    def update_approx(self, circ, count_vec, p0, jac0, hess0, clip_range, max_itr=1, itr_eps=1e-4, Q=None, R_additional=None):\n",
    "        \"\"\"\n",
    "        Makes an approximate update to the model\n",
    "        where the jacobian is approximated\n",
    "        \n",
    "        --- Arguments ---\n",
    "        circ: pygsti circuit used in the update\n",
    "        count_vec: vector of observed counts\n",
    "        p0: target model prediction\n",
    "        jac0: target model jacobian\n",
    "        hess0: target model hessian\n",
    "        clip_range: reasonable clipping range for the parameter update\n",
    "        Q: state-space covariance \n",
    "        R_additional: additional measurement covariance\n",
    "        max_itr: maximum number of iterations to the update\n",
    "        itr_eps: epsilon for minimum difference to end iterated updates\n",
    "        \n",
    "        --- Returns --- \n",
    "        innov: the innovation\n",
    "        kgain: the Kalman gain\n",
    "        \"\"\"\n",
    "        prior_covar = self.P\n",
    "        prior_state = self.model.to_vector()\n",
    "        hilbert_dims = 2**(circ.width)\n",
    "        \n",
    "        for itr in range(max_itr):\n",
    "            # approximate predicted frequency for the circuit outcome under the model\n",
    "            #p_model = p0 + jac0@prior_state + hess0@prior_state@prior_state\n",
    "            p_model = vector_from_outcomes(model.probabilities(circ), 2**circ.width)\n",
    "            \n",
    "            # approximate the jacobian at the current estimate\n",
    "            jacob = jac0 + hess0@prior_state\n",
    "            \n",
    "            # calculate the observed frequency\n",
    "            total_counts = sum(count_vec)\n",
    "            observation = count_vec/total_counts\n",
    "\n",
    "            # calculate the covaraiance of the observation\n",
    "            mean_frequency = ( count_vec+np.ones(len(count_vec)) )/( sum(count_vec)+len(count_vec) )\n",
    "            R = (1/(sum(count_vec)+len(count_vec)+1))*categorical_covar(mean_frequency)\n",
    "            \n",
    "            # add any additional noise\n",
    "            if R_additional is not None:\n",
    "                R += R_additional\n",
    "            if Q is None: \n",
    "                Q = 0*np.eye(self.num_params)\n",
    "\n",
    "            # Kalman gain\n",
    "            P = prior_covar + Q\n",
    "            kgain = P@jacob.T@np.linalg.pinv(jacob@P@jacob.T + R, 1e-15)\n",
    "            \n",
    "            # Kalman update\n",
    "            innovation = observation - p_model\n",
    "            post_state = prior_state + kgain@innovation\n",
    "            post_state = np.clip(post_state, clip_range[0], clip_range[1])\n",
    "            \n",
    "            # check if iteration should end\n",
    "            if np.linalg.norm(post_state - prior_state) < itr_eps:\n",
    "                break\n",
    "            else:\n",
    "                prior_state = post_state\n",
    "                self.model.from_vector(post_state)\n",
    "        \n",
    "        # update class parameters\n",
    "        self.P = (np.eye(self.num_params) - kgain@jacob)@P\n",
    "        self.model.from_vector(post_state)\n",
    "        return innovation, kgain"
   ]
  },
  {
   "cell_type": "code",
   "execution_count": 26,
   "id": "a02f7ced-c2e6-414e-833d-a80ed91be911",
   "metadata": {},
   "outputs": [],
   "source": [
    "# load the model jacobians and hessians and calculate target model predictions\n",
    "# run \"modelmat_calc.py\" if you dont have the saved model matrices\n",
    "jdict = load_dict('smq1Q_XYI_jacs')\n",
    "hdict = load_dict('smq1Q_XYI_hess')\n",
    "target_preds = dict()\n",
    "for circ_list in maxlength_edesign.circuit_lists:\n",
    "    for circ in circ_list:\n",
    "        target_preds[circ] = vector_from_outcomes(target_model.probabilities(circ), 2**circ.width)"
   ]
  },
  {
   "cell_type": "code",
   "execution_count": 36,
   "id": "f17acbe9-4607-442d-9441-a297881c7739",
   "metadata": {},
   "outputs": [
    {
     "name": "stderr",
     "output_type": "stream",
     "text": [
      "100%|█████████████████████████████████████████████████████████████████████████████████████████████████████████████████████████████████████████████████████████████████████████████████████████████████████| 448/448 [00:02<00:00, 165.69it/s]\n",
      "100%|█████████████████████████████████████████████████████████████████████████████████████████████████████████████████████████████████████████████████████████████████████████████████████████████████████| 448/448 [00:02<00:00, 166.80it/s]\n",
      "100%|█████████████████████████████████████████████████████████████████████████████████████████████████████████████████████████████████████████████████████████████████████████████████████████████████████| 448/448 [00:02<00:00, 163.92it/s]\n"
     ]
    }
   ],
   "source": [
    "# make batched fast filter estimates for all the random models\n",
    "num_samples = 256\n",
    "maxLengths = [1,2,4,8]\n",
    "prior_model = target_model # start at the target \n",
    "prior_covar = 0.01*np.eye(prior_model.num_params) # set the prior covar\n",
    "\n",
    "list_of_fast_params_lists = []\n",
    "list_of_fast_covars_lists = []\n",
    "\n",
    "for idx, model in enumerate(noise_model_list):\n",
    "    circ_list = maxlength_edesign.circuit_lists[-1]\n",
    "    prior_model = mle_estimates_history[idx][0]\n",
    "    post_model, post_covar, saved_data = fast_filter_dataset(prior_model, prior_covar, datasets[idx], circ_list, target_preds, jdict, hdict,\n",
    "                   None, None, clip_range=[-1, 1],\n",
    "                   max_itr=1, itr_eps=1e-4,\n",
    "                   save_params_and_covars=True, save_prior_innovations=False, save_posterior_innovations=False, save_kgains=False)\n",
    "    vector_history = saved_data[0]\n",
    "    covar_history = saved_data[1]\n",
    "    list_of_fast_params_lists.append(vector_history)\n",
    "    list_of_fast_covars_lists.append(covar_history)"
   ]
  },
  {
   "cell_type": "code",
   "execution_count": 37,
   "id": "456ebb9b-cc32-4bc7-8a2e-5be396ce9f67",
   "metadata": {},
   "outputs": [],
   "source": [
    "# make average performance plot over all the fast runs\n",
    "fig, axes = plt.subplots(nrows=1, ncols=1)\n",
    "fiducial_model = target_model.copy()\n",
    "plt_spacing = 1\n",
    "\n",
    "axes.set_ylim(-4, 0)\n",
    "\n",
    "mle_mserrors = []\n",
    "\n",
    "mse_points = {idx: [] for idx in range(num_noise_models)}\n",
    "\n",
    "num_circs = len(list_of_model_lists[0])\n",
    "\n",
    "for batch_idx, mle_estimate_set in enumerate(mle_estimates_history):\n",
    "    for idx, estimate in enumerate(mle_estimate_set):\n",
    "        mle_mserror = np.log10( mserror(estimate, noise_model_list[batch_idx]) )\n",
    "        mle_mserrors.append(mle_mserror)\n",
    "        mle_lines, = axes.plot(germ_length_ranges[idx], (mle_mserror, mle_mserror), alpha=0.4, c='blue', lw=2)\n",
    "        \n",
    "for idx in range(num_noise_models):\n",
    "    for id_model, model_vector in enumerate(list_of_fast_params_lists[idx]):\n",
    "        if id_model % plt_spacing == 0:\n",
    "            fiducial_model.from_vector(model_vector)\n",
    "            mse_points[idx].append(np.log10(mserror(fiducial_model, noise_model_list[idx])))\n",
    "            #agsi_points[idx].append(np.log10(avg_gs_infidelity(fiducial_model, noise_model_list[idx])))\n",
    "\n",
    "for idx in range(len(mse_points)):\n",
    "    filter_lines, = axes.plot(range(0, num_circs, plt_spacing), mse_points[idx], alpha=0.7, c='black')\n",
    "\n",
    "axes.set_title('MSE between estimate and datagen')\n",
    "axes.legend([filter_lines, mle_lines], ['Filter Estimate', 'Batched MLE Estimates'])\n",
    "\n",
    "axes.set_ylabel('MSE [log]')\n",
    "axes.set_xlabel('Circuit Index')\n",
    "\n",
    "plt.show()"
   ]
  },
  {
   "cell_type": "markdown",
   "id": "cbd979f9-b18c-49fa-ab0e-0acfeef57fa0",
   "metadata": {
    "tags": []
   },
   "source": [
    "# Experiment 3\n",
    "\n",
    "Posterior Fit Performance compared with CPTP model"
   ]
  },
  {
   "cell_type": "code",
   "execution_count": 67,
   "id": "121c345f-01ab-4cb7-8bab-026bb51b6a2c",
   "metadata": {},
   "outputs": [],
   "source": [
    "from scipy.stats import multinomial\n",
    "\n",
    "def experimental_loglikelihood(circuit_list, dataset, model):\n",
    "    \"\"\"\n",
    "    multinomial likelihood of observations under the given model \n",
    "    \n",
    "    assumes all the circuits have the same number of qubits\n",
    "    \"\"\"\n",
    "    hdims = 2**circuit_list[0].width\n",
    "    count_matrix = np.zeros([0, hdims])\n",
    "    pmat = np.zeros([0, hdims])\n",
    "    for idx, circ in enumerate(circuit_list):\n",
    "        count_vec = vector_from_outcomes(dataset[circ].counts, hdims)\n",
    "        count_matrix = np.vstack([count_matrix, count_vec])\n",
    "        p_model = vector_from_outcomes(model.probabilities(circ), hdims)\n",
    "        pmat = np.vstack([pmat, p_model])\n",
    "    return sum(multinomial.logpmf(count_matrix, sum(count_matrix[0, :]), pmat))\n",
    "\n",
    "def max_loglikelihood(circuit_list, dataset):\n",
    "    \"\"\"\n",
    "    max loglikelihood \n",
    "    \"\"\"\n",
    "    hdims = 2**circuit_list[0].width\n",
    "    count_matrix = np.zeros([0, hdims])\n",
    "    pmat = np.zeros([0, hdims])\n",
    "    for idx, circ in enumerate(circuit_list):\n",
    "        count_vec = vector_from_outcomes(dataset[circ].counts, hdims)\n",
    "        count_matrix = np.vstack([count_matrix, count_vec])\n",
    "        frequency = count_vec/sum(count_vec)\n",
    "        pmat = np.vstack([pmat, frequency])\n",
    "    return sum(multinomial.logpmf(count_matrix, sum(count_matrix[0, :]), pmat))"
   ]
  },
  {
   "cell_type": "code",
   "execution_count": 86,
   "id": "081c64d7-1cd4-481e-8a8d-a3341ca57efc",
   "metadata": {},
   "outputs": [],
   "source": [
    "cptp_target = std.target_model('CPTP')"
   ]
  },
  {
   "cell_type": "code",
   "execution_count": 87,
   "id": "826e3775-9dae-41a3-b6da-19a9aa58fcbe",
   "metadata": {},
   "outputs": [],
   "source": [
    "# setup the datagen model\n",
    "max_fogi_error_rate = 0.12\n",
    "mdl_datagen = std.target_model('H+s')\n",
    "basis1q = pygsti.baseobjs.Basis.cast('pp', 4)\n",
    "gauge_basis = pygsti.baseobjs.CompleteElementaryErrorgenBasis(\n",
    "                        basis1q, mdl_datagen.state_space, elementary_errorgen_types='HS')\n",
    "mdl_datagen.setup_fogi(gauge_basis, None, None, reparameterize=True,\n",
    "                     dependent_fogi_action='drop', include_spam=True)\n",
    "ar = mdl_datagen.fogi_errorgen_components_array(include_fogv=False, normalized_elem_gens=True)\n",
    "fogi_target_model = mdl_datagen.copy()\n",
    "np.random.seed(SEED)\n",
    "ar = max_fogi_error_rate * np.random.rand(len(ar))\n",
    "mdl_datagen.set_fogi_errorgen_components_array(ar, include_fogv=False, normalized_elem_gens=True)"
   ]
  },
  {
   "cell_type": "code",
   "execution_count": 88,
   "id": "e532a6ea-4dba-4260-aa2f-2b21933577d4",
   "metadata": {},
   "outputs": [
    {
     "data": {
      "text/plain": [
       "0.11770128705202798"
      ]
     },
     "execution_count": 88,
     "metadata": {},
     "output_type": "execute_result"
    }
   ],
   "source": [
    "avg_gs_infidelity(mdl_datagen, fogi_target_model)"
   ]
  },
  {
   "cell_type": "code",
   "execution_count": 89,
   "id": "323618b0-ae81-4cb4-a596-a07643286d0d",
   "metadata": {},
   "outputs": [],
   "source": [
    "# make an edesign and simulate the data\n",
    "maxLengths = [1,2,4]\n",
    "maxlength_edesign = pygsti.protocols.StandardGSTDesign(cptp_target, std.prep_fiducials(), std.meas_fiducials(),\n",
    "                                                std.germs(), maxLengths)\n",
    "dataset = pygsti.data.simulate_data(mdl_datagen, maxlength_edesign, SAMPLES, seed=SEED) #, sample_error='none')"
   ]
  },
  {
   "cell_type": "code",
   "execution_count": 90,
   "id": "54c686f2-7974-4aa9-81bd-84c5c866ae64",
   "metadata": {},
   "outputs": [
    {
     "name": "stdout",
     "output_type": "stream",
     "text": [
      "--- Iterative GST: [##################################################] 100.0%  92 circuits ---\n",
      "Iterative GST Total Time: 3.1s\n",
      "--- Iterative GST: [##################################################] 100.0%  168 circuits ---\n",
      "Iterative GST Total Time: 6.3s\n",
      "--- Iterative GST: [##################################################] 100.0%  285 circuits ---\n",
      "Iterative GST Total Time: 7.8s\n"
     ]
    }
   ],
   "source": [
    "cptp_mle_estimates, edesigns = make_mle_estimates(dataset, std, cptp_target, maxLengths)"
   ]
  },
  {
   "cell_type": "code",
   "execution_count": 91,
   "id": "c783c71f-6e5c-45fd-b028-d1a41eca95af",
   "metadata": {},
   "outputs": [],
   "source": [
    "prior_cptp_covar = 0.1*np.eye(cptp_target.num_params)"
   ]
  },
  {
   "cell_type": "code",
   "execution_count": 93,
   "id": "f5a5596f-95e7-4173-b8e9-089a04642a19",
   "metadata": {},
   "outputs": [
    {
     "name": "stderr",
     "output_type": "stream",
     "text": [
      "100%|██████████████████████████████████████████████████████████████████████████████████████████████████████████████████████████████████████████████████████████████████████████████████████████████████████| 285/285 [00:22<00:00, 12.58it/s]\n"
     ]
    }
   ],
   "source": [
    "post_cptp_mle1seed, cptp_mle1_covar, saved_data = filter_dataset(cptp_mle_estimates[0], prior_cptp_covar, dataset, maxlength_edesign.circuit_lists[-1], \n",
    "                   None, None, clip_range=[-1, 1],\n",
    "                   max_itr=1, itr_eps=1e-4,\n",
    "                   save_params_and_covars=True, save_prior_innovations=False, save_posterior_innovations=False, save_kgains=False)"
   ]
  },
  {
   "cell_type": "code",
   "execution_count": 94,
   "id": "76dde599-40ba-4fa4-a003-339979ccd6c0",
   "metadata": {},
   "outputs": [
    {
     "name": "stderr",
     "output_type": "stream",
     "text": [
      "100%|██████████████████████████████████████████████████████████████████████████████████████████████████████████████████████████████████████████████████████████████████████████████████████████████████████| 285/285 [00:25<00:00, 11.28it/s]\n"
     ]
    }
   ],
   "source": [
    "post_cptp_targetseed, cptp_targetseed_covar, saved_data = filter_dataset(cptp_target, prior_cptp_covar, dataset, maxlength_edesign.circuit_lists[-1], \n",
    "                   None, None, clip_range=[-1, 1],\n",
    "                   max_itr=1, itr_eps=1e-4,\n",
    "                   save_params_and_covars=True, save_prior_innovations=False, save_posterior_innovations=False, save_kgains=False)"
   ]
  },
  {
   "cell_type": "code",
   "execution_count": 95,
   "id": "12c42a1c-4a5d-4977-968d-3342a0a385de",
   "metadata": {},
   "outputs": [
    {
     "data": {
      "text/plain": [
       "-847.0902220850269"
      ]
     },
     "execution_count": 95,
     "metadata": {},
     "output_type": "execute_result"
    }
   ],
   "source": [
    "max_loglikelihood(maxlength_edesign.circuit_lists[-1], dataset)"
   ]
  },
  {
   "cell_type": "code",
   "execution_count": 96,
   "id": "7d127f53-7b74-485f-9fa3-20b267d6a53e",
   "metadata": {},
   "outputs": [
    {
     "data": {
      "text/plain": [
       "-999.9591684826103"
      ]
     },
     "execution_count": 96,
     "metadata": {},
     "output_type": "execute_result"
    }
   ],
   "source": [
    "experimental_loglikelihood(maxlength_edesign.circuit_lists[-1], dataset, cptp_mle_estimates[0])"
   ]
  },
  {
   "cell_type": "code",
   "execution_count": 97,
   "id": "c77815e9-874a-42be-8cfa-41213794672a",
   "metadata": {},
   "outputs": [
    {
     "data": {
      "text/plain": [
       "-971.311268200813"
      ]
     },
     "execution_count": 97,
     "metadata": {},
     "output_type": "execute_result"
    }
   ],
   "source": [
    "experimental_loglikelihood(maxlength_edesign.circuit_lists[-1], dataset, cptp_mle_estimates[-1])"
   ]
  },
  {
   "cell_type": "code",
   "execution_count": 98,
   "id": "47b66876-82a9-4b3d-afd4-4865448655a8",
   "metadata": {},
   "outputs": [
    {
     "data": {
      "text/plain": [
       "-2404.615271471128"
      ]
     },
     "execution_count": 98,
     "metadata": {},
     "output_type": "execute_result"
    }
   ],
   "source": [
    "experimental_loglikelihood(maxlength_edesign.circuit_lists[-1], dataset, cptp_zero_ekf.model)"
   ]
  },
  {
   "cell_type": "code",
   "execution_count": 99,
   "id": "9c655fdb-3eca-4659-8afe-c8703638ac6d",
   "metadata": {},
   "outputs": [
    {
     "data": {
      "text/plain": [
       "-971.329735215731"
      ]
     },
     "execution_count": 99,
     "metadata": {},
     "output_type": "execute_result"
    }
   ],
   "source": [
    "experimental_loglikelihood(maxlength_edesign.circuit_lists[-1], dataset, cptp_mle1_ekf.model)"
   ]
  },
  {
   "cell_type": "code",
   "execution_count": 100,
   "id": "81d215ca-5ee7-4789-a614-96e28c7b644e",
   "metadata": {},
   "outputs": [
    {
     "name": "stdout",
     "output_type": "stream",
     "text": [
      "--- Iterative GST: [##################################################] 100.0%  92 circuits ---\n",
      "Iterative GST Total Time: 0.7s\n",
      "--- Iterative GST: [##################################################] 100.0%  168 circuits ---\n",
      "Iterative GST Total Time: 0.8s\n",
      "--- Iterative GST: [##################################################] 100.0%  285 circuits ---\n",
      "Iterative GST Total Time: 1.2s\n"
     ]
    }
   ],
   "source": [
    "fogi_mle_estimates, edesigns = make_mle_estimates(dataset, std, fogi_target_model, maxLengths)"
   ]
  },
  {
   "cell_type": "code",
   "execution_count": 103,
   "id": "e0058f09-adb7-4ed5-9dd4-908cbeb40992",
   "metadata": {},
   "outputs": [],
   "source": [
    "prior_fogi_covar = 0.1*np.eye(fogi_target_model.num_params)"
   ]
  },
  {
   "cell_type": "code",
   "execution_count": 111,
   "id": "c7afc1d3-9f95-4a7c-a041-5d121bbceda7",
   "metadata": {},
   "outputs": [
    {
     "name": "stderr",
     "output_type": "stream",
     "text": [
      "100%|██████████████████████████████████████████████████████████████████████████████████████████████████████████████████████████████████████████████████████████████████████████████████████████████████████| 285/285 [00:13<00:00, 21.09it/s]\n"
     ]
    }
   ],
   "source": [
    "post_fogi_mle1seed, mle1_covar, saved_data = filter_dataset(fogi_mle_estimates[0], prior_fogi_covar, dataset, maxlength_edesign.circuit_lists[-1], \n",
    "                   None, None, clip_range=[-1, 1],\n",
    "                   max_itr=1, itr_eps=1e-4,\n",
    "                   save_params_and_covars=True, save_prior_innovations=False, save_posterior_innovations=False, save_kgains=False)"
   ]
  },
  {
   "cell_type": "code",
   "execution_count": 105,
   "id": "b46320e4-af2f-4a67-a3fb-c2531f4490eb",
   "metadata": {},
   "outputs": [
    {
     "name": "stderr",
     "output_type": "stream",
     "text": [
      "100%|██████████████████████████████████████████████████████████████████████████████████████████████████████████████████████████████████████████████████████████████████████████████████████████████████████| 285/285 [00:13<00:00, 21.09it/s]\n"
     ]
    }
   ],
   "source": [
    "post_fogi_targetseed, targetseed_covar, saved_data = filter_dataset(fogi_target_model, prior_fogi_covar, dataset, maxlength_edesign.circuit_lists[-1], \n",
    "                   None, None, clip_range=[-1, 1],\n",
    "                   max_itr=1, itr_eps=1e-4,\n",
    "                   save_params_and_covars=True, save_prior_innovations=False, save_posterior_innovations=False, save_kgains=False)"
   ]
  },
  {
   "cell_type": "code",
   "execution_count": 112,
   "id": "76035d98-6819-4931-9bc0-ca7e5b362a80",
   "metadata": {},
   "outputs": [
    {
     "data": {
      "text/plain": [
       "-847.0902220850269"
      ]
     },
     "execution_count": 112,
     "metadata": {},
     "output_type": "execute_result"
    }
   ],
   "source": [
    "max_loglikelihood(maxlength_edesign.circuit_lists[-1], dataset)"
   ]
  },
  {
   "cell_type": "code",
   "execution_count": 113,
   "id": "232ba677-c28a-40a8-8a4c-3af62197bfa8",
   "metadata": {},
   "outputs": [
    {
     "data": {
      "text/plain": [
       "-994.3977133457206"
      ]
     },
     "execution_count": 113,
     "metadata": {},
     "output_type": "execute_result"
    }
   ],
   "source": [
    "experimental_loglikelihood(maxlength_edesign.circuit_lists[-1], dataset, fogi_mle_estimates[0])"
   ]
  },
  {
   "cell_type": "code",
   "execution_count": 114,
   "id": "a4e0cc88-92c7-4af3-8fe4-0d5b2240cf42",
   "metadata": {},
   "outputs": [
    {
     "data": {
      "text/plain": [
       "-976.8536459996624"
      ]
     },
     "execution_count": 114,
     "metadata": {},
     "output_type": "execute_result"
    }
   ],
   "source": [
    "experimental_loglikelihood(maxlength_edesign.circuit_lists[-1], dataset, fogi_mle_estimates[-1])"
   ]
  },
  {
   "cell_type": "code",
   "execution_count": 115,
   "id": "c9f9fcfc-aafa-487b-9a9a-b91b061c8a5f",
   "metadata": {},
   "outputs": [
    {
     "data": {
      "text/plain": [
       "-977.3734515824826"
      ]
     },
     "execution_count": 115,
     "metadata": {},
     "output_type": "execute_result"
    }
   ],
   "source": [
    "experimental_loglikelihood(maxlength_edesign.circuit_lists[-1], dataset, post_fogi_mle1seed)"
   ]
  },
  {
   "cell_type": "code",
   "execution_count": 117,
   "id": "31efd315-465d-432f-9f13-1f4785ce883b",
   "metadata": {},
   "outputs": [
    {
     "data": {
      "text/plain": [
       "-977.0866225452755"
      ]
     },
     "execution_count": 117,
     "metadata": {},
     "output_type": "execute_result"
    }
   ],
   "source": [
    "experimental_loglikelihood(maxlength_edesign.circuit_lists[-1], dataset, post_fogi_targetseed)"
   ]
  },
  {
   "cell_type": "code",
   "execution_count": null,
   "id": "331bb8f7-7d21-4756-8703-1e33bcd12385",
   "metadata": {},
   "outputs": [],
   "source": []
  },
  {
   "cell_type": "code",
   "execution_count": null,
   "id": "05f39c90-ecf6-4892-a901-c090001d3ed8",
   "metadata": {},
   "outputs": [],
   "source": [
    "log_likelihoods = ["
   ]
  },
  {
   "cell_type": "code",
   "execution_count": 86,
   "id": "0e582a65-556c-4f51-8499-7d24568da40c",
   "metadata": {},
   "outputs": [],
   "source": [
    "def plot_covar_evals(covar_dict):\n",
    "    evals = []\n",
    "    for c in range(num_circs):\n",
    "        circ_eval, _ = np.linalg.eig(covar_dict[c])\n",
    "        evals.append(circ_eval)\n",
    "    plt.matshow(abs(np.array(evals).T))\n",
    "    \n",
    "def plot_covar_svals(covar_dict):\n",
    "    svals = []\n",
    "    for c in range(num_circs):\n",
    "        _, circ_sval, _ = np.linalg.svd(covar_dict[c])\n",
    "        svals.append(circ_sval)\n",
    "    plt.matshow(abs(np.array(svals).T))"
   ]
  },
  {
   "cell_type": "code",
   "execution_count": 87,
   "id": "503b0115-273e-4533-97e2-4b7dafb68173",
   "metadata": {},
   "outputs": [
    {
     "data": {
      "image/png": "[encoded data removed]",
      "text/plain": [
       "<Figure size 1152x144 with 1 Axes>"
      ]
     },
     "metadata": {
      "needs_background": "light"
     },
     "output_type": "display_data"
    }
   ],
   "source": [
    "plot_covar_evals(mle1_covars)"
   ]
  },
  {
   "cell_type": "code",
   "execution_count": 88,
   "id": "5d7f76e5-0786-4464-a4bd-09bf95793924",
   "metadata": {},
   "outputs": [
    {
     "data": {
      "image/png": "[encoded data removed]",
      "text/plain": [
       "<Figure size 1152x144 with 1 Axes>"
      ]
     },
     "metadata": {
      "needs_background": "light"
     },
     "output_type": "display_data"
    }
   ],
   "source": [
    "plot_covar_svals(mle1_covars)"
   ]
  },
  {
   "cell_type": "code",
   "execution_count": 91,
   "id": "815a7a1c-da52-486f-869b-807e1d379fe7",
   "metadata": {},
   "outputs": [
    {
     "data": {
      "image/png": "[encoded data removed]",
      "text/plain": [
       "<Figure size 1152x144 with 1 Axes>"
      ]
     },
     "metadata": {
      "needs_background": "light"
     },
     "output_type": "display_data"
    }
   ],
   "source": [
    "plot_covar_evals(cptp_mle1_covars)"
   ]
  },
  {
   "cell_type": "code",
   "execution_count": 92,
   "id": "d357d211-3e07-4508-9711-4cfb5c55d879",
   "metadata": {},
   "outputs": [
    {
     "data": {
      "image/png": "[encoded data removed]",
      "text/plain": [
       "<Figure size 1152x144 with 1 Axes>"
      ]
     },
     "metadata": {
      "needs_background": "light"
     },
     "output_type": "display_data"
    }
   ],
   "source": [
    "plot_covar_svals(cptp_mle1_covars)"
   ]
  },
  {
   "cell_type": "code",
   "execution_count": null,
   "id": "1feebcd3-d322-47a0-a0a5-8ca3d6779b65",
   "metadata": {},
   "outputs": [],
   "source": [
    "ar = mdl_datagen.fogi_errorgen_components_array(include_fogv=False, normalized_elem_gens=True)\n",
    "datagen_models = []\n",
    "estimates = []\n",
    "data_sets = []\n",
    "edesign_sets = []\n",
    "for e in error_strengths:\n",
    "    ar = e * np.random.rand(len(ar))\n",
    "    mdl_datagen.set_fogi_errorgen_components_array(ar, include_fogv=False, normalized_elem_gens=True)\n",
    "    datagen_models.append(mdl_datagen.copy())\n",
    "    est, ds, edesigns = make_mle_estimates(mdl_datagen, target_model, [1, 2, 4, 8, 16], samples)\n",
    "    estimates.append(est)\n",
    "    data_sets.append(ds)\n",
    "    edesign_sets.append(edesigns)"
   ]
  },
  {
   "cell_type": "code",
   "execution_count": 10,
   "id": "b4d0253f-60a5-44ed-914e-5ce43ed5505d",
   "metadata": {},
   "outputs": [],
   "source": [
    "def random_hs_fogi_model(max_error_rate, hs_target_model):\n",
    "    output_model = hs_target_model.copy()\n",
    "    basis1q = pygsti.baseobjs.Basis.cast('pp', 4)\n",
    "    gauge_basis = pygsti.baseobjs.CompleteElementaryErrorgenBasis(\n",
    "                        basis1q, hs_target_model.state_space, elementary_errorgen_types='HS')\n",
    "    output_model.setup_fogi(gauge_basis, None, None, reparameterize=True,\n",
    "                     dependent_fogi_action='drop', include_spam=True)\n",
    "    target_model = output_model.copy()\n",
    "    ar = output_model.fogi_errorgen_components_array(include_fogv=False, normalized_elem_gens=True)\n",
    "    np.random.seed()\n",
    "    ar = max_error_rate * np.random.rand(len(ar))\n",
    "    output_model.set_fogi_errorgen_components_array(ar, include_fogv=False, normalized_elem_gens=True)\n",
    "    return output_model, target_model"
   ]
  }
 ],
 "metadata": {
  "kernelspec": {
   "display_name": "Python 3 (ipykernel)",
   "language": "python",
   "name": "python3"
  },
  "language_info": {
   "codemirror_mode": {
    "name": "ipython",
    "version": 3
   },
   "file_extension": ".py",
   "mimetype": "text/x-python",
   "name": "python",
   "nbconvert_exporter": "python",
   "pygments_lexer": "ipython3",
   "version": "3.10.4"
  }
 },
 "nbformat": 4,
 "nbformat_minor": 5
}
