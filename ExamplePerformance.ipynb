{
 "cells": [
  {
   "cell_type": "code",
   "execution_count": 1,
   "id": "f817106e-9e5c-4373-a7f2-4e780dc48567",
   "metadata": {},
   "outputs": [],
   "source": [
    "import numpy as np\n",
    "import pygsti as pig\n",
    "import matplotlib.pyplot as plt\n",
    "import random\n",
    "import time\n",
    "import pandas\n",
    "from scipy.linalg import expm, sqrtm\n",
    "from tqdm import tqdm\n",
    "# from qutip import *\n",
    "\n",
    "from pygsti.modelmembers.operations import LindbladErrorgen as _LinbladErrorgen\n",
    "from pygsti.modelmembers.operations import EmbeddedErrorgen as _EmbeddedErrorgen\n",
    "from pygsti.modelmembers.operations import ExpErrorgenOp as _ExpErrorgenOp\n",
    "from pygsti.modelmembers.operations import ComposedOp as _ComposedOp\n",
    "import  pygsti.modelmembers as _mdmb\n",
    "import pygsti.processors as _proc\n",
    "\n",
    "from pygsti.tools import pdftools as _pdftools\n",
    "\n",
    "from pygsti.circuits.gstcircuits import create_lsgst_circuits\n",
    "\n",
    "from pygsti.models.memberdict import OrderedMemberDict as _OrderedMemberDict\n",
    "from pygsti.baseobjs.label import Label as _Label, CircuitLabel as _CircuitLabel\n",
    "from pygsti.circuits import Circuit\n",
    "import pygsti.circuits as _circ\n",
    "import pygsti.models as _mdl\n",
    "from pygsti.modelmembers import operations as _op"
   ]
  },
  {
   "cell_type": "code",
   "execution_count": 2,
   "id": "2a2bc053-b8b6-4f27-a87d-88ba1931b4c9",
   "metadata": {},
   "outputs": [],
   "source": [
    "def random_circuit(depth, proc_spec):\n",
    "    \"\"\"\n",
    "    works for any 1-qubit model pack and the XYZICnot 2-qubit pack\n",
    "    \"\"\"\n",
    "    layers = []\n",
    "    for i in range(depth):\n",
    "        gate = random.choice(proc_spec.gate_names)\n",
    "        if gate == '(idle)':\n",
    "            pass\n",
    "        elif gate == 'Gcnot':\n",
    "            layers.append((gate, 0, 1))\n",
    "        else:\n",
    "            layers.append((gate, random.choice(proc_spec.qubit_labels)))\n",
    "    return Circuit(layers, proc_spec.qubit_labels)"
   ]
  },
  {
   "cell_type": "code",
   "execution_count": 3,
   "id": "7644c968-234f-4b95-bf83-5c92caec862b",
   "metadata": {},
   "outputs": [],
   "source": [
    "def vector_from_outcomes(outcomes, num_outcomes):\n",
    "    vecout = np.zeros((num_outcomes))\n",
    "    for key in outcomes.keys():\n",
    "        vecout[int(key[0], 2)] = outcomes[key]\n",
    "    return(vecout)\n",
    "\n",
    "def matrix_from_jacob(jacob, num_outcomes):\n",
    "    matout = np.zeros((num_outcomes, len(jacob['0'*int(np.log2(num_outcomes))])))\n",
    "    for key in jacob.keys():\n",
    "        matout[int(key[0], 2), :] = np.array(jacob[key])\n",
    "    return matout\n",
    "\n",
    "def tensor_from_hessian(hessian, hilbert_dims):\n",
    "    \"\"\"\n",
    "    returns a 3d-array that when dotted into the state returns the jacobian \n",
    "    \"\"\"\n",
    "    num_params = len(hessian['0'*int(np.log2(hilbert_dims))])\n",
    "    tensor_out = np.zeros((hilbert_dims, num_params, num_params))\n",
    "    for key in hessian.keys():\n",
    "        tensor_out[int(key[0], 2), :, :] = hessian[key]\n",
    "    return tensor_out"
   ]
  },
  {
   "cell_type": "code",
   "execution_count": 4,
   "id": "67361f00-77ee-4119-b503-6b3410ed15ba",
   "metadata": {},
   "outputs": [],
   "source": [
    "def compare_models(true_model, model1, model2, circuit_list, name1='x', name2='y'):\n",
    "    distribution1 = []\n",
    "    distribution2 = []\n",
    "    mx = 0\n",
    "    for idx, circ in enumerate(circuit_list): \n",
    "        hilbert_dims = 2**circ.width\n",
    "        true_outcomes = true_model.probabilities(circ)\n",
    "        outcome_set1 = model1.probabilities(circ)\n",
    "        outcome_set2 = model2.probabilities(circ)\n",
    "        dist1 = _pdftools.tvd(true_outcomes, outcome_set1)\n",
    "        dist2 = _pdftools.tvd(true_outcomes, outcome_set2)\n",
    "        if dist1 > mx:\n",
    "            mx = dist1\n",
    "        if dist2 > mx: \n",
    "            mx = dist2\n",
    "        vtrue = vector_from_outcomes(true_outcomes, hilbert_dims)\n",
    "        v1 = vector_from_outcomes(outcome_set1, hilbert_dims)\n",
    "        v2 = vector_from_outcomes(outcome_set2, hilbert_dims)\n",
    "        distribution1.append(vtrue - v1)\n",
    "        distribution2.append(vtrue - v2)\n",
    "        plt.scatter(dist1, dist2, s=75, c='black')\n",
    "    plt.xlabel(name1)\n",
    "    plt.ylabel(name2)\n",
    "    plt.plot((0, mx), (0, mx), c='black')\n",
    "    plt.show()\n",
    "    return (distribution1, distribution2)"
   ]
  },
  {
   "cell_type": "code",
   "execution_count": 5,
   "id": "6926a4e6-106a-4210-8333-279b3a836c91",
   "metadata": {},
   "outputs": [],
   "source": [
    "def calculate_jacobs(circ_list, model):\n",
    "    jacobs = {}\n",
    "    for circ in circ_list:\n",
    "        hilbert_dims = 2**circ.width\n",
    "        jacobs[circ] = matrix_from_jacob(model.sim.dprobs(circ), hilbert_dims)\n",
    "    return jacobs"
   ]
  },
  {
   "cell_type": "code",
   "execution_count": 6,
   "id": "9e5e4d7d-d147-46ac-80a2-2b5d14ee0e58",
   "metadata": {},
   "outputs": [],
   "source": [
    "from pygsti.processors import CliffordCompilationRules as CCR\n",
    "\n",
    "def make_rb_param(noise_model, model_pack, length_powers=5, circuits_at_length=10):\n",
    "    pspec = model_pack.processor_spec()\n",
    "    \n",
    "    depths = [2**i for i in range(length_powers)]\n",
    "    \n",
    "    compilations = {'absolute': CCR.create_standard(pspec, 'absolute', ('paulis', '1Qcliffords'), verbosity=0),            \n",
    "                'paulieq': CCR.create_standard(pspec, 'paulieq', ('1Qcliffords', 'allcnots'), verbosity=0)}\n",
    "\n",
    "    design = pig.protocols.DirectRBDesign(model_pack.processor_spec(), compilations, depths, circuits_at_length, qubit_labels=model_pack.processor_spec().qubit_labels, sampler='edgegrab', \n",
    "                                           samplerargs=[0.5], randomizeout=True,\n",
    "                                           citerations=20)\n",
    "    pig.io.write_empty_protocol_data(design, 'RB_Data', clobber_ok=True)\n",
    "    pig.io.fill_in_empty_dataset_with_fake_data(noise_model, 'RB_Data/data/dataset.txt', num_samples=1000)\n",
    "    data = pig.io.load_data_from_dir('RB_Data')\n",
    "    protocol = pig.protocols.RB()\n",
    "    results = protocol.run(data)\n",
    "    return (results.fits['full'].estimates['r'], data)"
   ]
  },
  {
   "cell_type": "code",
   "execution_count": 7,
   "id": "0382688d-087a-4a75-8010-6f528b651f41",
   "metadata": {},
   "outputs": [],
   "source": [
    "def make_dirichlet_covar(counts, hilbert_dims):\n",
    "    total_counts = sum([counts[key] for key in counts.keys()])    \n",
    "    count_vec = np.ones(hilbert_dims)\n",
    "    for key in counts.keys():\n",
    "        count_vec[int(key[0], 2)] += counts[key]\n",
    "    prefactor = 1/( (total_counts + hilbert_dims)**2 * (total_counts + hilbert_dims + 1) )\n",
    "    meas_covar = prefactor*(\n",
    "        (total_counts + hilbert_dims)*np.diag(count_vec) - np.outer(count_vec, count_vec)\n",
    "    )\n",
    "    return meas_covar"
   ]
  },
  {
   "cell_type": "code",
   "execution_count": 8,
   "id": "40383f98-063d-4d53-8a94-36556b985d3f",
   "metadata": {},
   "outputs": [],
   "source": [
    "def make_multinom_covar(prob_vec):\n",
    "    return np.eye(len(prob_vec)) - np.outer(prob_vec, prob_vec)"
   ]
  },
  {
   "cell_type": "code",
   "execution_count": 9,
   "id": "bcf1478b-1c8b-48c1-9d59-31571b57263c",
   "metadata": {},
   "outputs": [],
   "source": [
    "from scipy.linalg import block_diag\n",
    "\n",
    "class ExtendedKalmanFilter():\n",
    "    def __init__(self, model, P0):\n",
    "        self.model = model\n",
    "        self.P = P0\n",
    "        \n",
    "    def update(self, circ_list, data_set, jdict, hdict, stab_noise=None, max_itr=1, itr_eps=1e-4):\n",
    "        \n",
    "        \n",
    "        prior_covar = self.P\n",
    "        prior_state = self.model.to_vector()\n",
    "        \n",
    "        for itr in range(max_itr):\n",
    "            Smat = np.zeros((0,0))\n",
    "            total_innov = np.zeros((0))\n",
    "            total_jac = np.zeros((0,len(self.model.to_vector())))\n",
    "        \n",
    "            for circ in circ_list:\n",
    "                counts = data_set[circ].counts\n",
    "                total_counts = sum([counts[key] for key in counts.keys()])    \n",
    "                hilbert_dims = 2**(circ.width)\n",
    "                prior_state = self.model.to_vector()\n",
    "\n",
    "                # 0) find the mean estimate for the circuit outcome under the self.model\n",
    "                p_model = np.ones(hilbert_dims)\n",
    "                probs = self.model.probabilities(circ)\n",
    "                for key in probs.keys():\n",
    "                    p_model[int(key[0], 2)] += total_counts*probs[key]\n",
    "                p_model = (1/(total_counts+hilbert_dims))*p_model\n",
    "\n",
    "                # calculate jacobian\n",
    "                jacob = jdict[circ] + hdict[circ]@prior_state\n",
    "\n",
    "                # 1) calculate your observation frequencies\n",
    "                observation = np.ones(hilbert_dims)\n",
    "                for key in counts.keys():\n",
    "                    observation[int(key[0], 2)] += counts[key]\n",
    "                observation = (1/(total_counts+hilbert_dims))*observation\n",
    "\n",
    "                # 2) calculate the covaraiance of the observation and add model noise\n",
    "                meas_covar = (1/(total_counts+hilbert_dims))*make_multinom_covar(observation)\n",
    "                if stab_noise is not None:\n",
    "                    meas_covar += stab_noise\n",
    "                    \n",
    "                # 3) Kalman gain\n",
    "                smat = np.linalg.pinv(jacob@prior_covar@jacob.T + meas_covar, 1e-6)\n",
    "                \n",
    "                innovation = observation - p_model\n",
    "\n",
    "                Smat = block_diag(Smat, smat)\n",
    "                total_innov = np.hstack([total_innov, innovation])\n",
    "                total_jac = np.vstack([total_jac, jacob])\n",
    "            Kgain = prior_covar@total_jac.T@Smat\n",
    "            post_state = prior_state + Kgain@total_innov\n",
    "            self.P = prior_covar - Kgain@total_jac@prior_covar\n",
    "            if np.linalg.norm(post_state - prior_state) < itr_eps:\n",
    "                break\n",
    "        self.model.from_vector(post_state)"
   ]
  },
  {
   "cell_type": "code",
   "execution_count": 10,
   "id": "3eb8015f-6696-4b2f-8bff-905a19892c0b",
   "metadata": {},
   "outputs": [],
   "source": [
    "from scipy.linalg import block_diag\n",
    "\n",
    "class ExtendedKalmanFilter2():\n",
    "    def __init__(self, model, P0):\n",
    "        self.model = model\n",
    "        self.P = P0\n",
    "        \n",
    "    def update(self, circ_list, data_set, jdict, hdict, stab_noise=None, max_itr=1, itr_eps=1e-4):\n",
    "        \n",
    "        \n",
    "        prior_covar = self.P\n",
    "        prior_state = self.model.to_vector()\n",
    "        \n",
    "        for itr in range(max_itr):\n",
    "            Smat = np.zeros((0,0))\n",
    "            total_innov = np.zeros((0))\n",
    "            total_jac = np.zeros((0,len(self.model.to_vector())))\n",
    "        \n",
    "            for circ in circ_list:\n",
    "                counts = data_set[circ].counts\n",
    "                total_counts = sum([counts[key] for key in counts.keys()])    \n",
    "                hilbert_dims = 2**(circ.width)\n",
    "                prior_state = self.model.to_vector()\n",
    "\n",
    "                # 0) find the mean estimate for the circuit outcome under the self.model\n",
    "                p_model = np.zeros(hilbert_dims)\n",
    "                probs = self.model.probabilities(circ)\n",
    "                for key in probs.keys():\n",
    "                    p_model[int(key[0], 2)] += probs[key]\n",
    "\n",
    "                # calculate jacobian\n",
    "                jacob = jdict[circ] + hdict[circ]@prior_state\n",
    "\n",
    "                # 1) calculate your observation frequencies\n",
    "                observation = np.ones(hilbert_dims)\n",
    "                for key in counts.keys():\n",
    "                    observation[int(key[0], 2)] += counts[key]\n",
    "                observation = (1/(total_counts+hilbert_dims))*observation\n",
    "\n",
    "                # 2) calculate the covaraiance of the observation and add model noise\n",
    "                meas_covar = (1/(total_counts+hilbert_dims))*make_multinom_covar(observation)\n",
    "                if stab_noise is not None:\n",
    "                    meas_covar += stab_noise\n",
    "                    \n",
    "                # 3) Kalman gain\n",
    "                smat = np.linalg.pinv(jacob@prior_covar@jacob.T + meas_covar, 1e-6)\n",
    "                \n",
    "                innovation = observation - p_model\n",
    "\n",
    "                Smat = block_diag(Smat, smat)\n",
    "                total_innov = np.hstack([total_innov, innovation])\n",
    "                total_jac = np.vstack([total_jac, jacob])\n",
    "            Kgain = prior_covar@total_jac.T@Smat\n",
    "            post_state = prior_state + Kgain@total_innov\n",
    "            self.P = prior_covar - Kgain@total_jac@prior_covar\n",
    "            if np.linalg.norm(post_state - prior_state) < itr_eps:\n",
    "                break\n",
    "        self.model.from_vector(post_state)"
   ]
  },
  {
   "cell_type": "code",
   "execution_count": 11,
   "id": "6152897a-661c-4160-998b-3f19513beb3f",
   "metadata": {},
   "outputs": [],
   "source": [
    "from filterpy.kalman import KalmanFilter\n",
    "\n",
    "class LinearKalmanFilter(KalmanFilter):\n",
    "    def __init__(self, x0, P0, hilbert_dims):\n",
    "        super().__init__(len(x0), hilbert_dims)\n",
    "        self.x = x0\n",
    "        self.P = P0\n",
    "        \n",
    "        self.F = np.eye(len(x0))\n",
    "        self.Q = np.zeros((len(x0), len(x0)))\n",
    "        \n",
    "    def update_filter(self, circ, count_vec, pvec_model, jacob, stab_noise=None):\n",
    "        \n",
    "        total_counts = sum(count_vec)\n",
    "        \n",
    "        hilbert_dims = 2**circ.width\n",
    "        \n",
    "        prediction = (total_counts*pvec_model + np.ones(hilbert_dims))/(total_counts + hilbert_dims)\n",
    "        observation = (count_vec + np.ones(hilbert_dims))/(total_counts + hilbert_dims)\n",
    "        \n",
    "        self.H = jacob\n",
    "        shot_noise = (1/total_counts)*make_multinom_covar(observation)\n",
    "        if stab_noise is not None:\n",
    "            shot_noise += stab_noise\n",
    "        self.R = shot_noise\n",
    "        \n",
    "        self.update(observation - prediction)"
   ]
  },
  {
   "cell_type": "code",
   "execution_count": 12,
   "id": "10ea7d90-ca0f-4abc-94e5-dc750a59143e",
   "metadata": {},
   "outputs": [],
   "source": [
    "def regression_fit(circ_list, data_set, ref_model, jdict):\n",
    "    pvec = np.zeros((0))\n",
    "    jmat = np.zeros((0, num_params))\n",
    "    \n",
    "    for circ in circ_list:\n",
    "        hilbert_dims = 2**circ.width\n",
    "        \n",
    "        counts = vector_from_outcomes(data_set[circ].counts, hilbert_dims)\n",
    "        total_counts = sum(counts)\n",
    "        observation = (counts + np.ones((hilbert_dims)))/(total_counts + hilbert_dims)\n",
    "        \n",
    "        p_model = np.ones((hilbert_dims))\n",
    "        probs = ref_model.probabilities(circ)\n",
    "        for key in probs.keys():\n",
    "            p_model[int(key[0], 2)] += total_counts*probs[key]\n",
    "        p_model = p_model/(total_counts + hilbert_dims)\n",
    "        \n",
    "        pvec = np.hstack((pvec, observation-p_model))\n",
    "        jmat = np.vstack((jmat, jdict[circ]))\n",
    "    return np.linalg.pinv(jmat, 1e-4)@pvec\n",
    "        "
   ]
  },
  {
   "cell_type": "markdown",
   "id": "1e271561-3d04-4e4d-b707-f3e21d766c14",
   "metadata": {},
   "source": [
    "# [1] Pick a Model"
   ]
  },
  {
   "cell_type": "code",
   "execution_count": 13,
   "id": "46492b78-8fe2-4e93-ba5e-a55626806a89",
   "metadata": {},
   "outputs": [],
   "source": [
    "from pygsti.modelpacks import smq1Q_XYI as _smq1Q_XYI\n",
    "from pygsti.modelpacks import smq1Q_XYZI as _smq1Q_XYZI\n",
    "from pygsti.modelpacks import smq1Q_XYI as _smq1Q_XZ\n",
    "from pygsti.modelpacks import smq2Q_XYZICNOT as _smq2Q_XYZICNOT\n",
    "MODEL_PACK = _smq1Q_XYZI\n",
    "REF_MODEL = MODEL_PACK.target_model('H+S')"
   ]
  },
  {
   "cell_type": "markdown",
   "id": "ebdc12bd-05a1-4fc8-af1f-c0a90ec9485c",
   "metadata": {},
   "source": [
    "# [2] Make Random Circuits and Calculate the Jacobians and Hessians"
   ]
  },
  {
   "cell_type": "code",
   "execution_count": 14,
   "id": "81c74449-1143-462e-a92b-907a1bf39604",
   "metadata": {},
   "outputs": [
    {
     "name": "stderr",
     "output_type": "stream",
     "text": [
      "1000it [05:26,  3.06it/s]\n"
     ]
    }
   ],
   "source": [
    "# make random circuits and design matrices\n",
    "N_circs = 1000\n",
    "depth = 15\n",
    "\n",
    "random_circuits = []\n",
    "for n in range(N_circs):\n",
    "    random_circuits.append(random_circuit(random.choice(range(depth)), MODEL_PACK.processor_spec()))\n",
    "\n",
    "jdict_random = dict()\n",
    "hdict_random = dict()\n",
    "for idx, circ in tqdm(enumerate(random_circuits)):\n",
    "    jdict_random[circ] = matrix_from_jacob(REF_MODEL.sim.dprobs(circ), 2**circ.width)\n",
    "    hdict_random[circ] = tensor_from_hessian(REF_MODEL.sim.hprobs(circ), 2**circ.width)"
   ]
  },
  {
   "cell_type": "code",
   "execution_count": 24,
   "id": "b9c522be-ed90-441a-bcdb-430c8c54064b",
   "metadata": {},
   "outputs": [],
   "source": [
    "linear_model = REF_MODEL.copy()\n",
    "extended_model = REF_MODEL.copy()\n",
    "regression_model = REF_MODEL.copy()\n",
    "noise_model = MODEL_PACK.target_model()\n",
    "noise_model = noise_model.depolarize(max_op_noise=0.01, max_spam_noise=0.001)\n",
    "noise_model = noise_model.rotate(max_rotate=0.01)    "
   ]
  },
  {
   "cell_type": "code",
   "execution_count": 25,
   "id": "acc40563-480a-4582-b306-6e56cdcec3c7",
   "metadata": {},
   "outputs": [
    {
     "name": "stdout",
     "output_type": "stream",
     "text": [
      "- Sampling 10 circuits at DRB length 1 (1 of 5 depths) with seed 985242\n",
      "- Sampling 10 circuits at DRB length 2 (2 of 5 depths) with seed 985252\n",
      "- Sampling 10 circuits at DRB length 4 (3 of 5 depths) with seed 985262\n",
      "- Sampling 10 circuits at DRB length 8 (4 of 5 depths) with seed 985272\n",
      "- Sampling 10 circuits at DRB length 16 (5 of 5 depths) with seed 985282\n"
     ]
    }
   ],
   "source": [
    "num_samples = 5000\n",
    "rb_param, data = make_rb_param(noise_model, MODEL_PACK);\n",
    "dataset = pig.data.simulate_data(noise_model, random_circuits, num_samples=num_samples)\n"
   ]
  },
  {
   "cell_type": "code",
   "execution_count": 26,
   "id": "ba2585e2-6ede-420d-9042-cb8815043cb0",
   "metadata": {},
   "outputs": [],
   "source": [
    "\n",
    "max_iterations = 5\n",
    "itr_epsilon = 1e-4\n",
    "\n",
    "num_params = len(REF_MODEL.to_vector())\n",
    "hilbert_dims = 2\n",
    "\n",
    "P = 2*np.sqrt(rb_param)*np.eye(num_params)\n",
    "extended_model.from_vector(np.zeros(num_params))\n",
    "lkf = LinearKalmanFilter(np.zeros(num_params), P, hilbert_dims)\n",
    "ekf = ExtendedKalmanFilter(extended_model, P)\n",
    "ekf2 = ExtendedKalmanFilter(extended_model, P)"
   ]
  },
  {
   "cell_type": "code",
   "execution_count": 27,
   "id": "7971e572-6058-4df4-9f29-80850d743080",
   "metadata": {},
   "outputs": [
    {
     "name": "stderr",
     "output_type": "stream",
     "text": [
      "1000it [00:17, 58.62it/s]\n"
     ]
    }
   ],
   "source": [
    "for idx, circ in tqdm(enumerate(random_circuits)):\n",
    "    count_vec = vector_from_outcomes(dataset[circ].counts, hilbert_dims)\n",
    "    ref_prob = vector_from_outcomes(REF_MODEL.probabilities(circ), hilbert_dims)\n",
    "    lkf.update_filter(circ, count_vec, ref_prob, jdict_random[circ], 1e-3*np.eye(hilbert_dims))\n",
    "    ekf.update([circ], dataset, jdict_random, hdict_random, 1e-1*np.eye(hilbert_dims), max_iterations, itr_epsilon)\n",
    "    ekf2.update([circ], dataset, jdict_random, hdict_random, 1e-1*np.eye(hilbert_dims), max_iterations, itr_epsilon)"
   ]
  },
  {
   "cell_type": "code",
   "execution_count": 28,
   "id": "1ef9a078-b641-44f1-b420-b3f076a07934",
   "metadata": {},
   "outputs": [],
   "source": [
    "linear_model.from_vector(lkf.x)\n",
    "extended_model = ekf.model\n",
    "extended_model2 = ekf2.model\n",
    "regression_model.from_vector(regression_fit(random_circuits, dataset, REF_MODEL, jdict_random))"
   ]
  },
  {
   "cell_type": "code",
   "execution_count": 29,
   "id": "cdf1c38a-bf65-4d5c-af8b-5b779cb0aaf8",
   "metadata": {},
   "outputs": [
    {
     "name": "stdout",
     "output_type": "stream",
     "text": [
      "[-2.91793677e-03 -1.45878205e-03 -3.91342085e-19  1.32363052e-16\n",
      "  1.30918665e-16 -1.23762142e-18  2.18379216e-03  8.06577349e-04\n",
      "  1.17061461e-19  1.32128922e-16  1.31559808e-16  0.00000000e+00\n",
      "  0.00000000e+00  0.00000000e+00  0.00000000e+00  0.00000000e+00\n",
      "  0.00000000e+00  0.00000000e+00  7.22349268e-03  1.80090875e-04\n",
      "  5.97923874e-03  3.73130107e-16  3.29772271e-16  3.46303828e-16\n",
      "  5.71947404e-03  6.39405931e-03 -4.39855571e-04  3.01768648e-16\n",
      "  3.43812311e-16  2.85237090e-16  3.94330886e-03  4.12119840e-03\n",
      "  6.24945943e-03  3.65613870e-16  3.82145427e-16  2.98524874e-16]\n"
     ]
    }
   ],
   "source": [
    "print(regression_model.to_vector())"
   ]
  },
  {
   "cell_type": "code",
   "execution_count": 30,
   "id": "ea830626-b6bc-413f-b43c-dc463408f50b",
   "metadata": {},
   "outputs": [],
   "source": [
    "N_circs = 250\n",
    "depth = 10\n",
    "new_circ_list = []\n",
    "for n in range(N_circs):\n",
    "    new_circ_list.append(random_circuit(depth, MODEL_PACK.processor_spec()))"
   ]
  },
  {
   "cell_type": "code",
   "execution_count": 31,
   "id": "4498b384-c382-4f9b-aca0-3e6ddc1d0a8d",
   "metadata": {},
   "outputs": [
    {
     "name": "stdout",
     "output_type": "stream",
     "text": [
      "Using matplotlib backend: Qt5Agg\n"
     ]
    }
   ],
   "source": [
    "%matplotlib\n",
    "plt.rc('font', size=40)"
   ]
  },
  {
   "cell_type": "code",
   "execution_count": 38,
   "id": "1516005c-d5f3-4590-854d-818963022560",
   "metadata": {},
   "outputs": [],
   "source": [
    "ref_innovs, linear_innovs = compare_models(noise_model, REF_MODEL, linear_model, new_circ_list, 'Ideal Model Error', 'Linear Kalman Filter Error')"
   ]
  },
  {
   "cell_type": "code",
   "execution_count": 39,
   "id": "f6b20321-ba84-46fc-a699-5c63636f7afb",
   "metadata": {},
   "outputs": [],
   "source": [
    "ref_innovs, extended_innovs = compare_models(noise_model, REF_MODEL, extended_model, new_circ_list, 'Ideal Model Error', 'Extended Kalman Filter Error')"
   ]
  },
  {
   "cell_type": "code",
   "execution_count": 116,
   "id": "a3db63dc-600a-4f17-90a9-9772a4be8a8d",
   "metadata": {},
   "outputs": [],
   "source": [
    "ref_innovs, linear_innovs = compare_models(noise_model, REF_MODEL, regression_model, new_circ_list, 'Ideal Model Error', 'Regression Error')"
   ]
  }
 ],
 "metadata": {
  "kernelspec": {
   "display_name": "Python 3",
   "language": "python",
   "name": "python3"
  },
  "language_info": {
   "codemirror_mode": {
    "name": "ipython",
    "version": 3
   },
   "file_extension": ".py",
   "mimetype": "text/x-python",
   "name": "python",
   "nbconvert_exporter": "python",
   "pygments_lexer": "ipython3",
   "version": "3.9.5"
  }
 },
 "nbformat": 4,
 "nbformat_minor": 5
}
