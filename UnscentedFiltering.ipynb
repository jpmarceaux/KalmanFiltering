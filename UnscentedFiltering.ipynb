{
 "cells": [
  {
   "cell_type": "code",
   "execution_count": 1,
   "id": "acc95818-4aed-4fe6-bea4-56ef11033e58",
   "metadata": {},
   "outputs": [],
   "source": [
    "import os\n",
    "os.chdir('/home/jpmarceaux/Simulations/KalmanFiltering_Sandia2021')\n",
    "from kalman_gst import *\n",
    "os.chdir('/home/jpmarceaux/Simulations/KalmanFiltering_Sandia2021/UnscentedFiltering')\n",
    "from pygsti.modelpacks import smq1Q_XYI as std"
   ]
  },
  {
   "cell_type": "code",
   "execution_count": 2,
   "id": "3cd0d89d-a1ee-4326-8c06-d4d884d29ec0",
   "metadata": {},
   "outputs": [],
   "source": [
    "def dirichlet_covar(count_vec):\n",
    "    total_counts = sum(count_vec)\n",
    "    hdims = len(count_vec)\n",
    "    mean_frequency = ( count_vec + np.ones(hdims) )/( total_counts + hdims )\n",
    "    return 1/(total_counts + hdims + 1) * categorical_covar(mean_frequency)\n",
    "\n",
    "\n",
    "def null_chi2_test(model, dataset, circ_list):\n",
    "    chi2_stat = 1\n",
    "    for idx, circ in enumerate(circ_list):\n",
    "        cvec = vector_from_outcomes(dataset[circ].counts())\n",
    "        rmat = dirichlet_covar(cvec)\n",
    "        \n",
    "        \n",
    "def observation_chi2_test(model, model_covar, circ, count_vec):\n",
    "    total_counts = sum(count_vec)\n",
    "    hdims = len(count_vec)\n",
    "    mean_frequency = ( count_vec + np.ones(hdims) )/( total_counts + hdims )\n",
    "    rmat = categorical_covar(mean_frequency) # estimate of sampling covar\n",
    "    observation = count_vec/total_counts\n",
    "    prediction = vector_from_outcomes(model.probabilities(circ), hdims)\n",
    "    innov = observation - prediction \n",
    "    jac = matrix_from_jacob(model.sim.dprobs(circ), hdims)\n",
    "    smat = rmat + jac@model_covar@jac.T\n",
    "    return innov.T@np.linalg.pinv(smat)@innov"
   ]
  },
  {
   "cell_type": "code",
   "execution_count": 3,
   "id": "8ba736cd-e701-4239-853d-9001080e68ed",
   "metadata": {},
   "outputs": [],
   "source": [
    "SEED = 2021\n",
    "SAMPLES = 256\n",
    "np.random.seed(SEED)"
   ]
  },
  {
   "cell_type": "markdown",
   "id": "b33980ce-2658-4a36-ac63-f3a7e9a761fb",
   "metadata": {},
   "source": [
    "# Example 1\n",
    "\n",
    "Fixed FOGI model with different start points"
   ]
  },
  {
   "cell_type": "code",
   "execution_count": 4,
   "id": "545bb707-36f8-45a3-80df-96d2386137d3",
   "metadata": {},
   "outputs": [],
   "source": [
    "# setup the datagen model\n",
    "max_fogi_error_rate = 0.15\n",
    "mdl_datagen = std.target_model('H+s')\n",
    "basis1q = pygsti.baseobjs.Basis.cast('pp', 4)\n",
    "gauge_basis = pygsti.baseobjs.CompleteElementaryErrorgenBasis(\n",
    "                        basis1q, mdl_datagen.state_space, elementary_errorgen_types='HS')\n",
    "mdl_datagen.setup_fogi(gauge_basis, None, None, reparameterize=True,\n",
    "                     dependent_fogi_action='drop', include_spam=True)\n",
    "ar = mdl_datagen.fogi_errorgen_components_array(include_fogv=False, normalized_elem_gens=True)\n",
    "target_model = mdl_datagen.copy()\n",
    "np.random.seed(SEED)\n",
    "ar = max_fogi_error_rate * np.random.rand(len(ar))\n",
    "mdl_datagen.set_fogi_errorgen_components_array(ar, include_fogv=False, normalized_elem_gens=True)"
   ]
  },
  {
   "cell_type": "code",
   "execution_count": 5,
   "id": "2e13e414-77e8-4b64-841a-37fba9dc22e0",
   "metadata": {},
   "outputs": [
    {
     "name": "stdout",
     "output_type": "stream",
     "text": [
      "Model is CPTP...  True\n",
      "avg. gate-set infidelity:  0.14613773365572733\n",
      "mean square error:  0.14931811645287552\n"
     ]
    }
   ],
   "source": [
    "# check that the datagen model is CPTP and print metrics w.r.t. the target model\n",
    "print('Model is CPTP... ', model_is_cptp(mdl_datagen))\n",
    "print('avg. gate-set infidelity: ', avg_gs_infidelity(mdl_datagen, target_model))\n",
    "print('mean square error: ', mserror(mdl_datagen, target_model))"
   ]
  },
  {
   "cell_type": "code",
   "execution_count": 6,
   "id": "76fa9735-e378-47ac-b296-4ae8d093babf",
   "metadata": {},
   "outputs": [],
   "source": [
    "# make an edesign and simulate the data\n",
    "maxLengths = [1,2,4, 8, 16, 32]\n",
    "maxlength_edesign = pygsti.protocols.StandardGSTDesign(target_model, std.prep_fiducials(), std.meas_fiducials(),\n",
    "                                                std.germs(), maxLengths)\n",
    "dataset = pygsti.data.simulate_data(mdl_datagen, maxlength_edesign, SAMPLES, seed=SEED) #, sample_error='none')"
   ]
  },
  {
   "cell_type": "code",
   "execution_count": 7,
   "id": "00c62e7b-7332-4482-9419-46992057f7a4",
   "metadata": {},
   "outputs": [
    {
     "name": "stdout",
     "output_type": "stream",
     "text": [
      "--- Iterative GST: [##################################################] 100.0%  92 circuits ---\n",
      "Iterative GST Total Time: 0.7s\n",
      "--- Iterative GST: [##################################################] 100.0%  168 circuits ---\n",
      "Iterative GST Total Time: 0.9s\n",
      "--- Iterative GST: [##################################################] 100.0%  285 circuits ---\n",
      "Iterative GST Total Time: 1.4s\n",
      "--- Iterative GST: [##################################################] 100.0%  448 circuits ---\n",
      "Iterative GST Total Time: 1.8s\n",
      "--- Iterative GST: [##################################################] 100.0%  616 circuits ---\n"
     ]
    },
    {
     "name": "stderr",
     "output_type": "stream",
     "text": [
      "\n",
      "KeyboardInterrupt\n",
      "\n"
     ]
    }
   ],
   "source": [
    "mle_estimates, edesigns = make_mle_estimates(dataset, std, target_model, maxLengths)"
   ]
  },
  {
   "cell_type": "code",
   "execution_count": null,
   "id": "81b07df7-9d97-4332-ac31-8c21856dd67e",
   "metadata": {},
   "outputs": [],
   "source": [
    "%matplotlib qt5"
   ]
  },
  {
   "cell_type": "code",
   "execution_count": null,
   "id": "ee2b4cd2-3b20-4aaa-9784-b9749ab7a26c",
   "metadata": {},
   "outputs": [],
   "source": [
    "# run three FOGI Kalman Filters\n",
    "\n",
    "x0_zero = np.zeros(len(target_model.to_vector()))\n",
    "x0_mle = mle_estimates[0].to_vector()\n",
    "x0_bad = abs(np.random.multivariate_normal(np.zeros(target_model.num_params), 0.9*np.eye(target_model.num_params)))\n",
    "\n",
    "covar_strength = 0.1\n",
    "\n",
    "zero_ekf = setup_extended(target_model, x0_zero, covar_strength*np.eye(len(x0_zero)))\n",
    "mle1_ekf = setup_extended(target_model, x0_mle, covar_strength*np.eye(len(x0_zero)))\n",
    "gaussian_ekf = setup_extended(target_model, x0_bad, covar_strength*np.eye(len(x0_zero)))\n",
    "\n",
    "max_itr = 1\n",
    "max_itr_epsilon = 1e-4\n",
    "\n",
    "Q_add = 0*np.eye(len(target_model.to_vector()))\n",
    "R_add = 0*np.eye(2)\n",
    "\n",
    "# run zero filter and make data\n",
    "zero_model_vectors = dict()\n",
    "zero_covars = dict()\n",
    "mle1_model_vectors = dict()\n",
    "mle1_covars = dict()\n",
    "gaussian_model_vectors = dict()\n",
    "gaussian_covars = dict()\n",
    "\n",
    "idx = 0\n",
    "zero_model_vectors[idx] = zero_ekf.model.to_vector()\n",
    "zero_covars[idx] = zero_ekf.P\n",
    "mle1_model_vectors[idx] = mle1_ekf.model.to_vector()\n",
    "mle1_covars[idx] = zero_ekf.P\n",
    "gaussian_model_vectors[idx] = gaussian_ekf.model.to_vector()\n",
    "gaussian_covars[idx] = zero_ekf.P\n",
    "idx += 1\n",
    "\n",
    "# run over the largest set of GST circuits\n",
    "for circ in tqdm(maxlength_edesign.circuit_lists[-1]):\n",
    "    counts = dataset[circ].counts\n",
    "    cvec = vector_from_outcomes(counts, 2**circ.width)\n",
    "    #req = cvec/sum(cvec)\n",
    "\n",
    "    #_filter_prior = vector_from_outcomes(ekf.model.probabilities(circ), 2**circ.width)\n",
    "    #ata_prior_innnovs[idx] = freq - p_filter_prior\n",
    "\n",
    "    zero_prior_innov, _ = zero_ekf.update(circ, cvec, [-1, 1], Q_add, R_add, max_itr, max_itr_epsilon)\n",
    "    mle1_prior_innov, _ = mle1_ekf.update(circ, cvec, [-1, 1], Q_add, R_add, max_itr, max_itr_epsilon)\n",
    "    gaus_prior_innov, _ = gaussian_ekf.update(circ, cvec, [-1, 1], Q_add, R_add, max_itr, max_itr_epsilon)\n",
    "    #kgain = ekf.update_approx(circ, cvec, jdict[circ], hdict[circ], max_itr, max_itr_epsilon, Q_add, R_add)\n",
    "    \n",
    "    \n",
    "    zero_model_vectors[idx] = zero_ekf.model.to_vector()\n",
    "    zero_covars[idx] = zero_ekf.P\n",
    "    mle1_model_vectors[idx] = mle1_ekf.model.to_vector()\n",
    "    mle1_covars[idx] = mle1_ekf.P\n",
    "    gaussian_model_vectors[idx] = gaussian_ekf.model.to_vector()\n",
    "    gaussian_covars[idx] = gaussian_ekf.P\n",
    "\n",
    "    #p_filter_post = vector_from_outcomes(ekf.model.probabilities(circ), 2**circ.width)\n",
    "    #data_post_innovs[idx] = freq - p_filter_post \n",
    "    idx += 1\n",
    "num_circs = idx"
   ]
  },
  {
   "cell_type": "code",
   "execution_count": 14,
   "id": "982a4bd0-db25-4c54-8298-972e9852e46a",
   "metadata": {},
   "outputs": [],
   "source": [
    "plt_spacing = 20\n",
    "%matplotlib inline\n",
    "yrange = [-4.5, 0]\n",
    "\n",
    "germ_length_ranges = {\n",
    "    0: [0, 92], \n",
    "    1: [92, 168], \n",
    "    2: [168, 285], \n",
    "    3: [285, 448],\n",
    "    4: [448, 616], \n",
    "    5: [616, 784], \n",
    "    6: [794, 952], \n",
    "    7: [952, 1120], \n",
    "    8: [1120, 1288], \n",
    "}"
   ]
  },
  {
   "cell_type": "code",
   "execution_count": 26,
   "id": "0ea54e2b-7a6d-417a-9abd-0ac58841e44e",
   "metadata": {},
   "outputs": [],
   "source": [
    "make_error_plot('Target Seed EKF', zero_model_vectors, mdl_datagen.to_vector(), zero_covars, yrange, mle_estimates, germ_length_ranges, plt_spacing)"
   ]
  },
  {
   "cell_type": "code",
   "execution_count": 17,
   "id": "de1c9108-2459-4c68-809b-75e8755d9e69",
   "metadata": {},
   "outputs": [
    {
     "data": {
      "image/png": "[encoded data removed]",
      "text/plain": [
       "<Figure size 432x288 with 2 Axes>"
      ]
     },
     "metadata": {
      "needs_background": "light"
     },
     "output_type": "display_data"
    }
   ],
   "source": [
    "make_error_plot('MLE Seed', mle1_model_vectors, mdl_datagen.to_vector(), mle1_covars, yrange, mle_estimates, germ_length_ranges, plt_spacing)"
   ]
  },
  {
   "cell_type": "code",
   "execution_count": 18,
   "id": "1138aaf3-9b22-42a9-880d-6fc2601d43e8",
   "metadata": {},
   "outputs": [
    {
     "data": {
      "image/png": "[encoded data removed]",
      "text/plain": [
       "<Figure size 432x288 with 2 Axes>"
      ]
     },
     "metadata": {
      "needs_background": "light"
     },
     "output_type": "display_data"
    }
   ],
   "source": [
    "make_error_plot('Bad Seed', gaussian_model_vectors, mdl_datagen.to_vector(), gaussian_covars, [-5, 5], mle_estimates, germ_length_ranges, plt_spacing)"
   ]
  },
  {
   "cell_type": "markdown",
   "id": "8ee73028-abbe-4522-8b49-c8840d9a2da1",
   "metadata": {},
   "source": [
    "# Unscented Filtering"
   ]
  },
  {
   "cell_type": "code",
   "execution_count": 8,
   "id": "6d8c15f2-bbd4-4e96-9794-f736610b224a",
   "metadata": {},
   "outputs": [],
   "source": [
    "from filterpy.kalman import UnscentedKalmanFilter, MerweScaledSigmaPoints\n",
    "from filterpy.common import Q_discrete_white_noise"
   ]
  },
  {
   "cell_type": "code",
   "execution_count": 9,
   "id": "f9a3f741-c2db-4e5c-8e9d-a4ac6e4b0f25",
   "metadata": {},
   "outputs": [
    {
     "name": "stderr",
     "output_type": "stream",
     "text": [
      "100%|██████████████████████████████████████████████████████████████████████████████████████████████████████████████████████████████████████████████████████████████████████████████████████████████████████| 784/784 [03:37<00:00,  3.60it/s]\n"
     ]
    }
   ],
   "source": [
    "def fx(x, dt):\n",
    "    return x\n",
    "\n",
    "def model_wrapper(x_state, circ, model):\n",
    "    model.from_vector(x_state)\n",
    "    return vector_from_outcomes(model.probabilities(circ), 2**circ.width)\n",
    "\n",
    "# run three FOGI Kalman Filters\n",
    "\n",
    "x0_zero = np.zeros(len(target_model.to_vector()))\n",
    "\n",
    "covar_strength = 0.01\n",
    "\n",
    "dt = 1\n",
    "points = MerweScaledSigmaPoints(target_model.num_params, alpha=.1, beta=2., kappa=-1)\n",
    "ukf = UnscentedKalmanFilter(target_model.num_params, 2, dt=0, hx=model_wrapper, fx=fx, points=points)\n",
    "ukf.Q = 1e-9*np.eye(target_model.num_params)\n",
    "R_add = 1e-9*np.eye(2)\n",
    "ukf_filter_model = target_model.copy()\n",
    "\n",
    "ukf.x = x0_zero\n",
    "ukf.P *= covar_strength\n",
    "\n",
    "max_itr = 1\n",
    "max_itr_epsilon = 1e-4\n",
    "\n",
    "\n",
    "# run zero filter and make data\n",
    "ukf_model_vectors = dict()\n",
    "ukf_covars = dict()\n",
    "\n",
    "idx = 0\n",
    "ukf_model_vectors[idx] = ukf.x\n",
    "ukf_covars[idx] = ukf.P\n",
    "idx += 1\n",
    "\n",
    "# run over the largest set of GST circuits\n",
    "for circ in tqdm(maxlength_edesign.circuit_lists[-1]):\n",
    "    counts = dataset[circ].counts\n",
    "    cvec = vector_from_outcomes(counts, 2**circ.width)\n",
    "    freq = cvec/sum(cvec)\n",
    "    #req = cvec/sum(cvec)\n",
    "\n",
    "    #_filter_prior = vector_from_outcomes(ekf.model.probabilities(circ), 2**circ.width)\n",
    "    #ata_prior_innnovs[idx] = freq - p_filter_prior\n",
    "    \n",
    "    R_obs = categorical_covar(freq)/sum(cvec)\n",
    "    ukf.predict()\n",
    "    ukf.update(freq, R=R_obs+R_add, circ=circ, model=ukf_filter_model)\n",
    "    \n",
    "    #kgain = ekf.update_approx(circ, cvec, jdict[circ], hdict[circ], max_itr, max_itr_epsilon, Q_add, R_add)\n",
    "    \n",
    "    \n",
    "    ukf_model_vectors[idx] = ukf.x\n",
    "    ukf_covars[idx] = ukf.P\n",
    "\n",
    "    idx += 1\n",
    "num_circs = idx"
   ]
  },
  {
   "cell_type": "code",
   "execution_count": 10,
   "id": "7fd2d27b-1f86-4d28-a5ad-acfb856df30f",
   "metadata": {},
   "outputs": [],
   "source": [
    "%matplotlib qt5\n",
    "yrange = [-3.5, 0]"
   ]
  },
  {
   "cell_type": "code",
   "execution_count": 11,
   "id": "137f4f8d-e9d2-40d0-8ba1-5898578acc14",
   "metadata": {},
   "outputs": [
    {
     "data": {
      "text/plain": [
       "\u001b[0;31mSignature:\u001b[0m \u001b[0mexperimental_loglikelihood\u001b[0m\u001b[0;34m(\u001b[0m\u001b[0mcircuit_list\u001b[0m\u001b[0;34m,\u001b[0m \u001b[0mdataset\u001b[0m\u001b[0;34m,\u001b[0m \u001b[0mmodel\u001b[0m\u001b[0;34m)\u001b[0m\u001b[0;34m\u001b[0m\u001b[0;34m\u001b[0m\u001b[0m\n",
       "\u001b[0;31mDocstring:\u001b[0m\n",
       "multinomial likelihood of observations under the given model \n",
       "\n",
       "assumes all the circuits have the same number of qubits\n",
       "\u001b[0;31mFile:\u001b[0m      ~/Simulations/KalmanFiltering_Sandia2021/kalman_gst.py\n",
       "\u001b[0;31mType:\u001b[0m      function\n"
      ]
     },
     "metadata": {},
     "output_type": "display_data"
    }
   ],
   "source": [
    "experimental_loglikelihood?"
   ]
  },
  {
   "cell_type": "code",
   "execution_count": 15,
   "id": "d2eb686a-fae9-48f2-a9db-a0a2eca5a758",
   "metadata": {},
   "outputs": [
    {
     "data": {
      "image/png": "[encoded data removed]",
      "text/plain": [
       "<Figure size 432x288 with 2 Axes>"
      ]
     },
     "metadata": {
      "needs_background": "light"
     },
     "output_type": "display_data"
    }
   ],
   "source": [
    "make_error_plot('Sigma-Point Filter', ukf_model_vectors, mdl_datagen.to_vector(), ukf_covars, yrange, None, germ_length_ranges, plt_spacing)"
   ]
  },
  {
   "cell_type": "code",
   "execution_count": null,
   "id": "68c2c486-08a0-4e5c-8b62-624efb635b9b",
   "metadata": {},
   "outputs": [],
   "source": [
    "# try filtering with gauge dof\n",
    "target_model = std.target_model('H+S')\n",
    "x0_zero = np.zeros(len(target_model.to_vector()))\n",
    "\n",
    "covar_strength = 0.01\n",
    "\n",
    "dt = 1\n",
    "points = MerweScaledSigmaPoints(target_model.num_params, alpha=.1, beta=2., kappa=-1)\n",
    "ukf = UnscentedKalmanFilter(target_model.num_params, 2, dt=0, hx=model_wrapper, fx=fx, points=points)\n",
    "ukf.Q = 1e-9*np.eye(target_model.num_params)\n",
    "R_add = 1e-9*np.eye(2)\n",
    "ukf_filter_model = target_model.copy()\n",
    "\n",
    "ukf.x = x0_zero\n",
    "ukf.P *= covar_strength\n",
    "\n",
    "max_itr = 1\n",
    "max_itr_epsilon = 1e-4\n",
    "\n",
    "\n",
    "# run zero filter and make data\n",
    "ukf_model_vectors = dict()\n",
    "ukf_covars = dict()\n",
    "\n",
    "idx = 0\n",
    "ukf_model_vectors[idx] = ukf.x\n",
    "ukf_covars[idx] = ukf.P\n",
    "idx += 1\n",
    "\n",
    "# run over the largest set of GST circuits\n",
    "for circ in tqdm(maxlength_edesign.circuit_lists[-3]):\n",
    "    counts = dataset[circ].counts\n",
    "    cvec = vector_from_outcomes(counts, 2**circ.width)\n",
    "    freq = cvec/sum(cvec)\n",
    "    #req = cvec/sum(cvec)\n",
    "\n",
    "    #_filter_prior = vector_from_outcomes(ekf.model.probabilities(circ), 2**circ.width)\n",
    "    #ata_prior_innnovs[idx] = freq - p_filter_prior\n",
    "    \n",
    "    R_obs = categorical_covar(freq)/sum(cvec)\n",
    "    ukf.predict()\n",
    "    ukf.update(freq, R=R_obs+R_add, circ=circ, model=ukf_filter_model)\n",
    "    \n",
    "    #kgain = ekf.update_approx(circ, cvec, jdict[circ], hdict[circ], max_itr, max_itr_epsilon, Q_add, R_add)\n",
    "    \n",
    "    \n",
    "    ukf_model_vectors[idx] = ukf.x\n",
    "    ukf_covars[idx] = ukf.P\n",
    "\n",
    "    idx += 1\n",
    "num_circs = idx"
   ]
  },
  {
   "cell_type": "code",
   "execution_count": null,
   "id": "dfc48416-e4b5-4867-9882-cd6c65652efe",
   "metadata": {},
   "outputs": [],
   "source": [
    "ukf_filter_model.from_vector(ukf.x)"
   ]
  },
  {
   "cell_type": "code",
   "execution_count": null,
   "id": "c0d6934c-09d3-4464-b544-3e82162d204e",
   "metadata": {},
   "outputs": [],
   "source": [
    "experimental_loglikelihood(maxlength_edesign.circuit_lists[-1], dataset, ukf_filter_model)"
   ]
  },
  {
   "cell_type": "code",
   "execution_count": 147,
   "id": "6429b62b-42ef-48b7-9f76-47e6c83fc839",
   "metadata": {},
   "outputs": [
    {
     "data": {
      "text/plain": [
       "-4511.35005401106"
      ]
     },
     "execution_count": 147,
     "metadata": {},
     "output_type": "execute_result"
    }
   ],
   "source": [
    "experimental_loglikelihood(maxlength_edesign.circuit_lists[-1], dataset, ukf_filter_model)"
   ]
  },
  {
   "cell_type": "code",
   "execution_count": 142,
   "id": "0e7041f4-674f-403b-8deb-1d49fb30dc66",
   "metadata": {},
   "outputs": [
    {
     "data": {
      "text/plain": [
       "-4509.238202258466"
      ]
     },
     "execution_count": 142,
     "metadata": {},
     "output_type": "execute_result"
    }
   ],
   "source": [
    "experimental_loglikelihood(maxlength_edesign.circuit_lists[-1], dataset, mle_estimates[-1])"
   ]
  },
  {
   "cell_type": "code",
   "execution_count": 149,
   "id": "28aff7ed-28d4-4647-96c3-ab2a462f5154",
   "metadata": {},
   "outputs": [
    {
     "data": {
      "text/plain": [
       "-4509.754598082219"
      ]
     },
     "execution_count": 149,
     "metadata": {},
     "output_type": "execute_result"
    }
   ],
   "source": [
    "experimental_loglikelihood(maxlength_edesign.circuit_lists[-1], dataset, zero_ekf.model)"
   ]
  },
  {
   "cell_type": "code",
   "execution_count": 141,
   "id": "27033b69-1322-449a-ad22-91731b852a1b",
   "metadata": {},
   "outputs": [
    {
     "data": {
      "text/plain": [
       "-4517.752664028252"
      ]
     },
     "execution_count": 141,
     "metadata": {},
     "output_type": "execute_result"
    }
   ],
   "source": [
    "experimental_loglikelihood(maxlength_edesign.circuit_lists[-1], dataset, mdl_datagen)"
   ]
  },
  {
   "cell_type": "code",
   "execution_count": 150,
   "id": "c3217435-2e66-41db-b041-e8ec40da92f0",
   "metadata": {},
   "outputs": [
    {
     "data": {
      "text/plain": [
       "0.00028562257365945324"
      ]
     },
     "execution_count": 150,
     "metadata": {},
     "output_type": "execute_result"
    }
   ],
   "source": [
    "mserror(zero_ekf.model, mle_estimates[-1])"
   ]
  },
  {
   "cell_type": "code",
   "execution_count": 151,
   "id": "a1bbb194-1dd8-483a-9dab-3f360d70ffaa",
   "metadata": {},
   "outputs": [
    {
     "data": {
      "text/plain": [
       "0.0017239843878938401"
      ]
     },
     "execution_count": 151,
     "metadata": {},
     "output_type": "execute_result"
    }
   ],
   "source": [
    "mserror(zero_ekf.model, mdl_datagen)"
   ]
  },
  {
   "cell_type": "code",
   "execution_count": 152,
   "id": "9391d50e-05cd-4029-bb21-24840da5b679",
   "metadata": {},
   "outputs": [
    {
     "data": {
      "text/plain": [
       "0.0013312697673827593"
      ]
     },
     "execution_count": 152,
     "metadata": {},
     "output_type": "execute_result"
    }
   ],
   "source": [
    "mserror(mle_estimates[-1], mdl_datagen)"
   ]
  },
  {
   "cell_type": "markdown",
   "id": "f9b3fc11-9cb4-4b7c-9298-99ba63f39fb0",
   "metadata": {},
   "source": [
    "# Covar Analysis"
   ]
  },
  {
   "cell_type": "code",
   "execution_count": 86,
   "id": "0e582a65-556c-4f51-8499-7d24568da40c",
   "metadata": {},
   "outputs": [],
   "source": [
    "def plot_covar_evals(covar_dict):\n",
    "    evals = []\n",
    "    for c in range(num_circs):\n",
    "        circ_eval, _ = np.linalg.eig(covar_dict[c])\n",
    "        evals.append(circ_eval)\n",
    "    plt.matshow(abs(np.array(evals).T))\n",
    "    \n",
    "def plot_covar_svals(covar_dict):\n",
    "    svals = []\n",
    "    for c in range(num_circs):\n",
    "        _, circ_sval, _ = np.linalg.svd(covar_dict[c])\n",
    "        svals.append(circ_sval)\n",
    "    plt.matshow(abs(np.array(svals).T))"
   ]
  },
  {
   "cell_type": "code",
   "execution_count": 87,
   "id": "503b0115-273e-4533-97e2-4b7dafb68173",
   "metadata": {},
   "outputs": [
    {
     "data": {
      "image/png": "[encoded data removed]",
      "text/plain": [
       "<Figure size 1152x144 with 1 Axes>"
      ]
     },
     "metadata": {
      "needs_background": "light"
     },
     "output_type": "display_data"
    }
   ],
   "source": [
    "plot_covar_evals(mle1_covars)"
   ]
  },
  {
   "cell_type": "code",
   "execution_count": 88,
   "id": "5d7f76e5-0786-4464-a4bd-09bf95793924",
   "metadata": {},
   "outputs": [
    {
     "data": {
      "image/png": "[encoded data removed]",
      "text/plain": [
       "<Figure size 1152x144 with 1 Axes>"
      ]
     },
     "metadata": {
      "needs_background": "light"
     },
     "output_type": "display_data"
    }
   ],
   "source": [
    "plot_covar_svals(mle1_covars)"
   ]
  },
  {
   "cell_type": "code",
   "execution_count": 91,
   "id": "815a7a1c-da52-486f-869b-807e1d379fe7",
   "metadata": {},
   "outputs": [
    {
     "data": {
      "image/png": "[encoded data removed]",
      "text/plain": [
       "<Figure size 1152x144 with 1 Axes>"
      ]
     },
     "metadata": {
      "needs_background": "light"
     },
     "output_type": "display_data"
    }
   ],
   "source": [
    "plot_covar_evals(cptp_mle1_covars)"
   ]
  },
  {
   "cell_type": "code",
   "execution_count": 92,
   "id": "d357d211-3e07-4508-9711-4cfb5c55d879",
   "metadata": {},
   "outputs": [
    {
     "data": {
      "image/png": "[encoded data removed]",
      "text/plain": [
       "<Figure size 1152x144 with 1 Axes>"
      ]
     },
     "metadata": {
      "needs_background": "light"
     },
     "output_type": "display_data"
    }
   ],
   "source": [
    "plot_covar_svals(cptp_mle1_covars)"
   ]
  },
  {
   "cell_type": "code",
   "execution_count": null,
   "id": "1feebcd3-d322-47a0-a0a5-8ca3d6779b65",
   "metadata": {},
   "outputs": [],
   "source": [
    "ar = mdl_datagen.fogi_errorgen_components_array(include_fogv=False, normalized_elem_gens=True)\n",
    "datagen_models = []\n",
    "estimates = []\n",
    "data_sets = []\n",
    "edesign_sets = []\n",
    "for e in error_strengths:\n",
    "    ar = e * np.random.rand(len(ar))\n",
    "    mdl_datagen.set_fogi_errorgen_components_array(ar, include_fogv=False, normalized_elem_gens=True)\n",
    "    datagen_models.append(mdl_datagen.copy())\n",
    "    est, ds, edesigns = make_mle_estimates(mdl_datagen, target_model, [1, 2, 4, 8, 16], samples)\n",
    "    estimates.append(est)\n",
    "    data_sets.append(ds)\n",
    "    edesign_sets.append(edesigns)"
   ]
  }
 ],
 "metadata": {
  "kernelspec": {
   "display_name": "Python 3 (ipykernel)",
   "language": "python",
   "name": "python3"
  },
  "language_info": {
   "codemirror_mode": {
    "name": "ipython",
    "version": 3
   },
   "file_extension": ".py",
   "mimetype": "text/x-python",
   "name": "python",
   "nbconvert_exporter": "python",
   "pygments_lexer": "ipython3",
   "version": "3.10.4"
  }
 },
 "nbformat": 4,
 "nbformat_minor": 5
}
