{
 "cells": [
  {
   "cell_type": "code",
   "execution_count": 1,
   "id": "9d01eccc-6e25-43bb-af11-18276b653061",
   "metadata": {},
   "outputs": [],
   "source": [
    "import numpy as np\n",
    "import pygsti as pig\n",
    "import matplotlib.pyplot as plt\n",
    "import random\n",
    "import time\n",
    "import pandas\n",
    "from scipy.linalg import expm, sqrtm\n",
    "# from qutip import *\n",
    "\n",
    "from pygsti.modelmembers.operations import LindbladErrorgen as _LinbladErrorgen\n",
    "from pygsti.modelmembers.operations import EmbeddedErrorgen as _EmbeddedErrorgen\n",
    "from pygsti.modelmembers.operations import ExpErrorgenOp as _ExpErrorgenOp\n",
    "from pygsti.modelmembers.operations import ComposedOp as _ComposedOp\n",
    "import  pygsti.modelmembers as _mdmb\n",
    "import pygsti.processors as _proc\n",
    "\n",
    "from pygsti.tools import pdftools as _pdftools\n",
    "\n",
    "from pygsti.circuits.gstcircuits import create_lsgst_circuits\n",
    "\n",
    "from pygsti.models.memberdict import OrderedMemberDict as _OrderedMemberDict\n",
    "from pygsti.baseobjs.label import Label as _Label, CircuitLabel as _CircuitLabel\n",
    "from pygsti.circuits import Circuit\n",
    "import pygsti.circuits as _circ\n",
    "import pygsti.models as _mdl\n",
    "from pygsti.modelmembers import operations as _op"
   ]
  },
  {
   "cell_type": "code",
   "execution_count": 2,
   "id": "63b609f0-5f04-4ef4-9bf7-824671f65af2",
   "metadata": {},
   "outputs": [],
   "source": [
    "def random_circuit(depth, proc_spec):\n",
    "    \"\"\"\n",
    "    works for any 1-qubit model pack and the XYZICnot 2-qubit pack\n",
    "    \"\"\"\n",
    "    layers = []\n",
    "    for i in range(depth):\n",
    "        gate = random.choice(proc_spec.gate_names)\n",
    "        if gate == '(idle)':\n",
    "            pass\n",
    "        elif gate == 'Gcnot':\n",
    "            layers.append((gate, 0, 1))\n",
    "        else:\n",
    "            layers.append((gate, random.choice(proc_spec.qubit_labels)))\n",
    "    return Circuit(layers, proc_spec.qubit_labels)"
   ]
  },
  {
   "cell_type": "code",
   "execution_count": 3,
   "id": "7e40f22c-581f-4607-9bef-8a8838432284",
   "metadata": {},
   "outputs": [],
   "source": [
    "def vector_from_outcomes(outcomes, num_outcomes):\n",
    "    vecout = np.zeros((num_outcomes))\n",
    "    for key in outcomes.keys():\n",
    "        vecout[int(key[0], 2)] = outcomes[key]\n",
    "    return(vecout)\n",
    "\n",
    "def matrix_from_jacob(jacob, num_outcomes):\n",
    "    matout = np.zeros((num_outcomes, len(jacob['0'*int(np.log2(num_outcomes))])))\n",
    "    for key in jacob.keys():\n",
    "        matout[int(key[0], 2), :] = np.array(jacob[key])\n",
    "    return matout\n",
    "\n",
    "def tensor_from_hessian(hessian, hilbert_dims):\n",
    "    \"\"\"\n",
    "    returns a 3d-array that when dotted into the state returns the jacobian \n",
    "    \"\"\"\n",
    "    num_params = len(hessian['0'*int(np.log2(hilbert_dims))])\n",
    "    tensor_out = np.zeros((hilbert_dims, num_params, num_params))\n",
    "    for key in hessian.keys():\n",
    "        tensor_out[int(key[0], 2), :, :] = hessian[key]\n",
    "    return tensor_out"
   ]
  },
  {
   "cell_type": "code",
   "execution_count": 4,
   "id": "f98cc56e-3f6c-4c0d-8934-4cd91f52167c",
   "metadata": {},
   "outputs": [],
   "source": [
    "def compare_models(true_model, model1, model2, circuit_list, name1='x', name2='y'):\n",
    "    distribution1 = []\n",
    "    distribution2 = []\n",
    "    for idx, circ in enumerate(circuit_list): \n",
    "        true_outcomes = true_model.probabilities(circ)\n",
    "        outcome_set1 = model1.probabilities(circ)\n",
    "        outcome_set2 = model2.probabilities(circ)\n",
    "        dist1 = _pdftools.tvd(true_outcomes, outcome_set1)\n",
    "        dist2 = _pdftools.tvd(true_outcomes, outcome_set2)\n",
    "        distribution1.append(dist1)\n",
    "        distribution2.append(dist2)\n",
    "        plt.scatter(dist1, dist2)\n",
    "    plt.xlabel(name1)\n",
    "    plt.ylabel(name2)\n",
    "    mx = max([max(distribution1), max(distribution2)])\n",
    "    plt.plot((0, mx), (0, mx), c='black')\n",
    "    plt.show()\n",
    "    return (distribution1, distribution2)"
   ]
  },
  {
   "cell_type": "code",
   "execution_count": 5,
   "id": "13047b5b-7e7c-4b6a-8d8b-b31d6e8f0586",
   "metadata": {},
   "outputs": [],
   "source": [
    "def calculate_jacobs(circ_list, model):\n",
    "    jacobs = {}\n",
    "    for circ in circ_list:\n",
    "        hilbert_dims = 2**circ.width\n",
    "        jacobs[circ] = matrix_from_jacob(model.sim.dprobs(circ), hilbert_dims)\n",
    "    return jacobs"
   ]
  },
  {
   "cell_type": "code",
   "execution_count": 6,
   "id": "94355eac-d193-43ff-96ec-454db9bfea7c",
   "metadata": {},
   "outputs": [],
   "source": [
    "from pygsti.processors import CliffordCompilationRules as CCR\n",
    "\n",
    "def make_rb_param(noise_model, model_pack, length_powers=5, circuits_at_length=10):\n",
    "    pspec = model_pack.processor_spec()\n",
    "    \n",
    "    depths = [2**i for i in range(length_powers)]\n",
    "    \n",
    "    compilations = {'absolute': CCR.create_standard(pspec, 'absolute', ('paulis', '1Qcliffords'), verbosity=0),            \n",
    "                'paulieq': CCR.create_standard(pspec, 'paulieq', ('1Qcliffords', 'allcnots'), verbosity=0)}\n",
    "\n",
    "    design = pig.protocols.DirectRBDesign(model_pack.processor_spec(), compilations, depths, circuits_at_length, qubit_labels=model_pack.processor_spec().qubit_labels, sampler='edgegrab', \n",
    "                                           samplerargs=[0.5], randomizeout=True,\n",
    "                                           citerations=20)\n",
    "    pig.io.write_empty_protocol_data(design, 'RB_Data', clobber_ok=True)\n",
    "    pig.io.fill_in_empty_dataset_with_fake_data(noise_model, 'RB_Data/data/dataset.txt', num_samples=1000)\n",
    "    data = pig.io.load_data_from_dir('RB_Data')\n",
    "    protocol = pig.protocols.RB()\n",
    "    results = protocol.run(data)\n",
    "    return results.fits['full'].estimates['r'] "
   ]
  },
  {
   "cell_type": "code",
   "execution_count": 7,
   "id": "c8de7fcf-2bc4-4a22-be92-bfab36279266",
   "metadata": {},
   "outputs": [],
   "source": [
    "def make_dirichlet_covar(counts, hilbert_dims):\n",
    "    total_counts = sum([counts[key] for key in counts.keys()])    \n",
    "    count_vec = np.ones(hilbert_dims)\n",
    "    for key in counts.keys():\n",
    "        count_vec[int(key[0], 2)] += counts[key]\n",
    "    prefactor = 1/( (total_counts + hilbert_dims)**2 * (total_counts + hilbert_dims + 1) )\n",
    "    meas_covar = prefactor*(\n",
    "        (total_counts + hilbert_dims)*np.diag(count_vec) - np.outer(count_vec, count_vec)\n",
    "    )\n",
    "    return meas_covar"
   ]
  },
  {
   "cell_type": "code",
   "execution_count": 34,
   "id": "d5559b14-6d50-4256-8a9a-fea4353e416e",
   "metadata": {},
   "outputs": [],
   "source": [
    "from filterpy.kalman import KalmanFilter\n",
    "\n",
    "class LinearKalmanFilter(KalmanFilter):\n",
    "    def __init__(self, x0, P0, hilbert_dims):\n",
    "        super().__init__(len(x0), hilbert_dims)\n",
    "        self.x = x0\n",
    "        self.P = P0\n",
    "        \n",
    "        self.F = np.eye(len(x0))\n",
    "        self.Q = np.zeros((len(x0), len(x0)))\n",
    "        \n",
    "    def update_filter(self, circ, count_vec, pvec_model, jacob, stab_noise=None):\n",
    "        \n",
    "        total_counts = sum(count_vec)\n",
    "        \n",
    "        hilbert_dims = 2**circ.width\n",
    "        \n",
    "        prediction = (total_counts*pvec_model + np.ones(hilbert_dims))/(total_counts + hilbert_dims)\n",
    "        observation = (count_vec + np.ones(hilbert_dims))/(total_counts + hilbert_dims)\n",
    "        \n",
    "        self.H = jacob\n",
    "        shot_noise = (1/total_counts)*make_multinom_covar(observation)\n",
    "        if stab_noise is not None:\n",
    "            shot_noise += stab_noise\n",
    "        self.R = shot_noise\n",
    "        \n",
    "        self.update(observation - prediction)"
   ]
  },
  {
   "cell_type": "code",
   "execution_count": 84,
   "id": "ea5c32ad-22ac-4b8f-ab39-a00ac4951221",
   "metadata": {},
   "outputs": [],
   "source": [
    "def make_multinom_covar(prob_vec):\n",
    "    return np.eye(len(prob_vec)) - np.outer(prob_vec, prob_vec)"
   ]
  },
  {
   "cell_type": "code",
   "execution_count": 12,
   "id": "4010fa41-595d-4f3e-b150-e8f92f264b10",
   "metadata": {},
   "outputs": [],
   "source": [
    "from pygsti.modelpacks import smq1Q_XYI as _smq1Q_XYI\n",
    "from pygsti.modelpacks import smq1Q_XYZI as _smq1Q_XYZI\n",
    "from pygsti.modelpacks import smq1Q_XYI as _smq1Q_XZ\n",
    "from pygsti.modelpacks import smq2Q_XYZICNOT as _smq2Q_XYZICNOT"
   ]
  },
  {
   "cell_type": "code",
   "execution_count": 15,
   "id": "16b5eab5-30aa-4eca-a2d1-1c832c42797f",
   "metadata": {},
   "outputs": [
    {
     "name": "stdout",
     "output_type": "stream",
     "text": [
      "0.0 50.0\n",
      "1.0 50.0\n",
      "2.0 50.0\n",
      "3.0 50.0\n",
      "4.0 50.0\n",
      "5.0 50.0\n",
      "6.0 50.0\n",
      "7.0 50.0\n",
      "8.0 50.0\n",
      "9.0 50.0\n",
      "10.0 50.0\n",
      "11.0 50.0\n",
      "12.0 50.0\n",
      "13.0 50.0\n",
      "14.0 50.0\n",
      "15.0 50.0\n",
      "16.0 50.0\n",
      "17.0 50.0\n",
      "18.0 50.0\n",
      "19.0 50.0\n",
      "20.0 50.0\n",
      "21.0 50.0\n",
      "22.0 50.0\n",
      "23.0 50.0\n",
      "24.0 50.0\n",
      "25.0 50.0\n",
      "26.0 50.0\n",
      "27.0 50.0\n",
      "28.0 50.0\n",
      "29.0 50.0\n",
      "30.0 50.0\n",
      "31.0 50.0\n",
      "32.0 50.0\n",
      "33.0 50.0\n",
      "34.0 50.0\n",
      "35.0 50.0\n",
      "36.0 50.0\n",
      "37.0 50.0\n",
      "38.0 50.0\n",
      "39.0 50.0\n",
      "40.0 50.0\n",
      "41.0 50.0\n",
      "42.0 50.0\n",
      "43.0 50.0\n",
      "44.0 50.0\n",
      "45.0 50.0\n",
      "46.0 50.0\n",
      "47.0 50.0\n",
      "48.0 50.0\n",
      "49.0 50.0\n"
     ]
    }
   ],
   "source": [
    "# make random circuits and design matrices\n",
    "N_circs = 500\n",
    "depth = 64\n",
    "\n",
    "circ_list = []\n",
    "for n in range(N_circs):\n",
    "    circ_list.append(random_circuit(random.choice(range(depth)), MODEL_PACK.processor_spec()))\n",
    "circ_list = _circ.to_circuits(circ_list) \n",
    "\n",
    "jdict = dict()\n",
    "#hdict = dict()\n",
    "for idx, circ in enumerate(circ_list):\n",
    "    if idx%10 == 0:\n",
    "        print(idx/10, N_circs/10)\n",
    "    jdict[circ] = matrix_from_jacob(ref_model.sim.dprobs(circ), 2**circ.width)\n",
    "    #hdict[circ] = tensor_from_hessian(ref_model.sim.hprobs(circ), 2**circ.width)"
   ]
  },
  {
   "cell_type": "markdown",
   "id": "921782c6-6d64-4e0e-a283-dafef5e0ac7a",
   "metadata": {},
   "source": [
    "# Linear Kalman Filter "
   ]
  },
  {
   "cell_type": "code",
   "execution_count": 76,
   "id": "d451ebcd-385d-41b5-8e81-d38a27993b4c",
   "metadata": {},
   "outputs": [],
   "source": [
    "# make a model from a model pack\n",
    "MODEL_PACK = _smq1Q_XYZI\n",
    "REF_MODEL = MODEL_PACK.target_model('H+S')\n",
    "filter_model = MODEL_PACK.target_model('H+S')\n",
    "noise_model = MODEL_PACK.target_model()\n",
    "noise_model = noise_model.depolarize(max_op_noise=0.01, max_spam_noise=0.001)\n",
    "noise_model = noise_model.rotate(max_rotate=0.01)"
   ]
  },
  {
   "cell_type": "code",
   "execution_count": 77,
   "id": "72a4858f-b241-45b5-83cb-bfe8993809ba",
   "metadata": {},
   "outputs": [
    {
     "name": "stdout",
     "output_type": "stream",
     "text": [
      "- Sampling 10 circuits at DRB length 1 (1 of 5 depths) with seed 621485\n",
      "- Sampling 10 circuits at DRB length 2 (2 of 5 depths) with seed 621495\n",
      "- Sampling 10 circuits at DRB length 4 (3 of 5 depths) with seed 621505\n",
      "- Sampling 10 circuits at DRB length 8 (4 of 5 depths) with seed 621515\n",
      "- Sampling 10 circuits at DRB length 16 (5 of 5 depths) with seed 621525\n",
      "0.002755391098345189 0.052491819346877175\n"
     ]
    }
   ],
   "source": [
    "# make rb param\n",
    "rb_param = make_rb_param(noise_model, MODEL_PACK)\n",
    "print(rb_param, np.sqrt(rb_param))"
   ]
  },
  {
   "cell_type": "code",
   "execution_count": 78,
   "id": "adbe2bd3-471e-4049-aff9-d46cc6f32ced",
   "metadata": {},
   "outputs": [],
   "source": [
    "# sample circuits\n",
    "num_samples = 1000\n",
    "dataset_random = pig.data.simulate_data(noise_model, circ_list, num_samples=num_samples)\n",
    "shot_noise = 1/np.sqrt(num_samples)"
   ]
  },
  {
   "cell_type": "code",
   "execution_count": 79,
   "id": "fc5960a4-3f32-444a-94ec-8e8506a92a29",
   "metadata": {},
   "outputs": [],
   "source": [
    "# setup the filter\n",
    "from filterpy.kalman import KalmanFilter\n",
    "\n",
    "hilbert_dims = 2**len(MODEL_PACK.processor_spec().qubit_labels)\n",
    "num_params = len(filter_model.to_vector())\n",
    "\n",
    "kf = LinearKalmanFilter(np.zeros(num_params), 2*np.sqrt(rb_param)*np.eye(num_params), hilbert_dims)"
   ]
  },
  {
   "cell_type": "code",
   "execution_count": 80,
   "id": "e1400ea2-81c1-4159-974a-42ed0c9ea4e5",
   "metadata": {
    "tags": []
   },
   "outputs": [
    {
     "name": "stdout",
     "output_type": "stream",
     "text": [
      "Using matplotlib backend: Qt5Agg\n"
     ]
    }
   ],
   "source": [
    "# run it\n",
    "%matplotlib\n",
    "\n",
    "plotting = True\n",
    "\n",
    "for idx, circ in enumerate(circ_list): \n",
    "    if plotting:\n",
    "        filter_model.from_vector(kf.x)\n",
    "        naive_error = _pdftools.tvd(REF_MODEL.probabilities(circ), dataset_random[circ].fractions)\n",
    "        error = _pdftools.tvd(filter_model.probabilities(circ), dataset_random[circ].fractions)\n",
    "        plt.scatter(idx, naive_error, c='blue')\n",
    "        plt.scatter(idx, error, c='red', alpha=0.5)\n",
    "        \n",
    "    counts = vector_from_outcomes(data_set[circ].counts, hilbert_dims)\n",
    "    prob = vector_from_outcomes(REF_MODEL.probabilities(circ), hilbert_dims)\n",
    "    kf.update_filter(circ, counts, prob, jdict[circ], 1e-6*np.eye(hilbert_dims))\n",
    "    \n",
    "\n",
    "\n",
    "    \n",
    "        \n",
    "#     if(plotting):\n",
    "#         plt.scatter(idx, 0.5*np.linalg.norm(kf.y))\n",
    "#         naive_error = _pdftools.tvd(ref_model.probabilities(circ), data_set[circ].fractions)\n",
    "#         plt.scatter(idx, naive_error, c='blue', alpha=0.5)\n",
    "#         error = _pdftools.tvd(filter_model.probabilities(circ), data_set[circ].fractions)\n",
    "#         plt.scatter(idx, error, c='red', alpha=0.5)"
   ]
  },
  {
   "cell_type": "code",
   "execution_count": 81,
   "id": "752f6151-ab70-4d26-81df-93f5e72883cd",
   "metadata": {},
   "outputs": [],
   "source": [
    "# update the model\n",
    "filter_model.from_vector(kf.x)"
   ]
  },
  {
   "cell_type": "code",
   "execution_count": 82,
   "id": "8e5aa8bd-28ee-44eb-a3f3-647ea338f9a0",
   "metadata": {},
   "outputs": [],
   "source": [
    "# make random circuits \n",
    "plt.figure()\n",
    "N_circs = 250\n",
    "depth = 10\n",
    "new_circ_list = []\n",
    "for n in range(N_circs):\n",
    "    new_circ_list.append(random_circuit(depth, MODEL_PACK.processor_spec()))\n",
    "\n",
    "refTVDs, filterTVDs = compare_models(noise_model, ref_model, filter_model, new_circ_list, 'ref', 'filter')"
   ]
  },
  {
   "cell_type": "code",
   "execution_count": 83,
   "id": "0abf4dba-fb85-4638-9b61-bf2ae7ffac38",
   "metadata": {},
   "outputs": [
    {
     "name": "stdout",
     "output_type": "stream",
     "text": [
      "250\n"
     ]
    }
   ],
   "source": [
    "print(len(refTVDs))"
   ]
  },
  {
   "cell_type": "code",
   "execution_count": 92,
   "id": "00096355-c78f-4421-8c82-9b21e1a052ed",
   "metadata": {},
   "outputs": [],
   "source": [
    "same_TVDs = {}\n",
    "for idx, tvd in enumerate(refTVDs):\n",
    "    if (refTVDs[idx] - filterTVDs[idx]) < 1e-6:\n",
    "        same_TVDs[new_circ_list[idx]] = filterTVDs\n"
   ]
  },
  {
   "cell_type": "code",
   "execution_count": 93,
   "id": "b08e8cd8-83f3-4a2f-86b7-144429987d1d",
   "metadata": {},
   "outputs": [],
   "source": [
    "same_circs = [key for key in same_TVDs.keys()]"
   ]
  },
  {
   "cell_type": "code",
   "execution_count": 94,
   "id": "45ff06b0-2ae0-4f08-9a05-f8ddaff2b530",
   "metadata": {},
   "outputs": [
    {
     "name": "stdout",
     "output_type": "stream",
     "text": [
      "Qubit 0 ---|Gzpi2|-|Gypi2|-|Gxpi2|-|Gzpi2|-|Gxpi2|-|Gxpi2|-|Gypi2|---\n",
      "\n"
     ]
    }
   ],
   "source": [
    "print(same_circs[-1])"
   ]
  },
  {
   "cell_type": "code",
   "execution_count": 95,
   "id": "4bcbfd3e-b6f8-426f-956d-d2ec7fa1894b",
   "metadata": {},
   "outputs": [
    {
     "name": "stdout",
     "output_type": "stream",
     "text": [
      "18 250\n"
     ]
    }
   ],
   "source": [
    "print(len(same_circs), len(new_circ_list))"
   ]
  },
  {
   "cell_type": "code",
   "execution_count": 96,
   "id": "a2b88836-eb8b-4c96-b6a5-bbe8f964f7b5",
   "metadata": {},
   "outputs": [
    {
     "data": {
      "text/plain": [
       "(array([72., 55., 26.,  7.,  6., 15., 36., 20., 12.,  1.]),\n",
       " array([3.71162902e-05, 3.09882185e-03, 6.16052740e-03, 9.22223296e-03,\n",
       "        1.22839385e-02, 1.53456441e-02, 1.84073496e-02, 2.14690552e-02,\n",
       "        2.45307607e-02, 2.75924663e-02, 3.06541719e-02]),\n",
       " <BarContainer object of 10 artists>)"
      ]
     },
     "execution_count": 96,
     "metadata": {},
     "output_type": "execute_result"
    }
   ],
   "source": [
    "plt.figure()\n",
    "plt.hist(filterTVDs)"
   ]
  },
  {
   "cell_type": "code",
   "execution_count": 98,
   "id": "862fb7f4-d8d0-4532-90b3-f7268fc5b110",
   "metadata": {},
   "outputs": [],
   "source": [
    "for c in same_circs:\n",
    "    if c in dataset_random.keys():\n",
    "        print(c, data_set[c], jdict[c])"
   ]
  },
  {
   "cell_type": "code",
   "execution_count": 100,
   "id": "9079d162-0cfe-4118-adac-0b315b90156a",
   "metadata": {},
   "outputs": [
    {
     "name": "stdout",
     "output_type": "stream",
     "text": [
      "OutcomeLabelDict([(('0',), 0.49999999999999933), (('1',), 0.5)])\n",
      "OutcomeLabelDict([(('0',), 0.49999999999999956), (('1',), 0.49999999999999956)])\n",
      "OutcomeLabelDict([(('0',), 0.5000000000000002), (('1',), 0.49999999999999917)])\n",
      "OutcomeLabelDict([(('0',), 0.49999999999999944), (('1',), 0.49999999999999967)])\n",
      "OutcomeLabelDict([(('0',), 0.49999999999999967), (('1',), 0.49999999999999967)])\n",
      "OutcomeLabelDict([(('0',), 0.5), (('1',), 0.5000000000000004)])\n",
      "OutcomeLabelDict([(('0',), 0.4999999999999998), (('1',), 0.4999999999999998)])\n",
      "OutcomeLabelDict([(('0',), 0.5000000000000002), (('1',), 0.4999999999999994)])\n",
      "OutcomeLabelDict([(('0',), 0.4999999999999997), (('1',), 0.4999999999999993)])\n",
      "OutcomeLabelDict([(('0',), 0.5), (('1',), 0.49999999999999956)])\n",
      "OutcomeLabelDict([(('0',), 0.5), (('1',), 0.4999999999999998)])\n",
      "OutcomeLabelDict([(('0',), 0.49999999999999944), (('1',), 0.4999999999999999)])\n",
      "OutcomeLabelDict([(('0',), 0.4999999999999996), (('1',), 0.5000000000000002)])\n",
      "OutcomeLabelDict([(('0',), 0.49999999999999917), (('1',), 0.49999999999999983)])\n",
      "OutcomeLabelDict([(('0',), 0.5000000000000003), (('1',), 0.49999999999999944)])\n",
      "OutcomeLabelDict([(('0',), 0.4999999999999998), (('1',), 0.49999999999999933)])\n",
      "OutcomeLabelDict([(('0',), 0.5000000000000001), (('1',), 0.49999999999999944)])\n",
      "OutcomeLabelDict([(('0',), 0.4999999999999999), (('1',), 0.5000000000000003)])\n"
     ]
    }
   ],
   "source": [
    "for c in same_circs:\n",
    "    print(REF_MODEL.probabilities(c))"
   ]
  },
  {
   "cell_type": "code",
   "execution_count": null,
   "id": "3fb87bcb-d8d6-43a3-8903-1007768a1314",
   "metadata": {},
   "outputs": [],
   "source": []
  }
 ],
 "metadata": {
  "kernelspec": {
   "display_name": "Python 3",
   "language": "python",
   "name": "python3"
  },
  "language_info": {
   "codemirror_mode": {
    "name": "ipython",
    "version": 3
   },
   "file_extension": ".py",
   "mimetype": "text/x-python",
   "name": "python",
   "nbconvert_exporter": "python",
   "pygments_lexer": "ipython3",
   "version": "3.9.5"
  }
 },
 "nbformat": 4,
 "nbformat_minor": 5
}
