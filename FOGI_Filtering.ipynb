{
 "cells": [
  {
   "cell_type": "code",
   "execution_count": 23,
   "metadata": {},
   "outputs": [],
   "source": [
    "import numpy as np\n",
    "import pygsti\n",
    "from pygsti.tools import print_mx as pmx\n",
    "#from pygsti.modelpacks import smq1Q_XY as std\n",
    "from pygsti.modelpacks import smq1Q_XYZI as std\n",
    "import random\n",
    "from tqdm import tqdm\n",
    "import cvxpy as cp\n",
    "\n",
    "import matplotlib.pyplot as plt"
   ]
  },
  {
   "cell_type": "code",
   "execution_count": 24,
   "metadata": {},
   "outputs": [],
   "source": [
    "tgt = std.target_model()"
   ]
  },
  {
   "cell_type": "code",
   "execution_count": 25,
   "metadata": {},
   "outputs": [
    {
     "data": {
      "text/plain": [
       "OrderedMemberDict([(Label(()),\n",
       "                    <pygsti.modelmembers.operations.fullarbitraryop.FullArbitraryOp at 0x7f73c65b3640>),\n",
       "                   (Label(('Gxpi2', 0)),\n",
       "                    <pygsti.modelmembers.operations.fullarbitraryop.FullArbitraryOp at 0x7f73c65b3760>),\n",
       "                   (Label(('Gypi2', 0)),\n",
       "                    <pygsti.modelmembers.operations.fullarbitraryop.FullArbitraryOp at 0x7f73c65b37c0>),\n",
       "                   (Label(('Gzpi2', 0)),\n",
       "                    <pygsti.modelmembers.operations.fullarbitraryop.FullArbitraryOp at 0x7f73c65b3b20>)])"
      ]
     },
     "execution_count": 25,
     "metadata": {},
     "output_type": "execute_result"
    }
   ],
   "source": [
    "tgt.operations"
   ]
  },
  {
   "cell_type": "code",
   "execution_count": 29,
   "metadata": {},
   "outputs": [
    {
     "data": {
      "text/plain": [
       "array([[ 1.00000000e+00,  0.00000000e+00,  0.00000000e+00,\n",
       "        -2.23711432e-17],\n",
       "       [ 0.00000000e+00,  0.00000000e+00, -1.00000000e+00,\n",
       "         0.00000000e+00],\n",
       "       [ 0.00000000e+00,  1.00000000e+00,  0.00000000e+00,\n",
       "         0.00000000e+00],\n",
       "       [-2.23711432e-17,  0.00000000e+00,  0.00000000e+00,\n",
       "         1.00000000e+00]])"
      ]
     },
     "execution_count": 29,
     "metadata": {},
     "output_type": "execute_result"
    }
   ],
   "source": [
    "tgt[('Gzpi2', 0)].to_dense()"
   ]
  },
  {
   "cell_type": "code",
   "execution_count": 2,
   "metadata": {},
   "outputs": [],
   "source": [
    "def random_circuit(depth, proc_spec):\n",
    "    \"\"\"\n",
    "    works for any 1-qubit model pack and the XYZICnot 2-qubit pack\n",
    "    \"\"\"\n",
    "    layers = []\n",
    "    for i in range(depth):\n",
    "        gate = random.choice(proc_spec.gate_names)\n",
    "        if gate == '(idle)':\n",
    "            pass\n",
    "        elif gate == 'Gcnot':\n",
    "            layers.append((gate, 0, 1))\n",
    "        else:\n",
    "            layers.append((gate, random.choice(proc_spec.qubit_labels)))\n",
    "    return Circuit(layers, proc_spec.qubit_labels)"
   ]
  },
  {
   "cell_type": "code",
   "execution_count": 3,
   "metadata": {},
   "outputs": [],
   "source": [
    "def calculate_jacobs(circ_list, model):\n",
    "    jacobs = {}\n",
    "    for circ in circ_list:\n",
    "        hilbert_dims = 2**circ.width\n",
    "        jacobs[circ] = matrix_from_jacob(model.sim.dprobs(circ), hilbert_dims)\n",
    "    return jacobs"
   ]
  },
  {
   "cell_type": "code",
   "execution_count": 4,
   "metadata": {},
   "outputs": [],
   "source": [
    "def project_to_psd(matrix):\n",
    "    x = cp.Variable(matrix.shape)\n",
    "    objective = cp.Minimize(cp.norm(x - matrix, 'fro'))\n",
    "    constraints = [x >= 0]\n",
    "    prob = cp.Problem(objective, constraints)\n",
    "    result = prob.solve()\n",
    "    return x.value"
   ]
  },
  {
   "cell_type": "code",
   "execution_count": 5,
   "metadata": {},
   "outputs": [],
   "source": [
    "def is_psd(matrix):\n",
    "    eigs = np.linalg.eigvals(matrix)\n",
    "    if np.any(eigs < 0):\n",
    "        return False\n",
    "    else:\n",
    "        return True"
   ]
  },
  {
   "cell_type": "code",
   "execution_count": 6,
   "metadata": {},
   "outputs": [],
   "source": [
    "from pygsti.report import reportables as rptbl\n",
    "\n",
    "basis = pygsti.baseobjs.Basis.cast(\"pp\",4) # 1-qubit Pauli basis (2x2 matrices)\n",
    "\n",
    "from pygsti.tools import jamiolkowski_iso, jamiolkowski_iso_inv\n",
    "\n",
    "\n",
    "def avg_gs_fidelity(model, noise_model, qubits=1):\n",
    "    aei = 0\n",
    "    basis = pygsti.baseobjs.Basis.cast(\"pp\",4**qubits) # 1-qubit Pauli basis (2x2 matrices)\n",
    "    for op in list(model.operations.keys()):\n",
    "        mdl_mat = model[op].to_dense()\n",
    "        #choi_mat = jamiolkowski_iso(mdl_mat)\n",
    "        #if not is_psd(choi_mat):\n",
    "        #    choi_mat = project_to_psd(choi_mat)\n",
    "        #    mdl_mat = jamiolkowski_iso_inv(choi_mat)\n",
    "        aei += rptbl.entanglement_fidelity(mdl_mat, noise_model[op].to_dense(), basis)\n",
    "    return aei/len(list(model.operations.keys()))\n",
    "\n",
    "def avg_gs_dd(model, noise_model):\n",
    "    add = 0\n",
    "    for op in list(model.operations.keys()):\n",
    "        add += rptbl.half_diamond_norm(model[op].to_dense(), noise_model[op].to_dense(), basis)\n",
    "    return add/len(list(model.operations.keys()))"
   ]
  },
  {
   "cell_type": "code",
   "execution_count": 7,
   "metadata": {},
   "outputs": [],
   "source": [
    "def vector_from_outcomes(outcomes, num_outcomes):\n",
    "    vecout = np.zeros((num_outcomes))\n",
    "    for key in outcomes.keys():\n",
    "        vecout[int(key[0], 2)] = outcomes[key]\n",
    "    return(vecout)\n",
    "\n",
    "def matrix_from_jacob(jacob, num_outcomes):\n",
    "    matout = np.zeros((num_outcomes, len(jacob['0'*int(np.log2(num_outcomes))])))\n",
    "    for key in jacob.keys():\n",
    "        matout[int(key[0], 2), :] = np.array(jacob[key])\n",
    "    return matout\n",
    "\n",
    "def tensor_from_hessian(hessian, hilbert_dims):\n",
    "    \"\"\"\n",
    "    returns a 3d-array that when dotted into the state returns the jacobian \n",
    "    \"\"\"\n",
    "    num_params = len(hessian['0'*int(np.log2(hilbert_dims))])\n",
    "    tensor_out = np.zeros((hilbert_dims, num_params, num_params))\n",
    "    for key in hessian.keys():\n",
    "        tensor_out[int(key[0], 2), :, :] = hessian[key]\n",
    "    return tensor_out"
   ]
  },
  {
   "cell_type": "code",
   "execution_count": 8,
   "metadata": {},
   "outputs": [],
   "source": [
    "def make_multinom_covar(prob_vec):\n",
    "    return np.diag(prob_vec) - np.outer(prob_vec, prob_vec)\n",
    "\n",
    "def make_dirichlet_covar(counts, hilbert_dims):\n",
    "    total_counts = sum([counts[key] for key in counts.keys()])    \n",
    "    count_vec = np.ones(hilbert_dims)\n",
    "    for key in counts.keys():\n",
    "        count_vec[int(key[0], 2)] += counts[key]\n",
    "    prefactor = 1/( (total_counts + hilbert_dims)**2 * (total_counts + hilbert_dims + 1) )\n",
    "    meas_covar = prefactor*(\n",
    "        (total_counts + hilbert_dims)*np.diag(count_vec) - np.outer(count_vec, count_vec)\n",
    "    )\n",
    "    return meas_covar"
   ]
  },
  {
   "cell_type": "code",
   "execution_count": 9,
   "metadata": {},
   "outputs": [],
   "source": [
    "class LinearKalmanFilter():\n",
    "    def __init__(self, x0, P0):\n",
    "        self.x0 = x0\n",
    "        self.num_params = len(x0)\n",
    "        self.P = P0\n",
    "        \n",
    "    def update(self, circ, count_vec, p_target, jacob, clip_range, Q=None, R_additional=None):        \n",
    "        hilbert_dims = 2**(circ.width)\n",
    "\n",
    "        # 1) calculate your frequency\n",
    "        total_counts = sum(count_vec)\n",
    "        observation = count_vec/total_counts\n",
    "\n",
    "        # 2) calculate the covariance of the observation and add model noise\n",
    "        mean_frequency = ( count_vec+np.ones(len(count_vec)) )/( sum(count_vec)+len(count_vec) )\n",
    "        R = (1/(total_counts))*make_multinom_covar(mean_frequency)\n",
    "        if R_additional is not None:\n",
    "            R += R_additional\n",
    "        if Q is None: \n",
    "            Q = 0*np.eye(self.num_params)\n",
    "\n",
    "        # 3) Kalman Predict and Update\n",
    "        P = self.P + Q\n",
    "\n",
    "        Kgain = P@jacob.T@np.linalg.pinv(jacob@P@jacob.T + R, 1e-6)\n",
    "        innovation = observation - p_target\n",
    "        self.x0 = self.x0 + Kgain@innovation\n",
    "        self.P = (np.eye(self.num_params) - Kgain@jacob)@P\n",
    "        self.x0 = np.clip(self.x0, clip_range[0], clip_range[1])\n",
    "        return Kgain"
   ]
  },
  {
   "cell_type": "code",
   "execution_count": 10,
   "metadata": {},
   "outputs": [],
   "source": [
    "class ExtendedKalmanFilter():\n",
    "    def __init__(self, model, P0):\n",
    "        self.model = model\n",
    "        self.num_params = len(model.to_vector())\n",
    "        self.P = P0\n",
    "        \n",
    "    def update(self, circ, count_vec, clip_range, max_itr=1, itr_eps=1e-4, Q=None, R_additional=None):\n",
    "        prior_covar = self.P\n",
    "        prior_state = self.model.to_vector()\n",
    "        \n",
    "        for itr in range(max_itr):\n",
    "            hilbert_dims = 2**(circ.width)\n",
    "\n",
    "            # 0) find the predicted frequency for the circuit outcome under the model\n",
    "            probs = self.model.probabilities(circ)\n",
    "            p_model = vector_from_outcomes(probs, hilbert_dims)\n",
    "\n",
    "            # calculate jacobian\n",
    "            # jacob = jac0 + hessian@prior_state\n",
    "            jacob = matrix_from_jacob(self.model.sim.dprobs(circ), 2**circ.width)\n",
    "        \n",
    "            # 1) calculate your frequency\n",
    "            total_counts = sum(count_vec)\n",
    "            observation = count_vec/total_counts\n",
    "\n",
    "            # 2) calculate the covaraiance of the observation and add model noise\n",
    "            mean_frequency = ( count_vec+np.ones(len(count_vec)) )/( sum(count_vec)+len(count_vec) )\n",
    "            R = (1/(total_counts))*make_multinom_covar(mean_frequency)\n",
    "            if R_additional is not None:\n",
    "                R += R_additional\n",
    "            if Q is None: \n",
    "                Q = 0*np.eye(self.num_params)\n",
    "\n",
    "            # 3) Kalman Predict and Update\n",
    "            P = prior_covar + Q\n",
    "            \n",
    "            Kgain = P@jacob.T@np.linalg.pinv(jacob@P@jacob.T + R, 1e-15)\n",
    "            innovation = observation - p_model\n",
    "            post_state = prior_state + Kgain@innovation\n",
    "            post_state = np.clip(post_state, clip_range[0], clip_range[1])\n",
    "            if np.linalg.norm(post_state - prior_state) < itr_eps:\n",
    "                break\n",
    "            prior_state = post_state\n",
    "            self.model.from_vector(post_state)\n",
    "            \n",
    "        self.P = (np.eye(self.num_params) - Kgain@jacob)@P\n",
    "        self.model.from_vector(post_state)\n",
    "        return Kgain\n",
    "    \n",
    "    def update_approx(self, circ, count_vec, p0, jac0, hessian, clip_range, max_itr=1, itr_eps=1e-4, Q=None, R_additional=None):\n",
    "        prior_covar = self.P\n",
    "        prior_state = self.model.to_vector()\n",
    "        \n",
    "        for itr in range(max_itr):\n",
    "            hilbert_dims = 2**(circ.width)\n",
    "\n",
    "            # 0) find the predicted frequency for the circuit outcome under the model\n",
    "            # probs = self.model.probabilities(circ)\n",
    "            p_model = p0 + jac0@prior_state + prior_state@hessian@prior_state\n",
    "\n",
    "            # calculate jacobian\n",
    "            jacob = jac0 + hessian@prior_state\n",
    "                    \n",
    "            # 1) calculate your frequency\n",
    "            total_counts = sum(count_vec)\n",
    "            observation = count_vec/total_counts\n",
    "\n",
    "            # 2) calculate the covaraiance of the observation and add model noise\n",
    "            mean_frequency = ( count_vec+np.ones(len(count_vec)) )/( sum(count_vec)+len(count_vec) )\n",
    "            R = (1/(total_counts))*make_multinom_covar(mean_frequency)\n",
    "            if R_additional is not None:\n",
    "                R += R_additional\n",
    "            if Q is None: \n",
    "                Q = 0*np.eye(self.num_params)\n",
    "\n",
    "            # 3) Kalman Predict and Update\n",
    "            P = prior_covar + Q\n",
    "            \n",
    "            Kgain = P@jacob.T@np.linalg.pinv(jacob@P@jacob.T + R, 1e-15)\n",
    "            innovation = observation - p_model\n",
    "            post_state = prior_state + Kgain@innovation\n",
    "            post_state = np.clip(post_state, clip_range[0], clip_range[1])\n",
    "            if np.linalg.norm(post_state - prior_state) < itr_eps:\n",
    "                break\n",
    "            prior_state = post_state\n",
    "            self.model.from_vector(post_state)\n",
    "            \n",
    "        self.P = (np.eye(self.num_params) - Kgain@jacob)@P\n",
    "        self.model.from_vector(post_state)\n",
    "        return Kgain\n",
    "        \n",
    "#     def update_from_counts(self, circ, count_vec, jac0, hessian, max_itr=1, itr_eps=1e-4, Q=None, R_additional=None):\n",
    "#         prior_covar = self.P\n",
    "#         prior_state = 1.5*self.model.to_vector()\n",
    "        \n",
    "#         for itr in range(max_itr):\n",
    "#             hilbert_dims = 2**(circ.width)\n",
    "\n",
    "#             # 0) find the predicted frequency for the circuit outcome under the model\n",
    "#             probs = self.model.probabilities(circ)\n",
    "#             p_model = vector_from_outcomes(probs, hilbert_dims)\n",
    "\n",
    "#             # calculate jacobian\n",
    "#             jacob = (sum(count_vec)+len(count_vec))*(jac0 + hessian@prior_state)\n",
    "\n",
    "#             # calculate the covaraiance of the observation and add model noise\n",
    "#             mean_frequency = ( count_vec+np.ones(len(count_vec)) )/( sum(count_vec)+len(count_vec) )\n",
    "#             R = (sum(count_vec) + len(count_vec))*make_multinom_covar(mean_frequency)\n",
    "            \n",
    "#             if R_additional is not None:\n",
    "#                 R += R_additional\n",
    "#             if Q is None: \n",
    "#                 Q = 1e-15*np.eye(self.num_params)\n",
    "\n",
    "#             # 3) Kalman Predict and Update\n",
    "#             P = prior_covar + Q\n",
    "            \n",
    "#             Kgain = 0.1*P@jacob.T@np.linalg.pinv(jacob@P@jacob.T + R, 1e-9)\n",
    "#             innovation = count_vec - sum(count_vec)*p_model\n",
    "            \n",
    "#             post_state = prior_state + Kgain@innovation\n",
    "#             post_state = np.clip(post_state, 0, 1)\n",
    "#             if np.linalg.norm(post_state - prior_state) < itr_eps:\n",
    "#                 break\n",
    "#             prior_state = post_state\n",
    "#             self.model.from_vector(post_state)\n",
    "            \n",
    "#         self.P = (np.eye(self.num_params) - Kgain@jacob)@P\n",
    "#         self.model.from_vector(post_state)"
   ]
  },
  {
   "cell_type": "code",
   "execution_count": 11,
   "metadata": {},
   "outputs": [],
   "source": [
    "# for saving\n",
    "import pickle\n",
    "\n",
    "def pickle_dict(obj, filename):\n",
    "    with open(filename + '.pickle', 'wb') as f:\n",
    "        pickle.dump(obj, f, pickle.HIGHEST_PROTOCOL)\n",
    "    \n",
    "def load_dict(filename):\n",
    "    with open(filename + '.pickle', 'rb') as f:\n",
    "        return pickle.load(f)\n"
   ]
  },
  {
   "cell_type": "code",
   "execution_count": 12,
   "metadata": {},
   "outputs": [],
   "source": [
    "def display_model(mdl, include_fogv=False):\n",
    "    \"\"\"\n",
    "    \n",
    "    \"\"\"\n",
    "    labels = mdl.fogi_errorgen_component_labels(include_fogv, typ='normal')\n",
    "    coeffs = mdl.to_vector()\n",
    "    if include_fogv:\n",
    "        coeffs = np.hstack([coeffs, np.zeros(len(labels)-len(coeffs))])\n",
    "    #coeffs = gst_mdl.fogi_errorgen_components_array(include_fogv)\n",
    "    print(\"\\n\".join([\"%d: %s = %g\" % (i,lbl,coeff) for i,(lbl,coeff) in enumerate(zip(labels, coeffs))]))"
   ]
  },
  {
   "cell_type": "markdown",
   "metadata": {},
   "source": [
    "## Plotting functions"
   ]
  },
  {
   "cell_type": "code",
   "execution_count": 13,
   "metadata": {},
   "outputs": [],
   "source": [
    "def make_infidel_plot(model_vectors, data_covars, filter_model, target_model, mle_fits, plt_title, point_samples=32, plt_spacing=25):   \n",
    "    fig, ax = plt.subplots(figsize=(5, 2.7), layout='constrained')\n",
    "    \n",
    "\n",
    "    for i in tqdm(range(0, num_circs, plt_spacing)):\n",
    "        filter_model.from_vector(model_vectors[i])\n",
    "        fidel = np.clip(avg_gs_fidelity(filter_model, target_model), 0, 1)\n",
    "        mean_infidel = np.log10(1 - fidel)\n",
    "\n",
    "        for s in range(point_samples):\n",
    "            x0 = np.random.multivariate_normal(model_vectors[i], data_covars[i])\n",
    "            filter_model.from_vector(x0)\n",
    "            fidel = np.clip(avg_gs_fidelity(filter_model, target_model), 0, 1)\n",
    "            infidel = np.log10(1 - fidel)\n",
    "            plt.scatter(i, infidel, c='black', alpha=0.5)\n",
    "\n",
    "        ax.scatter(i, mean_infidel, c='red')\n",
    "\n",
    "    i = num_circs-1\n",
    "    filter_model.from_vector(model_vectors[i])\n",
    "    fidel = np.clip(avg_gs_fidelity(filter_model, target_model), 0, 1)\n",
    "    mean_infidel = np.log10(1 - fidel)\n",
    "\n",
    "    for s in range(point_samples):\n",
    "        x0 = np.random.multivariate_normal(model_vectors[i], data_covars[i])\n",
    "        filter_model.from_vector(x0)\n",
    "        fidel = np.clip(avg_gs_fidelity(filter_model, target_model), 0, 1)\n",
    "        infidel = np.log10(1 - fidel)\n",
    "        plt.scatter(i, infidel, c='black', alpha=0.5)\n",
    "\n",
    "    ax.scatter(i, mean_infidel, c='red')\n",
    "    \n",
    "    for i, fit in enumerate(mle_fits):\n",
    "        mle_infidel = np.log10(1-avg_gs_fidelity(fit, target_model))\n",
    "        ax.plot(gst_circuit_ranges[i], (mle_infidel, mle_infidel), c='green')\n",
    "\n",
    "\n",
    "    ax.set_title(plt_title)\n",
    "    ax.set_xlabel('Circuit index')\n",
    "    ax.set_ylabel('AGSI (log)')"
   ]
  },
  {
   "cell_type": "code",
   "execution_count": 14,
   "metadata": {},
   "outputs": [],
   "source": [
    "gst_circuit_ranges = {\n",
    "    0 : [0, 92], \n",
    "    1 : [93, 168], \n",
    "    2 : [169, 285], \n",
    "    3 : [286, 448], \n",
    "    4 : [449, 616]\n",
    "}\n",
    "\n",
    "\n",
    "\n",
    "def make_error_plot(plt_title, model_vectors, true_params, filter_covars, mle_estimates, plt_spacing=25):\n",
    "    fig, axs = plt.subplots(1, 2)\n",
    "    \n",
    "    fig.suptitle(plt_title)\n",
    "\n",
    "    axs[0].set_title('Estimate')\n",
    "    axs[1].set_title('Uncertainty')\n",
    "\n",
    "    for i in tqdm(range(0, num_circs, plt_spacing)):\n",
    "        params = model_vectors[i]\n",
    "        error = np.log10(np.sqrt( (params-true_params)@(params-true_params)))\n",
    "        axs[0].scatter(i, error, c='black')\n",
    "        axs[1].scatter(i, np.log10(np.sqrt(np.trace(filter_covars[i]))), c='black')\n",
    "        \n",
    "    for i, mdl in enumerate(mle_estimates):\n",
    "        mle_error = np.log10(np.sqrt( (mdl.to_vector()-true_params)@(mdl.to_vector()-true_params)))\n",
    "        axs[0].plot(gst_circuit_ranges[i], (mle_error, mle_error), c='red')\n",
    "        \n",
    "    axs[0].set_xlabel('Circuit Index')\n",
    "    axs[1].set_xlabel('Circuit Index')\n",
    "    axs[0].set_ylabel('MSE [log]')\n",
    "    \n",
    "def make_error_estimate_plot(plt_title, model_vectors, true_params, mle_estimates, plt_spacing=25):\n",
    "    fig, axs = plt.subplots(1, 1)\n",
    "    \n",
    "    axs.set_title(plt_title)\n",
    "\n",
    "    for i in tqdm(range(1, num_circs, plt_spacing)):\n",
    "        params = model_vectors[i]\n",
    "        error = np.log10(np.sqrt( (params-true_params)@(params-true_params)))\n",
    "        axs.scatter(i, error, c='black')\n",
    "        \n",
    "    for i, mdl in enumerate(mle_estimates):\n",
    "        mle_error = np.log10(np.sqrt( (mdl.to_vector()-true_params)@(mdl.to_vector()-true_params)))\n",
    "        axs.plot(gst_circuit_ranges[i], (mle_error, mle_error), c='red')\n",
    "        \n",
    "    axs.set_xlabel('Circuit Index')\n",
    "    axs.set_ylabel('MSE [log]')"
   ]
  },
  {
   "cell_type": "code",
   "execution_count": 15,
   "metadata": {},
   "outputs": [],
   "source": [
    "def point_order_statistics(mean, samples):\n",
    "    num_samples = len(samples)\n",
    "    \n",
    "    # put into sorted and shifted form\n",
    "    sorted_samples = np.sort(samples)\n",
    "    shifted_samples = sorted_samples - mean\n",
    "    \n",
    "    # find the index of the sign change \n",
    "    sign_index = 0\n",
    "    for i in range(0, num_samples):\n",
    "        if shifted_samples[i] < 0 and shifted_samples[i+1] > 0:\n",
    "            sign_index = i\n",
    "            break\n",
    "    \n",
    "    # find the 1st std dev\n",
    "    index_low = sign_index\n",
    "    index_high = sign_index\n",
    "    while (index_high - index_low) <= 0.68*num_samples:\n",
    "        if index_low != 0:\n",
    "            index_low -= 1\n",
    "        if index_high != num_samples:\n",
    "            index_high += 1\n",
    "    first_index_low = index_low\n",
    "    first_index_high = index_high\n",
    "    \n",
    "    while (index_high - index_low) <= 0.95*num_samples:\n",
    "        if index_low != 0:\n",
    "            index_low -= 1\n",
    "        if index_high != num_samples:\n",
    "            index_high += 1\n",
    "    second_index_low = index_low\n",
    "    second_index_high = index_high\n",
    "    \n",
    "    return ((shifted_samples[first_index_low], shifted_samples[first_index_high-1]), (shifted_samples[second_index_low], shifted_samples[second_index_high-1]))\n",
    "\n",
    "def make_infidel_color_plot(model_vectors, filter_model, target_model, mle_fits, plt_title, point_samples=100, plt_spacing=25):   \n",
    "    \"\"\"\n",
    "    colored band with dark between 1 standard dev., light between 95% confidence, and line for mean \n",
    "    \"\"\"\n",
    "    fig, ax = plt.subplots(figsize=(5, 2.7), layout='constrained')\n",
    "    \n",
    "    means = []\n",
    "    sample_list = []\n",
    "    \n",
    "\n",
    "    for i in tqdm(range(0, num_circs, plt_spacing)):\n",
    "        filter_model.from_vector(model_vectors[i])\n",
    "        fidel = np.clip(avg_gs_fidelity(filter_model, target_model), 0, 1)\n",
    "        mean_infidel = np.log10(1 - fidel)\n",
    "        means.append(mean_infidel)\n",
    "        \n",
    "        samples = []\n",
    "        for s in range(point_samples):\n",
    "            x0 = np.random.multivariate_normal(model_vectors[i], data_covars[i])\n",
    "            filter_model.from_vector(x0)\n",
    "            fidel = np.clip(avg_gs_fidelity(filter_model, target_model), 0, 1)\n",
    "            infidel = np.log10(1 - fidel)\n",
    "            samples.append(infidel)\n",
    "            #plt.scatter(i, infidel, c='black', alpha=0.5)\n",
    "        sample_list.append(np.array(samples))\n",
    "\n",
    "        #ax.scatter(i, mean_infidel, c='red')\n",
    "\n",
    "    # get the last point\n",
    "    i = num_circs-1\n",
    "    filter_model.from_vector(data_model_vectors[i])\n",
    "    fidel = np.clip(avg_gs_fidelity(filter_model, target_model), 0, 1)\n",
    "    mean_infidel = np.log10(1 - fidel)\n",
    "    means.append(mean_infidel)\n",
    "\n",
    "    samples = []\n",
    "    for s in range(point_samples):\n",
    "        x0 = np.random.multivariate_normal(model_vectors[i], data_covars[i])\n",
    "        filter_model.from_vector(x0)\n",
    "        fidel = np.clip(avg_gs_fidelity(filter_model, target_model), 0, 1)\n",
    "        infidel = np.log10(1 - fidel)\n",
    "        samples.append(infidel)\n",
    "        #plt.scatter(i, infidel, c='black', alpha=0.5)\n",
    "    sample_list.append(np.array(samples))\n",
    "    \n",
    "    for idx, mean in enumerate(means):\n",
    "        (first_points, second_points) = point_order_statistics(mean, sample_list[idx])\n",
    "        plt.scatter(idx, mean, c='yellow')\n",
    "        plt.scatter(idx, first_points[0], c='blue')\n",
    "        plt.scatter(idx, first_points[1], c='blue')\n",
    "        \n",
    "    \n",
    "    \n",
    "    \n",
    "    for fit in mle_fits:\n",
    "        mle_infidel = np.log10(1-avg_gs_fidelity(fit, target_model))\n",
    "        ax.plot((0, num_circs), (mle_infidel, mle_infidel), c='black')\n",
    "\n",
    "\n",
    "    ax.set_title(plt_title)\n",
    "    ax.set_xlabel('Circuit index')\n",
    "    ax.set_ylabel('AGSI (log)')"
   ]
  },
  {
   "cell_type": "code",
   "execution_count": 16,
   "metadata": {},
   "outputs": [],
   "source": [
    "from pygsti.processors import CliffordCompilationRules as CCR\n",
    "\n",
    "def make_rb_param(noise_model, model_pack, length_powers=5, circuits_at_length=10):\n",
    "    pspec = model_pack.processor_spec()\n",
    "    \n",
    "    depths = [2**i for i in range(length_powers)]\n",
    "    \n",
    "    compilations = {'absolute': CCR.create_standard(pspec, 'absolute', ('paulis', '1Qcliffords'), verbosity=0),            \n",
    "                'paulieq': CCR.create_standard(pspec, 'paulieq', ('1Qcliffords', 'allcnots'), verbosity=0)}\n",
    "\n",
    "    design = pygsti.protocols.DirectRBDesign(model_pack.processor_spec(), compilations, depths, circuits_at_length, qubit_labels=model_pack.processor_spec().qubit_labels, sampler='edgegrab', \n",
    "                                           samplerargs=[0.5], randomizeout=True,\n",
    "                                           citerations=20)\n",
    "    pygsti.io.write_empty_protocol_data(design, 'RB_Data', clobber_ok=True)\n",
    "    pygsti.io.fill_in_empty_dataset_with_fake_data(noise_model, 'RB_Data/data/dataset.txt', num_samples=1000)\n",
    "    data = pygsti.io.load_data_from_dir('RB_Data')\n",
    "    protocol = pygsti.protocols.RB()\n",
    "    results = protocol.run(data)\n",
    "    return (results.fits['full'].estimates['r'], data)"
   ]
  },
  {
   "cell_type": "code",
   "execution_count": 17,
   "metadata": {},
   "outputs": [],
   "source": [
    "# for saving\n",
    "import pickle\n",
    "\n",
    "def pickle_dict(obj, filename):\n",
    "    with open(filename + '.pickle', 'wb') as f:\n",
    "        pickle.dump(obj, f, pickle.HIGHEST_PROTOCOL)\n",
    "    \n",
    "def load_dict(filename):\n",
    "    with open(filename + '.pickle', 'rb') as f:\n",
    "        return pickle.load(f)"
   ]
  },
  {
   "cell_type": "code",
   "execution_count": 18,
   "metadata": {},
   "outputs": [],
   "source": [
    "# extended setup\n",
    "def setup_extended(covar_strength, x0, target_model):\n",
    "    P = covar_strength*np.eye(len(x0))\n",
    "    filter_model = target_model.copy()\n",
    "    filter_model.from_vector(x0)\n",
    "    return ExtendedKalmanFilter(filter_model, P.copy())"
   ]
  },
  {
   "cell_type": "code",
   "execution_count": 19,
   "metadata": {},
   "outputs": [],
   "source": [
    "def make_mle_estimates(mdl_datagen, target_mdl, max_lengths, samples, seed=2022):\n",
    "    proto = pygsti.protocols.GST(target_mdl, gaugeopt_suite=None, verbosity=1)\n",
    "    estimates = []\n",
    "    edesigns = []\n",
    "    for l in max_lengths:\n",
    "        edesign = std.create_gst_experiment_design(l)\n",
    "        ds = pygsti.data.simulate_data(mdl_datagen, edesign, samples, seed=seed) #, sample_error='none')\n",
    "        data = pygsti.protocols.ProtocolData(edesign, ds)\n",
    "        results_after = proto.run(data)\n",
    "        fit = results_after.estimates['GateSetTomography'].models['final iteration estimate']\n",
    "        estimates.append(fit)\n",
    "        edesigns.append(edesign)\n",
    "    return estimates, ds, edesigns"
   ]
  },
  {
   "cell_type": "code",
   "execution_count": 20,
   "metadata": {},
   "outputs": [],
   "source": [
    "def mserror(mdl, target_model):\n",
    "    evec = mdl.to_vector() - target_model.to_vector()\n",
    "    return evec.T@evec"
   ]
  },
  {
   "cell_type": "markdown",
   "metadata": {},
   "source": [
    "----\n",
    "# start main file \n",
    "----"
   ]
  },
  {
   "cell_type": "markdown",
   "metadata": {},
   "source": [
    "# Model setup"
   ]
  },
  {
   "cell_type": "code",
   "execution_count": 21,
   "metadata": {},
   "outputs": [],
   "source": [
    "samples = 256\n",
    "NPSEED = 1\n",
    "max_fogi_error_rate = 0.003"
   ]
  },
  {
   "cell_type": "code",
   "execution_count": 22,
   "metadata": {},
   "outputs": [
    {
     "name": "stdout",
     "output_type": "stream",
     "text": [
      "Datagen 2dlogl =  495.8236109714416\n"
     ]
    }
   ],
   "source": [
    "#mdl_datagen = std.target_model().depolarize(op_noise=0.01, spam_noise=0.05)\n",
    "mdl_datagen = std.target_model('H+s')\n",
    "basis1q = pygsti.baseobjs.Basis.cast('pp', 4)\n",
    "gauge_basis = pygsti.baseobjs.CompleteElementaryErrorgenBasis(\n",
    "                        basis1q, mdl_datagen.state_space, elementary_errorgen_types='HS')\n",
    "mdl_datagen.setup_fogi(gauge_basis, None, None, reparameterize=True,\n",
    "                     dependent_fogi_action='drop', include_spam=True)\n",
    "ar = mdl_datagen.fogi_errorgen_components_array(include_fogv=False, normalized_elem_gens=True)\n",
    "np.random.seed(NPSEED)\n",
    "ar = max_fogi_error_rate * np.random.rand(len(ar))\n",
    "mdl_datagen.set_fogi_errorgen_components_array(ar, include_fogv=False, normalized_elem_gens=True)\n",
    "\n",
    "\n",
    "edesign = std.create_gst_experiment_design(8)\n",
    "ds = pygsti.data.simulate_data(mdl_datagen, edesign, samples, seed=2022) #, sample_error='none')\n",
    "data = pygsti.protocols.ProtocolData(edesign, ds)\n",
    "\n",
    "datagen_2dlogl = pygsti.tools.two_delta_logl(mdl_datagen, ds)\n",
    "print(\"Datagen 2dlogl = \", datagen_2dlogl)"
   ]
  },
  {
   "cell_type": "code",
   "execution_count": null,
   "metadata": {},
   "outputs": [],
   "source": [
    "s"
   ]
  },
  {
   "cell_type": "code",
   "execution_count": 23,
   "metadata": {},
   "outputs": [],
   "source": [
    "# sim_type = 'matrix'\n",
    "# gst_mdl = std.target_model(\"H+s\")\n",
    "# print(\"Before FOGI reparam, Np = \", gst_mdl.num_params)\n",
    "\n",
    "# gst_mdl.sim = sim_type\n",
    "# proto = pygsti.protocols.GST(gst_mdl, gaugeopt_suite=None, verbosity=1)\n",
    "# results_before = proto.run(data)"
   ]
  },
  {
   "cell_type": "code",
   "execution_count": 24,
   "metadata": {},
   "outputs": [],
   "source": [
    "sim_type = 'matrix'\n",
    "\n",
    "gst_mdl = std.target_model(\"H+s\")\n",
    "basis1q = pygsti.baseobjs.Basis.cast('pp', 4)\n",
    "gauge_basis = pygsti.baseobjs.CompleteElementaryErrorgenBasis(\n",
    "                        basis1q, gst_mdl.state_space, elementary_errorgen_types='HS')\n",
    "gst_mdl.setup_fogi(gauge_basis, None, None, reparameterize=True,\n",
    "                     dependent_fogi_action='drop', include_spam=True)\n",
    "gst_mdl.sim = sim_type\n",
    "# print(\"After FOGI reparam, Np = \", gst_mdl.num_params)\n",
    "\n",
    "\n",
    "# proto = pygsti.protocols.GST(gst_mdl, gaugeopt_suite=None, verbosity=1)\n",
    "# results_after = proto.run(data)"
   ]
  },
  {
   "cell_type": "code",
   "execution_count": 25,
   "metadata": {},
   "outputs": [],
   "source": [
    "target_model = gst_mdl.copy()\n",
    "target_model.from_vector(np.zeros(target_model.num_params))\n",
    "filter_model = target_model.copy()"
   ]
  },
  {
   "cell_type": "code",
   "execution_count": 26,
   "metadata": {},
   "outputs": [
    {
     "name": "stdout",
     "output_type": "stream",
     "text": [
      "0: H(X:0)_[] = 0\n",
      "1: H(Y:0)_[] = 0\n",
      "2: H(Z:0)_[] = 0\n",
      "3: S(X:0)_[] = 0\n",
      "4: S(Y:0)_[] = 0\n",
      "5: S(Z:0)_[] = 0\n",
      "6: H(X:0)_Gxpi2:0 = 0\n",
      "7: S(X:0)_Gxpi2:0 = 0\n",
      "8: (0.5 S(Y:0) + 0.5 S(Z:0))_Gxpi2:0 = 0\n",
      "9: H(Y:0)_Gypi2:0 = 0\n",
      "10: (0.5 S(X:0) + 0.5 S(Z:0))_Gypi2:0 = 0\n",
      "11: S(Y:0)_Gypi2:0 = 0\n",
      "12: ga(-H(Z:0))_Gypi2:0 - ga(-H(Z:0))_Gxpi2:0 = 0\n",
      "13: ga(H(Y:0))_rho0 - ga(H(Y:0))_Gxpi2:0 = 0\n",
      "14: ga(-H(Y:0))_Mdefault - ga(-H(Y:0))_Gxpi2:0 = 0\n",
      "15: ga(H(X:0))_rho0 - ga(H(X:0))_Gypi2:0 = 0\n",
      "16: ga(-H(X:0))_Mdefault - ga(-H(X:0))_Gypi2:0 = 0\n",
      "17: ga(-0.5 S(X:0) - 0.5 S(Y:0))_Mdefault - ga(-0.5 S(X:0) - 0.5 S(Y:0))_rho0 = 0\n"
     ]
    }
   ],
   "source": [
    "display_model(target_model)"
   ]
  },
  {
   "cell_type": "code",
   "execution_count": 27,
   "metadata": {},
   "outputs": [
    {
     "name": "stdout",
     "output_type": "stream",
     "text": [
      "datagen to target AGSI  0.9976126252399892\n"
     ]
    }
   ],
   "source": [
    "print(\"datagen to target AGSI \", avg_gs_fidelity(target_model, mdl_datagen))"
   ]
  },
  {
   "cell_type": "markdown",
   "metadata": {},
   "source": [
    "---"
   ]
  },
  {
   "cell_type": "code",
   "execution_count": 28,
   "metadata": {},
   "outputs": [],
   "source": [
    "# #calculate jacobians and hessians\n",
    "\n",
    "# edesign = std.create_gst_experiment_design(16)\n",
    "\n",
    "# jdict = dict()\n",
    "# hdict = dict()\n",
    "\n",
    "# for circ_list in edesign.circuit_lists:\n",
    "#     for circ in tqdm(circ_list):\n",
    "#         jdict[circ] = matrix_from_jacob(target_model.sim.dprobs(circ), 2**circ.width)\n",
    "#         hdict[circ] = tensor_from_hessian(target_model.sim.hprobs(circ), 2**circ.width)\n",
    "        \n",
    "# pickle_dict(jdict, 'IXY_jacs')\n",
    "# pickle_dict(hdict, 'IXY_hess')"
   ]
  },
  {
   "cell_type": "markdown",
   "metadata": {},
   "source": [
    "shots---"
   ]
  },
  {
   "cell_type": "code",
   "execution_count": 30,
   "metadata": {},
   "outputs": [
    {
     "data": {
      "text/plain": [
       "array([0., 0., 0., 0., 0., 0., 0., 0., 0., 0., 0., 0., 0., 0., 0., 0., 0.,\n",
       "       0.])"
      ]
     },
     "execution_count": 30,
     "metadata": {},
     "output_type": "execute_result"
    }
   ],
   "source": [
    "filter_model.to_vector()"
   ]
  },
  {
   "cell_type": "code",
   "execution_count": 31,
   "metadata": {},
   "outputs": [
    {
     "name": "stdout",
     "output_type": "stream",
     "text": [
      "- Sampling 10 circuits at DRB length 1 (1 of 5 depths) with seed 26104\n",
      "- Sampling 10 circuits at DRB length 2 (2 of 5 depths) with seed 26114\n",
      "- Sampling 10 circuits at DRB length 4 (3 of 5 depths) with seed 26124\n",
      "- Sampling 10 circuits at DRB length 8 (4 of 5 depths) with seed 26134\n",
      "- Sampling 10 circuits at DRB length 16 (5 of 5 depths) with seed 26144\n"
     ]
    },
    {
     "name": "stderr",
     "output_type": "stream",
     "text": [
      "/home/jpmarceaux/Applications/pyGSTi/pygsti/io/writers.py:505: UserWarning: write_empty_protocol_data has recently changed its signature - it looks like you need to swap the first two arguments.  Continuing using the old signature...\n",
      "  _warnings.warn((\"write_empty_protocol_data has recently changed its signature - it looks like you need to swap\"\n",
      "/home/jpmarceaux/Applications/pyGSTi/pygsti/io/writers.py:626: UserWarning: fill_in_empty_dataset_with_fake_data has recently changed its signature - it looks like you need to swap the first two arguments.  Continuing using the old signature...\n",
      "  _warnings.warn((\"fill_in_empty_dataset_with_fake_data has recently changed its signature - it looks like\"\n",
      "/home/jpmarceaux/Applications/pyGSTi/pygsti/layouts/evaltree.py:183: UserWarning: Created an evaluation tree that is inefficient: tree-size > 3 * #circuits !\n",
      "This is likely due to the fact that the circuits being simulated do not have a\n",
      "periodic structure. Consider using a different forward simulator (e.g. MapForwardSimulator).\n",
      "  _warnings.warn((\"Created an evaluation tree that is inefficient: tree-size > %d * #circuits !\\n\"\n",
      "/home/jpmarceaux/Applications/pyGSTi/pygsti/tools/legacytools.py:38: UserWarning: The function load_data_from_dir is deprecated, and may not be present in future versions of pygsti.\n",
      "    Please use read_data_from_dir instead.\n",
      "  _warnings.warn(message)\n"
     ]
    },
    {
     "name": "stdout",
     "output_type": "stream",
     "text": [
      "0.056782942685001614 0.238291717617297\n"
     ]
    }
   ],
   "source": [
    "rb_param = make_rb_param(mdl_datagen, std)[0]\n",
    "print(rb_param, np.sqrt(rb_param))"
   ]
  },
  {
   "cell_type": "markdown",
   "metadata": {
    "tags": []
   },
   "source": [
    "# Example 1\n",
    "\n",
    "Various initial points for a fixed FOGI model with 256 shots"
   ]
  },
  {
   "cell_type": "code",
   "execution_count": 32,
   "metadata": {},
   "outputs": [
    {
     "name": "stdout",
     "output_type": "stream",
     "text": [
      "--- Iterative GST: [##################################################] 100.0%  92 circuits ---\n",
      "Iterative GST Total Time: 0.8s\n",
      "--- Iterative GST: [##################################################] 100.0%  168 circuits ---\n",
      "Iterative GST Total Time: 0.9s\n",
      "--- Iterative GST: [##################################################] 100.0%  285 circuits ---\n",
      "Iterative GST Total Time: 2.1s\n",
      "--- Iterative GST: [##################################################] 100.0%  448 circuits ---\n",
      "Iterative GST Total Time: 2.4s\n",
      "--- Iterative GST: [##################################################] 100.0%  616 circuits ---\n",
      "Iterative GST Total Time: 3.2s\n"
     ]
    }
   ],
   "source": [
    "mle_estimates, data, edesigns = make_mle_estimates(mdl_datagen, target_model, [1, 2, 4, 8, 16], samples)"
   ]
  },
  {
   "cell_type": "code",
   "execution_count": 38,
   "metadata": {},
   "outputs": [
    {
     "name": "stdout",
     "output_type": "stream",
     "text": [
      "[1.0000548754755323, 0.9991196535228397, 0.9998824131421853, 0.9998578081562005, 0.999927154567649]\n",
      "[0.0005019307521756024, 0.00023519334108163117, 5.027402588679614e-05, 1.3310178804920844e-05, 7.876385251473181e-06]\n",
      "3.42971240521657e-05\n"
     ]
    }
   ],
   "source": [
    "print([avg_gs_fidelity(mdl, mdl_datagen) for mdl in mle_estimates])\n",
    "print([mserror(mdl, mdl_datagen) for mdl in mle_estimates])\n",
    "print(mserror(target_model, mdl_datagen))"
   ]
  },
  {
   "cell_type": "code",
   "execution_count": null,
   "metadata": {},
   "outputs": [
    {
     "name": "stdout",
     "output_type": "stream",
     "text": [
      "[0. 0. 0. 0. 0. 0. 0. 0. 0. 0. 0. 0. 0. 0. 0. 0. 0. 0.]\n"
     ]
    },
    {
     "name": "stderr",
     "output_type": "stream",
     "text": [
      " 55%|███████████████████████████████████████████████████████████████████████████████████████████████████████████▉                                                                                          | 336/616 [00:46<00:55,  5.09it/s]"
     ]
    }
   ],
   "source": [
    "# 3 exact extended filters with different start points\n",
    "x0_zero = np.zeros(len(filter_model.to_vector()))\n",
    "print(x0_zero)\n",
    "x0_mle = mle_estimates[0].to_vector()\n",
    "x0_bad = abs(np.random.multivariate_normal(np.zeros(filter_model.num_params), 0.01*np.eye(filter_model.num_params)))\n",
    "\n",
    "covar_strength = 0.00001\n",
    "\n",
    "zero_ekf = setup_extended(covar_strength, x0_zero, target_model)\n",
    "mle1_ekf = setup_extended(covar_strength, x0_mle, target_model)\n",
    "gaussian_ekf = setup_extended(covar_strength, x0_bad, target_model)\n",
    "\n",
    "\n",
    "\n",
    "max_itr = 1\n",
    "max_itr_epsilon = 1e-4\n",
    "\n",
    "Q_add = 0*np.eye(len(filter_model.to_vector()))\n",
    "R_add = 0*np.eye(2)\n",
    "\n",
    "# run zero filter and make data\n",
    "zero_model_vectors = dict()\n",
    "zero_covars = dict()\n",
    "mle1_model_vectors = dict()\n",
    "mle1_covars = dict()\n",
    "gaussian_model_vectors = dict()\n",
    "gaussian_covars = dict()\n",
    "\n",
    "idx = 0\n",
    "zero_model_vectors[idx] = zero_ekf.model.to_vector()\n",
    "zero_covars[idx] = zero_ekf.P\n",
    "mle1_model_vectors[idx] = mle1_ekf.model.to_vector()\n",
    "mle1_covars[idx] = zero_ekf.P\n",
    "gaussian_model_vectors[idx] = gaussian_ekf.model.to_vector()\n",
    "gaussian_covars[idx] = zero_ekf.P\n",
    "idx += 1\n",
    "\n",
    "# run over the largest set of GST circuits\n",
    "for circ_list in [edesigns[-1].circuit_lists[-1]]:\n",
    "    for circ in tqdm(circ_list):\n",
    "        counts = data[circ].counts\n",
    "        cvec = vector_from_outcomes(counts, 2**circ.width)\n",
    "        #req = cvec/sum(cvec)\n",
    "\n",
    "        #_filter_prior = vector_from_outcomes(ekf.model.probabilities(circ), 2**circ.width)\n",
    "        #ata_prior_innnovs[idx] = freq - p_filter_prior\n",
    "\n",
    "        _ = zero_ekf.update(circ, cvec, [-1, 1], max_itr, max_itr_epsilon, Q_add, R_add)\n",
    "        _ = mle1_ekf.update(circ, cvec, [-1, 1], max_itr, max_itr_epsilon, Q_add, R_add)\n",
    "        _ = gaussian_ekf.update(circ, cvec, [-1, 1], max_itr, max_itr_epsilon, Q_add, R_add)\n",
    "        #kgain = ekf.update_approx(circ, cvec, jdict[circ], hdict[circ], max_itr, max_itr_epsilon, Q_add, R_add)\n",
    "\n",
    "        zero_model_vectors[idx] = zero_ekf.model.to_vector()\n",
    "        zero_covars[idx] = zero_ekf.P\n",
    "        mle1_model_vectors[idx] = mle1_ekf.model.to_vector()\n",
    "        mle1_covars[idx] = mle1_ekf.P\n",
    "        gaussian_model_vectors[idx] = gaussian_ekf.model.to_vector()\n",
    "        gaussian_covars[idx] = gaussian_ekf.P\n",
    "\n",
    "        #p_filter_post = vector_from_outcomes(ekf.model.probabilities(circ), 2**circ.width)\n",
    "        #data_post_innovs[idx] = freq - p_filter_post \n",
    "        idx += 1\n",
    "num_circs = idx"
   ]
  },
  {
   "cell_type": "code",
   "execution_count": 168,
   "metadata": {},
   "outputs": [],
   "source": [
    "plt_spacing = 20\n",
    "%matplotlib inline\n",
    "from matplotlib import cm"
   ]
  },
  {
   "cell_type": "code",
   "execution_count": 169,
   "metadata": {},
   "outputs": [
    {
     "name": "stderr",
     "output_type": "stream",
     "text": [
      "100%|███████████████████████████████████████████████████████████████████████████████████████████████████████████████████████████████████████████████████████████████████████████████████████████████████████| 31/31 [00:00<00:00, 360.11it/s]\n"
     ]
    },
    {
     "data": {
      "image/png": "[encoded data removed]",
      "text/plain": [
       "<Figure size 432x288 with 2 Axes>"
      ]
     },
     "metadata": {
      "needs_background": "light"
     },
     "output_type": "display_data"
    }
   ],
   "source": [
    "make_error_plot('Zero Seed', zero_model_vectors, mdl_datagen.to_vector(), zero_covars, mle_estimates, plt_spacing)"
   ]
  },
  {
   "cell_type": "code",
   "execution_count": 99,
   "metadata": {},
   "outputs": [
    {
     "name": "stderr",
     "output_type": "stream",
     "text": [
      "100%|███████████████████████████████████████████████████████████████████████████████████████████████████████████████████████████████████████████████████████████████████████████████████████████████████████| 31/31 [00:00<00:00, 366.64it/s]\n"
     ]
    },
    {
     "data": {
      "image/png": "[encoded data removed]",
      "text/plain": [
       "<Figure size 432x288 with 2 Axes>"
      ]
     },
     "metadata": {
      "needs_background": "light"
     },
     "output_type": "display_data"
    }
   ],
   "source": [
    "make_error_plot('MLE Seed', mle1_model_vectors, mdl_datagen.to_vector(), mle1_covars, mle_estimates, plt_spacing)"
   ]
  },
  {
   "cell_type": "code",
   "execution_count": 73,
   "metadata": {},
   "outputs": [
    {
     "name": "stderr",
     "output_type": "stream",
     "text": [
      "100%|███████████████████████████████████████████████████████████████████████████████████████████████████████████████████████████████████████████████████████████████████████████████████████████████████████| 31/31 [00:00<00:00, 348.30it/s]\n"
     ]
    },
    {
     "data": {
      "image/png": "[encoded data removed]",
      "text/plain": [
       "<Figure size 432x288 with 2 Axes>"
      ]
     },
     "metadata": {
      "needs_background": "light"
     },
     "output_type": "display_data"
    }
   ],
   "source": [
    "make_error_plot('Bad Seed', gaussian_model_vectors, mdl_datagen.to_vector(), gaussian_covars, mle_estimates, plt_spacing)"
   ]
  },
  {
   "cell_type": "code",
   "execution_count": 42,
   "metadata": {},
   "outputs": [
    {
     "name": "stderr",
     "output_type": "stream",
     "text": [
      "100%|███████████████████████████████████████████████████████████████████████████████████████████████████████████████████████████████████████████████████████████████████████████████████████████████████████| 31/31 [00:00<00:00, 132.50it/s]\n"
     ]
    },
    {
     "data": {
      "text/plain": [
       "Text(0, 0.5, 'Error')"
      ]
     },
     "execution_count": 42,
     "metadata": {},
     "output_type": "execute_result"
    },
    {
     "data": {
      "image/png": "[encoded data removed]",
      "text/plain": [
       "<Figure size 360x194.4 with 1 Axes>"
      ]
     },
     "metadata": {
      "needs_background": "light"
     },
     "output_type": "display_data"
    }
   ],
   "source": [
    "# X-gate convergence plot \n",
    "Xgate_errors = {\n",
    "    6 : 'H(X)', \n",
    "    7 : 'S(X)',\n",
    "    8 : 'S(Y) + S(Z)'\n",
    "}\n",
    "\n",
    "markers = {\n",
    "    6 : '8', \n",
    "    7 : 's',\n",
    "    8 : 'p',\n",
    "}\n",
    "\n",
    "\n",
    "fig, ax = plt.subplots(figsize=(5, 2.7), layout='constrained')\n",
    "\n",
    "ideal_params = mdl_datagen.to_vector()\n",
    "\n",
    "for i in tqdm(range(0, num_circs, plt_spacing)):\n",
    "    params = mle1_model_vectors[i]\n",
    "    \n",
    "    for idx in Xgate_errors.keys():\n",
    "        c = (idx-6)/3.2\n",
    "        total_error = params[idx] - ideal_params[idx]\n",
    "        ax.scatter(i, total_error, color=cm.get_cmap('gist_ncar')(c), marker=markers[idx])\n",
    "        ax.errorbar(i, total_error, yerr=np.sqrt(mle1_covars[i][idx, idx]), color=cm.get_cmap('gist_ncar')(c), lw=3, alpha=0.5)\n",
    "    \n",
    "ax.legend(Xgate_errors.values())\n",
    "\n",
    "ax.set_axisbelow(True)\n",
    "ax.plot((-20, num_circs), (0, 0), c='black')\n",
    "\n",
    "\n",
    "ax.set_ylim([-0.05, 0.05])\n",
    "ax.set_xlim([-10, num_circs])\n",
    "ax.set_title('X-gate feature estimation error')\n",
    "ax.set_xlabel('Circuit index')\n",
    "ax.set_ylabel('Error')"
   ]
  },
  {
   "cell_type": "code",
   "execution_count": 43,
   "metadata": {},
   "outputs": [
    {
     "name": "stderr",
     "output_type": "stream",
     "text": [
      "  0%|                                                                                                                                                                                                                 | 0/25 [00:00<?, ?it/s]/tmp/ipykernel_25283/3828402980.py:8: RuntimeWarning: divide by zero encountered in log10\n",
      "  mean_infidel = np.log10(1 - fidel)\n",
      "/tmp/ipykernel_25283/3828402980.py:14: RuntimeWarning: divide by zero encountered in log10\n",
      "  infidel = np.log10(1 - fidel)\n",
      "100%|████████████████████████████████████████████████████████████████████████████████████████████████████████████████████████████████████████████████████████████████████████████████████████████████████████| 25/25 [00:10<00:00,  2.35it/s]\n",
      "/tmp/ipykernel_25283/3828402980.py:34: RuntimeWarning: invalid value encountered in log10\n",
      "  mle_infidel = np.log10(1-avg_gs_fidelity(fit, target_model))\n"
     ]
    },
    {
     "data": {
      "image/png": "[encoded data removed]",
      "text/plain": [
       "<Figure size 360x194.4 with 1 Axes>"
      ]
     },
     "metadata": {
      "needs_background": "light"
     },
     "output_type": "display_data"
    }
   ],
   "source": [
    "make_infidel_plot(mle1_model_vectors, mle1_covars, filter_model, mdl_datagen, mle_estimates, 'Infidelity evoultion [log]')"
   ]
  },
  {
   "cell_type": "code",
   "execution_count": 44,
   "metadata": {},
   "outputs": [
    {
     "ename": "NameError",
     "evalue": "name 'data_model_vectors' is not defined",
     "output_type": "error",
     "traceback": [
      "\u001b[0;31m---------------------------------------------------------------------------\u001b[0m",
      "\u001b[0;31mNameError\u001b[0m                                 Traceback (most recent call last)",
      "Input \u001b[0;32mIn [44]\u001b[0m, in \u001b[0;36m<cell line: 1>\u001b[0;34m()\u001b[0m\n\u001b[0;32m----> 1\u001b[0m make_infidel_color_plot(\u001b[43mdata_model_vectors\u001b[49m, filter_model, mdl_datagen, mle_estimates, \u001b[38;5;124m'\u001b[39m\u001b[38;5;124mInfidelity evoultion [log]\u001b[39m\u001b[38;5;124m'\u001b[39m)\n",
      "\u001b[0;31mNameError\u001b[0m: name 'data_model_vectors' is not defined"
     ]
    }
   ],
   "source": [
    "make_infidel_color_plot(data_model_vectors, filter_model, mdl_datagen, mle_estimates, 'Infidelity evoultion [log]')"
   ]
  },
  {
   "cell_type": "markdown",
   "metadata": {
    "tags": []
   },
   "source": [
    "---\n",
    "# Example 2: Scaling performance"
   ]
  },
  {
   "cell_type": "code",
   "execution_count": 33,
   "metadata": {},
   "outputs": [],
   "source": [
    "error_strengths = [0.01, 0.0001, 0.00001]\n",
    "np.random.seed(1)"
   ]
  },
  {
   "cell_type": "code",
   "execution_count": 34,
   "metadata": {},
   "outputs": [
    {
     "name": "stdout",
     "output_type": "stream",
     "text": [
      "--- Iterative GST: [##################################################] 100.0%  92 circuits ---\n",
      "Iterative GST Total Time: 1.3s\n",
      "--- Iterative GST: [##################################################] 100.0%  168 circuits ---\n",
      "Iterative GST Total Time: 1.4s\n",
      "--- Iterative GST: [##################################################] 100.0%  285 circuits ---\n",
      "Iterative GST Total Time: 3.0s\n",
      "--- Iterative GST: [##################################################] 100.0%  448 circuits ---\n",
      "Iterative GST Total Time: 3.9s\n",
      "--- Iterative GST: [##################################################] 100.0%  616 circuits ---\n",
      "Iterative GST Total Time: 6.3s\n",
      "--- Iterative GST: [##################################################] 100.0%  92 circuits ---\n",
      "Iterative GST Total Time: 2.3s\n",
      "--- Iterative GST: [##################################################] 100.0%  168 circuits ---\n",
      "Iterative GST Total Time: 3.8s\n",
      "--- Iterative GST: [##################################################] 100.0%  285 circuits ---\n",
      "Iterative GST Total Time: 6.6s\n",
      "--- Iterative GST: [##################################################] 100.0%  448 circuits ---\n",
      "Iterative GST Total Time: 7.1s\n",
      "--- Iterative GST: [##################################################] 100.0%  616 circuits ---\n",
      "Iterative GST Total Time: 12.5s\n",
      "--- Iterative GST: [##################################################] 100.0%  92 circuits ---\n",
      "Iterative GST Total Time: 2.4s\n",
      "--- Iterative GST: [##################################################] 100.0%  168 circuits ---\n",
      "Iterative GST Total Time: 2.6s\n",
      "--- Iterative GST: [##################################################] 100.0%  285 circuits ---\n",
      "Iterative GST Total Time: 9.6s\n",
      "--- Iterative GST: [##################################################] 100.0%  448 circuits ---\n",
      "Iterative GST Total Time: 8.9s\n",
      "--- Iterative GST: [##################################################] 100.0%  616 circuits ---\n",
      "Iterative GST Total Time: 26.2s\n"
     ]
    }
   ],
   "source": [
    "ar = mdl_datagen.fogi_errorgen_components_array(include_fogv=False, normalized_elem_gens=True)\n",
    "datagen_models = []\n",
    "estimates = []\n",
    "data_sets = []\n",
    "edesign_sets = []\n",
    "for e in error_strengths:\n",
    "    ar = e * np.random.rand(len(ar))\n",
    "    mdl_datagen.set_fogi_errorgen_components_array(ar, include_fogv=False, normalized_elem_gens=True)\n",
    "    datagen_models.append(mdl_datagen.copy())\n",
    "    est, ds, edesigns = make_mle_estimates(mdl_datagen, target_model, [1, 2, 4, 8, 16], samples)\n",
    "    estimates.append(est)\n",
    "    data_sets.append(ds)\n",
    "    edesign_sets.append(edesigns)"
   ]
  },
  {
   "cell_type": "code",
   "execution_count": 35,
   "metadata": {},
   "outputs": [],
   "source": [
    "edesign = edesign_sets[-1][-1]"
   ]
  },
  {
   "cell_type": "code",
   "execution_count": 36,
   "metadata": {},
   "outputs": [
    {
     "name": "stderr",
     "output_type": "stream",
     "text": [
      "100%|████████████████████████████████████████████████████████████████████████████████████████████████████████████████████████████████████████████████████████████████████████████| 616/616 [00:05<00:00, 110.10it/s]\n"
     ]
    }
   ],
   "source": [
    "p_targets = dict()\n",
    "for circ in tqdm(edesign.circuit_lists[-1]):\n",
    "    p_targets[circ] = vector_from_outcomes(target_model.probabilities(circ), 2**circ.width)"
   ]
  },
  {
   "cell_type": "code",
   "execution_count": 45,
   "metadata": {},
   "outputs": [],
   "source": [
    "jdict = load_dict('KalmanPaperFiles/smq1Q_XYI_jacs')\n",
    "hdict = load_dict('KalmanPaperFiles/smq1Q_XYI_hess')"
   ]
  },
  {
   "cell_type": "code",
   "execution_count": 37,
   "metadata": {},
   "outputs": [
    {
     "name": "stdout",
     "output_type": "stream",
     "text": [
      "[0.0003810791561351745, 6.559399164625332e-08, 5.76937887906357e-10]\n"
     ]
    }
   ],
   "source": [
    "print([mserror(target_model, datagen_models[i]) for i in range(3)])"
   ]
  },
  {
   "cell_type": "code",
   "execution_count": 38,
   "metadata": {},
   "outputs": [
    {
     "name": "stdout",
     "output_type": "stream",
     "text": [
      "[0.992048394871659, 0.9998666222325459, 0.9999847271883247]\n"
     ]
    }
   ],
   "source": [
    "fidels = [avg_gs_fidelity(target_model, datagen_models[i]) for i in range(3)]\n",
    "print(fidels)"
   ]
  },
  {
   "cell_type": "code",
   "execution_count": 47,
   "metadata": {},
   "outputs": [
    {
     "name": "stderr",
     "output_type": "stream",
     "text": [
      "100%|█████████████████████████████████████████████████████████████████████████████████████████████████████████████████████████████████████████████████████████████████████████████| 448/448 [00:35<00:00, 12.61it/s]\n",
      "100%|█████████████████████████████████████████████████████████████████████████████████████████████████████████████████████████████████████████████████████████████████████████████| 448/448 [00:35<00:00, 12.71it/s]\n",
      "100%|█████████████████████████████████████████████████████████████████████████████████████████████████████████████████████████████████████████████████████████████████████████████| 448/448 [00:40<00:00, 11.00it/s]\n"
     ]
    }
   ],
   "source": [
    "covar_strength=0.01\n",
    "\n",
    "Q_add = 0*np.eye(len(filter_model.to_vector()))\n",
    "R_add = 0*np.eye(2)\n",
    "max_itr = 1\n",
    "max_itr_epsilon = 1e-6\n",
    "\n",
    "extended_data = []\n",
    "fast_data = []\n",
    "\n",
    "# run over the largest set of GST circuits\n",
    "for idx_error, e in enumerate(error_strengths):\n",
    "    extended_model_vectors = dict()\n",
    "    extended_covars = dict()\n",
    "    fast_model_vectors = dict()\n",
    "    fast_covars = dict()\n",
    "    \n",
    "    num_params = len(target_model.to_vector())\n",
    "    x0 = np.zeros(num_params)\n",
    "    ekf = setup_extended(covar_strength, x0, target_model)\n",
    "    fekf = setup_extended(covar_strength, x0, target_model)\n",
    "    \n",
    "    idx_circ = 0\n",
    "    # extended_model_vectors[idx_circ] = ekf.model.to_vector()\n",
    "    # extended_covars[idx_circ] = ekf.P\n",
    "    # fast_model_vectors[idx_circ] = fekf.model.to_vector()\n",
    "    # fast_covars[idx_circ] = fekf.P\n",
    "    # idx_circ += 1\n",
    "    \n",
    "    for circ in tqdm(edesign.circuit_lists[-2]):\n",
    "        counts = data_sets[idx_error][circ].counts\n",
    "        cvec = vector_from_outcomes(counts, 2**circ.width)\n",
    "        freq = cvec/sum(cvec)\n",
    "\n",
    "        ekf.update(circ, cvec, [-1, 1], max_itr, max_itr_epsilon, Q_add, R_add)\n",
    "        fekf.update_approx(circ, cvec, p_targets[circ], jdict[circ], hdict[circ], [-1, 1], max_itr, max_itr_epsilon, Q_add, R_add)\n",
    "\n",
    "        extended_model_vectors[idx_circ] = ekf.model.to_vector()\n",
    "        extended_covars[idx_circ] = ekf.P\n",
    "        fast_model_vectors[idx_circ] = fekf.model.to_vector()\n",
    "        fast_covars[idx_circ] = fekf.P\n",
    "        idx_circ += 1\n",
    "    extended_data.append((extended_model_vectors, extended_covars))\n",
    "    fast_data.append((fast_model_vectors, fast_covars))\n",
    "num_circs = idx_circ-1"
   ]
  },
  {
   "cell_type": "code",
   "execution_count": null,
   "metadata": {},
   "outputs": [],
   "source": [
    "# run over the largest set of GST circuits\n",
    "\n",
    "num_params = len(target_model.to_vector())\n",
    "x0 = np.zeros(num_params)\n",
    "fekf = setup_extended(covar_strength, x0, target_model)\n",
    "for circ in tqdm(edesign.circuit_lists[-1]):\n",
    "    counts = data_sets[idx_error][circ].counts\n",
    "    cvec = vector_from_outcomes(counts, 2**circ.width)\n",
    "    freq = cvec/sum(cvec)\n",
    "\n",
    "    fekf.update_approx(circ, cvec, p_targets[circ], jdict[circ], hdict[circ], [-1, 1], max_itr, max_itr_epsilon, Q_add, R_add)"
   ]
  },
  {
   "cell_type": "code",
   "execution_count": 48,
   "metadata": {},
   "outputs": [],
   "source": [
    "%matplotlib qt5"
   ]
  },
  {
   "cell_type": "code",
   "execution_count": 49,
   "metadata": {},
   "outputs": [
    {
     "name": "stderr",
     "output_type": "stream",
     "text": [
      "100%|██████████████████████████████████████████████████████████████████████████████████████████████████████████████████████████████████████████████████████████████████████████████| 45/45 [00:00<00:00, 342.11it/s]\n"
     ]
    }
   ],
   "source": [
    "i = 1\n",
    "make_error_estimate_plot(f'Fast Extended Filter with AGSF = {fidels[i]:.5f}', fast_data[i][0], datagen_models[i].to_vector(), estimates[i], plt_spacing=10)"
   ]
  },
  {
   "cell_type": "code",
   "execution_count": null,
   "metadata": {},
   "outputs": [],
   "source": [
    "make_error_estimate_plot(f'Exact Extended Filter with AGSF = {fidels[i]:.5f}', extended_data[i][0], datagen_models[i].to_vector(), estimates[i], plt_spacing=10)"
   ]
  },
  {
   "cell_type": "markdown",
   "metadata": {},
   "source": [
    "----\n",
    "# 2-qubit example"
   ]
  },
  {
   "cell_type": "code",
   "execution_count": 74,
   "metadata": {},
   "outputs": [],
   "source": [
    "from pygsti.modelpacks import smq2Q_XYCNOT as std"
   ]
  },
  {
   "cell_type": "code",
   "execution_count": 107,
   "metadata": {},
   "outputs": [],
   "source": [
    "samples = 256\n",
    "#samples = 256\n",
    "NPSEED = 1\n",
    "max_noise_rate = 0.025"
   ]
  },
  {
   "cell_type": "code",
   "execution_count": 76,
   "metadata": {},
   "outputs": [],
   "source": [
    "#mdl_datagen = std.target_model().depolarize(op_noise=0.01, spam_noise=0.05)\n",
    "mdl_datagen = std.target_model('H+s')\n",
    "basis1q = pygsti.baseobjs.Basis.cast('pp', 4)\n",
    "gauge_basis = pygsti.baseobjs.CompleteElementaryErrorgenBasis(\n",
    "                        basis1q, mdl_datagen.state_space, elementary_errorgen_types='HS')\n",
    "mdl_datagen.setup_fogi(gauge_basis, None, None, reparameterize=True,\n",
    "                     dependent_fogi_action='drop', include_spam=True)"
   ]
  },
  {
   "cell_type": "code",
   "execution_count": 77,
   "metadata": {},
   "outputs": [
    {
     "name": "stdout",
     "output_type": "stream",
     "text": [
      "144\n"
     ]
    }
   ],
   "source": [
    "target_model = mdl_datagen.copy()\n",
    "print(mdl_datagen.num_params)\n",
    "edesign = std.create_gst_experiment_design(max_max_length=1, fpr=True)"
   ]
  },
  {
   "cell_type": "code",
   "execution_count": 35,
   "metadata": {},
   "outputs": [],
   "source": [
    "# # calculate jacobians and hessians\n",
    "# jdict = dict()\n",
    "# hdict = dict()\n",
    "\n",
    "# for circ_list in edesign.circuit_lists:\n",
    "#     for circ in t qdm(circ_list):\n",
    "#         jdict[circ] = matrix_from_jacob(target_model.sim.dprobs(circ), 2**circ.width)\n",
    "#         hdict[circ] = tensor_from_hessian(target_model.sim.hprobs(circ), 2**circ.width)\n",
    "        \n",
    "# pickle_dict(jdict, 'smq2Q_XYCNOT_jacs')\n",
    "# pickle_dict(hdict, 'smq2Q_XYCNOT_hess')"
   ]
  },
  {
   "cell_type": "code",
   "execution_count": 116,
   "metadata": {},
   "outputs": [],
   "source": [
    "ar = mdl_datagen.fogi_errorgen_components_array(include_fogv=False, normalized_elem_gens=True)\n",
    "np.random.seed(NPSEED)\n",
    "ar = max_noise_rate * np.random.rand(len(ar))\n",
    "mdl_datagen.set_fogi_errorgen_components_array(ar, include_fogv=False, normalized_elem_gens=True)"
   ]
  },
  {
   "cell_type": "code",
   "execution_count": 118,
   "metadata": {},
   "outputs": [
    {
     "name": "stdout",
     "output_type": "stream",
     "text": [
      "--- Iterative GST: [##################################################] 100.0%  731 circuits ---\n",
      "Iterative GST Total Time: 32.8s\n",
      "--- Iterative GST: [##################################################] 100.0%  1509 circuits ---\n",
      "Iterative GST Total Time: 48.7s\n",
      "--- Iterative GST: [##################################################] 100.0%  2999 circuits ---\n",
      "Iterative GST Total Time: 71.9s\n"
     ]
    }
   ],
   "source": [
    "mle_estimates, data, edesigns = make_mle_estimates(mdl_datagen, target_model, [1, 2, 4], samples)"
   ]
  },
  {
   "cell_type": "code",
   "execution_count": 148,
   "metadata": {},
   "outputs": [
    {
     "name": "stdout",
     "output_type": "stream",
     "text": [
      "0.029993236365641912\n",
      "0.03610091120182495\n",
      "0.009137545990977457\n"
     ]
    }
   ],
   "source": [
    "print(mserror(target_model, mdl_datagen))\n",
    "print(mserror(mle_estimates[0], mdl_datagen))\n",
    "print(mserror(mle_estimates[-1], mdl_datagen))"
   ]
  },
  {
   "cell_type": "code",
   "execution_count": 155,
   "metadata": {},
   "outputs": [
    {
     "data": {
      "text/plain": [
       "0.8759162291194894"
      ]
     },
     "execution_count": 155,
     "metadata": {},
     "output_type": "execute_result"
    }
   ],
   "source": [
    "avg_gs_fidelity(target_model, mdl_datagen, 2)"
   ]
  },
  {
   "cell_type": "code",
   "execution_count": 149,
   "metadata": {},
   "outputs": [
    {
     "name": "stderr",
     "output_type": "stream",
     "text": [
      "100%|█████████████████████████████████████████████████████████████████████████████████████████████████████████████████████████████████████████████████████████████████████████████████████████████████████| 731/731 [00:02<00:00, 250.24it/s]\n"
     ]
    }
   ],
   "source": [
    "p_targets = dict()\n",
    "for circ in tqdm(edesign.circuit_lists[-1]):\n",
    "    p_targets[circ] = vector_from_outcomes(target_model.probabilities(circ), 2**circ.width)"
   ]
  },
  {
   "cell_type": "code",
   "execution_count": 150,
   "metadata": {},
   "outputs": [
    {
     "name": "stderr",
     "output_type": "stream",
     "text": [
      "100%|████████████████████████████████████████████████████████████████████████████████████████████████████████████████████████████████████████████████████████████████████████████████████████████████| 2999/2999 [00:00<00:00, 116894.98it/s]\n"
     ]
    }
   ],
   "source": [
    "for circ in tqdm(edesigns[-1].circuit_lists[-1]):\n",
    "    counts = data[circ].counts"
   ]
  },
  {
   "cell_type": "code",
   "execution_count": 151,
   "metadata": {},
   "outputs": [
    {
     "name": "stderr",
     "output_type": "stream",
     "text": [
      "100%|████████████████████████████████████████████████████████████████████████████████████████████████████████████████████████████████████████████████████████████████████████████████████████████████████| 2999/2999 [24:15<00:00,  2.06it/s]\n"
     ]
    }
   ],
   "source": [
    "max_itr = 1\n",
    "max_itr_epsilon = 1e-3\n",
    "\n",
    "zero_model_vectors = dict()\n",
    "mle_model_vectors = dict()\n",
    "zero_covars = dict()\n",
    "mle_covars = dict()\n",
    "\n",
    "Q_add = 0*np.eye(len(mdl_datagen.to_vector()))\n",
    "R_add = 0*np.eye(4)\n",
    "\n",
    "covar_strength = 0.0001\n",
    "\n",
    "x0_zero = np.zeros(mdl_datagen.num_params)\n",
    "x0_mle = mle_estimates[0].to_vector()\n",
    "\n",
    "ekf_zero = setup_extended(covar_strength, x0_zero, mdl_datagen)\n",
    "ekf_mle = setup_extended(covar_strength, x0_mle, mdl_datagen)\n",
    "\n",
    "zero_model_vectors[0] = ekf_zero.model.to_vector()\n",
    "zero_covars[0] = ekf_zero.P\n",
    "\n",
    "idx=1\n",
    "for circ in tqdm(edesigns[-1].circuit_lists[-1]):\n",
    "    counts = data[circ].counts\n",
    "    cvec = vector_from_outcomes(counts, 2**circ.width)\n",
    "    #req = cvec/sum(cvec)\n",
    "\n",
    "    #_filter_prior = vector_from_outcomes(ekf.model.probabilities(circ), 2**circ.width)\n",
    "    #ata_prior_innnovs[idx] = freq - p_filter_prior\n",
    "\n",
    "    _ = ekf_zero.update(circ, cvec, [-1, 1], max_itr, max_itr_epsilon, Q_add, R_add)\n",
    "    #kgain = ekf.update_approx(circ, cvec, jdict[circ], hdict[circ], max_itr, max_itr_epsilon, Q_add, R_add)\n",
    " \n",
    "    zero_model_vectors[idx] = ekf_zero.model.to_vector()\n",
    "    zero_covars[idx] = ekf_zero.P\n",
    "    #mle_model_vectors[idx] = ekf_mle.model.to_vector()\n",
    "    #mle_covars[idx] = ekf_mle.P\n",
    "\n",
    "    #p_filter_post = vector_from_outcomes(ekf.model.probabilities(circ), 2**circ.width)\n",
    "    #data_post_innovs[idx] = freq - p_filter_post \n",
    "    idx += 1\n",
    "num_circs = idx"
   ]
  },
  {
   "cell_type": "code",
   "execution_count": 156,
   "metadata": {},
   "outputs": [
    {
     "name": "stderr",
     "output_type": "stream",
     "text": [
      "100%|█████████████████████████████████████████████████████████████████████████████████████████████████████████████████████████████████████████████████████████████████████████████████████████████████████| 300/300 [00:00<00:00, 417.53it/s]\n"
     ]
    },
    {
     "data": {
      "text/plain": [
       "Text(0, 0.5, 'MSE [log]')"
      ]
     },
     "execution_count": 156,
     "metadata": {},
     "output_type": "execute_result"
    }
   ],
   "source": [
    "%matplotlib qt5\n",
    "gst_circuit_ranges = {\n",
    "    0 : [0, 731], \n",
    "    1 : [731, 1509], \n",
    "    2 : [1509, 2999], \n",
    "}\n",
    "\n",
    "fig, axs = plt.subplots(1, 2)\n",
    "\n",
    "axs[0].set_title('Estimate')\n",
    "axs[1].set_title('Uncertainty')\n",
    "\n",
    "true_params = mdl_datagen.to_vector()\n",
    "\n",
    "for i in tqdm(range(0, idx, 10)):\n",
    "    params = zero_model_vectors[i]\n",
    "    error = np.log10((params-true_params)@(params-true_params))\n",
    "    axs[0].scatter(i, error, c='black')\n",
    "    axs[1].scatter(i, np.log10(np.trace(zero_covars[i])), c='black')\n",
    "\n",
    "for i, mdl in enumerate(mle_estimates):\n",
    "    mle_error = np.log10( (mdl.to_vector()-true_params)@(mdl.to_vector()-true_params))\n",
    "    axs[0].plot(gst_circuit_ranges[i], (mle_error, mle_error), c='red')\n",
    "\n",
    "axs[0].set_xlabel('Circuit Index')\n",
    "axs[1].set_xlabel('Circuit Index')\n",
    "axs[0].set_ylabel('MSE [log]')"
   ]
  },
  {
   "cell_type": "code",
   "execution_count": 138,
   "metadata": {},
   "outputs": [
    {
     "data": {
      "text/plain": [
       "array([0., 0., 0., 0., 0., 0., 0., 0., 0., 0., 0., 0., 0., 0., 0., 0., 0.,\n",
       "       0., 0., 0., 0., 0., 0., 0., 0., 0., 0., 0., 0., 0., 0., 0., 0., 0.,\n",
       "       0., 0., 0., 0., 0., 0., 0., 0., 0., 0., 0., 0., 0., 0., 0., 0., 0.,\n",
       "       0., 0., 0., 0., 0., 0., 0., 0., 0., 0., 0., 0., 0., 0., 0., 0., 0.,\n",
       "       0., 0., 0., 0., 0., 0., 0., 0., 0., 0., 0., 0., 0., 0., 0., 0., 0.,\n",
       "       0., 0., 0., 0., 0., 0., 0., 0., 0., 0., 0., 0., 0., 0., 0., 0., 0.,\n",
       "       0., 0., 0., 0., 0., 0., 0., 0., 0., 0., 0., 0., 0., 0., 0., 0., 0.,\n",
       "       0., 0., 0., 0., 0., 0., 0., 0., 0., 0., 0., 0., 0., 0., 0., 0., 0.,\n",
       "       0., 0., 0., 0., 0., 0., 0., 0.])"
      ]
     },
     "execution_count": 138,
     "metadata": {},
     "output_type": "execute_result"
    }
   ],
   "source": [
    "zero_model_vectors[0]"
   ]
  },
  {
   "cell_type": "code",
   "execution_count": 145,
   "metadata": {},
   "outputs": [
    {
     "name": "stdout",
     "output_type": "stream",
     "text": [
      "0.17318555472568117\n",
      "0.19000239788440818\n"
     ]
    }
   ],
   "source": [
    "print(np.sqrt((zero_model_vectors[0] - mdl_datagen.to_vector())@(zero_model_vectors[0] - mdl_datagen.to_vector())))\n",
    "print(np.sqrt((mle_estimates[0].to_vector() - mdl_datagen.to_vector())@(mle_estimates[0].to_vector() - mdl_datagen.to_vector())))"
   ]
  },
  {
   "cell_type": "code",
   "execution_count": 73,
   "metadata": {},
   "outputs": [
    {
     "name": "stderr",
     "output_type": "stream",
     "text": [
      "100%|███████████████████████████████████████████████████████████████████████████████████████████████████████████████████████████████████████████████████████████████████████████████████████████████████████| 45/45 [00:00<00:00, 391.83it/s]\n"
     ]
    },
    {
     "data": {
      "text/plain": [
       "[<matplotlib.lines.Line2D at 0x7f6884beef50>]"
      ]
     },
     "execution_count": 73,
     "metadata": {},
     "output_type": "execute_result"
    },
    {
     "data": {
      "image/png": "[encoded data removed]",
      "text/plain": [
       "<Figure size 432x288 with 2 Axes>"
      ]
     },
     "metadata": {
      "needs_background": "light"
     },
     "output_type": "display_data"
    }
   ],
   "source": [
    "# # model error and covar plots\n",
    "# fig, axs = plt.subplots(1, 2)\n",
    "\n",
    "# axs[0].set_title('Error in estimate')\n",
    "# axs[1].set_title('Filter covariance')\n",
    "\n",
    "# true_params = mdl_datagen.to_vector()\n",
    "\n",
    "\n",
    "# for i in tqdm(range(0, num_circs, plt_spacing)):\n",
    "#     params = data_model_vectors[i]\n",
    "#     error = np.sqrt( (params-true_params)@(params-true_params))\n",
    "#     axs[0].scatter(i, error, c='black')\n",
    "#     axs[1].scatter(i, np.sqrt(np.trace(data_covars[i])), c='black')\n",
    "    \n",
    "# MLE_error = np.sqrt( (mle_fit.to_vector()-true_params)@(mle_fit.to_vector()-true_params))\n",
    "# linear_error = np.sqrt( (linear_fit.to_vector()-true_params)@(linear_fit.to_vector()-true_params))\n",
    "# axs[0].plot((0, num_circs), (MLE_error, MLE_error), c='black')\n",
    "# axs[0].plot((0, num_circs), (linear_error, linear_error), c='black')\n"
   ]
  },
  {
   "cell_type": "code",
   "execution_count": null,
   "metadata": {},
   "outputs": [],
   "source": []
  },
  {
   "cell_type": "code",
   "execution_count": 187,
   "metadata": {},
   "outputs": [],
   "source": [
    "# from matplotlib import cm\n",
    "# %matplotlib inline\n",
    "# # Model convergence plot \n",
    "# fig, ax = plt.subplots(figsize=(5, 2.7), layout='constrained')\n",
    "\n",
    "# # plot the ideal params as colored lines\n",
    "# ideal_params = mdl_datagen.to_vector()\n",
    "# for idx, p in enumerate(ideal_params):\n",
    "#     c = idx/len(ideal_params)\n",
    "#     ax.plot((0, num_circs), (p, p), color=cm.get_cmap('gist_ncar')(c))\n",
    "\n",
    "# for i in tqdm(range(0, num_circs, plt_spacing)):\n",
    "#     params = data_model_vectors[i]\n",
    "#     for idx, p in enumerate(params):\n",
    "#         c = idx/len(params)\n",
    "#         ax.scatter(i, p, color=cm.get_cmap('gist_ncar')(c))\n",
    "#         ax.errorbar(i, p, yerr=np.sqrt(data_covars[i][idx, idx]), color=cm.get_cmap('gist_ncar')(c))\n",
    "    \n",
    "# params = data_model_vectors[num_circs-1]\n",
    "# for idx, p in enumerate(params):\n",
    "#     c = idx/len(params)\n",
    "#     ax.scatter(num_circs-1, p, color=cm.get_cmap('gist_ncar')(c))\n",
    "#     ax.errorbar(num_circs-1, p, yerr=np.sqrt(data_covars[i][idx, idx]), color=cm.get_cmap('gist_ncar')(c))\n",
    "    \n",
    "# ax.set_ylim([-0.001, 0.024])\n",
    "# ax.set_title('Parameter convergence')\n",
    "# ax.set_xlabel('Circuit index')\n",
    "# ax.set_ylabel('Parameter magnitude')"
   ]
  },
  {
   "cell_type": "code",
   "execution_count": 80,
   "metadata": {},
   "outputs": [
    {
     "name": "stderr",
     "output_type": "stream",
     "text": [
      "  0%|                                                                                                                                                                                                                 | 0/45 [00:00<?, ?it/s]/tmp/ipykernel_2438/3849024774.py:14: RuntimeWarning: invalid value encountered in log\n",
      "  infidel = np.log(1 - avg_gs_fidelity(filter_model, mdl_datagen))\n",
      "100%|████████████████████████████████████████████████████████████████████████████████████████████████████████████████████████████████████████████████████████████████████████████████████████████████████████| 45/45 [00:19<00:00,  2.30it/s]\n"
     ]
    },
    {
     "data": {
      "text/plain": [
       "Text(0, 0.5, 'AGSI (log)')"
      ]
     },
     "execution_count": 80,
     "metadata": {},
     "output_type": "execute_result"
    },
    {
     "data": {
      "image/png": "[encoded data removed]",
      "text/plain": [
       "<Figure size 360x194.4 with 1 Axes>"
      ]
     },
     "metadata": {
      "needs_background": "light"
     },
     "output_type": "display_data"
    }
   ],
   "source": [
    "# # Infidelity convergence plot \n",
    "# num_samples = 32\n",
    "    \n",
    "# fig, ax = plt.subplots(figsize=(5, 2.7), layout='constrained')\n",
    "\n",
    "# for i in tqdm(range(0, num_circs, plt_spacing)):\n",
    "#     filter_model.from_vector(data_model_vectors[i])\n",
    "#     mean_infidel = np.log(1 - avg_gs_fidelity(filter_model, mdl_datagen))\n",
    "    \n",
    "    \n",
    "#     for s in range(num_samples):\n",
    "#         x0 = np.random.multivariate_normal(data_model_vectors[i], data_covars[i])\n",
    "#         filter_model.from_vector(x0)\n",
    "#         infidel = np.log(1 - avg_gs_fidelity(filter_model, mdl_datagen))\n",
    "#         plt.scatter(i, infidel, c='black', alpha=0.5)\n",
    "        \n",
    "#     ax.scatter(i, mean_infidel, c='red')\n",
    "    \n",
    "# i = num_circs-1\n",
    "# filter_model.from_vector(data_model_vectors[i])\n",
    "# mean_infidel = np.log(1 - avg_gs_fidelity(filter_model, mdl_datagen))\n",
    "\n",
    "# for s in range(num_samples):\n",
    "#     x0 = np.random.multivariate_normal(data_model_vectors[i], data_covars[i])\n",
    "#     filter_model.from_vector(x0)\n",
    "#     infidel = np.log(1 - avg_gs_fidelity(filter_model, mdl_datagen))\n",
    "#     plt.scatter(i, infidel, c='black', alpha=0.5)\n",
    "\n",
    "# ax.scatter(i, mean_infidel, c='red')\n",
    "    \n",
    "# mle_infidel = np.log(1-avg_gs_fidelity(mle_fit, mdl_datagen))\n",
    "# ax.plot((0, num_circs), (mle_infidel, mle_infidel), c='gray')\n",
    "\n",
    "# linear_infidel = np.log(1-avg_gs_fidelity(linear_fit, mdl_datagen))\n",
    "# ax.plot((0, num_circs), (linear_infidel, linear_infidel), c='gray')\n",
    "\n",
    "\n",
    "# ax.set_title('Entanglement infidelity evolution (log)')\n",
    "# ax.set_xlabel('Circuit index')\n",
    "# ax.set_ylabel('AGSI (log)')"
   ]
  },
  {
   "cell_type": "code",
   "execution_count": 86,
   "metadata": {},
   "outputs": [],
   "source": [
    "# %matplotlib\n",
    "# from matplotlib import cm\n",
    "# plt_spacing = 10\n",
    "\n",
    "# fig, axs = plt.subplots(6, 2)\n",
    "# axs[0,0].set_title('Estimate errors')\n",
    "# axs[0,1].set_title('Innovations')\n",
    "# axs[1,0].set_title('Parameter estimate')\n",
    "# axs[1,1].set_title('Jacobian error')\n",
    "# axs[2,0].set_title('Total uncertainty (trace of covar)')\n",
    "# axs[2,1].set_title('Total error in filter')\n",
    "# axs[3,0].set_title('Total uncertainty (trace of covar) (log)')\n",
    "# axs[3,1].set_title('Total error in filter (log)')\n",
    "# axs[4,0].set_title('Prior innovation history')\n",
    "# axs[4,1].set_title('Posterior innovation history')\n",
    "# axs[5,0].set_title('AGSI (log)')\n",
    "# axs[5,1].set_title('Kalman gain norm and difference (log)')\n",
    "# fig.subplots_adjust(left=None, bottom=None, right=None, top=None, wspace=None, hspace=0.6)\n",
    "\n",
    "# flg = 0\n",
    "\n",
    "# true_params = mdl_datagen.to_vector()\n",
    "# prior_innovs = []\n",
    "# post_innovs = []\n",
    "# prior_kgain = np.zeros((len(true_params), 2))\n",
    "\n",
    "# total_circuit_len = sum([len(c) for c in edesign.circuit_lists])\n",
    "\n",
    "\n",
    "# for circ_list in edesign.circuit_lists:\n",
    "#     for circ in tqdm(circ_list):\n",
    "#         counts = data.dataset[circ].counts\n",
    "#         cvec = vector_from_outcomes(counts, 2**circ.width)\n",
    "#         freq = cvec/sum(cvec)\n",
    "        \n",
    "#         p_filter_prior = vector_from_outcomes(ekf.model.probabilities(circ), 2**circ.width)\n",
    "#         prior_innov = freq - p_filter_prior    \n",
    "#         prior_model_error = np.linalg.norm(mdl_datagen.to_vector() - ekf.model.to_vector())\n",
    "            \n",
    "#         kgain = ekf.update(circ, cvec, jdict[circ], hdict[circ], max_itr, max_itr_epsilon, None, None)\n",
    "\n",
    "#         p_filter_post = vector_from_outcomes(ekf.model.probabilities(circ), 2**circ.width)\n",
    "#         post_innov = freq - p_filter_post\n",
    "\n",
    "#         prior_innovs.append(prior_innov)\n",
    "#         post_innovs.append(post_innov)\n",
    "            \n",
    "            \n",
    "#         # plotting\n",
    "#         if flg%plt_spacing == 0:\n",
    "#             # innovations\n",
    "#             axs[0,1].scatter(flg, prior_innov[0], c='red')\n",
    "#             axs[0,1].scatter(flg, post_innov[0], c='green', alpha=0.5)\n",
    "            \n",
    "#             # evolution of the total model errors\n",
    "#             post_model_error = np.linalg.norm(mdl_datagen.to_vector() - ekf.model.to_vector())\n",
    "#             axs[2,1].scatter(flg, prior_model_error, c='red')\n",
    "#             axs[2,1].scatter(flg, post_model_error, c='green')\n",
    "#             axs[3,1].scatter(flg, np.log(prior_model_error), c='red')\n",
    "#             axs[3,1].scatter(flg, np.log(post_model_error), c='green')\n",
    "            \n",
    "#             # evolution of specific parameter model errors\n",
    "#             params = ekf.model.to_vector()\n",
    "#             for idx, p in enumerate(params):\n",
    "#                 axs[0, 0].scatter(idx, abs(true_params[idx] - params[idx]),  color=cm.get_cmap('inferno')(100*flg/total_circuit_len), alpha=0.5)\n",
    "            \n",
    "#             # filter uncertainty\n",
    "#             P = ekf.P\n",
    "#             axs[2,0].scatter(flg, np.sqrt(np.trace(P)), c='black')\n",
    "#             axs[3,0].scatter(flg, np.log(np.sqrt(np.trace(P))), c='black')\n",
    "            \n",
    "#             # param tracker with error bars\n",
    "#             params = ekf.model.to_vector()\n",
    "#             for idx, p in enumerate(params):\n",
    "#                 c = idx/len(params)\n",
    "#                 axs[1,0].scatter(flg, p, color=cm.get_cmap('gist_ncar')(c))\n",
    "#                 axs[1,0].errorbar(flg, p, yerr=np.sqrt(P[idx, idx]), color=cm.get_cmap('gist_ncar')(c))\n",
    "                \n",
    "#             # evolution of the Kgain \n",
    "#             axs[5, 1].scatter(flg, np.log(np.linalg.norm(prior_kgain - kgain)), c='black')\n",
    "#             axs[5, 1].scatter(flg, np.log(np.linalg.norm(kgain)), c='blue')\n",
    "            \n",
    "#             # evolution of the agsi\n",
    "#             agsf = avg_gs_fidelity(ekf.model, mdl_datagen)\n",
    "#             axs[5, 0].scatter(flg, np.log(1-agsf), c='green')\n",
    "            \n",
    "#             # evolution of jacobian error\n",
    "#             jtrue = matrix_from_jacob(ekf.model.sim.dprobs(circ), 2**circ.width)\n",
    "#             japprox = jdict[circ] + ekf.model.to_vector()@hdict[circ]\n",
    "#             jerror = np.linalg.norm(jtrue - japprox)/np.linalg.norm(japprox)\n",
    "#             axs[1, 1].scatter(flg, jerror, c='black')\n",
    "                \n",
    "            \n",
    "#         prior_kgain = kgain\n",
    "#         flg += 1\n",
    "        \n",
    "# axs[0,1].plot((0, flg), (1/np.sqrt(samples), 1/np.sqrt(samples)), c='black')\n",
    "# axs[0,1].plot((0, flg), (-1/np.sqrt(samples), -1/np.sqrt(samples)), c='black')\n",
    "\n",
    "# true_params = mdl_datagen.to_vector()\n",
    "\n",
    "# for idx, p in enumerate(true_params):\n",
    "#     c = idx/len(true_params)\n",
    "#     params = ekf.model.to_vector()\n",
    "#     axs[0, 0].scatter(idx, abs(true_params[idx] - x0[idx]), c='magenta')\n",
    "#     axs[0, 0].scatter(idx, abs(true_params[idx] - params[idx]), c='cyan')\n",
    "    \n",
    "# axs[4, 0].hist([p[0] for p in prior_innovs])\n",
    "# axs[4, 1].hist([p[0] for p in post_innovs])\n",
    "\n",
    "# plt.savefig('P01_abouttrue_Seed10.svg')"
   ]
  },
  {
   "cell_type": "code",
   "execution_count": 190,
   "metadata": {},
   "outputs": [],
   "source": [
    "# # parameter distance plots\n",
    "# bar_width = 0.4\n",
    "# fig, ax = plt.subplots(figsize=(5, 2.7), layout='constrained')\n",
    "# true_params = mdl_datagen.to_vector()\n",
    "\n",
    "# for i in tqdm(range(0, num_circs, plt_spacing)):\n",
    "#     params = data_model_vectors[i]\n",
    "#     c = i/num_circs\n",
    "#     for idx, p in enumerate(params):\n",
    "#         ax.bar(idx, abs(p - true_params[idx]), bar_width, color=cm.get_cmap('cividis')(c))\n",
    "        \n",
    "# i = num_circs-1\n",
    "# params = data_model_vectors[i]\n",
    "# c = i/num_circs\n",
    "# for idx, p in enumerate(params):\n",
    "#     ax.bar(idx, abs(p - true_params[idx]), bar_width, color=cm.get_cmap('cividis')(c))\n",
    "\n",
    "# for i in tqdm(range(0, num_circs, plt_spacing)):\n",
    "#     params = data_model_vectors[i]\n",
    "#     c = i/num_circs\n",
    "#     for idx, p in enumerate(params):\n",
    "#         ax.scatter(idx, abs(p - true_params[idx]), marker='s', color=cm.get_cmap('cividis')(c))\n",
    "        \n",
    "# i = num_circs-1\n",
    "# params = data_model_vectors[i]\n",
    "# c = i/num_circs\n",
    "# for idx, p in enumerate(params):\n",
    "#     ax.scatter(idx, abs(p - true_params[idx]), marker='s', color=cm.get_cmap('cividis')(c))\n",
    "        \n",
    "# mle_params = mle_fit.to_vector()\n",
    "# for idx, p in enumerate(mle_params):\n",
    "#     ax.plot((idx-0.25, idx+0.25), (abs(p - true_params[idx]), abs(p - true_params[idx])), c='red')\n",
    "    \n",
    "# ax.set_title('Distance from datagen model')\n",
    "# ax.set_xlabel('Parameter index')\n",
    "# ax.set_ylabel('Error magnitude')"
   ]
  },
  {
   "cell_type": "code",
   "execution_count": null,
   "metadata": {},
   "outputs": [],
   "source": []
  },
  {
   "cell_type": "code",
   "execution_count": 89,
   "metadata": {},
   "outputs": [
    {
     "data": {
      "text/plain": [
       "<matplotlib.image.AxesImage at 0x7f534197e170>"
      ]
     },
     "execution_count": 89,
     "metadata": {},
     "output_type": "execute_result"
    }
   ],
   "source": [
    "%matplotlib qt5\n",
    "plt.matshow(ekf.P)"
   ]
  },
  {
   "cell_type": "code",
   "execution_count": 25,
   "metadata": {},
   "outputs": [
    {
     "data": {
      "text/plain": [
       "0.9852445602865357"
      ]
     },
     "execution_count": 25,
     "metadata": {},
     "output_type": "execute_result"
    }
   ],
   "source": [
    "avg_gs_fidelity(target_model, mdl_datagen)"
   ]
  },
  {
   "cell_type": "code",
   "execution_count": 26,
   "metadata": {},
   "outputs": [
    {
     "data": {
      "text/plain": [
       "0.9596020198729422"
      ]
     },
     "execution_count": 26,
     "metadata": {},
     "output_type": "execute_result"
    }
   ],
   "source": [
    "avg_gs_fidelity(filter_model, mdl_datagen)"
   ]
  },
  {
   "cell_type": "code",
   "execution_count": 27,
   "metadata": {},
   "outputs": [
    {
     "data": {
      "text/plain": [
       "0.9999902408662896"
      ]
     },
     "execution_count": 27,
     "metadata": {},
     "output_type": "execute_result"
    }
   ],
   "source": [
    "avg_gs_fidelity(ekf.model, mdl_datagen)"
   ]
  },
  {
   "cell_type": "code",
   "execution_count": 28,
   "metadata": {},
   "outputs": [],
   "source": [
    "# convert to TP model first\n",
    "# model.set_parameterization?\n",
    "#gauge_mdl = ekf.model.copy()\n",
    "#gauge_mdl.set_all_parameterizations('CPTP')\n",
    "#gauge_optimized_mdl = pygsti.algorithms.gaugeopt_to_target(ekf.model, target_model, item_weights={'gates': 1.0, 'spam': 0.1})\n",
    "#avg_gs_fidelity(gauge_optimized_mdl, mdl_datagen)"
   ]
  },
  {
   "cell_type": "code",
   "execution_count": 29,
   "metadata": {},
   "outputs": [
    {
     "data": {
      "text/plain": [
       "0.9999928176693985"
      ]
     },
     "execution_count": 29,
     "metadata": {},
     "output_type": "execute_result"
    }
   ],
   "source": [
    "avg_gs_fidelity(linear_fit, mdl_datagen)"
   ]
  },
  {
   "cell_type": "code",
   "execution_count": 30,
   "metadata": {},
   "outputs": [
    {
     "data": {
      "text/plain": [
       "0.9999928176693985"
      ]
     },
     "execution_count": 30,
     "metadata": {},
     "output_type": "execute_result"
    }
   ],
   "source": [
    "avg_gs_fidelity(mle_fit, mdl_datagen)"
   ]
  },
  {
   "cell_type": "code",
   "execution_count": null,
   "metadata": {},
   "outputs": [],
   "source": [
    "def likelihood(estimate):\n",
    "    mdl = target_model.copy()\n",
    "    mdl.from_vector(estimate)\n",
    "    pout = 1\n",
    "    for circ_list in edesign.circuit_lists:\n",
    "        for circ in circ_list:\n",
    "            pout *= vector_from_outcomes(mdl.probabilities(circ), 2**circ.width)\n",
    "    return pout"
   ]
  },
  {
   "cell_type": "code",
   "execution_count": 158,
   "metadata": {},
   "outputs": [
    {
     "name": "stdout",
     "output_type": "stream",
     "text": [
      "[0.13315865 0.0715279  0.15454003 0.00083838 0.0621336  0.07200856\n",
      " 0.02655116 0.01085485 0.00042914 0.01746002 0.04330262 0.12030374\n",
      " 0.09650657 0.10282741 0.02286301 0.04451376 0.11366022 0.01351369]\n"
     ]
    }
   ],
   "source": [
    "# try using a Gaussian rv about the ideal point \n",
    "np.random.seed(10)\n",
    "\n",
    "P = 0.01*np.eye(filter_model.num_params)\n",
    "\n",
    "filter_model = target_model.copy()\n",
    "\n",
    "max_itr = 20\n",
    "max_itr_epsilon = 1e-6\n",
    "\n",
    "x0 = np.abs(np.random.multivariate_normal(np.zeros(filter_model.num_params), P))\n",
    "print(x0)\n",
    "\n",
    "filter_model.from_vector(x0)\n",
    "\n",
    "P0 = P\n",
    "ekf = ExtendedKalmanFilter(filter_model.copy(), P)"
   ]
  },
  {
   "cell_type": "code",
   "execution_count": 159,
   "metadata": {},
   "outputs": [
    {
     "name": "stdout",
     "output_type": "stream",
     "text": [
      "[0.00191519 0.00622109 0.00437728 0.00785359 0.00779976 0.00272593\n",
      " 0.00276464 0.00801872 0.00958139 0.00875933 0.00357817 0.00500995\n",
      " 0.00683463 0.00712702 0.00370251 0.00561196 0.00503083 0.00013768]\n",
      "0.3138526595528793\n"
     ]
    }
   ],
   "source": [
    "print(mdl_datagen.to_vector())\n",
    "print(np.linalg.norm(ekf.model.to_vector() - mdl_datagen.to_vector()))"
   ]
  },
  {
   "cell_type": "code",
   "execution_count": 160,
   "metadata": {},
   "outputs": [
    {
     "data": {
      "text/plain": [
       "0.9328572944033554"
      ]
     },
     "execution_count": 160,
     "metadata": {},
     "output_type": "execute_result"
    }
   ],
   "source": [
    "avg_gs_fidelity(filter_model, mdl_datagen)"
   ]
  },
  {
   "cell_type": "code",
   "execution_count": 161,
   "metadata": {},
   "outputs": [
    {
     "name": "stdout",
     "output_type": "stream",
     "text": [
      "Using matplotlib backend: QtAgg\n"
     ]
    },
    {
     "name": "stderr",
     "output_type": "stream",
     "text": [
      "100%|████████████████████████████████████████████████████████████████████████████████████████████████████████████████████████████████████████████████████████████████████████████████████████████████████████| 92/92 [01:02<00:00,  1.47it/s]\n",
      "100%|██████████████████████████████████████████████████████████████████████████████████████████████████████████████████████████████████████████████████████████████████████████████████████████████████████| 168/168 [02:17<00:00,  1.22it/s]\n",
      "100%|██████████████████████████████████████████████████████████████████████████████████████████████████████████████████████████████████████████████████████████████████████████████████████████████████████| 285/285 [04:21<00:00,  1.09it/s]\n",
      "100%|██████████████████████████████████████████████████████████████████████████████████████████████████████████████████████████████████████████████████████████████████████████████████████████████████████| 448/448 [08:02<00:00,  1.08s/it]\n"
     ]
    }
   ],
   "source": [
    "%matplotlib\n",
    "from matplotlib import cm\n",
    "plt_spacing = 10\n",
    "\n",
    "fig, axs = plt.subplots(5, 2)\n",
    "flg = 0\n",
    "\n",
    "true_params = mdl_datagen.to_vector()\n",
    "prior_innovs = []\n",
    "post_innovs = []\n",
    "prior_kgain = np.zeros((len(true_params), 2))\n",
    "\n",
    "total_circuit_len = sum([len(c) for c in circ_list])\n",
    "\n",
    "\n",
    "for circ_list in edesign.circuit_lists:\n",
    "    for circ in tqdm(circ_list):\n",
    "        counts = data.dataset[circ].counts\n",
    "        cvec = vector_from_outcomes(counts, 2**circ.width)\n",
    "        freq = cvec/sum(cvec)\n",
    "        \n",
    "        p_filter_prior = vector_from_outcomes(ekf.model.probabilities(circ), 2**circ.width)\n",
    "        prior_innov = freq - p_filter_prior    \n",
    "            \n",
    "        kgain = ekf.update(circ, cvec, jdict[circ], hdict[circ], max_itr, max_itr_epsilon, None, None)\n",
    "\n",
    "        p_filter_post = vector_from_outcomes(ekf.model.probabilities(circ), 2**circ.width)\n",
    "        post_innov = freq - p_filter_post\n",
    "\n",
    "        prior_innovs.append(prior_innov)\n",
    "        post_innovs.append(post_innov)\n",
    "            \n",
    "            \n",
    "        # plotting\n",
    "        if flg%plt_spacing == 0:\n",
    "            # innovations\n",
    "            axs[0,1].scatter(flg, prior_innov[0], c='red')\n",
    "            axs[0,1].scatter(flg, post_innov[0], c='green', alpha=0.5)\n",
    "            \n",
    "            # evolution of the total model errors\n",
    "            prior_model_error = np.linalg.norm(mdl_datagen.to_vector() - ekf.model.to_vector())\n",
    "            post_model_error = np.linalg.norm(mdl_datagen.to_vector() - ekf.model.to_vector())\n",
    "            axs[2,1].scatter(flg, prior_model_error, c='red')\n",
    "            axs[2,1].scatter(flg, post_model_error, c='green')\n",
    "            \n",
    "            # evolution of specific parameter model errors\n",
    "            params = ekf.model.to_vector()\n",
    "            for idx, p in enumerate(params):\n",
    "                axs[0, 0].scatter(idx, abs(true_params[idx] - params[idx]),  color=cm.get_cmap('inferno')(100*flg/total_circuit_len), alpha=0.5)\n",
    "            flg2+= 1\n",
    "            \n",
    "            # param tracker with error bars\n",
    "            params = ekf.model.to_vector()\n",
    "            P = ekf.P\n",
    "            axs[2,0].scatter(flg, np.sqrt(np.trace(P)), c='black')\n",
    "            for idx, p in enumerate(params):\n",
    "                c = idx/len(params)\n",
    "                axs[1,0].scatter(flg, p, color=cm.get_cmap('gist_ncar')(c))\n",
    "                axs[1,0].errorbar(flg, p, yerr=np.sqrt(P[idx, idx]), color=cm.get_cmap('gist_ncar')(c))\n",
    "                \n",
    "            # evolution of the Kgain \n",
    "            axs[4, 1].scatter(flg, np.linalg.norm(prior_kgain - kgain), c='black')\n",
    "            axs[4, 1].scatter(flg, np.linalg.norm(kgain), c='blue')\n",
    "            \n",
    "            # evolution of the agsf\n",
    "            agsf = avg_gs_fidelity(ekf.model, mdl_datagen)\n",
    "            axs[4, 0].scatter(flg, agsf, c='green')\n",
    "            \n",
    "            # evolution of jacobian error\n",
    "            jtrue = matrix_from_jacob(ekf.model.sim.dprobs(circ), 2**circ.width)\n",
    "            japprox = jdict[circ] + ekf.model.to_vector()@hdict[circ]\n",
    "            jerror = np.linalg.norm(jtrue - japprox)/np.linalg.norm(japprox)\n",
    "            axs[1, 1].scatter(flg, jerror, c='black')\n",
    "                \n",
    "            \n",
    "        prior_kgain = kgain\n",
    "        flg += 1\n",
    "        \n",
    "axs[0,1].plot((0, flg), (1/np.sqrt(samples), 1/np.sqrt(samples)), c='black')\n",
    "axs[0,1].plot((0, flg), (-1/np.sqrt(samples), -1/np.sqrt(samples)), c='black')\n",
    "\n",
    "true_params = mdl_datagen.to_vector()\n",
    "\n",
    "for idx, p in enumerate(true_params):\n",
    "    c = idx/len(true_params)\n",
    "    params = ekf.model.to_vector()\n",
    "    axs[0, 0].scatter(idx, abs(true_params[idx] - x0[idx]), c='magenta')\n",
    "    axs[0, 0].scatter(idx, abs(true_params[idx] - params[idx]), c='cyan')\n",
    "    \n",
    "axs[3, 0].hist([p[0] for p in prior_innovs])\n",
    "axs[3, 1].hist([p[0] for p in post_innovs])\n",
    "\n",
    "plt.savefig('P01_aboutzero_Seed10.svg')"
   ]
  },
  {
   "cell_type": "code",
   "execution_count": 162,
   "metadata": {},
   "outputs": [
    {
     "data": {
      "text/plain": [
       "<matplotlib.image.AxesImage at 0x7f3daffe97b0>"
      ]
     },
     "execution_count": 162,
     "metadata": {},
     "output_type": "execute_result"
    }
   ],
   "source": [
    "plt.matshow(ekf.P)"
   ]
  },
  {
   "cell_type": "code",
   "execution_count": 163,
   "metadata": {},
   "outputs": [
    {
     "data": {
      "text/plain": [
       "0.9852445602865357"
      ]
     },
     "execution_count": 163,
     "metadata": {},
     "output_type": "execute_result"
    }
   ],
   "source": [
    "avg_gs_fidelity(target_model, mdl_datagen)"
   ]
  },
  {
   "cell_type": "code",
   "execution_count": 164,
   "metadata": {},
   "outputs": [
    {
     "data": {
      "text/plain": [
       "0.9328572944033554"
      ]
     },
     "execution_count": 164,
     "metadata": {},
     "output_type": "execute_result"
    }
   ],
   "source": [
    "avg_gs_fidelity(filter_model, mdl_datagen)"
   ]
  },
  {
   "cell_type": "code",
   "execution_count": 165,
   "metadata": {},
   "outputs": [
    {
     "data": {
      "text/plain": [
       "0.9999901126514191"
      ]
     },
     "execution_count": 165,
     "metadata": {},
     "output_type": "execute_result"
    }
   ],
   "source": [
    "avg_gs_fidelity(ekf.model, mdl_datagen)"
   ]
  },
  {
   "cell_type": "code",
   "execution_count": 166,
   "metadata": {},
   "outputs": [
    {
     "data": {
      "text/plain": [
       "0.9999901126514191"
      ]
     },
     "execution_count": 166,
     "metadata": {},
     "output_type": "execute_result"
    }
   ],
   "source": [
    "gauge_optimized_mdl = pygsti.algorithms.gaugeopt_to_target(ekf.model, target_model, item_weights={'gates': 1.0, 'spam': 0.1})\n",
    "avg_gs_fidelity(gauge_optimized_mdl, mdl_datagen)"
   ]
  },
  {
   "cell_type": "code",
   "execution_count": 167,
   "metadata": {},
   "outputs": [
    {
     "data": {
      "text/plain": [
       "0.9999928176693985"
      ]
     },
     "execution_count": 167,
     "metadata": {},
     "output_type": "execute_result"
    }
   ],
   "source": [
    "avg_gs_fidelity(linear_fit, mdl_datagen)"
   ]
  },
  {
   "cell_type": "code",
   "execution_count": 168,
   "metadata": {},
   "outputs": [
    {
     "data": {
      "text/plain": [
       "0.9999928176693985"
      ]
     },
     "execution_count": 168,
     "metadata": {},
     "output_type": "execute_result"
    }
   ],
   "source": [
    "avg_gs_fidelity(mle_fit, mdl_datagen)"
   ]
  },
  {
   "cell_type": "markdown",
   "metadata": {},
   "source": [
    "# Error Gen Analysis"
   ]
  },
  {
   "cell_type": "code",
   "execution_count": 293,
   "metadata": {},
   "outputs": [
    {
     "data": {
      "text/plain": [
       "array([0.00191519, 0.00622109, 0.00437728, 0.00785359, 0.00779976,\n",
       "       0.00272593, 0.00276464, 0.00801872, 0.00958139, 0.00875933,\n",
       "       0.00357817, 0.00500995, 0.00683463, 0.00712702, 0.00370251,\n",
       "       0.00561196, 0.00503083, 0.00013768])"
      ]
     },
     "execution_count": 293,
     "metadata": {},
     "output_type": "execute_result"
    }
   ],
   "source": [
    "ar"
   ]
  },
  {
   "cell_type": "code",
   "execution_count": 296,
   "metadata": {},
   "outputs": [
    {
     "name": "stdout",
     "output_type": "stream",
     "text": [
      "rho0 = <pygsti.modelmembers.states.composedstate.ComposedState object at 0x7f5181151fc0>\n",
      "\n",
      "Mdefault = Lindblad-parameterized POVM of length 2\n",
      "\n",
      "\n",
      "[] = \n",
      "Composed operation of 2 factors:\n",
      "Factor 0:\n",
      "StaticUnitaryOp with shape (2, 2)\n",
      " 1.00   0\n",
      "   0 1.00\n",
      "Factor 1:\n",
      "Exponentiated operation map with dim = 4, num params = 6\n",
      "\n",
      "\n",
      "Gxpi2:0 = \n",
      "Composed operation of 2 factors:\n",
      "Factor 0:\n",
      "StaticUnitaryOp with shape (2, 2)\n",
      " 0.71  +0j   0-0.71j\n",
      "   0-0.71j 0.71  +0j\n",
      "Factor 1:\n",
      "Exponentiated operation map with dim = 4, num params = 6\n",
      "\n",
      "\n",
      "Gypi2:0 = \n",
      "Composed operation of 2 factors:\n",
      "Factor 0:\n",
      "StaticUnitaryOp with shape (2, 2)\n",
      " 0.71-0.71\n",
      " 0.71 0.71\n",
      "Factor 1:\n",
      "Exponentiated operation map with dim = 4, num params = 6\n",
      "\n",
      "\n",
      "\n",
      "\n"
     ]
    }
   ],
   "source": [
    "print(mdl_datagen)"
   ]
  },
  {
   "cell_type": "code",
   "execution_count": 316,
   "metadata": {},
   "outputs": [],
   "source": [
    "Gx = gst_mdl[('Gxpi2', 0)]"
   ]
  },
  {
   "cell_type": "code",
   "execution_count": 327,
   "metadata": {},
   "outputs": [
    {
     "data": {
      "text/plain": [
       "6"
      ]
     },
     "execution_count": 327,
     "metadata": {},
     "output_type": "execute_result"
    }
   ],
   "source": [
    "Gx.num_params"
   ]
  },
  {
   "cell_type": "code",
   "execution_count": 317,
   "metadata": {},
   "outputs": [
    {
     "data": {
      "text/plain": [
       "\u001b[0;31mType:\u001b[0m           ComposedOp\n",
       "\u001b[0;31mString form:\u001b[0m   \n",
       "Composed operation of 2 factors:\n",
       "Factor 0:\n",
       "StaticUnitaryOp with shape (2, 2)\n",
       " 0.71  +0j   0-0.71j\n",
       "   0-0.71j 0.71  +0j\n",
       "Factor 1:\n",
       "Exponentiated operation map with dim = 4, num params = 6\n",
       "\u001b[0;31mFile:\u001b[0m           ~/Applications/pyGSTi/pygsti/modelmembers/operations/composedop.py\n",
       "\u001b[0;31mDocstring:\u001b[0m     \n",
       "An operation that is the composition of a number of map-like factors (possibly other `LinearOperator`s).\n",
       "\n",
       "Parameters\n",
       "----------\n",
       "ops_to_compose : list\n",
       "    List of `LinearOperator`-derived objects\n",
       "    that are composed to form this operation map.  Elements are composed\n",
       "    with vectors  in  *left-to-right* ordering, maintaining the same\n",
       "    convention as operation sequences in pyGSTi.  Note that this is\n",
       "    *opposite* from standard matrix multiplication order.\n",
       "\n",
       "evotype : Evotype or str, optional\n",
       "    The evolution type.  The special value `\"default\"` is equivalent\n",
       "    to specifying the value of `pygsti.evotypes.Evotype.default_evotype`.\n",
       "    The special value `\"auto\"` is equivalent to the evolution type\n",
       "    of `ops_to_compose[0]` *if* there's at least one operation being composed.\n",
       "\n",
       "state_space : StateSpace or \"auto\"\n",
       "    State space of this error generator.  Can be set to `\"auto\"` to take\n",
       "    the state space from `errgens_to_compose[0]` *if* there's at least one\n",
       "    error generator being composed.\n",
       "\u001b[0;31mInit docstring:\u001b[0m Initialize a new LinearOperator \n"
      ]
     },
     "metadata": {},
     "output_type": "display_data"
    }
   ],
   "source": [
    "Gx?"
   ]
  },
  {
   "cell_type": "code",
   "execution_count": 318,
   "metadata": {},
   "outputs": [],
   "source": [
    "Gideal, E = Gx.submembers()"
   ]
  },
  {
   "cell_type": "code",
   "execution_count": 319,
   "metadata": {},
   "outputs": [
    {
     "name": "stdout",
     "output_type": "stream",
     "text": [
      "Exponentiated operation map with dim = 4, num params = 6\n",
      "\n"
     ]
    }
   ],
   "source": [
    "print(E)"
   ]
  },
  {
   "cell_type": "code",
   "execution_count": 320,
   "metadata": {},
   "outputs": [
    {
     "data": {
      "text/plain": [
       "\u001b[0;31mType:\u001b[0m           ExpErrorgenOp\n",
       "\u001b[0;31mString form:\u001b[0m    Exponentiated operation map with dim = 4, num params = 6\n",
       "\u001b[0;31mFile:\u001b[0m           ~/Applications/pyGSTi/pygsti/modelmembers/operations/experrorgenop.py\n",
       "\u001b[0;31mDocstring:\u001b[0m     \n",
       "An operation parameterized by the coefficients of an exponentiated sum of Lindblad-like terms.\n",
       "TODO: update docstring!\n",
       "\n",
       "The exponentiated terms give the operation's action.\n",
       "\n",
       "Parameters\n",
       "----------\n",
       "errorgen : LinearOperator\n",
       "    The error generator for this operator.  That is, the `L` if this\n",
       "    operator is `exp(L)`.\n",
       "\u001b[0;31mInit docstring:\u001b[0m Initialize a new LinearOperator \n"
      ]
     },
     "metadata": {},
     "output_type": "display_data"
    }
   ],
   "source": [
    "E?"
   ]
  },
  {
   "cell_type": "code",
   "execution_count": 321,
   "metadata": {},
   "outputs": [
    {
     "name": "stdout",
     "output_type": "stream",
     "text": [
      "Lindblad error generator with dim = 4, num params = 6\n",
      "\n"
     ]
    }
   ],
   "source": [
    "print(E.errorgen)"
   ]
  },
  {
   "cell_type": "code",
   "execution_count": 322,
   "metadata": {},
   "outputs": [
    {
     "data": {
      "text/plain": [
       "\u001b[0;31mType:\u001b[0m           ExpErrorgenOp\n",
       "\u001b[0;31mString form:\u001b[0m    Exponentiated operation map with dim = 4, num params = 6\n",
       "\u001b[0;31mFile:\u001b[0m           ~/Applications/pyGSTi/pygsti/modelmembers/operations/experrorgenop.py\n",
       "\u001b[0;31mDocstring:\u001b[0m     \n",
       "An operation parameterized by the coefficients of an exponentiated sum of Lindblad-like terms.\n",
       "TODO: update docstring!\n",
       "\n",
       "The exponentiated terms give the operation's action.\n",
       "\n",
       "Parameters\n",
       "----------\n",
       "errorgen : LinearOperator\n",
       "    The error generator for this operator.  That is, the `L` if this\n",
       "    operator is `exp(L)`.\n",
       "\u001b[0;31mInit docstring:\u001b[0m Initialize a new LinearOperator \n"
      ]
     },
     "metadata": {},
     "output_type": "display_data"
    }
   ],
   "source": [
    "E?"
   ]
  },
  {
   "cell_type": "code",
   "execution_count": 323,
   "metadata": {},
   "outputs": [
    {
     "data": {
      "text/plain": [
       "array(['X Hamiltonian error coefficient',\n",
       "       'Y Hamiltonian error coefficient',\n",
       "       'Z Hamiltonian error coefficient', 'X stochastic coefficient',\n",
       "       'Y stochastic coefficient', 'Z stochastic coefficient'],\n",
       "      dtype=object)"
      ]
     },
     "execution_count": 323,
     "metadata": {},
     "output_type": "execute_result"
    }
   ],
   "source": [
    "E.parameter_labels"
   ]
  },
  {
   "cell_type": "code",
   "execution_count": 326,
   "metadata": {},
   "outputs": [
    {
     "data": {
      "text/plain": [
       "(('H', ('X',), (0,)),\n",
       " ('H', ('Y',), (0,)),\n",
       " ('H', ('Z',), (0,)),\n",
       " ('S', ('X',), (0,)),\n",
       " ('S', ('Y',), (0,)),\n",
       " ('S', ('Z',), (0,)))"
      ]
     },
     "execution_count": 326,
     "metadata": {},
     "output_type": "execute_result"
    }
   ],
   "source": [
    "gauge_basis.labels"
   ]
  },
  {
   "cell_type": "markdown",
   "metadata": {},
   "source": []
  }
 ],
 "metadata": {
  "kernelspec": {
   "display_name": "Python 3 (ipykernel)",
   "language": "python",
   "name": "python3"
  },
  "language_info": {
   "codemirror_mode": {
    "name": "ipython",
    "version": 3
   },
   "file_extension": ".py",
   "mimetype": "text/x-python",
   "name": "python",
   "nbconvert_exporter": "python",
   "pygments_lexer": "ipython3",
   "version": "3.10.4"
  }
 },
 "nbformat": 4,
 "nbformat_minor": 4
}
