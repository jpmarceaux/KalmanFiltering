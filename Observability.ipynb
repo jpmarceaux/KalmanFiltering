{
 "cells": [
  {
   "cell_type": "code",
   "execution_count": 1,
   "id": "c20af653-4776-495c-a98d-85afe9ea06e4",
   "metadata": {},
   "outputs": [],
   "source": [
    "from kalman_gst import *  \n",
    "from pygsti.modelpacks import smq1Q_XYI as std\n"
   ]
  },
  {
   "cell_type": "code",
   "execution_count": 2,
   "id": "fb379ff3-a6c2-44cc-94e4-fffc49c38c1b",
   "metadata": {},
   "outputs": [],
   "source": [
    "SEED = 2021\n",
    "SAMPLES = 256\n",
    "HDIMS = 2 # 1-qubit models\n",
    "np.random.seed(SEED)"
   ]
  },
  {
   "cell_type": "code",
   "execution_count": 92,
   "id": "474180a7-a480-4243-9680-1a17d60963be",
   "metadata": {},
   "outputs": [],
   "source": [
    "# make an edesign and simulate the data\n",
    "target_model = std.target_model('CPTP')\n",
    "maxLengths = [1]\n",
    "maxlength_edesign = pygsti.protocols.StandardGSTDesign(target_model, std.prep_fiducials(), std.meas_fiducials(),\n",
    "                                                std.germs(), maxLengths)\n",
    "maxlength_circ_list = maxlength_edesign.circuit_lists[-1]"
   ]
  },
  {
   "cell_type": "code",
   "execution_count": 203,
   "id": "9968efe1-7a3d-4eab-b40e-616f703b5ca1",
   "metadata": {},
   "outputs": [
    {
     "data": {
      "text/plain": [
       "60"
      ]
     },
     "execution_count": 203,
     "metadata": {},
     "output_type": "execute_result"
    }
   ],
   "source": [
    "target_model.num_params"
   ]
  },
  {
   "cell_type": "code",
   "execution_count": 93,
   "id": "33999334-f8b3-4acf-af0f-e4776af583b2",
   "metadata": {},
   "outputs": [],
   "source": [
    "# #calculate jacobians \n",
    "# jdict = dict()\n",
    "\n",
    "# for circ in tqdm(maxlength_circ_list):\n",
    "#     jdict[circ] = matrix_from_jacob(target_model.sim.dprobs(circ), 2**circ.width)\n",
    "        \n",
    "# pickle_dict(jdict, 'observability_jacs')"
   ]
  },
  {
   "cell_type": "code",
   "execution_count": 94,
   "id": "531a3283-e6db-4195-8e56-48e02463a02e",
   "metadata": {},
   "outputs": [],
   "source": [
    "jdict = load_dict('observability_jacs')"
   ]
  },
  {
   "cell_type": "code",
   "execution_count": 212,
   "id": "82a14d52-cea7-4423-9359-f5a78129343c",
   "metadata": {},
   "outputs": [],
   "source": [
    "def total_design_matrix(model, circuit_list):\n",
    "    dmat = np.zeros((0, model.num_params))\n",
    "    for circ in tqdm(circuit_list):\n",
    "        jmat = matrix_from_jacob(model.sim.dprobs(circ), 2**circ.width)\n",
    "        dmat = np.vstack([dmat, jmat])\n",
    "    return dmat"
   ]
  },
  {
   "cell_type": "code",
   "execution_count": 96,
   "id": "d050b50c-8a6b-4aba-86a0-900ea627cc8c",
   "metadata": {},
   "outputs": [
    {
     "name": "stderr",
     "output_type": "stream",
     "text": [
      "100%|████████████████████████████████████████████████████████████████████████████████████████████████████████████████████████████████████████████████████████████████████████████████████████████████████████| 92/92 [00:05<00:00, 16.88it/s]\n"
     ]
    }
   ],
   "source": [
    "Htot = total_design_matrix(target_model, maxlength_circ_list)"
   ]
  },
  {
   "cell_type": "code",
   "execution_count": 97,
   "id": "0ca6ad65-e725-41e1-aec2-8f0bc7e08c9a",
   "metadata": {},
   "outputs": [
    {
     "name": "stdout",
     "output_type": "stream",
     "text": [
      "(184, 60)\n"
     ]
    },
    {
     "data": {
      "text/plain": [
       "[<matplotlib.lines.Line2D at 0x7f0a794becb0>]"
      ]
     },
     "execution_count": 97,
     "metadata": {},
     "output_type": "execute_result"
    },
    {
     "data": {
      "image/png": "[encoded data removed]",
      "text/plain": [
       "<Figure size 432x288 with 1 Axes>"
      ]
     },
     "metadata": {
      "needs_background": "light"
     },
     "output_type": "display_data"
    }
   ],
   "source": [
    "print(Htot.shape)\n",
    "U, S, Vt = np.linalg.svd(Htot)\n",
    "plt.plot(S)"
   ]
  },
  {
   "cell_type": "code",
   "execution_count": 178,
   "id": "44f9a6c2-716b-4f05-952c-13a876635150",
   "metadata": {},
   "outputs": [
    {
     "name": "stdout",
     "output_type": "stream",
     "text": [
      "60\n",
      "18\n"
     ]
    }
   ],
   "source": [
    "print(len(S))\n",
    "eps = 1e-9\n",
    "nonzero_svals = [s for s in S if s > eps]\n",
    "print(len(nonzero_svals))\n",
    "for s in S[18:]:\n",
    "    assert s < eps"
   ]
  },
  {
   "cell_type": "code",
   "execution_count": 179,
   "id": "b86aeb1a-da44-48b6-b80d-f6dddb1f6584",
   "metadata": {},
   "outputs": [
    {
     "data": {
      "text/plain": [
       "(60, 60)"
      ]
     },
     "execution_count": 179,
     "metadata": {},
     "output_type": "execute_result"
    }
   ],
   "source": [
    "Vt.shape"
   ]
  },
  {
   "cell_type": "code",
   "execution_count": 180,
   "id": "ea7c02aa-847e-42fa-94e9-400d65b5e819",
   "metadata": {},
   "outputs": [
    {
     "data": {
      "text/plain": [
       "<matplotlib.image.AxesImage at 0x7f0a7862e5f0>"
      ]
     },
     "execution_count": 180,
     "metadata": {},
     "output_type": "execute_result"
    },
    {
     "data": {
      "image/png": "[encoded data removed]",
      "text/plain": [
       "<Figure size 288x288 with 1 Axes>"
      ]
     },
     "metadata": {
      "needs_background": "light"
     },
     "output_type": "display_data"
    }
   ],
   "source": [
    "# construct projector onto the nullspace of the design matrix \n",
    "V = Vt.T\n",
    "\n",
    "nullpart = np.zeros(V.shape)\n",
    "for idx, s in enumerate(S):\n",
    "    if s < eps:\n",
    "        nullpart[:, idx] = V[:, idx]\n",
    "obspart = np.zeros(V.shape)\n",
    "for idx, s in enumerate(S):\n",
    "    if s >= eps:\n",
    "        obspart[:, idx] = V[:, idx]\n",
    "        \n",
    "proj_nullspace = V@nullpart.T\n",
    "proj_obs = V@obspart.T\n",
    "plt.matshow(proj_nullspace+proj_obs)"
   ]
  },
  {
   "cell_type": "code",
   "execution_count": 186,
   "id": "1a39590a-5532-4e61-9f4d-f62f6f564df9",
   "metadata": {},
   "outputs": [
    {
     "data": {
      "text/plain": [
       "<matplotlib.image.AxesImage at 0x7f0a78569510>"
      ]
     },
     "execution_count": 186,
     "metadata": {},
     "output_type": "execute_result"
    },
    {
     "data": {
      "image/png": "[encoded data removed]",
      "text/plain": [
       "<Figure size 288x288 with 1 Axes>"
      ]
     },
     "metadata": {
      "needs_background": "light"
     },
     "output_type": "display_data"
    }
   ],
   "source": [
    "plt.matshow(proj_nullspace@proj_nullspace)"
   ]
  },
  {
   "cell_type": "code",
   "execution_count": 187,
   "id": "04627098-f952-48f0-a99e-7ad834972633",
   "metadata": {},
   "outputs": [
    {
     "data": {
      "text/plain": [
       "<matplotlib.image.AxesImage at 0x7f0a785d0790>"
      ]
     },
     "execution_count": 187,
     "metadata": {},
     "output_type": "execute_result"
    },
    {
     "data": {
      "image/png": "[encoded data removed]",
      "text/plain": [
       "<Figure size 288x288 with 1 Axes>"
      ]
     },
     "metadata": {
      "needs_background": "light"
     },
     "output_type": "display_data"
    }
   ],
   "source": [
    "plt.matshow(proj_nullspace@proj_nullspace)"
   ]
  },
  {
   "cell_type": "code",
   "execution_count": 182,
   "id": "0fcfaa3d-b29e-4d95-be8f-a4f6622159b3",
   "metadata": {},
   "outputs": [],
   "source": [
    "assert np.all( abs(proj_nullspace@proj_nullspace - proj_nullspace) < 0.000001 )"
   ]
  },
  {
   "cell_type": "code",
   "execution_count": 183,
   "id": "72d77266-d8cf-4a88-a609-2023387e031a",
   "metadata": {},
   "outputs": [
    {
     "data": {
      "text/plain": [
       "1.942816937370492e-15"
      ]
     },
     "execution_count": 183,
     "metadata": {},
     "output_type": "execute_result"
    }
   ],
   "source": [
    "np.max(Htot@proj_nullspace)"
   ]
  },
  {
   "cell_type": "code",
   "execution_count": 184,
   "id": "15284830-1952-4428-bf45-c56c584ce9df",
   "metadata": {},
   "outputs": [
    {
     "data": {
      "text/plain": [
       "<matplotlib.image.AxesImage at 0x7f0a786eee90>"
      ]
     },
     "execution_count": 184,
     "metadata": {},
     "output_type": "execute_result"
    },
    {
     "data": {
      "image/png": "[encoded data removed]",
      "text/plain": [
       "<Figure size 288x883.2 with 1 Axes>"
      ]
     },
     "metadata": {
      "needs_background": "light"
     },
     "output_type": "display_data"
    }
   ],
   "source": [
    "plt.matshow(Htot@proj_nullspace)"
   ]
  },
  {
   "cell_type": "code",
   "execution_count": 198,
   "id": "d986cdfe-c54f-4a96-8bc1-f56d1dd3d358",
   "metadata": {},
   "outputs": [
    {
     "name": "stdout",
     "output_type": "stream",
     "text": [
      "2.55351295663786e-15\n"
     ]
    }
   ],
   "source": [
    "# see what happens when you combine model jacs with obs_projectors\n",
    "print(max([np.max(abs(jdict[circ] - jdict[circ]@proj_obs)) for circ in jdict.keys()]))\n",
    "# I find the obs_projector does not change the jacobian"
   ]
  },
  {
   "cell_type": "markdown",
   "id": "86655dc5-ee51-4768-8196-39f8882081c2",
   "metadata": {},
   "source": [
    "# compare numbers with fogi models "
   ]
  },
  {
   "cell_type": "code",
   "execution_count": 221,
   "id": "c0419e08-d72a-4f3d-b907-0d7ace9d41bc",
   "metadata": {},
   "outputs": [
    {
     "name": "stdout",
     "output_type": "stream",
     "text": [
      "30\n",
      "18\n"
     ]
    }
   ],
   "source": [
    "# setup a fogi model\n",
    "hs_target_model = std.target_model('H+s')\n",
    "fogi_target_model = hs_target_model.copy()\n",
    "basis1q = pygsti.baseobjs.Basis.cast('pp', 4)\n",
    "gauge_basis = pygsti.baseobjs.CompleteElementaryErrorgenBasis(\n",
    "                        basis1q, fogi_target_model.state_space, elementary_errorgen_types='HS')\n",
    "print(hs_target_model.num_params)\n",
    "fogi_target_model.setup_fogi(gauge_basis, None, None, reparameterize=True,\n",
    "                     dependent_fogi_action='drop', include_spam=True)\n",
    "print(fogi_target_model.num_params)"
   ]
  },
  {
   "cell_type": "code",
   "execution_count": 222,
   "id": "8550bbfc-cdde-4582-9e47-10366c25a7bc",
   "metadata": {},
   "outputs": [
    {
     "data": {
      "text/plain": [
       "30"
      ]
     },
     "execution_count": 222,
     "metadata": {},
     "output_type": "execute_result"
    }
   ],
   "source": [
    "hs_target_model.num_params"
   ]
  },
  {
   "cell_type": "code",
   "execution_count": 223,
   "id": "1c803e27-30e9-4134-98c3-07e9f14068af",
   "metadata": {},
   "outputs": [
    {
     "name": "stderr",
     "output_type": "stream",
     "text": [
      "100%|████████████████████████████████████████████████████████████████████████████████████████████████████████████████████████████████████████████████████████████████████████████████████████████████████████| 92/92 [00:02<00:00, 30.89it/s]\n"
     ]
    }
   ],
   "source": [
    "Htot = total_design_matrix(hs_target_model, maxlength_circ_list)"
   ]
  },
  {
   "cell_type": "code",
   "execution_count": 224,
   "id": "3753aaf6-4b22-4338-ae0d-aed3fedf96f1",
   "metadata": {},
   "outputs": [
    {
     "data": {
      "text/plain": [
       "(184, 30)"
      ]
     },
     "execution_count": 224,
     "metadata": {},
     "output_type": "execute_result"
    }
   ],
   "source": [
    "Htot.shape"
   ]
  },
  {
   "cell_type": "code",
   "execution_count": 225,
   "id": "a9170013-453f-466f-9983-416d70f68136",
   "metadata": {},
   "outputs": [
    {
     "name": "stdout",
     "output_type": "stream",
     "text": [
      "(184, 30)\n"
     ]
    },
    {
     "data": {
      "text/plain": [
       "[<matplotlib.lines.Line2D at 0x7f0a73d95780>]"
      ]
     },
     "execution_count": 225,
     "metadata": {},
     "output_type": "execute_result"
    },
    {
     "data": {
      "image/png": "[encoded data removed]",
      "text/plain": [
       "<Figure size 432x288 with 1 Axes>"
      ]
     },
     "metadata": {
      "needs_background": "light"
     },
     "output_type": "display_data"
    }
   ],
   "source": [
    "print(Htot.shape)\n",
    "U, S, Vt = np.linalg.svd(Htot)\n",
    "plt.plot(S)"
   ]
  },
  {
   "cell_type": "code",
   "execution_count": 226,
   "id": "38f9670e-2021-4663-8249-5de9912699ef",
   "metadata": {},
   "outputs": [
    {
     "name": "stdout",
     "output_type": "stream",
     "text": [
      "30\n",
      "18\n"
     ]
    }
   ],
   "source": [
    "print(len(S))\n",
    "eps = 1e-3\n",
    "nonzero_svals = [s for s in S if s > eps]\n",
    "print(len(nonzero_svals))\n",
    "for s in S[18:]:\n",
    "    assert s < eps"
   ]
  },
  {
   "cell_type": "code",
   "execution_count": 227,
   "id": "18760e2c-dd24-477c-95a1-b89fbd24d812",
   "metadata": {},
   "outputs": [
    {
     "data": {
      "text/plain": [
       "(30, 30)"
      ]
     },
     "execution_count": 227,
     "metadata": {},
     "output_type": "execute_result"
    }
   ],
   "source": [
    "Vt.shape"
   ]
  },
  {
   "cell_type": "code",
   "execution_count": 228,
   "id": "a22f4c7d-8086-4eaa-b4ad-cfb93b94e87c",
   "metadata": {},
   "outputs": [
    {
     "data": {
      "text/plain": [
       "<matplotlib.image.AxesImage at 0x7f0a73dfcb80>"
      ]
     },
     "execution_count": 228,
     "metadata": {},
     "output_type": "execute_result"
    },
    {
     "data": {
      "image/png": "[encoded data removed]",
      "text/plain": [
       "<Figure size 288x288 with 1 Axes>"
      ]
     },
     "metadata": {
      "needs_background": "light"
     },
     "output_type": "display_data"
    }
   ],
   "source": [
    "# construct projector onto the nullspace of the design matrix \n",
    "V = Vt.T\n",
    "\n",
    "nullpart = np.zeros(V.shape)\n",
    "for idx, s in enumerate(S):\n",
    "    if s < eps:\n",
    "        nullpart[:, idx] = V[:, idx]\n",
    "obspart = np.zeros(V.shape)\n",
    "for idx, s in enumerate(S):\n",
    "    if s >= eps:\n",
    "        obspart[:, idx] = V[:, idx]\n",
    "        \n",
    "proj_nullspace = V@nullpart.T\n",
    "proj_obs = V@obspart.T\n",
    "plt.matshow(proj_nullspace+proj_obs)"
   ]
  },
  {
   "cell_type": "markdown",
   "id": "4734c220-5a7a-4178-9e45-4c3a3f04eea8",
   "metadata": {},
   "source": [
    "# Compare projectors at target with projectors at other spots\n"
   ]
  },
  {
   "cell_type": "code",
   "execution_count": 232,
   "id": "b2b12bc2-32a7-4cb5-908a-bb05144a13a2",
   "metadata": {},
   "outputs": [],
   "source": [
    "def nullspace_projector(total_design_matrix):\n",
    "    U, S, Vt = np.linalg.svd(total_design_matrix)\n",
    "    V = Vt.T\n",
    "\n",
    "    nullpart = np.zeros(V.shape)\n",
    "    for idx, s in enumerate(S):\n",
    "        if s < eps:\n",
    "            nullpart[:, idx] = V[:, idx]\n",
    "\n",
    "    return V@nullpart.T"
   ]
  },
  {
   "cell_type": "code",
   "execution_count": 234,
   "id": "5805b347-9d62-4538-94bc-af720b90d53d",
   "metadata": {},
   "outputs": [
    {
     "name": "stderr",
     "output_type": "stream",
     "text": [
      "100%|████████████████████████████████████████████████████████████████████████████████████████████████████████████████████████████████████████████████████████████████████████████████████████████████████████| 92/92 [00:05<00:00, 17.14it/s]\n"
     ]
    }
   ],
   "source": [
    "target_model = std.target_model('CPTP')\n",
    "maxLengths = [1]\n",
    "maxlength_edesign = pygsti.protocols.StandardGSTDesign(target_model, std.prep_fiducials(), std.meas_fiducials(),\n",
    "                                                std.germs(), maxLengths)\n",
    "circ_list = maxlength_edesign.circuit_lists[-1]\n",
    "target_design = total_design_matrix(target_model, circ_list)\n",
    "target_projector = nullspace_projector(target_design)"
   ]
  },
  {
   "cell_type": "code",
   "execution_count": 243,
   "id": "807b2523-10fa-42e7-86d5-3f9edf91c35b",
   "metadata": {},
   "outputs": [
    {
     "name": "stderr",
     "output_type": "stream",
     "text": [
      "100%|████████████████████████████████████████████████████████████████████████████████████████████████████████████████████████████████████████████████████████████████████████████████████████████████████████| 92/92 [00:06<00:00, 14.78it/s]\n",
      "100%|████████████████████████████████████████████████████████████████████████████████████████████████████████████████████████████████████████████████████████████████████████████████████████████████████████| 92/92 [00:06<00:00, 14.90it/s]\n",
      "100%|████████████████████████████████████████████████████████████████████████████████████████████████████████████████████████████████████████████████████████████████████████████████████████████████████████| 92/92 [00:06<00:00, 14.70it/s]\n"
     ]
    }
   ],
   "source": [
    "num_models = 3\n",
    "max_erate = 0.9\n",
    "distances = []\n",
    "for i in range(num_models):\n",
    "    rmodel = target_model.copy()\n",
    "    rmodel.from_vector(max_erate*np.random.rand(target_model.num_params))\n",
    "    rdmat = total_design_matrix(rmodel, circ_list)\n",
    "    r_ns_proj = nullspace_projector(rdmat)\n",
    "    distances.append(np.linalg.norm(r_ns_proj - target_projector))"
   ]
  },
  {
   "cell_type": "code",
   "execution_count": 244,
   "id": "2b53c0c0-a46d-46c6-ae16-9ff2c1a59f68",
   "metadata": {},
   "outputs": [
    {
     "data": {
      "text/plain": [
       "[<matplotlib.lines.Line2D at 0x7f0a71fbf670>]"
      ]
     },
     "execution_count": 244,
     "metadata": {},
     "output_type": "execute_result"
    },
    {
     "data": {
      "image/png": "[encoded data removed]",
      "text/plain": [
       "<Figure size 432x288 with 1 Axes>"
      ]
     },
     "metadata": {
      "needs_background": "light"
     },
     "output_type": "display_data"
    }
   ],
   "source": [
    "plt.plot(distances)"
   ]
  },
  {
   "cell_type": "code",
   "execution_count": 245,
   "id": "6d1df4d0-e44c-4987-97dd-4ba3a009d6a5",
   "metadata": {},
   "outputs": [
    {
     "ename": "SyntaxError",
     "evalue": "incomplete input (4028005470.py, line 1)",
     "output_type": "error",
     "traceback": [
      "\u001b[0;36m  Input \u001b[0;32mIn [245]\u001b[0;36m\u001b[0m\n\u001b[0;31m    for i in range(num_models\u001b[0m\n\u001b[0m                             ^\u001b[0m\n\u001b[0;31mSyntaxError\u001b[0m\u001b[0;31m:\u001b[0m incomplete input\n"
     ]
    }
   ],
   "source": [
    "for i in range(num_models"
   ]
  },
  {
   "cell_type": "code",
   "execution_count": null,
   "id": "7324b6c8-70d1-4028-a329-f091b0f8aa7a",
   "metadata": {},
   "outputs": [],
   "source": []
  }
 ],
 "metadata": {
  "kernelspec": {
   "display_name": "Python 3 (ipykernel)",
   "language": "python",
   "name": "python3"
  },
  "language_info": {
   "codemirror_mode": {
    "name": "ipython",
    "version": 3
   },
   "file_extension": ".py",
   "mimetype": "text/x-python",
   "name": "python",
   "nbconvert_exporter": "python",
   "pygments_lexer": "ipython3",
   "version": "3.10.4"
  }
 },
 "nbformat": 4,
 "nbformat_minor": 5
}
