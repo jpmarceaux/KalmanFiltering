{
 "cells": [
  {
   "cell_type": "code",
   "execution_count": 26,
   "id": "1fe34227-80a1-46ff-83c6-6750c78ba04d",
   "metadata": {},
   "outputs": [],
   "source": [
    "import sys\n",
    "sys.path.append(\"..\")\n",
    "from lib.kalman_gst import *  \n",
    "from pygsti.modelpacks import smq1Q_XYZI as std"
   ]
  },
  {
   "cell_type": "code",
   "execution_count": 135,
   "id": "faef71fd-73bd-4a11-86eb-a755812fd1f4",
   "metadata": {},
   "outputs": [],
   "source": [
    "NUM_SHOTS = 256"
   ]
  },
  {
   "cell_type": "code",
   "execution_count": 27,
   "id": "c9b7f430-f219-46c7-a230-5b599ae96b6f",
   "metadata": {},
   "outputs": [],
   "source": [
    "def avg_eigenvalue_entanglement_infidel(model, noise_model, basis='pp'):\n",
    "    aei = 0\n",
    "    for op in list(model.operations.keys()):\n",
    "        mdl_mat = model[op].to_dense()\n",
    "        aei += pygsti.report.entanglement_infidelity(mdl_mat, noise_model[op].to_dense(), basis)\n",
    "    return aei/len(list(model.operations.keys()))"
   ]
  },
  {
   "cell_type": "code",
   "execution_count": 28,
   "id": "18c9e813-c318-4be2-9ad6-0dc742520219",
   "metadata": {},
   "outputs": [],
   "source": [
    "# make an edesign\n",
    "target_model = std.target_model('CPTP')\n",
    "maxLengths = [1,2,4, 8]\n",
    "edesign = pygsti.protocols.StandardGSTDesign(std.target_model('CPTP'), std.prep_fiducials(), std.meas_fiducials(),\n",
    "                                                std.germs(), maxLengths)"
   ]
  },
  {
   "cell_type": "code",
   "execution_count": 119,
   "id": "62bb8846-9ee7-46fd-90d5-10b84b294312",
   "metadata": {},
   "outputs": [],
   "source": [
    "# make a random noise model\n",
    "mdl_datagen = std.target_model('full')\n",
    "mdl_datagen = mdl_datagen.randomize_with_unitary(0.05)\n",
    "mdl_datagen = mdl_datagen.depolarize(0.00001)"
   ]
  },
  {
   "cell_type": "code",
   "execution_count": 127,
   "id": "6f7d1e69-954e-4eb9-8035-c337a77c1b0a",
   "metadata": {},
   "outputs": [
    {
     "name": "stdout",
     "output_type": "stream",
     "text": [
      "0.01893345509462796\n"
     ]
    }
   ],
   "source": [
    "aei = avg_eigenvalue_entanglement_infidel(mdl_datagen, target_model)\n",
    "print(aei)"
   ]
  },
  {
   "cell_type": "code",
   "execution_count": 124,
   "id": "87c20038-8b63-4c44-9986-2fb5533d507f",
   "metadata": {},
   "outputs": [],
   "source": [
    "def total_design_matrix(model, circuit_list):\n",
    "    \"\"\"\n",
    "    calculates the total design matrix at the location given by the model\n",
    "    \"\"\"\n",
    "    \n",
    "    H_tot = np.zeros((0, model.num_params))\n",
    "    for circ in circuit_list:\n",
    "        H_tot = np.vstack((H_tot, matrix_from_jacob(model.sim.dprobs(circ), 2**circ.width)))\n",
    "    return H_tot"
   ]
  },
  {
   "cell_type": "code",
   "execution_count": 160,
   "id": "bc4c5f6b-3e86-4ed0-a7dc-8d2303248c01",
   "metadata": {},
   "outputs": [],
   "source": [
    "class PoissonKalmanFilter():\n",
    "    def __init__(self, model, P0):\n",
    "        self.model = model.copy()\n",
    "        self.P = P0\n",
    "        \n",
    "        self.param_hist = [model.to_vector()]\n",
    "        self.covar_hist = [self.P]\n",
    "        \n",
    "        self.observability_transform = np.eye(self.model.num_params)\n",
    "        \n",
    "    def update(self, circ, count_vec, Q=None):\n",
    "        prior_covar = self.P\n",
    "        x_prior = self.model.to_vector()\n",
    "        hilbert_dims = 2**(circ.width)\n",
    "        \n",
    "        jacob = matrix_from_jacob(self.model.sim.dprobs(circ), 2**circ.width)\n",
    "        jacob = jacob@self.observability_transform\n",
    "        \n",
    "        P = prior_covar\n",
    "        if Q is not None:\n",
    "            P += Q\n",
    "        \n",
    "        p_pred = vector_from_outcomes(self.model.probabilities(circ), hilbert_dims)\n",
    "        N_counts = sum(count_vec)\n",
    "        c_pred = N_counts*p_pred\n",
    "        \n",
    "        obs_covar = np.diag(c_pred+np.ones(len(c_pred)))\n",
    "        obs_mat = N_counts*jacob\n",
    "        \n",
    "        Kgain = P@obs_mat.T@np.linalg.inv(obs_mat@P@obs_mat.T + obs_covar)\n",
    "        \n",
    "        x_post = x_prior + Kgain@(count_vec - c_pred)\n",
    "        \n",
    "        covar_proj = np.eye(P.shape[0]) - Kgain@obs_mat\n",
    "        post_covar = covar_proj@P@covar_proj.T + Kgain@obs_covar@Kgain.T\n",
    "        \n",
    "        self.param_hist.append(x_post)\n",
    "        self.covar_hist.append(post_covar)\n",
    "        \n",
    "        self.model.from_vector(self.observability_transform.T@x_post)\n",
    "        self.P = post_covar\n",
    "        \n",
    "    def set_observability_matrix(self, circuit_list):\n",
    "        H_tot = total_design_matrix(self.model, circuit_list)\n",
    "        s, d, vt = np.linalg.svd(H_tot)\n",
    "        self.observability_transform = vt.T\n",
    "        \n",
    "    def observe_model(self, mdl_in, circ_list, total_counts):\n",
    "        for circ in tqdm(circ_list):\n",
    "            obs_pvec = vector_from_outcomes(mdl_in.probabilities(circ), 2**circ.width)\n",
    "            obs_pvec = np.clip(obs_pvec, 0, 1)\n",
    "            obs_cvec = np.random.multinomial(total_counts, obs_pvec)\n",
    "            self.update(circ, obs_cvec)"
   ]
  },
  {
   "cell_type": "code",
   "execution_count": 161,
   "id": "20352e70-740e-422c-8868-c4f8e6e33c3f",
   "metadata": {},
   "outputs": [],
   "source": [
    "prior_covar = aei**2*np.eye(target_model.num_params)"
   ]
  },
  {
   "cell_type": "code",
   "execution_count": 165,
   "id": "8ba62c47-dbfe-4527-9f12-df76801c9879",
   "metadata": {},
   "outputs": [
    {
     "name": "stderr",
     "output_type": "stream",
     "text": [
      "100%|██████████████████████████████████████████████████████████████████████████████████████████████████████████████████████████████████████████████████████████████████████████████████████████████████████| 128/128 [00:11<00:00, 11.44it/s]\n"
     ]
    }
   ],
   "source": [
    "circ_list = edesign.circuit_lists[0]\n",
    "pkf1 = PoissonKalmanFilter(target_model, prior_covar)\n",
    "pkf1.observe_model(mdl_datagen, circ_list, 256)"
   ]
  },
  {
   "cell_type": "code",
   "execution_count": 166,
   "id": "bc73a1e8-a90b-4cda-a97f-5ed89b3aecb1",
   "metadata": {},
   "outputs": [
    {
     "data": {
      "text/plain": [
       "Text(0, 0.5, 'MSE [log]')"
      ]
     },
     "execution_count": 166,
     "metadata": {},
     "output_type": "execute_result"
    },
    {
     "data": {
      "image/png": "[encoded data removed]",
      "text/plain": [
       "<Figure size 432x288 with 2 Axes>"
      ]
     },
     "metadata": {
      "needs_background": "light"
     },
     "output_type": "display_data"
    }
   ],
   "source": [
    "model_vectors = pkf1.param_hist\n",
    "filter_covars = pkf1.covar_hist\n",
    "y_range = None\n",
    "\n",
    "fig, axs = plt.subplots(1, 2)\n",
    "\n",
    "axs[0].set_title('Estimate')\n",
    "axs[1].set_title('Uncertainty')\n",
    "\n",
    "fid_model = pkf1.model.copy()\n",
    "\n",
    "for i in range(0, len(model_vectors), plt_spacing):\n",
    "    params = model_vectors[i]\n",
    "    fid_model.from_vector(params)\n",
    "    error = np.log10(avg_eigenvalue_entanglement_infidel(mdl_datagen, fid_model))\n",
    "    axs[0].scatter(i, error, c='black')\n",
    "    axs[1].scatter(i, np.log10((np.trace(filter_covars[i]))), c='black')\n",
    "\n",
    "\n",
    "axs[0].set_xlabel('Circuit Index')\n",
    "axs[1].set_xlabel('Circuit Index')\n",
    "axs[0].set_ylabel('AEI (eigenvalue) [log]')\n",
    "axs[1].set_ylabel('MSE [log]')"
   ]
  },
  {
   "cell_type": "code",
   "execution_count": 167,
   "id": "e6494711-86e4-48c5-9f05-5cf14f2b145c",
   "metadata": {},
   "outputs": [],
   "source": [
    "pkf2 = PoissonKalmanFilter(target_model, prior_covar)\n",
    "pkf2.set_observability_matrix(edesign.circuit_lists[0])"
   ]
  },
  {
   "cell_type": "code",
   "execution_count": 168,
   "id": "7017b381-b222-48f3-a4cb-c26b446d6323",
   "metadata": {},
   "outputs": [
    {
     "name": "stderr",
     "output_type": "stream",
     "text": [
      "100%|██████████████████████████████████████████████████████████████████████████████████████████████████████████████████████████████████████████████████████████████████████████████████████████████████████| 128/128 [00:11<00:00, 11.09it/s]\n"
     ]
    }
   ],
   "source": [
    "pkf2.observe_model(mdl_datagen, edesign.circuit_lists[0], 256)"
   ]
  },
  {
   "cell_type": "code",
   "execution_count": 169,
   "id": "40c37455-ed57-4387-ab42-3bff6b37c919",
   "metadata": {},
   "outputs": [
    {
     "data": {
      "text/plain": [
       "Text(0, 0.5, 'MSE [log]')"
      ]
     },
     "execution_count": 169,
     "metadata": {},
     "output_type": "execute_result"
    },
    {
     "data": {
      "image/png": "[encoded data removed]",
      "text/plain": [
       "<Figure size 432x288 with 2 Axes>"
      ]
     },
     "metadata": {
      "needs_background": "light"
     },
     "output_type": "display_data"
    }
   ],
   "source": [
    "model_vectors = pkf2.param_hist\n",
    "filter_covars = pkf2.covar_hist\n",
    "y_range = None\n",
    "\n",
    "fig, axs = plt.subplots(1, 2)\n",
    "\n",
    "axs[0].set_title('Estimate')\n",
    "axs[1].set_title('Uncertainty')\n",
    "\n",
    "fid_model = pkf1.model.copy()\n",
    "\n",
    "for i in range(0, len(model_vectors), plt_spacing):\n",
    "    params = model_vectors[i]\n",
    "    fid_model.from_vector(pkf2.observability_transform.T@params)\n",
    "    error = np.log10(avg_eigenvalue_entanglement_infidel(mdl_datagen, fid_model))\n",
    "    axs[0].scatter(i, error, c='black')\n",
    "    axs[1].scatter(i, np.log10((np.trace(filter_covars[i]))), c='black')\n",
    "\n",
    "\n",
    "axs[0].set_xlabel('Circuit Index')\n",
    "axs[1].set_xlabel('Circuit Index')\n",
    "axs[0].set_ylabel('AEI (eigenvalue) [log]')\n",
    "axs[1].set_ylabel('MSE [log]')"
   ]
  },
  {
   "cell_type": "code",
   "execution_count": null,
   "id": "0ea16d24-4a7b-463a-ada1-80bb050ed499",
   "metadata": {},
   "outputs": [],
   "source": []
  }
 ],
 "metadata": {
  "kernelspec": {
   "display_name": "Python 3 (ipykernel)",
   "language": "python",
   "name": "python3"
  },
  "language_info": {
   "codemirror_mode": {
    "name": "ipython",
    "version": 3
   },
   "file_extension": ".py",
   "mimetype": "text/x-python",
   "name": "python",
   "nbconvert_exporter": "python",
   "pygments_lexer": "ipython3",
   "version": "3.10.4"
  }
 },
 "nbformat": 4,
 "nbformat_minor": 5
}
