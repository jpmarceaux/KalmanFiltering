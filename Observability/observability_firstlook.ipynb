{
 "cells": [
  {
   "cell_type": "code",
   "execution_count": 1,
   "id": "ec999c70-bffc-4c90-b20f-8b67a9d3c6e7",
   "metadata": {},
   "outputs": [],
   "source": [
    "import sys\n",
    "sys.path.append(\"..\")\n",
    "from lib.kalman_gst import *  \n",
    "from pygsti.modelpacks import smq1Q_XY as std"
   ]
  },
  {
   "cell_type": "code",
   "execution_count": 2,
   "id": "89542cce-388a-47b7-abc5-f7a56207f583",
   "metadata": {},
   "outputs": [
    {
     "data": {
      "text/plain": [
       "24"
      ]
     },
     "execution_count": 2,
     "metadata": {},
     "output_type": "execute_result"
    }
   ],
   "source": [
    "target_model = std.target_model('H+s')\n",
    "target_Hs.num_params"
   ]
  },
  {
   "cell_type": "code",
   "execution_count": 3,
   "id": "ee930593-7dba-4241-8e7a-1d1d0ec70abd",
   "metadata": {},
   "outputs": [],
   "source": [
    "# setup the fogi model\n",
    "mdl_datagen = std.target_model('H+s')\n",
    "basis1q = pygsti.baseobjs.Basis.cast('pp', 4)\n",
    "gauge_basis = pygsti.baseobjs.CompleteElementaryErrorgenBasis(\n",
    "                        basis1q, mdl_datagen.state_space, elementary_errorgen_types='HS')\n",
    "mdl_datagen.setup_fogi(gauge_basis, None, None, reparameterize=True,\n",
    "                     dependent_fogi_action='drop', include_spam=True)\n",
    "# ar = mdl_datagen.fogi_errorgen_components_array(include_fogv=False, normalized_elem_gens=True)\n",
    "# target_model = mdl_datagen.copy()\n",
    "# ar = max_fogi_error_rate * np.random.rand(len(ar))\n",
    "# mdl_datagen.set_fogi_errorgen_components_array(ar, include_fogv=False, normalized_elem_gens=True)"
   ]
  },
  {
   "cell_type": "code",
   "execution_count": 5,
   "id": "18c9e813-c318-4be2-9ad6-0dc742520219",
   "metadata": {},
   "outputs": [],
   "source": [
    "# make an edesign\n",
    "maxLengths = [1,2,4, 8]\n",
    "edesign = pygsti.protocols.StandardGSTDesign(std.target_model('CPTP'), std.prep_fiducials(), std.meas_fiducials(),\n",
    "                                                std.germs(), maxLengths)"
   ]
  },
  {
   "cell_type": "code",
   "execution_count": 6,
   "id": "8abd129c-cc3f-4047-97bd-89902b41b70a",
   "metadata": {},
   "outputs": [
    {
     "data": {
      "text/plain": [
       "12"
      ]
     },
     "execution_count": 6,
     "metadata": {},
     "output_type": "execute_result"
    }
   ],
   "source": [
    "mdl_datagen.num_params"
   ]
  },
  {
   "cell_type": "code",
   "execution_count": 81,
   "id": "46f1705e-6010-433c-9c1d-9efd3f7d1c40",
   "metadata": {},
   "outputs": [],
   "source": [
    "# define a CPTP model\n",
    "mdl_cptp = std.target_model('CPTP')"
   ]
  },
  {
   "cell_type": "code",
   "execution_count": 82,
   "id": "cc625036-c228-4a56-9fbf-ec2fb0b045f6",
   "metadata": {},
   "outputs": [
    {
     "data": {
      "text/plain": [
       "48"
      ]
     },
     "execution_count": 82,
     "metadata": {},
     "output_type": "execute_result"
    }
   ],
   "source": [
    "mdl_cptp.num_params"
   ]
  },
  {
   "cell_type": "code",
   "execution_count": 83,
   "id": "fda30fac-2a01-4d1a-9565-6d4fd91e3593",
   "metadata": {},
   "outputs": [],
   "source": [
    "def total_design_matrix(model, circuit_list):\n",
    "    \"\"\"\n",
    "    calculates the total design matrix at the location given by the model\n",
    "    \"\"\"\n",
    "    \n",
    "    H_tot = np.zeros((0, model.num_params))\n",
    "    for circ in circuit_list:\n",
    "        H_tot = np.vstack((H_tot, matrix_from_jacob(model.sim.dprobs(circ), 2**circ.width)))\n",
    "    return H_tot"
   ]
  },
  {
   "cell_type": "code",
   "execution_count": 133,
   "id": "46814984-014c-448a-be63-7e5185c58693",
   "metadata": {},
   "outputs": [],
   "source": [
    "circ_list = edesign.circuit_lists[0]\n",
    "Htot = total_design_matrix(mdl_cptp, circ_list)"
   ]
  },
  {
   "cell_type": "code",
   "execution_count": 134,
   "id": "47679f21-c45b-4d23-9d64-fb3c8c9022df",
   "metadata": {},
   "outputs": [
    {
     "data": {
      "text/plain": [
       "(112, 48)"
      ]
     },
     "execution_count": 134,
     "metadata": {},
     "output_type": "execute_result"
    }
   ],
   "source": [
    "Htot.shape"
   ]
  },
  {
   "cell_type": "code",
   "execution_count": 135,
   "id": "743ca1b2-2442-453d-9895-b0efb36bcbea",
   "metadata": {},
   "outputs": [
    {
     "data": {
      "text/plain": [
       "<matplotlib.image.AxesImage at 0x7f9138b4ead0>"
      ]
     },
     "execution_count": 135,
     "metadata": {},
     "output_type": "execute_result"
    },
    {
     "data": {
      "image/png": "[encoded data removed]",
      "text/plain": [
       "<Figure size 288x672 with 1 Axes>"
      ]
     },
     "metadata": {
      "needs_background": "light"
     },
     "output_type": "display_data"
    }
   ],
   "source": [
    "plt.matshow(Htot)"
   ]
  },
  {
   "cell_type": "code",
   "execution_count": 157,
   "id": "dc9a9a04-3368-4ea2-bc04-2d0c20b8cb79",
   "metadata": {},
   "outputs": [],
   "source": [
    "u, s, vh = np.linalg.svd(Htot.T)"
   ]
  },
  {
   "cell_type": "code",
   "execution_count": 167,
   "id": "37ad1f86-22ad-45c8-8e41-5c1c46ee5a37",
   "metadata": {},
   "outputs": [
    {
     "data": {
      "text/plain": [
       "<matplotlib.image.AxesImage at 0x7f9138534760>"
      ]
     },
     "execution_count": 167,
     "metadata": {},
     "output_type": "execute_result"
    },
    {
     "data": {
      "image/png": "[encoded data removed]",
      "text/plain": [
       "<Figure size 288x672 with 1 Axes>"
      ]
     },
     "metadata": {
      "needs_background": "light"
     },
     "output_type": "display_data"
    }
   ],
   "source": [
    "plt.matshow(Htot@u)"
   ]
  },
  {
   "cell_type": "code",
   "execution_count": 168,
   "id": "8f41d25a-7d5c-4bec-ae20-6a4635ca8878",
   "metadata": {},
   "outputs": [
    {
     "data": {
      "text/plain": [
       "12"
      ]
     },
     "execution_count": 168,
     "metadata": {},
     "output_type": "execute_result"
    }
   ],
   "source": [
    "np.linalg.matrix_rank(Htot@u)"
   ]
  },
  {
   "cell_type": "markdown",
   "id": "d540ac63-6469-4623-988b-1823c00a7235",
   "metadata": {
    "tags": []
   },
   "source": [
    "# looking at QR decomp"
   ]
  },
  {
   "cell_type": "code",
   "execution_count": 143,
   "id": "4f67426d-f08d-4705-a925-3c367f835d0a",
   "metadata": {},
   "outputs": [
    {
     "data": {
      "text/plain": [
       "12"
      ]
     },
     "execution_count": 143,
     "metadata": {},
     "output_type": "execute_result"
    }
   ],
   "source": [
    "np.linalg.matrix_rank(Htot.T)"
   ]
  },
  {
   "cell_type": "code",
   "execution_count": 145,
   "id": "79afffe8-7884-41a9-a780-ccae182a2bc8",
   "metadata": {},
   "outputs": [
    {
     "data": {
      "text/plain": [
       "array([1.74681152e+01, 1.64054083e+01, 7.48331477e+00, 7.48331477e+00,\n",
       "       5.37239041e+00, 4.81144210e+00, 4.44015489e+00, 4.59456990e-06,\n",
       "       2.78677580e-06, 6.06500521e-07, 4.46273019e-07, 3.62538914e-07,\n",
       "       2.25158092e-15, 1.63854423e-15, 1.63854423e-15, 1.63854423e-15,\n",
       "       1.63854423e-15, 1.63854423e-15, 1.63854423e-15, 1.63854423e-15,\n",
       "       1.63854423e-15, 1.63854423e-15, 1.63854423e-15, 1.63854423e-15,\n",
       "       1.63854423e-15, 1.63854423e-15, 1.63854423e-15, 1.63854423e-15,\n",
       "       1.63854423e-15, 1.63854423e-15, 1.63854423e-15, 1.63854423e-15,\n",
       "       1.63854423e-15, 1.63854423e-15, 1.63854423e-15, 1.63854423e-15,\n",
       "       1.63854423e-15, 1.63854423e-15, 1.63854423e-15, 1.63854423e-15,\n",
       "       1.63854423e-15, 1.63854423e-15, 1.63854423e-15, 1.63854423e-15,\n",
       "       1.63854423e-15, 1.63854423e-15, 1.63854423e-15, 1.63854423e-15])"
      ]
     },
     "execution_count": 145,
     "metadata": {},
     "output_type": "execute_result"
    }
   ],
   "source": [
    "s"
   ]
  },
  {
   "cell_type": "code",
   "execution_count": 146,
   "id": "221caa1f-059e-4df9-8c32-1982c7e65c10",
   "metadata": {},
   "outputs": [
    {
     "data": {
      "text/plain": [
       "[<matplotlib.lines.Line2D at 0x7f9138abf700>]"
      ]
     },
     "execution_count": 146,
     "metadata": {},
     "output_type": "execute_result"
    },
    {
     "data": {
      "image/png": "[encoded data removed]",
      "text/plain": [
       "<Figure size 432x288 with 1 Axes>"
      ]
     },
     "metadata": {
      "needs_background": "light"
     },
     "output_type": "display_data"
    }
   ],
   "source": [
    "plt.plot(s)"
   ]
  },
  {
   "cell_type": "code",
   "execution_count": 153,
   "id": "a22bb93c-3981-4dd9-be6c-65996f82b394",
   "metadata": {},
   "outputs": [],
   "source": [
    "q, r = np.linalg.qr(Htot.T, mode='complete')"
   ]
  },
  {
   "cell_type": "code",
   "execution_count": 154,
   "id": "032847ac-a605-404a-8003-24d0be9a3f02",
   "metadata": {},
   "outputs": [
    {
     "data": {
      "text/plain": [
       "<matplotlib.image.AxesImage at 0x7f913872dba0>"
      ]
     },
     "execution_count": 154,
     "metadata": {},
     "output_type": "execute_result"
    },
    {
     "data": {
      "image/png": "[encoded data removed]",
      "text/plain": [
       "<Figure size 288x288 with 1 Axes>"
      ]
     },
     "metadata": {
      "needs_background": "light"
     },
     "output_type": "display_data"
    }
   ],
   "source": [
    "plt.matshow(q)"
   ]
  },
  {
   "cell_type": "code",
   "execution_count": 155,
   "id": "9c9fd949-5d9a-411a-b254-64af6748a4df",
   "metadata": {},
   "outputs": [
    {
     "data": {
      "text/plain": [
       "<matplotlib.image.AxesImage at 0x7f9138777610>"
      ]
     },
     "execution_count": 155,
     "metadata": {},
     "output_type": "execute_result"
    },
    {
     "data": {
      "image/png": "[encoded data removed]",
      "text/plain": [
       "<Figure size 672x288 with 1 Axes>"
      ]
     },
     "metadata": {
      "needs_background": "light"
     },
     "output_type": "display_data"
    }
   ],
   "source": [
    "plt.matshow(r)"
   ]
  },
  {
   "cell_type": "code",
   "execution_count": 156,
   "id": "97140931-367f-4871-9a07-5350a0c925fe",
   "metadata": {},
   "outputs": [
    {
     "name": "stdout",
     "output_type": "stream",
     "text": [
      "12\n"
     ]
    },
    {
     "data": {
      "text/plain": [
       "[<matplotlib.lines.Line2D at 0x7f91385e20b0>]"
      ]
     },
     "execution_count": 156,
     "metadata": {},
     "output_type": "execute_result"
    },
    {
     "data": {
      "image/png": "[encoded data removed]",
      "text/plain": [
       "<Figure size 432x288 with 1 Axes>"
      ]
     },
     "metadata": {
      "needs_background": "light"
     },
     "output_type": "display_data"
    }
   ],
   "source": [
    "print(np.linalg.matrix_rank(r))\n",
    "plt.plot([np.linalg.norm(r[i,:]) for i in range(r.shape[0])])"
   ]
  },
  {
   "cell_type": "code",
   "execution_count": 120,
   "id": "41463c2a-100d-44e4-a035-0811c60ff03a",
   "metadata": {},
   "outputs": [],
   "source": [
    "def circuit_jac(circ, model):\n",
    "    return matrix_from_jacob(model.sim.dprobs(circ), 2**circ.width)"
   ]
  },
  {
   "cell_type": "code",
   "execution_count": 121,
   "id": "c0b412e2-0a85-441c-872a-985123e1c2bd",
   "metadata": {},
   "outputs": [
    {
     "data": {
      "text/plain": [
       "12"
      ]
     },
     "execution_count": 121,
     "metadata": {},
     "output_type": "execute_result"
    }
   ],
   "source": [
    "np.linalg.matrix_rank(Htot)"
   ]
  },
  {
   "cell_type": "code",
   "execution_count": 132,
   "id": "62f36d93-5720-47b6-a47d-44a8b5e92822",
   "metadata": {},
   "outputs": [
    {
     "data": {
      "text/plain": [
       "<matplotlib.image.AxesImage at 0x7f9138ae8a30>"
      ]
     },
     "execution_count": 132,
     "metadata": {},
     "output_type": "execute_result"
    },
    {
     "data": {
      "image/png": "[encoded data removed]",
      "text/plain": [
       "<Figure size 288x1152 with 1 Axes>"
      ]
     },
     "metadata": {
      "needs_background": "light"
     },
     "output_type": "display_data"
    }
   ],
   "source": [
    "Pobs = q\n",
    "Hk = circuit_jac(circ_list[10], mdl_cptp)\n",
    "plt.matshow(Htot@Pobs)"
   ]
  },
  {
   "cell_type": "code",
   "execution_count": 123,
   "id": "d72127ad-9f55-443e-97d0-c0a07e7bd43a",
   "metadata": {},
   "outputs": [
    {
     "data": {
      "text/plain": [
       "12"
      ]
     },
     "execution_count": 123,
     "metadata": {},
     "output_type": "execute_result"
    }
   ],
   "source": [
    "np.linalg.matrix_rank(Htot@Pobs)"
   ]
  },
  {
   "cell_type": "code",
   "execution_count": null,
   "id": "37124eed-b86c-4de5-bdf1-ae31071d320f",
   "metadata": {},
   "outputs": [],
   "source": []
  },
  {
   "cell_type": "code",
   "execution_count": 124,
   "id": "98bb8388-a3c7-4b78-90cd-a10bc6f3f332",
   "metadata": {},
   "outputs": [
    {
     "name": "stdout",
     "output_type": "stream",
     "text": [
      "6.366660056582232\n"
     ]
    },
    {
     "data": {
      "text/plain": [
       "[<matplotlib.lines.Line2D at 0x7f9138d57e80>]"
      ]
     },
     "execution_count": 124,
     "metadata": {},
     "output_type": "execute_result"
    },
    {
     "data": {
      "image/png": "[encoded data removed]",
      "text/plain": [
       "<Figure size 432x288 with 1 Axes>"
      ]
     },
     "metadata": {
      "needs_background": "light"
     },
     "output_type": "display_data"
    }
   ],
   "source": [
    "column_norms = [np.linalg.norm((Htot@Pobs)[:,i]) for i in range(Htot.shape[1])]\n",
    "print(column_norms[18])\n",
    "plt.plot(column_norms)"
   ]
  },
  {
   "cell_type": "code",
   "execution_count": 125,
   "id": "251a0cda-b080-4a5d-98a2-f17d18e3e963",
   "metadata": {},
   "outputs": [
    {
     "data": {
      "text/plain": [
       "1.9984014443252815e-07"
      ]
     },
     "execution_count": 125,
     "metadata": {},
     "output_type": "execute_result"
    }
   ],
   "source": [
    "np.amax(Hk)"
   ]
  },
  {
   "cell_type": "code",
   "execution_count": 109,
   "id": "6ab77b12-a72a-426d-b47d-f07833844244",
   "metadata": {},
   "outputs": [
    {
     "data": {
      "text/plain": [
       "array([[-3.44856074e-07, -1.74843495e-17,  2.10483299e-16,\n",
       "        -5.03127274e-16,  1.34066919e-07, -7.70758190e-08,\n",
       "        -9.84620210e-09, -1.10122411e-08,  9.35237501e-08,\n",
       "         2.89044671e-08, -7.74566058e-08, -4.70563873e-13,\n",
       "         6.89988313e-08, -3.43727350e-08, -7.85371001e-09,\n",
       "         3.78507323e-09,  1.17641612e-07,  6.13354158e-10,\n",
       "        -2.66661024e-10, -1.05942511e-10, -4.23925330e-07,\n",
       "         1.93023366e-23,  1.00281841e-24, -6.05227480e-24,\n",
       "        -4.26388854e-25,  8.79158289e-24, -8.55107724e-23,\n",
       "        -2.39202411e-23, -5.49844255e-24,  1.06140565e-23,\n",
       "        -2.39407846e-24,  6.24057528e-24, -2.21831374e-24,\n",
       "        -3.17730279e-23,  1.49667494e-23, -1.15790449e-23,\n",
       "         2.42158762e-23,  2.49106086e-23,  1.77211560e-23,\n",
       "        -1.31791631e-23,  8.52595767e-25,  1.04371143e-24,\n",
       "        -9.90612853e-25, -7.43205579e-25,  1.45194795e-24,\n",
       "        -5.62093323e-25,  3.95680661e-25,  1.98937019e-26],\n",
       "       [ 3.44856074e-07,  1.02163238e-17, -1.22988435e-16,\n",
       "         1.43886136e-16, -1.34066920e-07,  7.70758189e-08,\n",
       "         9.84620209e-09,  1.10122410e-08, -9.35237503e-08,\n",
       "        -2.89044669e-08,  7.74566061e-08,  4.70413255e-13,\n",
       "        -6.89988314e-08,  3.43727351e-08,  7.85370994e-09,\n",
       "        -3.78507330e-09, -1.17641612e-07, -6.13354246e-10,\n",
       "         2.66661108e-10,  1.05942613e-10,  4.23925330e-07,\n",
       "        -9.19280528e-17,  1.31776548e-23,  6.44917239e-24,\n",
       "        -4.55297097e-24, -8.97518258e-24,  8.64409593e-23,\n",
       "         3.29894892e-25,  7.71774840e-24, -5.90925797e-24,\n",
       "         5.81300496e-24, -2.79873575e-24,  3.40956762e-24,\n",
       "         8.26338984e-24, -3.81279928e-24,  1.17234776e-24,\n",
       "        -2.87937886e-23, -2.55912985e-23, -2.81072685e-23,\n",
       "         1.80643792e-23, -8.52595814e-25, -1.04371148e-24,\n",
       "         9.90612936e-25,  7.43205541e-25, -1.45194794e-24,\n",
       "         5.62093319e-25, -3.95680659e-25, -1.98937058e-26]])"
      ]
     },
     "execution_count": 109,
     "metadata": {},
     "output_type": "execute_result"
    }
   ],
   "source": [
    "Hk@Pobs"
   ]
  },
  {
   "cell_type": "code",
   "execution_count": 2,
   "id": "cd9af18b-7756-4740-9376-1abfdd574b97",
   "metadata": {},
   "outputs": [],
   "source": [
    "def filter_dataset(prior_model, prior_covar, dataset, circ_list, \n",
    "                   Q_add, R_add, clip_range=[-1, 1],\n",
    "                   max_itr=1, itr_eps=1e-4,\n",
    "                   save_params_and_covars=False, save_prior_innovations=False, save_posterior_innovations=False, save_kgains=False):\n",
    "    param_history = []\n",
    "    covar_history = []\n",
    "    prior_innovs = []\n",
    "    post_innovs = []\n",
    "    kgains = []\n",
    "    \n",
    "    ekf = ExtendedKalmanFilter(prior_model.copy(), prior_covar)\n",
    "    if save_params_and_covars:\n",
    "        param_history.append(prior_model.to_vector())\n",
    "        covar_history.append(prior_covar)\n",
    "    for circ in tqdm(circ_list):\n",
    "        counts = dataset[circ].counts\n",
    "        cvec = vector_from_outcomes(counts, 2**circ.width)\n",
    "        innov, kgain = ekf.update(circ, cvec, clip_range=clip_range, Q=Q_add, R_additional=R_add, max_itr=max_itr, itr_eps=itr_eps)\n",
    "        if save_prior_innovations:\n",
    "            prior_innovs.append(innov)\n",
    "        if save_kgains:\n",
    "            kgains.append(kgain)\n",
    "        if save_posterior_innovations:\n",
    "            post_predict = vector_from_outcomes(ekf.model.probabilities(circ), 2**circ.width)\n",
    "            post_innov = cvec/sum(cvec) - post_predict\n",
    "            post_innovs.append(post_innov)\n",
    "        if save_params_and_covars:\n",
    "            param_history.append(ekf.model.to_vector())\n",
    "            covar_history.append(ekf.P)\n",
    "    return ekf.model, ekf.P, (param_history, covar_history, prior_innovs, post_innovs, kgains)"
   ]
  },
  {
   "cell_type": "code",
   "execution_count": 3,
   "id": "f846464f-dcc1-427c-a53e-727cfb19342b",
   "metadata": {},
   "outputs": [],
   "source": [
    "NUM_SHOTS = 256\n",
    "SEED = 2022"
   ]
  },
  {
   "cell_type": "code",
   "execution_count": 5,
   "id": "39e4cc01-e5fe-4b15-a1a5-f54d14ddda88",
   "metadata": {},
   "outputs": [],
   "source": [
    "prior_covar = max_fogi_error_rate**2*np.eye(target_model.num_params)\n",
    "uniform_prior_model = target_model.copy()\n",
    "uniform_prior_model.from_vector(np.random.uniform(0, 1, target_model.num_params))"
   ]
  },
  {
   "cell_type": "code",
   "execution_count": 6,
   "id": "d81e63f9-5cec-4ae5-bdc4-eac956771678",
   "metadata": {},
   "outputs": [
    {
     "name": "stdout",
     "output_type": "stream",
     "text": [
      "Model is CPTP...  True\n",
      "avg. gate-set infidelity:  0.008302398521006837\n",
      "mean square error:  0.0003703620051910528\n"
     ]
    }
   ],
   "source": [
    "# check that the datagen model is CPTP and print metrics w.r.t. the target model\n",
    "print('Model is CPTP... ', model_is_cptp(mdl_datagen))\n",
    "print('avg. gate-set infidelity: ', avg_gs_infidelity(mdl_datagen, target_model))\n",
    "print('mean square error: ', mserror(mdl_datagen, target_model))"
   ]
  },
  {
   "cell_type": "code",
   "execution_count": 7,
   "id": "a5085d4c-2f90-41af-ab94-364789baa811",
   "metadata": {},
   "outputs": [],
   "source": [
    "# make an edesign and simulate the data\n",
    "maxLengths = [1,2,4, 8]\n",
    "edesign = pygsti.protocols.StandardGSTDesign(target_model, std.prep_fiducials(), std.meas_fiducials(),\n",
    "                                                std.germs(), maxLengths)\n",
    "dataset = pygsti.data.simulate_data(mdl_datagen, edesign, NUM_SHOTS, seed=SEED) #, sample_error='none')"
   ]
  },
  {
   "cell_type": "code",
   "execution_count": 8,
   "id": "fc31c104-719c-4965-bb66-fbf1615eab0c",
   "metadata": {},
   "outputs": [
    {
     "name": "stdout",
     "output_type": "stream",
     "text": [
      "--- Iterative GST: [##################################################] 100.0%  56 circuits ---\n",
      "Iterative GST Total Time: 0.5s\n",
      "--- Iterative GST: [##################################################] 100.0%  96 circuits ---\n",
      "Iterative GST Total Time: 1.0s\n",
      "--- Iterative GST: [##################################################] 100.0%  177 circuits ---\n",
      "Iterative GST Total Time: 1.2s\n",
      "--- Iterative GST: [##################################################] 100.0%  304 circuits ---\n",
      "Iterative GST Total Time: 1.3s\n"
     ]
    }
   ],
   "source": [
    "mle_estimates, edesigns = make_mle_estimates(dataset, std, target_model, maxLengths)"
   ]
  },
  {
   "cell_type": "code",
   "execution_count": 9,
   "id": "d42490b0-bf3e-4982-ab57-a1b7a50c34ea",
   "metadata": {},
   "outputs": [],
   "source": [
    "germ_length_ranges = {\n",
    "    0: [0, 92], \n",
    "    1: [92, 168], \n",
    "    2: [168, 285], \n",
    "    3: [285, 448],\n",
    "    4: [448, 616]\n",
    "}\n",
    "\n",
    "germ_length_ranges = {\n",
    "    0: [0, 56], \n",
    "    1: [56, 96], \n",
    "    2: [96, 177], \n",
    "    3: [177, 304]\n",
    "}"
   ]
  },
  {
   "cell_type": "code",
   "execution_count": 10,
   "id": "2e9f87c9-6d97-428e-8eaf-6f3584a98630",
   "metadata": {},
   "outputs": [
    {
     "name": "stderr",
     "output_type": "stream",
     "text": [
      "100%|██████████████████████████████████████████████████████████████████████████████████████████████████████████████████████████████████████████████████████████████████████████████████████████████████████| 304/304 [00:16<00:00, 18.63it/s]\n"
     ]
    }
   ],
   "source": [
    "# run a Kalman filter in the usual way\n",
    "usual_post_model, usual_post_covar, saved_data = filter_dataset(target_model, prior_covar, dataset, edesign.circuit_lists[-1], \n",
    "    None, None, clip_range=[-1, 1],\n",
    "    max_itr=1, itr_eps=1e-4,\n",
    "    save_params_and_covars=True, save_prior_innovations=False, save_posterior_innovations=False, save_kgains=False)"
   ]
  },
  {
   "cell_type": "code",
   "execution_count": 11,
   "id": "fc313003-922c-4bf8-8b81-62c85d283227",
   "metadata": {},
   "outputs": [],
   "source": [
    "usual_parameter_history = saved_data[0]\n",
    "usual_covar_history = saved_data[1]"
   ]
  },
  {
   "cell_type": "code",
   "execution_count": 12,
   "id": "495efb27-5ec1-4951-a726-e9402870b400",
   "metadata": {},
   "outputs": [
    {
     "data": {
      "image/png": "[encoded data removed]",
      "text/plain": [
       "<Figure size 432x288 with 2 Axes>"
      ]
     },
     "metadata": {
      "needs_background": "light"
     },
     "output_type": "display_data"
    }
   ],
   "source": [
    "%matplotlib inline\n",
    "plt_spacing = 5\n",
    "yrange = [-5, -0.5]\n",
    "make_error_plot('Usual evolution', usual_parameter_history, mdl_datagen.to_vector(), usual_covar_history, yrange, mle_estimates, germ_length_ranges, plt_spacing)"
   ]
  },
  {
   "cell_type": "code",
   "execution_count": 13,
   "id": "bc4c5f6b-3e86-4ed0-a7dc-8d2303248c01",
   "metadata": {},
   "outputs": [],
   "source": [
    "class PoissonKalmanFilter():\n",
    "    def __init__(self, model, P0):\n",
    "        self.model = model.copy()\n",
    "        self.num_params = len(model.to_vector())\n",
    "        self.P = P0\n",
    "        \n",
    "        self.param_hist = [model.to_vector()]\n",
    "        self.covar_hist = [self.P]\n",
    "        \n",
    "    def update(self, circ, count_vec, Q=None):\n",
    "        prior_covar = self.P\n",
    "        x_prior = self.model.to_vector()\n",
    "        hilbert_dims = 2**(circ.width)\n",
    "        \n",
    "        jacob = matrix_from_jacob(self.model.sim.dprobs(circ), 2**circ.width)\n",
    "        \n",
    "        P = prior_covar\n",
    "        if Q is not None:\n",
    "            P += Q\n",
    "        \n",
    "        p_pred = vector_from_outcomes(self.model.probabilities(circ), hilbert_dims)\n",
    "        N_counts = sum(count_vec)\n",
    "        c_pred = N_counts*p_pred\n",
    "        \n",
    "        obs_covar = np.diag(c_pred+np.ones(len(c_pred)))\n",
    "        obs_mat = N_counts*jacob\n",
    "        \n",
    "        Kgain = P@obs_mat.T@np.linalg.inv(obs_mat@P@obs_mat.T + obs_covar)\n",
    "        \n",
    "        x_post = x_prior + Kgain@(count_vec - c_pred)\n",
    "        \n",
    "        covar_proj = np.eye(P.shape[0]) - Kgain@obs_mat\n",
    "        post_covar = covar_proj@P@covar_proj.T + Kgain@obs_covar@Kgain.T\n",
    "        \n",
    "        self.param_hist.append(x_post)\n",
    "        self.covar_hist.append(post_covar)\n",
    "        \n",
    "        self.model.from_vector(x_post)\n",
    "        self.P = post_covar\n",
    "        \n",
    "    def observe_model(self, mdl_in, circ_list, counts):\n",
    "        for circ in tqdm(circ_list):\n",
    "            obs_pvec = vector_from_outcomes(mdl_in.probabilities(circ), 2**circ.width)\n",
    "            obs_cvec = np.random.multinomial(counts, obs_pvec)\n",
    "            self.update(circ, obs_cvec)"
   ]
  },
  {
   "cell_type": "code",
   "execution_count": 14,
   "id": "5c5b9e8d-d18d-47c4-8d30-ef371dc223d9",
   "metadata": {},
   "outputs": [],
   "source": [
    "def pfilter_dataset(prior_model, prior_covar, dataset, circ_list):\n",
    "    pkf = PoissonKalmanFilter(prior_model.copy(), prior_covar)\n",
    "    for circ in tqdm(circ_list):\n",
    "        counts = dataset[circ].counts\n",
    "        cvec = vector_from_outcomes(counts, 2**circ.width)\n",
    "        pkf.update(circ, cvec)\n",
    "    return pkf"
   ]
  },
  {
   "cell_type": "code",
   "execution_count": 15,
   "id": "550be1f3-c5be-454d-9778-6eeacf4029b0",
   "metadata": {},
   "outputs": [
    {
     "name": "stderr",
     "output_type": "stream",
     "text": [
      "100%|██████████████████████████████████████████████████████████████████████████████████████████████████████████████████████████████████████████████████████████████████████████████████████████████████████| 304/304 [00:16<00:00, 18.69it/s]\n"
     ]
    }
   ],
   "source": [
    "# run Poission filter in the usual way\n",
    "pkf_post = pfilter_dataset(target_model, prior_covar, dataset, edesign.circuit_lists[-1])"
   ]
  },
  {
   "cell_type": "code",
   "execution_count": 16,
   "id": "44ecc49e-7589-427f-aa8e-e57929ac1418",
   "metadata": {},
   "outputs": [
    {
     "data": {
      "image/png": "[encoded data removed]",
      "text/plain": [
       "<Figure size 432x288 with 2 Axes>"
      ]
     },
     "metadata": {
      "needs_background": "light"
     },
     "output_type": "display_data"
    }
   ],
   "source": [
    "%matplotlib inline\n",
    "plt_spacing = 5\n",
    "yrange = [-5, -0.5]\n",
    "make_error_plot('Usual evolution', pkf_post.param_hist, mdl_datagen.to_vector(), pkf_post.covar_hist, yrange, mle_estimates, germ_length_ranges, plt_spacing)"
   ]
  },
  {
   "cell_type": "code",
   "execution_count": 17,
   "id": "bece5519-fd30-452e-b250-0cef5e99673d",
   "metadata": {},
   "outputs": [
    {
     "data": {
      "text/plain": [
       "[<matplotlib.lines.Line2D at 0x7f58c4d389a0>]"
      ]
     },
     "execution_count": 17,
     "metadata": {},
     "output_type": "execute_result"
    },
    {
     "data": {
      "image/png": "[encoded data removed]",
      "text/plain": [
       "<Figure size 432x288 with 1 Axes>"
      ]
     },
     "metadata": {
      "needs_background": "light"
     },
     "output_type": "display_data"
    }
   ],
   "source": [
    "plt.plot([np.linalg.norm(usual_parameter_history[i] - pkf_post.param_hist[i]) for i in range(len(pkf_post.param_hist))]) "
   ]
  },
  {
   "cell_type": "code",
   "execution_count": 71,
   "id": "f15f99a4-0650-4f5d-ab4b-dfeddbe516bc",
   "metadata": {},
   "outputs": [],
   "source": [
    "pkf = PoissonKalmanFilter(mle_estimates[0], prior_covar)"
   ]
  },
  {
   "cell_type": "code",
   "execution_count": 72,
   "id": "c0d510b7-98c3-4bb7-b9ec-442ce8b6d22d",
   "metadata": {},
   "outputs": [
    {
     "name": "stderr",
     "output_type": "stream",
     "text": [
      "100%|██████████████████████████████████████████████████████████████████████████████████████████████████████████████████████████████████████████████████████████████████████████████████████████████████████| 304/304 [00:17<00:00, 17.49it/s]\n"
     ]
    }
   ],
   "source": [
    "pkf.observe_model(mdl_datagen, edesign.circuit_lists[-1], 100)"
   ]
  },
  {
   "cell_type": "code",
   "execution_count": 73,
   "id": "f02c2d33-ff2a-4f81-812a-c549b8e2f749",
   "metadata": {},
   "outputs": [
    {
     "data": {
      "image/png": "[encoded data removed]",
      "text/plain": [
       "<Figure size 432x288 with 2 Axes>"
      ]
     },
     "metadata": {
      "needs_background": "light"
     },
     "output_type": "display_data"
    }
   ],
   "source": [
    "make_error_plot('Usual evolution', pkf.param_hist, mdl_datagen.to_vector(), pkf.covar_hist, [-5, 0], mle_estimates, germ_length_ranges, plt_spacing)"
   ]
  },
  {
   "cell_type": "code",
   "execution_count": null,
   "id": "364644e8-90c2-45b6-ac2e-ce940479b631",
   "metadata": {},
   "outputs": [],
   "source": []
  },
  {
   "cell_type": "code",
   "execution_count": null,
   "id": "faf09eea-ed12-401b-af66-a7e74ebdd61d",
   "metadata": {},
   "outputs": [],
   "source": []
  }
 ],
 "metadata": {
  "kernelspec": {
   "display_name": "Python 3 (ipykernel)",
   "language": "python",
   "name": "python3"
  },
  "language_info": {
   "codemirror_mode": {
    "name": "ipython",
    "version": 3
   },
   "file_extension": ".py",
   "mimetype": "text/x-python",
   "name": "python",
   "nbconvert_exporter": "python",
   "pygments_lexer": "ipython3",
   "version": "3.10.4"
  }
 },
 "nbformat": 4,
 "nbformat_minor": 5
}
