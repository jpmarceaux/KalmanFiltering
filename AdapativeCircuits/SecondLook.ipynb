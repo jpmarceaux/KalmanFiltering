{
 "cells": [
  {
   "cell_type": "code",
   "execution_count": 1,
   "id": "5c8fd2c6-a9fa-42a7-a509-faff3571a52c",
   "metadata": {},
   "outputs": [],
   "source": [
    "import sys\n",
    "sys.path.append(\"..\")\n",
    "from lib.kalman_gst import *  \n",
    "from pygsti.modelpacks import smq1Q_XYI as std"
   ]
  },
  {
   "cell_type": "code",
   "execution_count": 2,
   "id": "4c788822-9a0e-4ebd-a886-7d2c52c63fd4",
   "metadata": {},
   "outputs": [],
   "source": [
    "from pygsti.forwardsims import MatrixForwardSimulator"
   ]
  },
  {
   "cell_type": "code",
   "execution_count": 3,
   "id": "8ba736cd-e701-4239-853d-9001080e68ed",
   "metadata": {},
   "outputs": [],
   "source": [
    "SAMPLES = 256"
   ]
  },
  {
   "cell_type": "code",
   "execution_count": 4,
   "id": "05ffbb76-b97d-402b-90e0-b0d5919615ec",
   "metadata": {},
   "outputs": [],
   "source": [
    "# setup the FOGI model\n",
    "mdl_datagen = std.target_model('H+s')\n",
    "basis1q = pygsti.baseobjs.Basis.cast('pp', 4)\n",
    "gauge_basis = pygsti.baseobjs.CompleteElementaryErrorgenBasis(\n",
    "                        basis1q, mdl_datagen.state_space, elementary_errorgen_types='HS')\n",
    "mdl_datagen.setup_fogi(gauge_basis, None, None, reparameterize=True,\n",
    "                     dependent_fogi_action='drop', include_spam=True)\n",
    "target_model = mdl_datagen.copy()"
   ]
  },
  {
   "cell_type": "code",
   "execution_count": 5,
   "id": "ad833db9-d4ba-4d94-b466-f8727042820c",
   "metadata": {},
   "outputs": [],
   "source": [
    "tfs = MatrixForwardSimulator(target_model)"
   ]
  },
  {
   "cell_type": "code",
   "execution_count": 6,
   "id": "1eb6e072-099a-4a7c-a229-1db28232b541",
   "metadata": {},
   "outputs": [
    {
     "data": {
      "text/plain": [
       "18"
      ]
     },
     "execution_count": 6,
     "metadata": {},
     "output_type": "execute_result"
    }
   ],
   "source": [
    "mdl_datagen.num_params"
   ]
  },
  {
   "cell_type": "code",
   "execution_count": 218,
   "id": "c7136c82-c767-45a4-9349-41d28d2c9f90",
   "metadata": {},
   "outputs": [
    {
     "name": "stdout",
     "output_type": "stream",
     "text": [
      "['H(X:0)_[]', 'H(Y:0)_[]', 'H(Z:0)_[]', 'H(X:0)_Gxpi2:0', 'H(Y:0)_Gypi2:0']\n"
     ]
    }
   ],
   "source": [
    "hamiltonian_params = [0, 1, 2, 6, 9]\n",
    "print([mdl_datagen.fogi_errorgen_component_labels()[i] for i in hamiltonian_params])"
   ]
  },
  {
   "cell_type": "code",
   "execution_count": 219,
   "id": "4ea9a235-17a1-46cf-aa73-b68128f51553",
   "metadata": {},
   "outputs": [
    {
     "name": "stdout",
     "output_type": "stream",
     "text": [
      "hamiltonian-only MSE with target 0.013944923672360084\n",
      "hamiltonian-only agsi with target 0.0027790049441692053\n",
      "MSE with target 0.014171703875716937\n",
      "agi with target 0.00932546039819362\n"
     ]
    }
   ],
   "source": [
    "# add noise to the stochastic and hamiltonian parts of the FOGI rates\n",
    "SEED = 3122\n",
    "np.random.seed(SEED)\n",
    "\n",
    "max_stochastic_error_rate = 0.01\n",
    "hamiltonian_error_var = 0.05\n",
    "ar = mdl_datagen.fogi_errorgen_components_array(include_fogv=False, normalized_elem_gens=True)\n",
    "\n",
    "\n",
    "# add hamiltonian noise\n",
    "ar[0:3] = np.random.normal(0, hamiltonian_error_var, 3)\n",
    "ar[9] = np.random.normal(0, hamiltonian_error_var)\n",
    "ar[6] = np.random.normal(0, hamiltonian_error_var)\n",
    "mdl_datagen.set_fogi_errorgen_components_array(ar, include_fogv=False, normalized_elem_gens=True)\n",
    "print('hamiltonian-only MSE with target', mserror(mdl_datagen, target_model))\n",
    "print('hamiltonian-only agsi with target', avg_gs_infidelity(mdl_datagen, target_model))\n",
    "\n",
    "# add stochastic noise\n",
    "ar[3:6] = max_stochastic_error_rate*np.random.rand(3)\n",
    "ar[7:9] = max_stochastic_error_rate*np.random.rand(2)\n",
    "ar[10:12] = max_stochastic_error_rate*np.random.rand(2)\n",
    "mdl_datagen.set_fogi_errorgen_components_array(ar, include_fogv=False, normalized_elem_gens=True)\n",
    "\n",
    "print('MSE with target', mserror(mdl_datagen, target_model))\n",
    "print('agi with target', avg_gs_infidelity(mdl_datagen, target_model))"
   ]
  },
  {
   "cell_type": "code",
   "execution_count": 220,
   "id": "2504d68d-81c3-46e5-8a87-2da90ddb442a",
   "metadata": {},
   "outputs": [],
   "source": [
    "mfs = MatrixForwardSimulator(target_model)"
   ]
  },
  {
   "cell_type": "code",
   "execution_count": 221,
   "id": "ff12c487-ebd0-4674-8f03-880acffdc3e4",
   "metadata": {},
   "outputs": [
    {
     "name": "stdout",
     "output_type": "stream",
     "text": [
      "model is cptp True\n"
     ]
    }
   ],
   "source": [
    "print('model is cptp', model_is_cptp(mdl_datagen))"
   ]
  },
  {
   "cell_type": "code",
   "execution_count": 222,
   "id": "a09432d7-1b99-40ad-950b-e081f6066b74",
   "metadata": {},
   "outputs": [],
   "source": [
    "germs = std.germs()\n",
    "mfids = std.meas_fiducials()\n",
    "pfids = std.prep_fiducials()"
   ]
  },
  {
   "cell_type": "code",
   "execution_count": 223,
   "id": "0efcb031-fee6-4d03-870f-84369a5bfc70",
   "metadata": {},
   "outputs": [],
   "source": [
    "class ExtendedKalmanFilter():\n",
    "    \"\"\"\n",
    "    An extended Kalman filter for gate-set tomography\n",
    "    \n",
    "    --- Parameters ---\n",
    "    model: an underlying pygsti model\n",
    "    num_params: number of parameters in the pygsti model\n",
    "    P: current covariance matrix\n",
    "    \"\"\"\n",
    "    def __init__(self, model, P0):\n",
    "        self.model = model.copy()\n",
    "        self.P = P0\n",
    "        self.param_history = [self.model.to_vector()]\n",
    "        self.covar_history = [self.P]\n",
    "        \n",
    "    def update(self, circ, count_vec, clip_range=[-1,1], Q=None, R_additional=None, max_itr=1, itr_eps=1e-4):\n",
    "        \"\"\"\n",
    "        Makes an exact update to the model\n",
    "        where the jacobian is calculated as the current estimate\n",
    "        \n",
    "        --- Arguments ---\n",
    "        circ: pygsti circuit used in the update\n",
    "        count_vec: vector of observed counts\n",
    "        clip_range: reasonable clipping range for the parameter update\n",
    "        Q: state-space covariance \n",
    "        R_additional: additional measurement covariance\n",
    "        max_itr: maximum number of iterations to the update\n",
    "        itr_eps: epsilon for minimum difference to end iterated updates\n",
    "        \n",
    "        --- Returns --- \n",
    "        innovation: the prior innovation\n",
    "        kgain: the Kalman gain\n",
    "        \"\"\"\n",
    "        prior_covar = self.P\n",
    "        prior_state = self.model.to_vector()\n",
    "        hilbert_dims = 2**(circ.width)\n",
    "        \n",
    "        # find the predicted frequency for the circuit outcome under the model\n",
    "        probs = self.model.probabilities(circ)\n",
    "        p_model = vector_from_outcomes(probs, hilbert_dims)\n",
    "\n",
    "        # calculate the observed frequency\n",
    "        total_counts = sum(count_vec)\n",
    "        observation = count_vec/total_counts\n",
    "\n",
    "        # calculate jacobian\n",
    "        jacob = matrix_from_jacob(self.model.sim.dprobs(circ), 2**circ.width)\n",
    "\n",
    "        # calculate the covaraiance of the observation\n",
    "        mean_frequency = ( count_vec+np.ones(len(count_vec)) )/( sum(count_vec)+len(count_vec) )\n",
    "        R = (1/(sum(count_vec)+len(count_vec)+1))*categorical_covar(mean_frequency)\n",
    "\n",
    "        # add any additional noise\n",
    "        if R_additional is not None:\n",
    "            R += R_additional\n",
    "        if Q is None: \n",
    "            Q = 0*np.eye(self.model.num_params)\n",
    "\n",
    "        # Kalman gain\n",
    "        P = prior_covar + Q\n",
    "        kgain = P@jacob.T@np.linalg.pinv(jacob@P@jacob.T + R, 1e-15)\n",
    "\n",
    "        # Kalman update\n",
    "        innovation = observation - p_model\n",
    "        post_state = prior_state + kgain@innovation\n",
    "        post_state = np.clip(post_state, clip_range[0], clip_range[1])\n",
    "            \n",
    "\n",
    "        \n",
    "        # update class parameters\n",
    "        self.P = (np.eye(self.model.num_params) - kgain@jacob)@P\n",
    "        self.model.from_vector(post_state)\n",
    "        \n",
    "        self.param_history.append(post_state)\n",
    "        self.covar_history.append(self.P)\n",
    "        \n",
    "        return innovation, kgain \n",
    "    \n",
    "    "
   ]
  },
  {
   "cell_type": "code",
   "execution_count": 224,
   "id": "09702025-ae60-48c1-be4c-bf62f3a6ccc4",
   "metadata": {},
   "outputs": [
    {
     "data": {
      "text/plain": [
       "[Circuit([]@(0)),\n",
       " Circuit(Gxpi2:0@(0)),\n",
       " Circuit(Gypi2:0@(0)),\n",
       " Circuit(Gxpi2:0Gypi2:0@(0)),\n",
       " Circuit(Gxpi2:0Gxpi2:0Gypi2:0@(0))]"
      ]
     },
     "execution_count": 224,
     "metadata": {},
     "output_type": "execute_result"
    }
   ],
   "source": [
    "germs"
   ]
  },
  {
   "cell_type": "code",
   "execution_count": 225,
   "id": "861e3eae-3164-4b26-ab9b-b48cfdf0db38",
   "metadata": {},
   "outputs": [
    {
     "data": {
      "text/plain": [
       "Circuit(Gxpi2:0Gypi2:0@(0))"
      ]
     },
     "execution_count": 225,
     "metadata": {},
     "output_type": "execute_result"
    }
   ],
   "source": [
    "germs[3]"
   ]
  },
  {
   "cell_type": "code",
   "execution_count": 226,
   "id": "976bd742-451a-44d1-87e0-ad1f5b5bb2a6",
   "metadata": {},
   "outputs": [
    {
     "data": {
      "text/plain": [
       "18"
      ]
     },
     "execution_count": 226,
     "metadata": {},
     "output_type": "execute_result"
    }
   ],
   "source": [
    "target_model.num_params"
   ]
  },
  {
   "cell_type": "code",
   "execution_count": 209,
   "id": "44b2529f-907a-4981-aecb-3531bf6990b4",
   "metadata": {},
   "outputs": [
    {
     "name": "stdout",
     "output_type": "stream",
     "text": [
      "(18, 4, 4)\n",
      "1190.7532199931695\n"
     ]
    },
    {
     "ename": "ValueError",
     "evalue": "operands could not be broadcast together with shapes (16,0) (16,6) (16,0) ",
     "output_type": "error",
     "traceback": [
      "\u001b[0;31m---------------------------------------------------------------------------\u001b[0m",
      "\u001b[0;31mValueError\u001b[0m                                Traceback (most recent call last)",
      "Cell \u001b[0;32mIn[209], line 2\u001b[0m\n\u001b[1;32m      1\u001b[0m \u001b[38;5;28;01mfor\u001b[39;00m g \u001b[38;5;129;01min\u001b[39;00m germs:\n\u001b[0;32m----> 2\u001b[0m     dgerm \u001b[38;5;241m=\u001b[39m \u001b[43mmfs\u001b[49m\u001b[38;5;241;43m.\u001b[39;49m\u001b[43mdproduct\u001b[49m\u001b[43m(\u001b[49m\u001b[43mg\u001b[49m\u001b[43m)\u001b[49m\n\u001b[1;32m      3\u001b[0m     \u001b[38;5;28mprint\u001b[39m(dgerm\u001b[38;5;241m.\u001b[39mshape)\n\u001b[1;32m      4\u001b[0m     gmat \u001b[38;5;241m=\u001b[39m dgerm\u001b[38;5;241m.\u001b[39mreshape(dgerm\u001b[38;5;241m.\u001b[39mshape[\u001b[38;5;241m0\u001b[39m], \u001b[38;5;241m-\u001b[39m\u001b[38;5;241m1\u001b[39m)\n",
      "File \u001b[0;32m~/Applications/pyGSTi/pygsti/forwardsims/matrixforwardsim.py:361\u001b[0m, in \u001b[0;36mSimpleMatrixForwardSimulator.dproduct\u001b[0;34m(self, circuit, flat, wrt_filter)\u001b[0m\n\u001b[1;32m    359\u001b[0m         \u001b[38;5;28;01mif\u001b[39;00m gl \u001b[38;5;241m!=\u001b[39m opLabel: \u001b[38;5;28;01mcontinue\u001b[39;00m  \u001b[38;5;66;03m# loop over locations of opLabel\u001b[39;00m\n\u001b[1;32m    360\u001b[0m         LRproduct \u001b[38;5;241m=\u001b[39m _np\u001b[38;5;241m.\u001b[39mkron(leftProds[i], rightProdsT[N \u001b[38;5;241m-\u001b[39m \u001b[38;5;241m1\u001b[39m \u001b[38;5;241m-\u001b[39m i])  \u001b[38;5;66;03m# (dim**2, dim**2)\u001b[39;00m\n\u001b[0;32m--> 361\u001b[0m         \u001b[43m_fas\u001b[49m\u001b[43m(\u001b[49m\u001b[43mflattened_dprod\u001b[49m\u001b[43m,\u001b[49m\u001b[43m \u001b[49m\u001b[43m[\u001b[49m\u001b[38;5;28;43;01mNone\u001b[39;49;00m\u001b[43m,\u001b[49m\u001b[43m \u001b[49m\u001b[43mgpindices\u001b[49m\u001b[43m]\u001b[49m\u001b[43m,\u001b[49m\n\u001b[1;32m    362\u001b[0m \u001b[43m             \u001b[49m\u001b[43m_np\u001b[49m\u001b[38;5;241;43m.\u001b[39;49m\u001b[43mdot\u001b[49m\u001b[43m(\u001b[49m\u001b[43mLRproduct\u001b[49m\u001b[43m,\u001b[49m\u001b[43m \u001b[49m\u001b[43mdop_dopLabel\u001b[49m\u001b[43m)\u001b[49m\u001b[43m,\u001b[49m\u001b[43m \u001b[49m\u001b[43madd\u001b[49m\u001b[38;5;241;43m=\u001b[39;49m\u001b[38;5;28;43;01mTrue\u001b[39;49;00m\u001b[43m)\u001b[49m  \u001b[38;5;66;03m# (dim**2, n_params[opLabel])\u001b[39;00m\n\u001b[1;32m    364\u001b[0m \u001b[38;5;28;01mif\u001b[39;00m flat:\n\u001b[1;32m    365\u001b[0m     \u001b[38;5;28;01mreturn\u001b[39;00m flattened_dprod\n",
      "File \u001b[0;32m~/Applications/pyGSTi/pygsti/tools/matrixtools.py:1299\u001b[0m, in \u001b[0;36m_fas\u001b[0;34m(a, inds, rhs, add)\u001b[0m\n\u001b[1;32m   1297\u001b[0m \u001b[38;5;28;01mif\u001b[39;00m \u001b[38;5;28mall\u001b[39m([\u001b[38;5;28misinstance\u001b[39m(i, (\u001b[38;5;28mint\u001b[39m, \u001b[38;5;28mslice\u001b[39m)) \u001b[38;5;28;01mfor\u001b[39;00m i \u001b[38;5;129;01min\u001b[39;00m inds]) \u001b[38;5;129;01mor\u001b[39;00m \u001b[38;5;28mlen\u001b[39m(inds) \u001b[38;5;241m==\u001b[39m \u001b[38;5;241m1\u001b[39m:\n\u001b[1;32m   1298\u001b[0m     \u001b[38;5;28;01mif\u001b[39;00m add:\n\u001b[0;32m-> 1299\u001b[0m         a[inds] \u001b[38;5;241m+\u001b[39m\u001b[38;5;241m=\u001b[39m rhs  \u001b[38;5;66;03m# all integers or slices behave nicely\u001b[39;00m\n\u001b[1;32m   1300\u001b[0m     \u001b[38;5;28;01melse\u001b[39;00m:\n\u001b[1;32m   1301\u001b[0m         a[inds] \u001b[38;5;241m=\u001b[39m rhs  \u001b[38;5;66;03m# all integers or slices behave nicely\u001b[39;00m\n",
      "\u001b[0;31mValueError\u001b[0m: operands could not be broadcast together with shapes (16,0) (16,6) (16,0) "
     ]
    }
   ],
   "source": [
    "for g in germs:\n",
    "    dgerm = mfs.dproduct(g)\n",
    "    print(dgerm.shape)\n",
    "    gmat = dgerm.reshape(dgerm.shape[0], -1)\n",
    "    dpd = np.conj(gmat.T)@P@gmat\n",
    "    print(np.trace(np.linalg.pinv(dpd)))"
   ]
  },
  {
   "cell_type": "code",
   "execution_count": null,
   "id": "9d3a6ca7-1af5-4b10-9f17-56b5533a8470",
   "metadata": {},
   "outputs": [],
   "source": []
  },
  {
   "cell_type": "code",
   "execution_count": 137,
   "id": "4d90066d-e01e-4e7f-b320-5e170051c17e",
   "metadata": {},
   "outputs": [],
   "source": []
  },
  {
   "cell_type": "code",
   "execution_count": 140,
   "id": "c11e16bc-2b88-4039-8294-7420b621b213",
   "metadata": {},
   "outputs": [
    {
     "data": {
      "text/plain": [
       "1190.7532199931695"
      ]
     },
     "execution_count": 140,
     "metadata": {},
     "output_type": "execute_result"
    }
   ],
   "source": []
  },
  {
   "cell_type": "code",
   "execution_count": 111,
   "id": "a447ed68-2622-432f-a7cb-075267ddde4f",
   "metadata": {},
   "outputs": [
    {
     "data": {
      "text/plain": [
       "(4, 4, 18)"
      ]
     },
     "execution_count": 111,
     "metadata": {},
     "output_type": "execute_result"
    }
   ],
   "source": [
    "dgerm.T.shape"
   ]
  },
  {
   "cell_type": "code",
   "execution_count": 93,
   "id": "07b56fbc-9c2c-4e68-8fe1-aee4d0b8feeb",
   "metadata": {},
   "outputs": [],
   "source": [
    "mse = mserror(target_model, mdl_datagen)\n",
    "initial_covar = (mse/target_model.num_params)*np.eye(target_model.num_params)"
   ]
  },
  {
   "cell_type": "code",
   "execution_count": 94,
   "id": "4d438b3c-d617-423b-bfd6-5f76979d29ae",
   "metadata": {},
   "outputs": [],
   "source": [
    "ekf = ExtendedKalmanFilter(target_model, initial_covar)"
   ]
  },
  {
   "cell_type": "code",
   "execution_count": 95,
   "id": "437231ba-4b07-4e02-868c-e5785112f1ef",
   "metadata": {},
   "outputs": [],
   "source": [
    "P = ekf.P"
   ]
  },
  {
   "cell_type": "code",
   "execution_count": 102,
   "id": "32d69761-429e-4694-92d3-bdd643b1605c",
   "metadata": {},
   "outputs": [
    {
     "data": {
      "text/plain": [
       "0.014171703875716936"
      ]
     },
     "execution_count": 102,
     "metadata": {},
     "output_type": "execute_result"
    }
   ],
   "source": [
    "np.trace(P)"
   ]
  },
  {
   "cell_type": "code",
   "execution_count": 103,
   "id": "7f164387-ed9f-4cd7-aa37-29c12889dc48",
   "metadata": {},
   "outputs": [
    {
     "data": {
      "text/plain": [
       "1.3511144839590893e-56"
      ]
     },
     "execution_count": 103,
     "metadata": {},
     "output_type": "execute_result"
    }
   ],
   "source": [
    "np.linalg.det(P)"
   ]
  },
  {
   "cell_type": "code",
   "execution_count": 126,
   "id": "a5eccc72-494c-4396-b79d-e3637bb21f02",
   "metadata": {},
   "outputs": [
    {
     "data": {
      "text/plain": [
       "(18, 18)"
      ]
     },
     "execution_count": 126,
     "metadata": {},
     "output_type": "execute_result"
    }
   ],
   "source": [
    "P.shape"
   ]
  },
  {
   "cell_type": "code",
   "execution_count": 127,
   "id": "d1f67fa2-c950-44db-8a41-56aa2c350bd5",
   "metadata": {},
   "outputs": [
    {
     "data": {
      "text/plain": [
       "(18, 4, 4)"
      ]
     },
     "execution_count": 127,
     "metadata": {},
     "output_type": "execute_result"
    }
   ],
   "source": [
    "dgerm.shape"
   ]
  },
  {
   "cell_type": "code",
   "execution_count": 112,
   "id": "1c006c19-3325-4b05-91c6-89e1819e1c06",
   "metadata": {},
   "outputs": [
    {
     "ename": "ValueError",
     "evalue": "shape-mismatch for sum",
     "output_type": "error",
     "traceback": [
      "\u001b[0;31m---------------------------------------------------------------------------\u001b[0m",
      "\u001b[0;31mValueError\u001b[0m                                Traceback (most recent call last)",
      "Cell \u001b[0;32mIn[112], line 3\u001b[0m\n\u001b[1;32m      1\u001b[0m \u001b[38;5;28;01mfor\u001b[39;00m g \u001b[38;5;129;01min\u001b[39;00m germs:\n\u001b[1;32m      2\u001b[0m     dgerm \u001b[38;5;241m=\u001b[39m mfs\u001b[38;5;241m.\u001b[39mdproduct(g)\n\u001b[0;32m----> 3\u001b[0m     \u001b[43mnp\u001b[49m\u001b[38;5;241;43m.\u001b[39;49m\u001b[43mtensordot\u001b[49m\u001b[43m(\u001b[49m\u001b[43mdgerm\u001b[49m\u001b[38;5;241;43m.\u001b[39;49m\u001b[43mT\u001b[49m\u001b[43m,\u001b[49m\u001b[43m \u001b[49m\u001b[43mP\u001b[49m\u001b[43m)\u001b[49m\n",
      "File \u001b[0;32m<__array_function__ internals>:180\u001b[0m, in \u001b[0;36mtensordot\u001b[0;34m(*args, **kwargs)\u001b[0m\n",
      "File \u001b[0;32m~/.local/lib/python3.10/site-packages/numpy/core/numeric.py:1116\u001b[0m, in \u001b[0;36mtensordot\u001b[0;34m(a, b, axes)\u001b[0m\n\u001b[1;32m   1114\u001b[0m             axes_b[k] \u001b[38;5;241m+\u001b[39m\u001b[38;5;241m=\u001b[39m ndb\n\u001b[1;32m   1115\u001b[0m \u001b[38;5;28;01mif\u001b[39;00m \u001b[38;5;129;01mnot\u001b[39;00m equal:\n\u001b[0;32m-> 1116\u001b[0m     \u001b[38;5;28;01mraise\u001b[39;00m \u001b[38;5;167;01mValueError\u001b[39;00m(\u001b[38;5;124m\"\u001b[39m\u001b[38;5;124mshape-mismatch for sum\u001b[39m\u001b[38;5;124m\"\u001b[39m)\n\u001b[1;32m   1118\u001b[0m \u001b[38;5;66;03m# Move the axes to sum over to the end of \"a\"\u001b[39;00m\n\u001b[1;32m   1119\u001b[0m \u001b[38;5;66;03m# and to the front of \"b\"\u001b[39;00m\n\u001b[1;32m   1120\u001b[0m notin \u001b[38;5;241m=\u001b[39m [k \u001b[38;5;28;01mfor\u001b[39;00m k \u001b[38;5;129;01min\u001b[39;00m \u001b[38;5;28mrange\u001b[39m(nda) \u001b[38;5;28;01mif\u001b[39;00m k \u001b[38;5;129;01mnot\u001b[39;00m \u001b[38;5;129;01min\u001b[39;00m axes_a]\n",
      "\u001b[0;31mValueError\u001b[0m: shape-mismatch for sum"
     ]
    }
   ],
   "source": [
    "for g in germs:\n",
    "    dgerm = mfs.dproduct(g)\n",
    "    np.tensordot(dgerm.T, P)"
   ]
  },
  {
   "cell_type": "code",
   "execution_count": null,
   "id": "c1d39d0b-9e07-414b-ad14-93f28b16629f",
   "metadata": {},
   "outputs": [],
   "source": []
  }
 ],
 "metadata": {
  "kernelspec": {
   "display_name": "Python 3 (ipykernel)",
   "language": "python",
   "name": "python3"
  },
  "language_info": {
   "codemirror_mode": {
    "name": "ipython",
    "version": 3
   },
   "file_extension": ".py",
   "mimetype": "text/x-python",
   "name": "python",
   "nbconvert_exporter": "python",
   "pygments_lexer": "ipython3",
   "version": "3.10.9"
  }
 },
 "nbformat": 4,
 "nbformat_minor": 5
}
