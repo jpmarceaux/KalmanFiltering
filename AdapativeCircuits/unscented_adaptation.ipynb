{
 "cells": [
  {
   "cell_type": "code",
   "execution_count": 1,
   "id": "831a480e-c376-4cba-9d3d-b8a2d4d40bd0",
   "metadata": {},
   "outputs": [],
   "source": [
    "import os\n",
    "os.chdir('/home/jpmarceaux/Simulations/KalmanFiltering_Sandia2021')\n",
    "from kalman_gst import *\n",
    "os.chdir('/home/jpmarceaux/Simulations/KalmanFiltering_Sandia2021/AdaptiveCircuit')\n",
    "from pygsti.modelpacks import smq1Q_XYZI as std"
   ]
  },
  {
   "cell_type": "code",
   "execution_count": 2,
   "id": "a65e325e-614c-4fba-b37a-dca07c94407f",
   "metadata": {},
   "outputs": [],
   "source": [
    "def filter_dataset(prior_model, prior_covar, dataset, circ_list, \n",
    "                   Q_add, R_add, clip_range=[-1, 1],\n",
    "                   max_itr=1, itr_eps=1e-4,\n",
    "                   save_params_and_covars=False, save_prior_innovations=False, save_posterior_innovations=False, save_kgains=False):\n",
    "    param_history = []\n",
    "    covar_history = []\n",
    "    prior_innovs = []\n",
    "    post_innovs = []\n",
    "    kgains = []\n",
    "    \n",
    "    ekf = ExtendedKalmanFilter(prior_model.copy(), prior_covar)\n",
    "    if save_params_and_covars:\n",
    "        param_history.append(prior_model.to_vector())\n",
    "        covar_history.append(prior_covar)\n",
    "    for circ in tqdm(circ_list):\n",
    "        counts = dataset[circ].counts\n",
    "        cvec = vector_from_outcomes(counts, 2**circ.width)\n",
    "        innov, kgain = ekf.update(circ, cvec, clip_range=clip_range, Q=Q_add, R_additional=R_add, max_itr=max_itr, itr_eps=itr_eps)\n",
    "        if save_prior_innovations:\n",
    "            prior_innovs.append(innov)\n",
    "        if save_kgains:\n",
    "            kgains.append(kgain)\n",
    "        if save_posterior_innovations:\n",
    "            post_predict = vector_from_outcomes(ekf.model.probabilities(circ), 2**circ.width)\n",
    "            post_innov = cvec/sum(cvec) - post_predict\n",
    "            post_innovs.append(post_innov)\n",
    "        if save_params_and_covars:\n",
    "            param_history.append(ekf.model.to_vector())\n",
    "            covar_history.append(ekf.P)\n",
    "    return ekf.model, ekf.P, (param_history, covar_history, prior_innovs, post_innovs, kgains)"
   ]
  },
  {
   "cell_type": "code",
   "execution_count": 3,
   "id": "a35df45b-a51a-4a71-9b55-361676781540",
   "metadata": {},
   "outputs": [],
   "source": [
    "SEED = 2021\n",
    "NUM_SHOTS = 256\n",
    "np.random.seed(SEED)"
   ]
  },
  {
   "cell_type": "code",
   "execution_count": 49,
   "id": "b9b585a1-6e4e-4e1b-9adf-547adb5a4651",
   "metadata": {},
   "outputs": [],
   "source": [
    "# setup the datagen model\n",
    "max_fogi_error_rate = 0.01\n",
    "mdl_datagen = std.target_model('H+s')\n",
    "basis1q = pygsti.baseobjs.Basis.cast('pp', 4)\n",
    "gauge_basis = pygsti.baseobjs.CompleteElementaryErrorgenBasis(\n",
    "                        basis1q, mdl_datagen.state_space, elementary_errorgen_types='HS')\n",
    "mdl_datagen.setup_fogi(gauge_basis, None, None, reparameterize=True,\n",
    "                     dependent_fogi_action='drop', include_spam=True)\n",
    "ar = mdl_datagen.fogi_errorgen_components_array(include_fogv=False, normalized_elem_gens=True)\n",
    "target_model = mdl_datagen.copy()\n",
    "np.random.seed(SEED)\n",
    "ar = max_fogi_error_rate * np.random.rand(len(ar))\n",
    "mdl_datagen.set_fogi_errorgen_components_array(ar, include_fogv=False, normalized_elem_gens=True)"
   ]
  },
  {
   "cell_type": "code",
   "execution_count": 50,
   "id": "d68d7953-6175-4279-9acd-ae2119a72cfc",
   "metadata": {},
   "outputs": [
    {
     "name": "stdout",
     "output_type": "stream",
     "text": [
      "Model is CPTP...  True\n",
      "avg. gate-set infidelity:  0.009278804429917908\n",
      "mean square error:  0.000771129612974869\n"
     ]
    }
   ],
   "source": [
    "# check that the datagen model is CPTP and print metrics w.r.t. the target model\n",
    "print('Model is CPTP... ', model_is_cptp(mdl_datagen))\n",
    "print('avg. gate-set infidelity: ', avg_gs_infidelity(mdl_datagen, target_model))\n",
    "print('mean square error: ', mserror(mdl_datagen, target_model))"
   ]
  },
  {
   "cell_type": "code",
   "execution_count": 51,
   "id": "a1c9d44a-e7ca-40ed-b8fc-8b03462631a6",
   "metadata": {},
   "outputs": [],
   "source": [
    "# make an edesign and simulate the data\n",
    "maxLengths = [1,2,4, 8]\n",
    "edesign = pygsti.protocols.StandardGSTDesign(target_model, std.prep_fiducials(), std.meas_fiducials(),\n",
    "                                                std.germs(), maxLengths)\n",
    "dataset = pygsti.data.simulate_data(mdl_datagen, edesign, NUM_SHOTS, seed=SEED) #, sample_error='none')"
   ]
  },
  {
   "cell_type": "code",
   "execution_count": 52,
   "id": "42406214-1f63-46cb-8637-072d49607c3b",
   "metadata": {},
   "outputs": [
    {
     "name": "stdout",
     "output_type": "stream",
     "text": [
      "--- Iterative GST: [##################################################] 100.0%  128 circuits ---\n",
      "Iterative GST Total Time: 0.8s\n",
      "--- Iterative GST: [##################################################] 100.0%  258 circuits ---\n",
      "Iterative GST Total Time: 1.1s\n",
      "--- Iterative GST: [##################################################] 100.0%  531 circuits ---\n",
      "Iterative GST Total Time: 1.7s\n",
      "--- Iterative GST: [##################################################] 100.0%  874 circuits ---\n",
      "Iterative GST Total Time: 2.4s\n"
     ]
    }
   ],
   "source": [
    "mle_estimates, edesigns = make_mle_estimates(dataset, std, target_model, maxLengths)"
   ]
  },
  {
   "cell_type": "code",
   "execution_count": 44,
   "id": "cd86fc0e-dba9-44ed-83ed-68d2dbb68eca",
   "metadata": {},
   "outputs": [],
   "source": [
    "germ_length_ranges = {\n",
    "    0: [0, 92], \n",
    "    1: [92, 168], \n",
    "    2: [168, 285], \n",
    "    3: [285, 448],\n",
    "    4: [448, 616]\n",
    "}"
   ]
  },
  {
   "cell_type": "code",
   "execution_count": 53,
   "id": "0998cab0-1fac-41c6-a209-93b096069fae",
   "metadata": {},
   "outputs": [
    {
     "name": "stderr",
     "output_type": "stream",
     "text": [
      "100%|██████████████████████████████████████████████████████████████████████████████████████████████████████████████████████████████████████████████████████████████████████████████████████████████████████| 874/874 [00:46<00:00, 18.63it/s]\n"
     ]
    }
   ],
   "source": [
    "# run a Kalman filter in the usual way\n",
    "prior_covar = 0.01*np.eye(target_model.num_params)\n",
    "usual_post_model, usual_post_covar, saved_data = filter_dataset(target_model, prior_covar, dataset, edesign.circuit_lists[-1], \n",
    "    None, None, clip_range=[-1, 1],\n",
    "    max_itr=1, itr_eps=1e-4,\n",
    "    save_params_and_covars=True, save_prior_innovations=False, save_posterior_innovations=False, save_kgains=False)"
   ]
  },
  {
   "cell_type": "code",
   "execution_count": 54,
   "id": "ea6063b8-28b6-48b6-bbe5-d4353a2db433",
   "metadata": {},
   "outputs": [],
   "source": [
    "usual_parameter_history = saved_data[0]\n",
    "usual_covar_history = saved_data[1]"
   ]
  },
  {
   "cell_type": "code",
   "execution_count": 57,
   "id": "dbd8562a-4170-43a7-b526-0c81f9829106",
   "metadata": {},
   "outputs": [
    {
     "data": {
      "image/png": "[encoded data removed]",
      "text/plain": [
       "<Figure size 432x288 with 2 Axes>"
      ]
     },
     "metadata": {
      "needs_background": "light"
     },
     "output_type": "display_data"
    }
   ],
   "source": [
    "%matplotlib inline\n",
    "plt_spacing = 5\n",
    "yrange = [-5, -0.5]\n",
    "make_error_plot('Usual evolution', usual_parameter_history, mdl_datagen.to_vector(), usual_covar_history, yrange, mle_estimates, germ_length_ranges, plt_spacing)"
   ]
  },
  {
   "cell_type": "code",
   "execution_count": 58,
   "id": "be0003eb-d78c-467f-a308-cb6ac0f448eb",
   "metadata": {},
   "outputs": [],
   "source": [
    "from filterpy.kalman import UnscentedKalmanFilter, MerweScaledSigmaPoints\n",
    "from filterpy.common import Q_discrete_white_noise"
   ]
  },
  {
   "cell_type": "code",
   "execution_count": 59,
   "id": "803953a4-10c9-446a-ac47-f9b187c36f06",
   "metadata": {},
   "outputs": [],
   "source": [
    "def fx(x, dt):\n",
    "    return x\n",
    "\n",
    "def model_wrapper(x_state, circ, model):\n",
    "    model.from_vector(x_state)\n",
    "    return vector_from_outcomes(model.probabilities(circ), 2**circ.width)\n",
    "\n",
    "model = target_model\n",
    "P = 0.1*np.eye(model.num_params)\n",
    "\n",
    "dt = 1\n",
    "points = MerweScaledSigmaPoints(model.num_params, alpha=.1, beta=2., kappa=-1)\n",
    "ukf = UnscentedKalmanFilter(model.num_params, 2, dt=0, hx=model_wrapper, fx=fx, points=points)\n",
    "ukf.Q = 1e-9*np.eye(model.num_params)\n",
    "R_add = 1e-9*np.eye(2)\n",
    "ukf_filter_model = model.copy()\n",
    "\n",
    "ukf.x = target_model.to_vector()\n",
    "ukf.P = P"
   ]
  },
  {
   "cell_type": "markdown",
   "id": "2213f942-6dd0-4f5a-816b-1059d410a909",
   "metadata": {},
   "source": [
    "# Violations of linearity \n",
    "\n",
    "Use sigma points to calculate \n",
    "$$\n",
    "    \\Sigma = \\sum_i w_i (h(x^{(i)}) - \\bar{h}) (h(x^{(i)}) - \\bar{h})^T\n",
    "$$\n",
    "and the nonlinear violation can be seen as a norm of  \n",
    "$$\n",
    "    \\Sigma - H P H^T\n",
    "$$\n"
   ]
  },
  {
   "cell_type": "code",
   "execution_count": 60,
   "id": "4888d3f6-0a8d-4f96-8b66-fad6aa401bdd",
   "metadata": {},
   "outputs": [
    {
     "name": "stdout",
     "output_type": "stream",
     "text": [
      "1.016173180594349\n"
     ]
    }
   ],
   "source": [
    "# do it once\n",
    "model = target_model\n",
    "P = 0.1*np.eye(model.num_params)\n",
    "circ_list = edesign.circuit_lists[-1]\n",
    "\n",
    "circ = circ_list[0]\n",
    "\n",
    "merwe_def = MerweScaledSigmaPoints(model.num_params, alpha=.1, beta=2., kappa=-1)\n",
    "sigma_points = merwe_def.sigma_points(model.to_vector(), P)\n",
    "mean_weights = merwe_def.Wm\n",
    "covar_weights = merwe_def.Wc\n",
    "\n",
    "# calculate mean prediction and build the joint vectors\n",
    "fid_model = model.copy()\n",
    "mean_pred = np.zeros(2**circ.width)\n",
    "predictions = []\n",
    "for idx, x in enumerate(sigma_points):\n",
    "    fid_model.from_vector(x)\n",
    "    pred = vector_from_outcomes(fid_model.probabilities(circ), 2**circ.width)\n",
    "    predictions.append(pred)\n",
    "    mean_pred += mean_weights[idx]*pred\n",
    "    \n",
    "# calculate covariance \n",
    "dim_joint = 2**circ.width + model.num_params\n",
    "sigma_covar = sum([\n",
    "    covar_weights[i]*np.outer(predictions[i]-mean_pred, predictions[i]-mean_pred) \n",
    "    for i in range(len(sigma_points))\n",
    "])\n",
    "\n",
    "# calculate HPHt\n",
    "jac = matrix_from_jacob(model.sim.dprobs(circ), 2**circ.width)\n",
    "HPH = jac@P@jac.T\n",
    "\n",
    "print(np.linalg.norm(HPH-sigma_covar))"
   ]
  },
  {
   "cell_type": "code",
   "execution_count": 61,
   "id": "ee93bb3f-d47a-41ad-a31c-64221c185dfb",
   "metadata": {},
   "outputs": [],
   "source": [
    "# make a function to do it\n",
    "def nonlinear_model_error(circ, model, model_covar, sigma_point_def):\n",
    "    sigma_points = sigma_point_def.sigma_points(model.to_vector(), model_covar)\n",
    "    mean_weights = sigma_point_def.Wm\n",
    "    covar_weights = sigma_point_def.Wc\n",
    "\n",
    "    # calculate mean prediction and build the joint vectors\n",
    "    fid_model = model.copy()\n",
    "    mean_pred = np.zeros(2**circ.width)\n",
    "    predictions = []\n",
    "    for idx, x in enumerate(sigma_points):\n",
    "        fid_model.from_vector(x)\n",
    "        pred = vector_from_outcomes(fid_model.probabilities(circ), 2**circ.width)\n",
    "        predictions.append(pred)\n",
    "        mean_pred += mean_weights[idx]*pred\n",
    "\n",
    "    # calculate covariance \n",
    "    sigma_covar = sum([\n",
    "        covar_weights[i]*np.outer(predictions[i]-mean_pred, predictions[i]-mean_pred) \n",
    "        for i in range(len(sigma_points))\n",
    "    ])\n",
    "\n",
    "    # calculate HPHt\n",
    "    jac = matrix_from_jacob(model.sim.dprobs(circ), 2**circ.width)\n",
    "    HPH = jac@P@jac.T\n",
    "    \n",
    "    return np.linalg.norm(HPH-sigma_covar)"
   ]
  },
  {
   "cell_type": "code",
   "execution_count": 95,
   "id": "ed58f866-5634-4a59-aae6-a714672bf4a1",
   "metadata": {},
   "outputs": [],
   "source": [
    "%matplotlib inline"
   ]
  },
  {
   "cell_type": "code",
   "execution_count": 99,
   "id": "e1fe9354-91af-49a8-bdd7-6e4186b6c182",
   "metadata": {},
   "outputs": [
    {
     "name": "stderr",
     "output_type": "stream",
     "text": [
      "100%|██████████████████████████████████████████████████████████████████████████████████████████████████████████████████████████████████████████████████████████████████████████████████████████████████████████| 9/9 [00:02<00:00,  3.70it/s]\n",
      "100%|██████████████████████████████████████████████████████████████████████████████████████████████████████████████████████████████████████████████████████████████████████████████████████████████████████████| 9/9 [00:02<00:00,  3.73it/s]\n",
      "100%|██████████████████████████████████████████████████████████████████████████████████████████████████████████████████████████████████████████████████████████████████████████████████████████████████████████| 9/9 [00:02<00:00,  3.71it/s]\n"
     ]
    },
    {
     "data": {
      "image/png": "[encoded data removed]",
      "text/plain": [
       "<Figure size 288x720 with 3 Axes>"
      ]
     },
     "metadata": {
      "needs_background": "light"
     },
     "output_type": "display_data"
    }
   ],
   "source": [
    "# plot a error vs circuit for a range of covariance strengths at the target\n",
    "model = target_model\n",
    "P_ranges = [0.1, 0.001, 0.000001]\n",
    "circ_list = edesign.circuit_lists[-1]\n",
    "circ_spacing = 100\n",
    "sigma_point_def = MerweScaledSigmaPoints(model.num_params, alpha=.1, beta=2., kappa=-1)\n",
    "fig, axs = plt.subplots(len(P_ranges),1, figsize=(5,5*len(P_ranges)))\n",
    "\n",
    "for idp, p in enumerate(P_ranges):\n",
    "    nonlin_errors = []\n",
    "    for idx in tqdm( range(0, len(circ_list), circ_spacing) ):\n",
    "        P = p*np.eye(model.num_params)\n",
    "        nonlin_errors.append( nonlinear_model_error(circ_list[idx], model, P, sigma_point_def) )\n",
    "    axs[idp].scatter(range(0, len(nonlin_errors)), nonlin_errors, c='black')\n",
    "    axs[idp].set_title(f'P_strength = {p}')\n",
    "fig.suptitle('Nonline Error at target model with P prop to Identity')\n",
    "fig.savefig('nonlin_error_at_targetmodel.png')"
   ]
  },
  {
   "cell_type": "code",
   "execution_count": 101,
   "id": "4452020f-c9b8-4db9-a37b-fb5779139150",
   "metadata": {},
   "outputs": [
    {
     "name": "stderr",
     "output_type": "stream",
     "text": [
      "100%|████████████████████████████████████████████████████████████████████████████████████████████████████████████████████████████████████████████████████████████████████████████████████████████████████████| 18/18 [00:05<00:00,  3.31it/s]\n",
      "100%|████████████████████████████████████████████████████████████████████████████████████████████████████████████████████████████████████████████████████████████████████████████████████████████████████████| 18/18 [00:05<00:00,  3.29it/s]\n",
      "100%|████████████████████████████████████████████████████████████████████████████████████████████████████████████████████████████████████████████████████████████████████████████████████████████████████████| 18/18 [00:05<00:00,  3.33it/s]\n"
     ]
    },
    {
     "data": {
      "image/png": "[encoded data removed]",
      "text/plain": [
       "<Figure size 360x1080 with 3 Axes>"
      ]
     },
     "metadata": {
      "needs_background": "light"
     },
     "output_type": "display_data"
    }
   ],
   "source": [
    "# same as above, but at a random noisy model\n",
    "model = mdl_datagen\n",
    "P_ranges = [0.1, 0.001, 0.000001]\n",
    "circ_list = edesign.circuit_lists[-1]\n",
    "circ_spacing = 50\n",
    "sigma_point_def = MerweScaledSigmaPoints(model.num_params, alpha=.1, beta=2., kappa=-1)\n",
    "fig, axs = plt.subplots(len(P_ranges),1, figsize=(5,5*len(P_ranges)))\n",
    "\n",
    "for idp, p in enumerate(P_ranges):\n",
    "    nonlin_errors = []\n",
    "    for idx in tqdm( range(0, len(circ_list), circ_spacing) ):\n",
    "        P = p*np.eye(model.num_params)\n",
    "        nonlin_errors.append( nonlinear_model_error(circ_list[idx], model, P, sigma_point_def) )\n",
    "    axs[idp].scatter(range(0, len(nonlin_errors)), nonlin_errors, c='black')\n",
    "    axs[idp].set_title(f'P_strength = {p}')\n",
    "fig.suptitle('Nonline Error at target model with P prop to Identity')\n",
    "fig.savefig('nonlin_error_at_noisy.png')"
   ]
  },
  {
   "cell_type": "code",
   "execution_count": 85,
   "id": "1901e92b-bf10-41cf-bf92-6351033fdd8f",
   "metadata": {},
   "outputs": [
    {
     "name": "stderr",
     "output_type": "stream",
     "text": [
      "100%|████████████████████████████████████████████████████████████████████████████████████████████████████████████████████████████████████████████████████████████████████████████████████████████████████████| 18/18 [00:05<00:00,  3.51it/s]\n",
      "100%|████████████████████████████████████████████████████████████████████████████████████████████████████████████████████████████████████████████████████████████████████████████████████████████████████████| 18/18 [00:05<00:00,  3.26it/s]\n",
      "100%|████████████████████████████████████████████████████████████████████████████████████████████████████████████████████████████████████████████████████████████████████████████████████████████████████████| 18/18 [00:05<00:00,  3.26it/s]\n",
      "100%|████████████████████████████████████████████████████████████████████████████████████████████████████████████████████████████████████████████████████████████████████████████████████████████████████████| 18/18 [00:05<00:00,  3.28it/s]\n",
      "100%|████████████████████████████████████████████████████████████████████████████████████████████████████████████████████████████████████████████████████████████████████████████████████████████████████████| 18/18 [00:05<00:00,  3.29it/s]\n"
     ]
    },
    {
     "data": {
      "image/png": "[encoded data removed]",
      "text/plain": [
       "<Figure size 432x288 with 5 Axes>"
      ]
     },
     "metadata": {
      "needs_background": "light"
     },
     "output_type": "display_data"
    }
   ],
   "source": [
    "# now do it for equally spaced filter estimates\n",
    "num_estimates = 5\n",
    "circ_list = edesign.circuit_lists[-1]\n",
    "circ_spacing = 50\n",
    "sigma_point_def = MerweScaledSigmaPoints(target_model.num_params, alpha=.1, beta=2., kappa=-1)\n",
    "fig, axs = plt.subplots(num_estimates,1)\n",
    "\n",
    "fid_model = target_model.copy()\n",
    "for ide in range(num_estimates):\n",
    "    nonlin_errors = []\n",
    "    for idx in tqdm( range(0, len(circ_list), circ_spacing) ):\n",
    "        model_idx = int(np.floor(ide*(len(usual_parameter_history)/num_estimates)))\n",
    "        fid_model.from_vector(usual_parameter_history[model_idx])\n",
    "        P = usual_covar_history[model_idx]\n",
    "        nonlin_errors.append( nonlinear_model_error(circ_list[idx], fid_model, P, sigma_point_def) )\n",
    "    axs[ide].scatter(range(0, len(nonlin_errors)), nonlin_errors, c='black')"
   ]
  },
  {
   "cell_type": "markdown",
   "id": "3e214f70-68c7-4c19-b2f0-c346ed0ede85",
   "metadata": {
    "tags": []
   },
   "source": [
    "# Scoring\n",
    "\n",
    "We'll create a score function motivated by mutual information, since the entropy of a gaussian r.v. is\n",
    "$$\n",
    "    H(x \\sim \\mathcal{N}(\\mu, \\Sigma) ) = \\frac{D}{2}(1 + \\log(2 \\pi)) + \\frac{1}{2} \\log |\\Sigma|\n",
    "$$\n",
    "where $|\\Sigma| = \\det(\\Sigma)$\n",
    "\n",
    "Let $(X, Y) \\sim \\mathcal{N}( (\\bar{X}, \\bar{Y}), \\Sigma)$ where\n",
    "$$\n",
    "    \\Sigma = \\begin{bmatrix} \\Sigma_X & \\Sigma_{XY} \\\\ \\Sigma_{YX} & \\Sigma_{Y} \\end{bmatrix}\n",
    "$$\n",
    "and consider\n",
    "$$\n",
    "    I(X;Y) = H(X) + H(Y) - H(X, Y)\n",
    "$$ \n",
    "Given a prior $X$ and a prediction $Y$, the mutual informaiton is\n",
    "$$\n",
    "    \\frac{D}{2}(1 + \\log(2 \\pi)) + \\frac{1}{2} \\log \\frac{|\\Sigma_X| |\\Sigma_Y| }{|\\Sigma|}\n",
    "$$\n",
    "Using properties of determinents, we can write \n",
    "$$\n",
    "    |\\Sigma| = |\\Sigma_X - \\Sigma_{XY} \\Sigma_{Y}^{-1} \\Sigma_{YX} | \\times |\\Sigma_{Y}|\n",
    "$$\n",
    "So the mutual information between jointly Gaussian r.v.'s $(X, Y)$ is \n",
    "$$\n",
    "     \\frac{1}{2} \\log \\frac{|\\Sigma_Y| }{|\\Sigma_X - \\Sigma_{XY} \\Sigma_{Y}^{-1} \\Sigma_{YX}|}\n",
    "$$\n",
    "or\n",
    "$$\n",
    "     \\frac{1}{2} \\log \\frac{|\\Sigma_X| }{|\\Sigma_Y - \\Sigma_{YX} \\Sigma_{X}^{-1} \\Sigma_{XY}|}\n",
    "$$\n",
    "\n",
    "To deal with singularities in the invsere we might add sampling noise $R$ to the observation $Y$ and $Q$ to $X$. \n",
    "\n",
    "We'll do a numeric calculation for $\\Sigma$ as \n",
    "$$\n",
    "    \\Sigma = \\sum w^c (Z - \\bar{Z})(Z - \\bar{Z})^T \n",
    "$$\n",
    "where $Z = (X, Y)$. We'll calculate $\\bar{Y}$ per \n",
    "$$\n",
    "    \\bar{Y} = \\sum w^m h(x^{(i)})\n",
    "$$\n",
    "where $x^(i)$ are sigma points \n",
    "\n",
    "c.f. https://github.com/rlabbe/Kalman-and-Bayesian-Filters-in-Python/blob/master/10-Unscented-Kalman-Filter.ipynb\n",
    "\n",
    "To penalize circuits with large expected nonlinear error, we'll add in \n",
    "$$\n",
    "    \\sum w (h(x) - \\bar{h})(h(x) - \\bar{h})^T - HPH^T\n",
    "$$\n",
    "to the $Y$ part of the joint covars"
   ]
  },
  {
   "cell_type": "code",
   "execution_count": 102,
   "id": "f3dd57b0-291d-49fa-8dfd-0bafe249c6dc",
   "metadata": {},
   "outputs": [],
   "source": [
    "from scipy.linalg import block_diag"
   ]
  },
  {
   "cell_type": "code",
   "execution_count": 131,
   "id": "531f6bef-d470-4e2a-a2e1-66a2dbedcbc6",
   "metadata": {},
   "outputs": [
    {
     "name": "stderr",
     "output_type": "stream",
     "text": [
      "/usr/lib/python3.10/site-packages/matplotlib/cbook/__init__.py:1298: ComplexWarning: Casting complex values to real discards the imaginary part\n",
      "  return np.asarray(x, float)\n"
     ]
    },
    {
     "data": {
      "text/plain": [
       "[<matplotlib.lines.Line2D at 0x7f82d8580e80>]"
      ]
     },
     "execution_count": 131,
     "metadata": {},
     "output_type": "execute_result"
    },
    {
     "data": {
      "image/png": "[encoded data removed]",
      "text/plain": [
       "<Figure size 432x288 with 1 Axes>"
      ]
     },
     "metadata": {
      "needs_background": "light"
     },
     "output_type": "display_data"
    }
   ],
   "source": [
    "plt.plot(np.linalg.eigvals(jv_covar))"
   ]
  },
  {
   "cell_type": "markdown",
   "id": "2cf84e1e-ca02-44b2-ab53-6b395ba8973a",
   "metadata": {},
   "source": [
    "## A better score\n",
    "\n",
    "Let's just look at $|\\Sigma_X - \\Sigma_{XY} \\Sigma_{Y}^{-1} \\Sigma_{YX}|$ but add nonlinear model error and sampling noise to $\\Sigma_Y$"
   ]
  },
  {
   "cell_type": "code",
   "execution_count": 132,
   "id": "ccca94ec-509a-4032-8fac-cf3d1c870641",
   "metadata": {},
   "outputs": [],
   "source": [
    "def make_joint_vectors(circ, model, model_covar, sigma_point_def):\n",
    "    \"\"\"\n",
    "    make a set of joint samples of the form (X, Y) where X is the sigma point and Y is its prediction\n",
    "    \"\"\"\n",
    "    sigma_points = sigma_point_def.sigma_points(model.to_vector(), P)\n",
    "    \n",
    "    fid_model = model.copy()\n",
    "    joint_vectors = []\n",
    "    for idx, x in enumerate(sigma_points):\n",
    "        fid_model.from_vector(x)\n",
    "        pred = vector_from_outcomes(fid_model.probabilities(circ), 2**circ.width)\n",
    "        joint_vectors.append(np.hstack([x, pred]))\n",
    "    return joint_vectors"
   ]
  },
  {
   "cell_type": "code",
   "execution_count": 177,
   "id": "af27a119-188b-4d77-bb07-c3cd5864ccc9",
   "metadata": {},
   "outputs": [],
   "source": [
    "def make_joint_covar(circ, model, model_covar, sigma_point_def):\n",
    "    \"\"\"\n",
    "    make the joint covar \n",
    "    \"\"\"\n",
    "    jvs = joint_vectors(circ, model, P, sigma_point_def)\n",
    "\n",
    "    mean_weights = sigma_point_def.Wm\n",
    "    jv_mean = sum([mean_weights[i]*jvs[i] for i in range(len(mean_weights))])\n",
    "    jv_covar = sum([\n",
    "        sigma_point_def.Wc[i]*\n",
    "        np.outer(jvs[i] - jv_mean, jvs[i] - jv_mean)\n",
    "        for i in range(len(mean_weights))\n",
    "    ])\n",
    "    return jv_covar\n",
    "\n",
    "def sigma_XY(joint_covar, num_params, hdims):\n",
    "    assert joint_covar.shape[0] == num_params+hdims\n",
    "    return joint_covar[0:num_params, num_params::]\n",
    "\n",
    "def sigma_YY(joint_covar, num_params, hdims):\n",
    "    assert joint_covar.shape[0] == num_params+hdims\n",
    "    return joint_covar[num_params::, num_params::]\n",
    "\n",
    "def sigma_XX(joint_covar, num_params, hdims):\n",
    "    assert joint_covar.shape[0] == num_params+hdims\n",
    "    return joint_covar[0:num_params, 0:num_params]"
   ]
  },
  {
   "cell_type": "code",
   "execution_count": 141,
   "id": "d0be1d09-81eb-49c4-ad8a-103323bb4ab5",
   "metadata": {},
   "outputs": [],
   "source": [
    "def make_sampling_covar(circ, model, num_samples):\n",
    "    pvec = vector_from_outcomes(model.probabilities(circ), 2**circ.width)\n",
    "    pseudo_counts = (num_samples*pvec + np.ones(2**circ.width))/(num_samples + 2**circ.width)\n",
    "    return (1/(num_samples + 2**circ.width))*categorical_covar(pseudo_counts)"
   ]
  },
  {
   "cell_type": "code",
   "execution_count": 227,
   "id": "49998af2-cfc5-4703-bd25-4eef4f8d4b50",
   "metadata": {},
   "outputs": [],
   "source": [
    "# make a function to do it\n",
    "def nonlinear_model_covar(circ, model, model_covar, sigma_point_def):\n",
    "    sigma_points = sigma_point_def.sigma_points(model.to_vector(), model_covar)\n",
    "    mean_weights = sigma_point_def.Wm\n",
    "    covar_weights = sigma_point_def.Wc\n",
    "\n",
    "    # calculate mean prediction and build the joint vectors\n",
    "    fid_model = model.copy()\n",
    "    mean_pred = np.zeros(2**circ.width)\n",
    "    predictions = []\n",
    "    for idx, x in enumerate(sigma_points):\n",
    "        fid_model.from_vector(x)\n",
    "        pred = vector_from_outcomes(fid_model.probabilities(circ), 2**circ.width)\n",
    "        predictions.append(pred)\n",
    "        mean_pred += mean_weights[idx]*pred\n",
    "\n",
    "    # calculate covariance \n",
    "    sigma_covar = sum([\n",
    "        covar_weights[i]*np.outer(predictions[i]-mean_pred, predictions[i]-mean_pred) \n",
    "        for i in range(len(sigma_points))\n",
    "    ])\n",
    "\n",
    "    # calculate HPHt\n",
    "    jac = matrix_from_jacob(model.sim.dprobs(circ), 2**circ.width)\n",
    "    HPH = jac@P@jac.T\n",
    "    \n",
    "    return HPH - sigma_covar "
   ]
  },
  {
   "cell_type": "code",
   "execution_count": 339,
   "id": "02e511df-25cd-40ef-bc69-cce2620a9fb6",
   "metadata": {},
   "outputs": [],
   "source": [
    "model = target_model\n",
    "P = 0.000001*np.eye(model.num_params)\n",
    "circ_list = edesign.circuit_lists[-1]\n",
    "\n",
    "circ = circ_list[1]\n",
    "\n",
    "sigma_point_def = MerweScaledSigmaPoints(model.num_params, alpha=.1, beta=2., kappa=-1)\n",
    "jc = make_joint_covar(circ, model, P, sigma_point_def)\n",
    "sxy = sigma_XY(jc, model.num_params, 2**circ.width)\n",
    "syy = sigma_YY(jc, model.num_params, 2**circ.width)\n",
    "sxx = sigma_XX(jc, model.num_params, 2**circ.width)"
   ]
  },
  {
   "cell_type": "code",
   "execution_count": 340,
   "id": "e7d3a4b9-8e33-4707-81fa-0ac3a8d02730",
   "metadata": {},
   "outputs": [
    {
     "data": {
      "text/plain": [
       "-6.451516047541132e-23"
      ]
     },
     "execution_count": 340,
     "metadata": {},
     "output_type": "execute_result"
    }
   ],
   "source": [
    "np.linalg.det(syy+R)"
   ]
  },
  {
   "cell_type": "code",
   "execution_count": 341,
   "id": "b49b9ad3-c70f-48ed-a5c5-b17134e0e18b",
   "metadata": {},
   "outputs": [
    {
     "name": "stdout",
     "output_type": "stream",
     "text": [
      "2.5511341548145117e-12\n"
     ]
    }
   ],
   "source": [
    "nonlin_covar = nonlinear_model_covar(circ, model, P, sigma_point_def)\n",
    "print(np.linalg.norm(nonlin_covar))\n",
    "R = make_sampling_covar(circ, model, 100)"
   ]
  },
  {
   "cell_type": "code",
   "execution_count": 342,
   "id": "cf893b1e-ab49-4503-b5a7-146b00d1a1bc",
   "metadata": {},
   "outputs": [
    {
     "data": {
      "text/plain": [
       "array([[ 62500.01993074, -62500.01993074],\n",
       "       [-62500.01993074,  62500.01993074]])"
      ]
     },
     "execution_count": 342,
     "metadata": {},
     "output_type": "execute_result"
    }
   ],
   "source": [
    "np.linalg.pinv(syy)"
   ]
  },
  {
   "cell_type": "code",
   "execution_count": 343,
   "id": "170eee21-e01d-4e0d-bc3b-33711c8db6fe",
   "metadata": {},
   "outputs": [
    {
     "data": {
      "text/plain": [
       "33.15712736698614"
      ]
     },
     "execution_count": 343,
     "metadata": {},
     "output_type": "execute_result"
    }
   ],
   "source": [
    "-np.log10(abs(np.linalg.det(syy- sxy.T@np.linalg.inv(sxx)@sxy)))"
   ]
  },
  {
   "cell_type": "code",
   "execution_count": 103,
   "id": "156853f2-5fdb-415f-a266-f19c7a8fddf2",
   "metadata": {},
   "outputs": [],
   "source": [
    "model = target_model\n",
    "P = 0.0001*np.eye(model.num_params)\n",
    "circ_list = edesign.circuit_lists[0]\n",
    "\n",
    "circ = circ_list[-1]\n",
    "\n",
    "merwe_def = MerweScaledSigmaPoints(model.num_params, alpha=.1, beta=2., kappa=-1)\n",
    "sigma_points = merwe_def.sigma_points(model.to_vector(), P)\n",
    "mean_weights = merwe_def.Wm\n",
    "covar_weights = merwe_def.Wc\n",
    "\n",
    "# calculate mean prediction and build the joint vectors\n",
    "fid_model = model.copy()\n",
    "mean_pred = np.zeros(2**circ.width)\n",
    "joint_vectors = []\n",
    "for idx, x in enumerate(sigma_points):\n",
    "    fid_model.from_vector(x)\n",
    "    pred = vector_from_outcomes(fid_model.probabilities(circ), 2**circ.width)\n",
    "    mean_pred += mean_weights[idx]*pred\n",
    "    joint_vectors.append(np.hstack([x, pred]))\n",
    "    \n",
    "# calculate joint covariance \n",
    "dim_joint = 2**circ.width + model.num_params\n",
    "joint_covar = sum([covar_weights[i]*np.outer(joint_vectors[i], joint_vectors[i]) for i in range(len(sigma_points))])\n",
    "\n",
    "# add in sampling error \n",
    "num_shots = 256\n",
    "pseudo_counts = (num_shots*mean_pred + np.ones(mean_pred.shape))/(num_shots + 2**circ.width)\n",
    "sampling_covar = (1/(num_shots + 2**circ.width))*(np.diag(pseudo_counts) - np.outer(pseudo_counts, pseudo_counts))\n",
    "\n",
    "# add in a little process error \n",
    "process_error = 1e-6*np.eye(model.num_params)\n",
    "joint_covar_perturbed = joint_covar + block_diag(process_error, sampling_covar)"
   ]
  },
  {
   "cell_type": "code",
   "execution_count": 17,
   "id": "aa50d624-cc2e-4b15-9cfd-cadcbb244a27",
   "metadata": {},
   "outputs": [
    {
     "data": {
      "text/plain": [
       "8.854470199079415e-104"
      ]
     },
     "execution_count": 17,
     "metadata": {},
     "output_type": "execute_result"
    }
   ],
   "source": [
    "np.linalg.det(joint_covar)"
   ]
  },
  {
   "cell_type": "code",
   "execution_count": 110,
   "id": "ac29da34-6e18-4817-bbfc-17e2d34e3db8",
   "metadata": {},
   "outputs": [
    {
     "data": {
      "text/plain": [
       "array([1.00000000e-04, 1.99500146e+00, 9.00004879e-04, 4.93144848e-09,\n",
       "       1.00000000e-04, 1.00000000e-04, 1.00000000e-04, 1.00000000e-04,\n",
       "       1.00000000e-04, 1.00000000e-04, 1.00000000e-04, 1.00000000e-04,\n",
       "       1.00000000e-04, 1.00000000e-04, 1.00000000e-04, 1.00000000e-04,\n",
       "       1.00000000e-04, 1.00000000e-04, 1.00000000e-04, 1.00000000e-04,\n",
       "       1.00000000e-04, 1.00000000e-04, 1.00000000e-04, 1.00000000e-04,\n",
       "       1.00000000e-04, 1.00000000e-04])"
      ]
     },
     "execution_count": 110,
     "metadata": {},
     "output_type": "execute_result"
    }
   ],
   "source": [
    "np.linalg.eigvals(joint_covar)"
   ]
  },
  {
   "cell_type": "code",
   "execution_count": 102,
   "id": "d0bc7501-05ea-4b8c-ae0c-2c3526d98346",
   "metadata": {},
   "outputs": [
    {
     "data": {
      "text/plain": [
       "4.9292681866817635e-99"
      ]
     },
     "execution_count": 102,
     "metadata": {},
     "output_type": "execute_result"
    }
   ],
   "source": [
    "np.linalg.det(joint_covar_perturbed)"
   ]
  },
  {
   "cell_type": "code",
   "execution_count": 105,
   "id": "347caac4-89f0-4735-9924-4efc019b4a02",
   "metadata": {},
   "outputs": [
    {
     "data": {
      "text/plain": [
       "(26, 26)"
      ]
     },
     "execution_count": 105,
     "metadata": {},
     "output_type": "execute_result"
    }
   ],
   "source": [
    "joint_covar_perturbed.shape"
   ]
  },
  {
   "cell_type": "code",
   "execution_count": 108,
   "id": "4ca26251-c0b9-4481-b365-cc5c7c2f06f6",
   "metadata": {},
   "outputs": [
    {
     "data": {
      "text/plain": [
       "array([1.01000000e-04, 1.99500146e+00, 2.76796604e-03, 7.10046639e-05,\n",
       "       1.01000000e-04, 1.01000000e-04, 1.01000000e-04, 1.01000000e-04,\n",
       "       1.01000000e-04, 1.01000000e-04, 1.01000000e-04, 1.01000000e-04,\n",
       "       1.01000000e-04, 1.01000000e-04, 1.01000000e-04, 1.01000000e-04,\n",
       "       1.01000000e-04, 1.01000000e-04, 1.01000000e-04, 1.01000000e-04,\n",
       "       1.01000000e-04, 1.01000000e-04, 1.01000000e-04, 1.01000000e-04,\n",
       "       1.01000000e-04, 1.01000000e-04])"
      ]
     },
     "execution_count": 108,
     "metadata": {},
     "output_type": "execute_result"
    }
   ],
   "source": [
    "np.linalg.eigvals(joint_covar_perturbed)"
   ]
  },
  {
   "cell_type": "code",
   "execution_count": 106,
   "id": "5b8bb331-5dd1-458b-8041-cef7b9c515f3",
   "metadata": {},
   "outputs": [
    {
     "ename": "AttributeError",
     "evalue": "module 'numpy.linalg' has no attribute 'evals'",
     "output_type": "error",
     "traceback": [
      "\u001b[0;31m---------------------------------------------------------------------------\u001b[0m",
      "\u001b[0;31mAttributeError\u001b[0m                            Traceback (most recent call last)",
      "Input \u001b[0;32mIn [106]\u001b[0m, in \u001b[0;36m<cell line: 1>\u001b[0;34m()\u001b[0m\n\u001b[0;32m----> 1\u001b[0m \u001b[43mnp\u001b[49m\u001b[38;5;241;43m.\u001b[39;49m\u001b[43mlinalg\u001b[49m\u001b[38;5;241;43m.\u001b[39;49m\u001b[43mevals\u001b[49m(joint_covar_perturbed)\n",
      "\u001b[0;31mAttributeError\u001b[0m: module 'numpy.linalg' has no attribute 'evals'"
     ]
    }
   ],
   "source": [
    "np.linalg.evals(joint_covar_perturbed)"
   ]
  },
  {
   "cell_type": "code",
   "execution_count": 86,
   "id": "b0714b2d-136e-4d63-9a4b-31c09dfbedc8",
   "metadata": {},
   "outputs": [
    {
     "data": {
      "text/plain": [
       "<matplotlib.image.AxesImage at 0x7fdbb5408ca0>"
      ]
     },
     "execution_count": 86,
     "metadata": {},
     "output_type": "execute_result"
    },
    {
     "data": {
      "image/png": "[encoded data removed]",
      "text/plain": [
       "<Figure size 288x288 with 1 Axes>"
      ]
     },
     "metadata": {
      "needs_background": "light"
     },
     "output_type": "display_data"
    }
   ],
   "source": [
    "plt.matshow(joint_covar)"
   ]
  },
  {
   "cell_type": "code",
   "execution_count": 54,
   "id": "12d74e78-7bcc-4b31-98ee-cb8068ade9de",
   "metadata": {},
   "outputs": [
    {
     "data": {
      "text/plain": [
       "<matplotlib.image.AxesImage at 0x7fdbb57b1a50>"
      ]
     },
     "execution_count": 54,
     "metadata": {},
     "output_type": "execute_result"
    },
    {
     "data": {
      "image/png": "[encoded data removed]",
      "text/plain": [
       "<Figure size 288x288 with 1 Axes>"
      ]
     },
     "metadata": {
      "needs_background": "light"
     },
     "output_type": "display_data"
    }
   ],
   "source": [
    "plt.matshow(joint_covar[0:-2, 0:-2])"
   ]
  },
  {
   "cell_type": "code",
   "execution_count": 55,
   "id": "b22deaac-affc-441b-bb2e-adf3a17b5eb5",
   "metadata": {},
   "outputs": [],
   "source": [
    "# look at determinant of the joint covariance of the model and predictions \n",
    "def score_model(circ, model, sigma_points, sigma_weights):\n",
    "    fid_model = model.copy()\n",
    "    joint_samples = np.zeros((model.num_params+2**circ.width-1, len(sigma_points)))\n",
    "    for idx, x in enumerate(sigma_points):\n",
    "        fid_model.from_vector(x)\n",
    "        y_pred = vector_from_outcomes(fid_model.probabilities(circ), 2**circ.width)\n",
    "        joint_samples[:, idx] = np.hstack([x, y_pred[0]])\n",
    "    return np.linalg.det(np.cov(joint_samples, aweights=abs(sigma_weights)))"
   ]
  },
  {
   "cell_type": "code",
   "execution_count": 56,
   "id": "0e945ec4-2562-4458-869e-16f4e189a335",
   "metadata": {},
   "outputs": [
    {
     "name": "stdout",
     "output_type": "stream",
     "text": [
      "[-103.34782609    2.17391304    2.17391304    2.17391304    2.17391304\n",
      "    2.17391304    2.17391304    2.17391304    2.17391304    2.17391304\n",
      "    2.17391304    2.17391304    2.17391304    2.17391304    2.17391304\n",
      "    2.17391304    2.17391304    2.17391304    2.17391304    2.17391304\n",
      "    2.17391304    2.17391304    2.17391304    2.17391304    2.17391304\n",
      "    2.17391304    2.17391304    2.17391304    2.17391304    2.17391304\n",
      "    2.17391304    2.17391304    2.17391304    2.17391304    2.17391304\n",
      "    2.17391304    2.17391304    2.17391304    2.17391304    2.17391304\n",
      "    2.17391304    2.17391304    2.17391304    2.17391304    2.17391304\n",
      "    2.17391304    2.17391304    2.17391304    2.17391304]\n"
     ]
    }
   ],
   "source": [
    "print(merwe_points.Wm)"
   ]
  },
  {
   "cell_type": "code",
   "execution_count": 58,
   "id": "8eea0ee6-ca6b-4f39-b52f-d43d65a7a64c",
   "metadata": {},
   "outputs": [
    {
     "data": {
      "text/plain": [
       "4.11208392645386e-81"
      ]
     },
     "execution_count": 58,
     "metadata": {},
     "output_type": "execute_result"
    }
   ],
   "source": [
    "model = target_model\n",
    "P = 0.1*np.eye(model.num_params)\n",
    "circ_list = edesign.circuit_lists[0]\n",
    "\n",
    "merwe_points = MerweScaledSigmaPoints(model.num_params, alpha=.1, beta=2., kappa=-1)\n",
    "sigma_points = merwe_points.sigma_points(model.to_vector(), P)\n",
    "\n",
    "\n",
    "score_model(circ_list[0], model, sigma_points, merwe_points.Wc)"
   ]
  },
  {
   "cell_type": "code",
   "execution_count": null,
   "id": "6d1c6df1-4e70-4f55-99ae-9248033db650",
   "metadata": {},
   "outputs": [],
   "source": [
    "# now swtich to adaptive filtering with sigma-point updates\n",
    "num_updates = 10\n",
    "show_output = True\n",
    "\n",
    "circ_list = edesign.circuit_lists[-1] # now all the circuits in the maxlength exp\n",
    "fid_model = target_model.copy()\n",
    "\n",
    "adaptive_parameter_history = []\n",
    "adaptive_covar_history = []\n",
    "\n",
    "pbar = tqdm(total=num_updates)\n",
    "\n",
    "current_update = 0\n",
    "while(current_update < num_updates):\n",
    "    fid_model.from_vector(ukf.x)\n",
    "    circ, traces = find_best_circuit(circ_list, fid_model, ukf.P, NUM_SHOTS)\n",
    "    if show_output:\n",
    "        print('MSE: ', mserror(ekf.model, mdl_datagen))\n",
    "        print('Best circ: ', circ)\n",
    "        print('Predicted covar: ', traces[circ])\n",
    "\n",
    "        plt.plot([v for v in traces.values()])\n",
    "        plt.show()\n",
    "    else:\n",
    "        # show progress if not output\n",
    "        pbar.update(1)\n",
    "        \n",
    "    counts = dataset[circ].counts\n",
    "    cvec = vector_from_outcomes(counts, 2**circ.width)\n",
    "    freq = (cvec+np.ones(len(cvec)))/(sum(cvec) + len(cvec))\n",
    "    #req = cvec/sum(cvec)\n",
    "\n",
    "    #_filter_prior = vector_from_outcomes(ekf.model.probabilities(circ), 2**circ.width)\n",
    "    #ata_prior_innnovs[idx] = freq - p_filter_prior\n",
    "    \n",
    "    R_obs = categorical_covar(freq)/sum(cvec)\n",
    "    ukf.predict()\n",
    "    ukf.update(freq, R=R_obs+R_add, circ=circ, model=ukf_filter_model)\n",
    "    adaptive_parameter_history.append(ukf.x)\n",
    "    adaptive_covar_history.append(ukf.P)    \n",
    "    \n",
    "    current_update += 1\n",
    "pbar.close()"
   ]
  }
 ],
 "metadata": {
  "kernelspec": {
   "display_name": "Python 3 (ipykernel)",
   "language": "python",
   "name": "python3"
  },
  "language_info": {
   "codemirror_mode": {
    "name": "ipython",
    "version": 3
   },
   "file_extension": ".py",
   "mimetype": "text/x-python",
   "name": "python",
   "nbconvert_exporter": "python",
   "pygments_lexer": "ipython3",
   "version": "3.10.2"
  }
 },
 "nbformat": 4,
 "nbformat_minor": 5
}
