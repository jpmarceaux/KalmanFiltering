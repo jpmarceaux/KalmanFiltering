{
 "cells": [
  {
   "cell_type": "code",
   "execution_count": 1,
   "id": "117cb9dd-427f-4760-82c9-84991211051c",
   "metadata": {},
   "outputs": [],
   "source": [
    "import sys\n",
    "sys.path.append(\"..\")\n",
    "from lib.kalman_gst import *  \n",
    "from pygsti.modelpacks import smq1Q_XY as std"
   ]
  },
  {
   "cell_type": "code",
   "execution_count": 2,
   "id": "3b1c663b-2b14-46d8-9646-56dd27976061",
   "metadata": {},
   "outputs": [],
   "source": [
    "def filter_dataset(prior_model, prior_covar, dataset, circ_list, \n",
    "                   Q_add, R_add, clip_range=[-1, 1],\n",
    "                   max_itr=1, itr_eps=1e-4,\n",
    "                   save_params_and_covars=False, save_prior_innovations=False, save_posterior_innovations=False, save_kgains=False):\n",
    "    param_history = []\n",
    "    covar_history = []\n",
    "    prior_innovs = []\n",
    "    post_innovs = []\n",
    "    kgains = []\n",
    "    \n",
    "    ekf = ExtendedKalmanFilter(prior_model.copy(), prior_covar)\n",
    "    if save_params_and_covars:\n",
    "        param_history.append(prior_model.to_vector())\n",
    "        covar_history.append(prior_covar)\n",
    "    for circ in tqdm(circ_list):\n",
    "        counts = dataset[circ].counts\n",
    "        cvec = vector_from_outcomes(counts, 2**circ.width)\n",
    "        innov, kgain = ekf.update(circ, cvec, clip_range=clip_range, Q=Q_add, R_additional=R_add, max_itr=max_itr, itr_eps=itr_eps)\n",
    "        if save_prior_innovations:\n",
    "            prior_innovs.append(innov)\n",
    "        if save_kgains:\n",
    "            kgains.append(kgain)\n",
    "        if save_posterior_innovations:\n",
    "            post_predict = vector_from_outcomes(ekf.model.probabilities(circ), 2**circ.width)\n",
    "            post_innov = cvec/sum(cvec) - post_predict\n",
    "            post_innovs.append(post_innov)\n",
    "        if save_params_and_covars:\n",
    "            param_history.append(ekf.model.to_vector())\n",
    "            covar_history.append(ekf.P)\n",
    "    return ekf.model, ekf.P, (param_history, covar_history, prior_innovs, post_innovs, kgains)"
   ]
  },
  {
   "cell_type": "code",
   "execution_count": 3,
   "id": "5598e4e3-8aa7-4838-a3ae-88bff856c583",
   "metadata": {},
   "outputs": [],
   "source": [
    "SEED = 314\n",
    "NUM_SHOTS = 256\n",
    "np.random.seed(SEED)"
   ]
  },
  {
   "cell_type": "code",
   "execution_count": 4,
   "id": "ad5eb0a8-6d04-4c86-91c0-1e9a2cdff619",
   "metadata": {},
   "outputs": [],
   "source": [
    "# setup the datagen model\n",
    "max_fogi_error_rate = 0.01\n",
    "mdl_datagen = std.target_model('H+s')\n",
    "basis1q = pygsti.baseobjs.Basis.cast('pp', 4)\n",
    "gauge_basis = pygsti.baseobjs.CompleteElementaryErrorgenBasis(\n",
    "                        basis1q, mdl_datagen.state_space, elementary_errorgen_types='HS')\n",
    "mdl_datagen.setup_fogi(gauge_basis, None, None, reparameterize=True,\n",
    "                     dependent_fogi_action='drop', include_spam=True)\n",
    "ar = mdl_datagen.fogi_errorgen_components_array(include_fogv=False, normalized_elem_gens=True)\n",
    "target_model = mdl_datagen.copy()\n",
    "np.random.seed(SEED)\n",
    "ar = max_fogi_error_rate * np.random.rand(len(ar))\n",
    "mdl_datagen.set_fogi_errorgen_components_array(ar, include_fogv=False, normalized_elem_gens=True)"
   ]
  },
  {
   "cell_type": "code",
   "execution_count": 5,
   "id": "20499fd8-4d0e-4314-b22b-87859ab81402",
   "metadata": {},
   "outputs": [
    {
     "name": "stdout",
     "output_type": "stream",
     "text": [
      "Model is CPTP...  True\n",
      "avg. gate-set infidelity:  0.012967810748420183\n",
      "mean square error:  0.0005550742625963212\n"
     ]
    }
   ],
   "source": [
    "# check that the datagen model is CPTP and print metrics w.r.t. the target model\n",
    "print('Model is CPTP... ', model_is_cptp(mdl_datagen))\n",
    "print('avg. gate-set infidelity: ', avg_gs_infidelity(mdl_datagen, target_model))\n",
    "print('mean square error: ', mserror(mdl_datagen, target_model))"
   ]
  },
  {
   "cell_type": "code",
   "execution_count": 6,
   "id": "37ac7fcb-6d28-45be-a640-1b38dd1cb7d3",
   "metadata": {},
   "outputs": [],
   "source": [
    "# make an edesign and simulate the data\n",
    "maxLengths = [1,2,4, 8]\n",
    "edesign = pygsti.protocols.StandardGSTDesign(target_model, std.prep_fiducials(), std.meas_fiducials(),\n",
    "                                                std.germs(), maxLengths)\n",
    "dataset = pygsti.data.simulate_data(mdl_datagen, edesign, NUM_SHOTS, seed=SEED) #, sample_error='none')"
   ]
  },
  {
   "cell_type": "code",
   "execution_count": 7,
   "id": "ae6f4471-0b1b-4a01-b1ae-dfb2cb8f27b2",
   "metadata": {},
   "outputs": [
    {
     "name": "stdout",
     "output_type": "stream",
     "text": [
      "--- Iterative GST: [##################################################] 100.0%  56 circuits ---\n",
      "Iterative GST Total Time: 0.5s\n",
      "--- Iterative GST: [##################################################] 100.0%  96 circuits ---\n",
      "Iterative GST Total Time: 0.7s\n",
      "--- Iterative GST: [##################################################] 100.0%  177 circuits ---\n",
      "Iterative GST Total Time: 1.0s\n",
      "--- Iterative GST: [##################################################] 100.0%  304 circuits ---\n",
      "Iterative GST Total Time: 1.3s\n"
     ]
    }
   ],
   "source": [
    "mle_estimates, edesigns = make_mle_estimates(dataset, std, target_model, maxLengths)"
   ]
  },
  {
   "cell_type": "code",
   "execution_count": 8,
   "id": "ee8051d7-2dd3-4b22-a63a-859052deae53",
   "metadata": {},
   "outputs": [],
   "source": [
    "germ_length_ranges = {\n",
    "    0: [0, 92], \n",
    "    1: [92, 168], \n",
    "    2: [168, 285], \n",
    "    3: [285, 448],\n",
    "    4: [448, 616]\n",
    "}\n",
    "\n",
    "germ_length_ranges = {\n",
    "    0: [0, 56], \n",
    "    1: [56, 96], \n",
    "    2: [96, 177], \n",
    "    3: [177, 304]\n",
    "}"
   ]
  },
  {
   "cell_type": "code",
   "execution_count": 9,
   "id": "7d2bfb79-5ae3-426e-8f6e-7581628e99d8",
   "metadata": {},
   "outputs": [
    {
     "name": "stderr",
     "output_type": "stream",
     "text": [
      "100%|█████████████████████████████████████████████████████████████████████████████████████████████████████████████████████████████████████████████████████████████████████████████| 304/304 [00:21<00:00, 13.91it/s]\n"
     ]
    }
   ],
   "source": [
    "# run a Kalman filter in the usual way\n",
    "prior_covar = 0.001*np.eye(target_model.num_params)\n",
    "usual_post_model, usual_post_covar, saved_data = filter_dataset(target_model, prior_covar, dataset, edesign.circuit_lists[-1], \n",
    "    None, None, clip_range=[-1, 1],\n",
    "    max_itr=1, itr_eps=1e-4,\n",
    "    save_params_and_covars=True, save_prior_innovations=False, save_posterior_innovations=False, save_kgains=False)"
   ]
  },
  {
   "cell_type": "code",
   "execution_count": 10,
   "id": "0ed7fa23-34c4-4d65-a1ea-2f692226eb76",
   "metadata": {},
   "outputs": [],
   "source": [
    "usual_parameter_history = saved_data[0]\n",
    "usual_covar_history = saved_data[1]"
   ]
  },
  {
   "cell_type": "code",
   "execution_count": 11,
   "id": "a821eadd-a8b3-4f6c-b2e1-8194de8ab92f",
   "metadata": {},
   "outputs": [
    {
     "data": {
      "image/png": "[encoded data removed]",
      "text/plain": [
       "<Figure size 432x288 with 2 Axes>"
      ]
     },
     "metadata": {
      "needs_background": "light"
     },
     "output_type": "display_data"
    }
   ],
   "source": [
    "%matplotlib inline\n",
    "plt_spacing = 5\n",
    "yrange = [-5, -0.5]\n",
    "make_error_plot('Usual evolution', usual_parameter_history, mdl_datagen.to_vector(), usual_covar_history, yrange, mle_estimates, germ_length_ranges, plt_spacing)"
   ]
  },
  {
   "cell_type": "code",
   "execution_count": 12,
   "id": "c20534ba-836c-4efe-98be-4a9f58f1cdf8",
   "metadata": {},
   "outputs": [
    {
     "ename": "ModuleNotFoundError",
     "evalue": "No module named 'filterpy'",
     "output_type": "error",
     "traceback": [
      "\u001b[0;31m---------------------------------------------------------------------------\u001b[0m",
      "\u001b[0;31mModuleNotFoundError\u001b[0m                       Traceback (most recent call last)",
      "Input \u001b[0;32mIn [12]\u001b[0m, in \u001b[0;36m<cell line: 1>\u001b[0;34m()\u001b[0m\n\u001b[0;32m----> 1\u001b[0m \u001b[38;5;28;01mfrom\u001b[39;00m \u001b[38;5;21;01mfilterpy\u001b[39;00m\u001b[38;5;21;01m.\u001b[39;00m\u001b[38;5;21;01mkalman\u001b[39;00m \u001b[38;5;28;01mimport\u001b[39;00m UnscentedKalmanFilter, MerweScaledSigmaPoints\n\u001b[1;32m      2\u001b[0m \u001b[38;5;28;01mfrom\u001b[39;00m \u001b[38;5;21;01mfilterpy\u001b[39;00m\u001b[38;5;21;01m.\u001b[39;00m\u001b[38;5;21;01mcommon\u001b[39;00m \u001b[38;5;28;01mimport\u001b[39;00m Q_discrete_white_noise\n",
      "\u001b[0;31mModuleNotFoundError\u001b[0m: No module named 'filterpy'"
     ]
    }
   ],
   "source": [
    "from filterpy.kalman import UnscentedKalmanFilter, MerweScaledSigmaPoints\n",
    "from filterpy.common import Q_discrete_white_noise"
   ]
  },
  {
   "cell_type": "code",
   "execution_count": null,
   "id": "317b3818-d28c-40f9-9e67-78013280cc52",
   "metadata": {},
   "outputs": [],
   "source": [
    "model = target_model\n",
    "P = 0.001*np.eye(target_model.num_params)\n",
    "circ_list = edesign.circuit_lists[-1]"
   ]
  },
  {
   "cell_type": "code",
   "execution_count": null,
   "id": "e4cf3d36-5bc3-4f9d-a2f9-36a6b83dcd69",
   "metadata": {},
   "outputs": [],
   "source": [
    "def fx(x, dt):\n",
    "    return x\n",
    "\n",
    "def model_wrapper(x_state, circ, model):\n",
    "    model.from_vector(x_state)\n",
    "    return vector_from_outcomes(model.probabilities(circ), 2**circ.width)\n",
    "\n",
    "model = target_model\n",
    "P = 0.1*np.eye(model.num_params)\n",
    "\n",
    "dt = 1\n",
    "points = MerweScaledSigmaPoints(model.num_params, alpha=.1, beta=2., kappa=-1)\n",
    "ukf = UnscentedKalmanFilter(model.num_params, 2, dt=0, hx=model_wrapper, fx=fx, points=points)\n",
    "ukf.Q = 1e-9*np.eye(model.num_params)\n",
    "R_add = 1e-9*np.eye(2)\n",
    "ukf_filter_model = model.copy()\n",
    "\n",
    "ukf.x = target_model.to_vector()\n",
    "ukf.P = P"
   ]
  },
  {
   "cell_type": "code",
   "execution_count": null,
   "id": "271df5c3-baa5-4d28-959c-052009d132d0",
   "metadata": {},
   "outputs": [],
   "source": [
    "ukf_model_vectors = dict()\n",
    "ukf_covars = dict()\n",
    "\n",
    "idx = 0\n",
    "ukf_model_vectors[idx] = ukf.x\n",
    "ukf_covars[idx] = ukf.P\n",
    "idx += 1\n",
    "\n",
    "# run over the largest set of GST circuits\n",
    "for circ in tqdm(circ_list):\n",
    "    counts = dataset[circ].counts\n",
    "    cvec = vector_from_outcomes(counts, 2**circ.width)\n",
    "    freq = cvec/sum(cvec)\n",
    "    #req = cvec/sum(cvec)\n",
    "\n",
    "    #_filter_prior = vector_from_outcomes(ekf.model.probabilities(circ), 2**circ.width)\n",
    "    #ata_prior_innnovs[idx] = freq - p_filter_prior\n",
    "    \n",
    "    R_obs = categorical_covar(freq)/sum(cvec)\n",
    "    ukf.predict()\n",
    "    ukf.update(freq, R=R_obs+R_add, circ=circ, model=ukf_filter_model)\n",
    "    \n",
    "    #kgain = ekf.update_approx(circ, cvec, jdict[circ], hdict[circ], max_itr, max_itr_epsilon, Q_add, R_add)\n",
    "    \n",
    "    \n",
    "    ukf_model_vectors[idx] = ukf.x\n",
    "    ukf_covars[idx] = ukf.P\n",
    "\n",
    "    idx += 1\n",
    "num_circs = idx"
   ]
  },
  {
   "cell_type": "code",
   "execution_count": null,
   "id": "f0452c41-30ca-4b7d-9912-e67e96d9c1ad",
   "metadata": {},
   "outputs": [],
   "source": [
    "plt_spacing = 5\n",
    "yrange = [-5, -0.5]\n",
    "make_error_plot('Unscented evolution', ukf_model_vectors, mdl_datagen.to_vector(), ukf_covars, yrange, mle_estimates, germ_length_ranges, plt_spacing)"
   ]
  },
  {
   "cell_type": "markdown",
   "id": "e953e5ab-d608-40c9-83aa-b36285a65633",
   "metadata": {},
   "source": [
    "# The sigmapoint score function\n",
    "We'll create a score function motivated by mutual information, since the entropy of a gaussian r.v. is\n",
    "$$\n",
    "    H(x \\sim \\mathcal{N}(\\mu, \\Sigma) ) = \\frac{D}{2}(1 + \\log(2 \\pi)) + \\frac{1}{2} \\log |\\Sigma|\n",
    "$$\n",
    "where $|\\Sigma| = \\det(\\Sigma)$\n",
    "\n",
    "Let $(X, Y) \\sim \\mathcal{N}( (\\bar{X}, \\bar{Y}), \\Sigma)$ where\n",
    "$$\n",
    "    \\Sigma = \\begin{bmatrix} \\Sigma_X & \\Sigma_{XY} \\\\ \\Sigma_{YX} & \\Sigma_{Y} \\end{bmatrix}\n",
    "$$\n",
    "and consider\n",
    "$$\n",
    "    I(X;Y) = H(X) + H(Y) - H(X, Y)\n",
    "$$ \n",
    "Given a prior $X$ and a prediction $Y$, the mutual informaiton is\n",
    "$$\n",
    "     \\frac{1}{2} \\log \\frac{|\\Sigma_Y||\\Sigma_X| }{|\\Sigma_{XY}|}\n",
    "$$\n",
    "Since the determinant is really just the product of eigenvalues, we'll calculate the eigenvalues and then discard those above a cutoff\n"
   ]
  },
  {
   "cell_type": "code",
   "execution_count": null,
   "id": "d2543c1d-d3ef-46f3-aafa-239123bcd038",
   "metadata": {},
   "outputs": [],
   "source": [
    "def make_joint_vectors(circ, model, model_covar, sigma_point_def):\n",
    "    \"\"\"\n",
    "    make a set of joint samples of the form (X, Y) where X is the sigma point and Y is its prediction\n",
    "    \"\"\"\n",
    "    sigma_points = sigma_point_def.sigma_points(model.to_vector(), P)\n",
    "    \n",
    "    fid_model = model.copy()\n",
    "    joint_vectors = []\n",
    "    for idx, x in enumerate(sigma_points):\n",
    "        fid_model.from_vector(x)\n",
    "        pred = vector_from_outcomes(fid_model.probabilities(circ), 2**circ.width)\n",
    "        joint_vectors.append(np.hstack([x, pred]))\n",
    "    return joint_vectors\n",
    "\n",
    "def make_joint_covar(circ, model, model_covar, sigma_point_def):\n",
    "    \"\"\"\n",
    "    make the joint covar \n",
    "    \"\"\"\n",
    "    jvs = make_joint_vectors(circ, model, P, sigma_point_def)\n",
    "\n",
    "    mean_weights = sigma_point_def.Wm\n",
    "    jv_mean = sum([mean_weights[i]*jvs[i] for i in range(len(mean_weights))])\n",
    "    jv_covar = sum([\n",
    "        sigma_point_def.Wc[i]*\n",
    "        np.outer(jvs[i] - jv_mean, jvs[i] - jv_mean)\n",
    "        for i in range(len(mean_weights))\n",
    "    ])\n",
    "    return jv_covar\n",
    "\n",
    "def sigma_XY(joint_covar, num_params, hdims):\n",
    "    assert joint_covar.shape[0] == num_params+hdims\n",
    "    return joint_covar[0:num_params, num_params::]\n",
    "\n",
    "def sigma_YY(joint_covar, num_params, hdims):\n",
    "    assert joint_covar.shape[0] == num_params+hdims\n",
    "    return joint_covar[num_params::, num_params::]\n",
    "\n",
    "def sigma_XX(joint_covar, num_params, hdims):\n",
    "    assert joint_covar.shape[0] == num_params+hdims\n",
    "    return joint_covar[0:num_params, 0:num_params]"
   ]
  },
  {
   "cell_type": "code",
   "execution_count": null,
   "id": "5e0cf0de-2cbd-49e1-abe3-d753a2b68359",
   "metadata": {},
   "outputs": [],
   "source": [
    "def nonlinear_violation(sigmaX, sigmaY, jac, eigen_cutoff=1e-6):\n",
    "    \n",
    "    \n",
    "    \n",
    "    sigY_eigs = [e for e in np.linalg.eigvals(sigmaX) if e > eigen_cutoff]"
   ]
  },
  {
   "cell_type": "code",
   "execution_count": null,
   "id": "1f41aed0-e751-479c-8fd8-d1d299c5cb0f",
   "metadata": {},
   "outputs": [],
   "source": [
    "def score_covar(joint_covar, eigen_cutoff=1e-6, jac=None):\n",
    "    \"\"\"\n",
    "    add in nonlinear violation if a jacobian is given \n",
    "    \"\"\"\n",
    "    sigYY = sigma_YY(joint_covar, model.num_params, 2**circ.width)\n",
    "    sigXX = sigma_XX(joint_covar, model.num_params, 2**circ.width)\n",
    "    \n",
    "    sigYY_eigs = [e for e in np.linalg.eigvals(sigYY) if e > eigen_cutoff]\n",
    "    sigXX_eigs = [e for e in np.linalg.eigvals(sigXX) if e > eigen_cutoff]\n",
    "    joint_eigs = [e for e in np.linalg.eigvals(joint_covar) if e > eigen_cutoff]\n",
    "    \n",
    "    if jac is None:\n",
    "        nonlin_violation = 1\n",
    "    else: \n",
    "        nonlin_eigs = np.linalg.eigvals(sigYY - jac@sigXX@jac.T)\n",
    "        nonlin_violation = 1+sum(abs(nonlin_eigs))\n",
    "        print(nonlin_violation)\n",
    "       \n",
    "    \n",
    "     \n",
    "    \n",
    "    det_sigXX = np.prod(sigXX_eigs)\n",
    "    det_sigYY = np.prod(sigYY_eigs)\n",
    "    det_joint = np.prod(joint_eigs)\n",
    "    \n",
    "    return 0.5*np.log2((det_sigXX*det_sigYY)/(det_joint*nonlin_violation))"
   ]
  },
  {
   "cell_type": "code",
   "execution_count": null,
   "id": "63cec81a-7cff-4ca3-86d4-ee20d921a2f2",
   "metadata": {},
   "outputs": [],
   "source": [
    "model = target_model\n",
    "P = 0.1*np.eye(model.num_params)\n",
    "\n",
    "dt = 1\n",
    "sigma_point_def = MerweScaledSigmaPoints(model.num_params, alpha=.1, beta=2., kappa=-1)\n",
    "ukf = UnscentedKalmanFilter(model.num_params, 2, dt=0, hx=model_wrapper, fx=fx, points=points)\n",
    "ukf.Q = 1e-9*np.eye(model.num_params)\n",
    "R_add = 1e-9*np.eye(2)\n",
    "ukf_filter_model = model.copy()\n",
    "\n",
    "ukf.x = target_model.to_vector()\n",
    "ukf.P = P"
   ]
  },
  {
   "cell_type": "code",
   "execution_count": null,
   "id": "62bfcda0-b3db-4333-8074-460555290051",
   "metadata": {},
   "outputs": [],
   "source": [
    "def score_circuit_list(circ_list, model, model_covar,\n",
    "                       sigma_point_def, eigen_cutoff=1e-6, nonlin_violation=False):\n",
    "    scores = dict()\n",
    "    for circ in tqdm(circ_list):\n",
    "        if nonlin_violation is True:\n",
    "            jac = matrix_from_jacob(model.sim.dprobs(circ), 2**circ.width)\n",
    "        else:\n",
    "            jac = None\n",
    "        joint_covar = make_joint_covar(circ, model, model_covar, sigma_point_def)\n",
    "        scores[circ] = score_covar(joint_covar, eigen_cutoff, jac)\n",
    "    return scores"
   ]
  },
  {
   "cell_type": "code",
   "execution_count": null,
   "id": "b1922032-20c0-46dc-b6a3-88a8a17b2bc9",
   "metadata": {},
   "outputs": [],
   "source": [
    "def find_best_scoring_circuit(circ_list, model, model_covar,\n",
    "                       sigma_point_def, eigen_cutoff=1e-6, nonlin_violation=False):\n",
    "    \n",
    "    scores = score_circuit_list(circ_list, model, model_covar, sigma_point_def, eigen_cutoff, nonlin_violation)\n",
    "    best_score = max(scores.values())\n",
    "    best_circuits = [key for key in scores if scores[key] == best_score]\n",
    "    return best_circuits[0], scores"
   ]
  },
  {
   "cell_type": "code",
   "execution_count": null,
   "id": "558fffed-3591-498f-a144-1b7446d006ea",
   "metadata": {},
   "outputs": [],
   "source": [
    "circ_list = edesign.circuit_lists[0]\n",
    "best_circ, scores = find_best_scoring_circuit(circ_list, model, P, sigma_point_def, nonlin_violation=True)"
   ]
  },
  {
   "cell_type": "code",
   "execution_count": null,
   "id": "b04b155e-5a10-4b53-b7c6-774a0d5cafbd",
   "metadata": {},
   "outputs": [],
   "source": [
    "plt.plot(scores.values())"
   ]
  },
  {
   "cell_type": "code",
   "execution_count": null,
   "id": "a08d798e-1b1d-4013-b14b-c68192e58609",
   "metadata": {},
   "outputs": [],
   "source": [
    "best_circ"
   ]
  },
  {
   "cell_type": "markdown",
   "id": "f79fecc3-6f40-4720-929a-3e643a5c1993",
   "metadata": {},
   "source": [
    "# example\n",
    "\n",
    "warm start on germ1 then search germ2 circuits"
   ]
  },
  {
   "cell_type": "code",
   "execution_count": null,
   "id": "6457606d-f870-4a35-a033-5ddcb401ae05",
   "metadata": {},
   "outputs": [],
   "source": [
    "# run a Kalman filter in the usual way\n",
    "prior_covar = 0.001*np.eye(target_model.num_params)\n",
    "germ1_circuits = edesign.circuit_lists[0]\n",
    "germ1_post_model, germ1_post_covar, saved_data = filter_dataset(target_model, prior_covar, dataset, germ1_circuits, \n",
    "    None, None, clip_range=[-1, 1],\n",
    "    max_itr=1, itr_eps=1e-4,\n",
    "    save_params_and_covars=True, save_prior_innovations=False, save_posterior_innovations=False, save_kgains=False)"
   ]
  },
  {
   "cell_type": "code",
   "execution_count": null,
   "id": "b54029bd-995a-42a3-831d-5311f5d92e2f",
   "metadata": {},
   "outputs": [],
   "source": [
    "# setup the sigma point filter\n",
    "model = germ1_post_model\n",
    "P = germ1_post_covar\n",
    "\n",
    "circ_list = edesign.circuit_lists[1]\n",
    "\n",
    "dt = 1\n",
    "sigma_point_def = MerweScaledSigmaPoints(model.num_params, alpha=.1, beta=2., kappa=-1)\n",
    "ukf = UnscentedKalmanFilter(model.num_params, 2, dt=0, hx=model_wrapper, fx=fx, points=points)\n",
    "ukf.Q = 1e-9*np.eye(model.num_params)\n",
    "R_add = 1e-9*np.eye(2)\n",
    "ukf_filter_model = model.copy()\n",
    "\n",
    "ukf.x = target_model.to_vector()\n",
    "ukf.P = P\n",
    "\n",
    "fid_model = target_model.copy()\n",
    "\n",
    "adaptive_parameter_history = []\n",
    "adaptive_covar_history = []\n",
    "adaptive_parameter_history.append(ukf.x)\n",
    "adaptive_covar_history.append(ukf.P)  "
   ]
  },
  {
   "cell_type": "code",
   "execution_count": null,
   "id": "3d931b26-153d-4a6e-bcdc-8d773de98fbd",
   "metadata": {},
   "outputs": [],
   "source": [
    "# now swtich to adaptive filtering with sigma-point updates\n",
    "num_updates = 10\n",
    "show_output = True\n",
    "\n",
    "current_update = 0\n",
    "while(current_update < num_updates):\n",
    "    fid_model.from_vector(ukf.x)\n",
    "    circ, scores = find_best_scoring_circuit(circ_list, model, P, sigma_point_def)\n",
    "    if show_output:\n",
    "        print('MSE: ', mserror(fid_model, mdl_datagen))\n",
    "        print('Best circ: ', circ)\n",
    "        print('Predicted score: ', scores[circ])\n",
    "\n",
    "        plt.plot(scores.values())\n",
    "        plt.show()\n",
    "    else:\n",
    "        # show progress if not output\n",
    "        # pbar.update(1)\n",
    "        pass\n",
    "        \n",
    "    counts = dataset[circ].counts\n",
    "    cvec = vector_from_outcomes(counts, 2**circ.width)\n",
    "    freq = (cvec+np.ones(len(cvec)))/(sum(cvec) + len(cvec))\n",
    "    #req = cvec/sum(cvec)\n",
    "\n",
    "    #_filter_prior = vector_from_outcomes(ekf.model.probabilities(circ), 2**circ.width)\n",
    "    #ata_prior_innnovs[idx] = freq - p_filter_prior\n",
    "    \n",
    "    R_obs = categorical_covar(freq)/sum(cvec)\n",
    "    ukf.predict()\n",
    "    ukf.update(freq, R=R_obs+R_add, circ=circ, model=ukf_filter_model)\n",
    "    adaptive_parameter_history.append(ukf.x)\n",
    "    adaptive_covar_history.append(ukf.P)    \n",
    "    \n",
    "    current_update += 1\n",
    "pbar.close()"
   ]
  },
  {
   "cell_type": "code",
   "execution_count": null,
   "id": "fdc20d33-8431-4271-8e57-eb4821c43530",
   "metadata": {},
   "outputs": [],
   "source": [
    "yrange = [-3.5, -0.9]\n",
    "make_error_plot('Adaptive evolution', adaptive_parameter_history, mdl_datagen.to_vector(), adaptive_covar_history, yrange, None, germ_length_ranges, 1)"
   ]
  },
  {
   "cell_type": "markdown",
   "id": "b5ce9850-5950-4150-93c4-9dfbd61a2fef",
   "metadata": {},
   "source": [
    "# regularization \n",
    "or\n",
    "$$\n",
    "     \\frac{1}{2} \\log \\frac{|\\Sigma_Y| }{|\\Sigma_X - \\Sigma_{XY} \\Sigma_{Y}^{-1} \\Sigma_{YX}|}\n",
    "$$\n",
    "or\n",
    "$$\n",
    "     \\frac{1}{2} \\log \\frac{|\\Sigma_X| }{|\\Sigma_Y - \\Sigma_{YX} \\Sigma_{X}^{-1} \\Sigma_{XY}|}\n",
    "$$\n",
    "\n",
    "\n",
    "Use sigma points to calculate \n",
    "$$\n",
    "    \\Sigma_Y = \\sum_i w_i (h(x^{(i)}) - \\bar{h}) (h(x^{(i)}) - \\bar{h})^T\n",
    "$$\n",
    "and the nonlinear violation can be seen as a norm of  \n",
    "$$\n",
    "    \\Sigma - H P H^T\n",
    "$$\n",
    "\n",
    "Finally, the score function is defined: \n",
    "$$\n",
    "     \\frac{1}{2} \\log \\frac{|\\Sigma_X| }{|R_k + \\Sigma_Y^{(k)} -  H_k \\Sigma_X H_k^T|}\n",
    "$$\n",
    "\n",
    "We can exclude small propre values by removing the singular values from $\\Sigma_X$ "
   ]
  },
  {
   "cell_type": "markdown",
   "id": "e20aba1d-c1d6-40b0-870f-cfee06ba4a43",
   "metadata": {},
   "source": [
    "# a simple score function \n",
    "\n",
    "We'll compare the the ratio of the product of the largest N eigenvalues of the prior and posterior $P$ to pick the best circuit\n",
    "\n",
    "The Kalman update for the covariance is\n",
    "$$ P_\\text{post} = (1 - K_k H_k) P_\\text{prior} $$\n",
    "where the Kalman gain is \n",
    "$$ K_k = P_\\text{prior} H_k^T (H_k P_{\\text{prior}} H_k^T + R_k)^{-1} $$\n",
    "\n",
    "To estimate circuit shot noise, we'll use a pseduo-count vector:\n",
    "$$ \n",
    "    \\vec{\\alpha} = N \\vec{p}_\\text{estimate} + \\vec{1}\n",
    "$$\n",
    "and the covariance\n",
    "$$\n",
    "    R_k = \\frac{1}{N+d+1} \\bigg( \\frac{\\text{diag}( \\vec{\\alpha}) }{N+d} - \\frac{ \\alpha \\alpha^T}{(N+d)^2} \\bigg)\n",
    "$$"
   ]
  },
  {
   "cell_type": "code",
   "execution_count": 23,
   "id": "097a1d26-7661-4842-a215-9f5e0ad431a9",
   "metadata": {},
   "outputs": [],
   "source": [
    "def largest_n_evals(matrix, num_evals):\n",
    "    evals = np.linalg.eigvals(matrix)\n",
    "    sorted_evals = np.argsort(evals)\n",
    "    return sorted_evals[0:num_evals]"
   ]
  },
  {
   "cell_type": "code",
   "execution_count": 32,
   "id": "06bf2c25-6de9-4e64-8a53-e52751dbc745",
   "metadata": {},
   "outputs": [],
   "source": [
    "def find_best_circuit(circ_list, model, covar, num_shots, num_evals=10):\n",
    "    \"\"\"\n",
    "    The simpliest function to find the best next circuit\n",
    "        \n",
    "    We estimate the observation noise for each circuit using the filter's prediction\n",
    "    \n",
    "    The algo is to go through each circuit and assign a score per:\n",
    "        1) estimate the sampling noise\n",
    "        2) calculate the model jacobian\n",
    "        3) calculate the kgain\n",
    "        4) assign a score as the ratio of the largest n evals of the prior and posterior\n",
    "    Pick the smallest score\n",
    "    \"\"\"\n",
    "    prior_score = np.prod(largest_n_evals(covar, num_evals))\n",
    "    ratios = dict()\n",
    "    for circ in tqdm(circ_list):\n",
    "        hdims = 2**circ.width\n",
    "        # simulate circuit probs\n",
    "        p_model = vector_from_outcomes(model.probabilities(circ), hdims)\n",
    "        # estimate sampling covar\n",
    "        pseudo_counts = num_shots*p_model + np.ones(hdims)\n",
    "        sampling_covar = (1/(num_shots + hdims + 1)) * (\n",
    "            np.diag(pseudo_counts)/(num_shots + hdims) + \n",
    "            np.outer(pseudo_counts, pseudo_counts)/(num_shots + hdims)**2\n",
    "        )\n",
    "        # calculate kgain\n",
    "        jac = matrix_from_jacob(model.sim.dprobs(circ), hdims) \n",
    "        kgain = covar@jac.T@np.linalg.pinv(jac@covar@jac.T + sampling_covar)\n",
    "        # find the resulting posterior covariance\n",
    "        post_covar = (np.eye(covar.shape[0]) - kgain@jac)@covar\n",
    "        post_score = np.prod(largest_n_evals(covar, num_evals))\n",
    "        ratios[circ] = np.log(prior_score) - np.log(post_score)\n",
    "    best_score = max(ratios.values())\n",
    "    best_circuits = [key for key in ratios if ratios[key] == best_score]\n",
    "    return best_circuits[0], ratios"
   ]
  },
  {
   "cell_type": "code",
   "execution_count": 33,
   "id": "c73829d7-ba5b-4838-89fe-49489572e583",
   "metadata": {},
   "outputs": [
    {
     "name": "stderr",
     "output_type": "stream",
     "text": [
      "  0%|                                                                                                                                                                                                                | 0/874 [00:00<?, ?it/s]/tmp/ipykernel_25234/165580232.py:32: RuntimeWarning: divide by zero encountered in log\n",
      "  ratios[circ] = np.log(prior_score) - np.log(post_score)\n",
      "/tmp/ipykernel_25234/165580232.py:32: RuntimeWarning: invalid value encountered in double_scalars\n",
      "  ratios[circ] = np.log(prior_score) - np.log(post_score)\n",
      "100%|██████████████████████████████████████████████████████████████████████████████████████████████████████████████████████████████████████████████████████████████████████████████████████████████████████| 874/874 [00:42<00:00, 20.39it/s]\n"
     ]
    },
    {
     "ename": "IndexError",
     "evalue": "list index out of range",
     "output_type": "error",
     "traceback": [
      "\u001b[0;31m---------------------------------------------------------------------------\u001b[0m",
      "\u001b[0;31mIndexError\u001b[0m                                Traceback (most recent call last)",
      "Input \u001b[0;32mIn [33]\u001b[0m, in \u001b[0;36m<cell line: 1>\u001b[0;34m()\u001b[0m\n\u001b[0;32m----> 1\u001b[0m \u001b[43mfind_best_circuit\u001b[49m\u001b[43m(\u001b[49m\u001b[43mcirc_list\u001b[49m\u001b[43m,\u001b[49m\u001b[43m \u001b[49m\u001b[43mtarget_model\u001b[49m\u001b[43m,\u001b[49m\u001b[43m \u001b[49m\u001b[43mP\u001b[49m\u001b[43m,\u001b[49m\u001b[43m \u001b[49m\u001b[38;5;241;43m256\u001b[39;49m\u001b[43m,\u001b[49m\u001b[43m \u001b[49m\u001b[43mnum_evals\u001b[49m\u001b[38;5;241;43m=\u001b[39;49m\u001b[38;5;241;43m3\u001b[39;49m\u001b[43m)\u001b[49m\n",
      "Input \u001b[0;32mIn [32]\u001b[0m, in \u001b[0;36mfind_best_circuit\u001b[0;34m(circ_list, model, covar, num_shots, num_evals)\u001b[0m\n\u001b[1;32m     33\u001b[0m best_score \u001b[38;5;241m=\u001b[39m \u001b[38;5;28mmax\u001b[39m(ratios\u001b[38;5;241m.\u001b[39mvalues())\n\u001b[1;32m     34\u001b[0m best_circuits \u001b[38;5;241m=\u001b[39m [key \u001b[38;5;28;01mfor\u001b[39;00m key \u001b[38;5;129;01min\u001b[39;00m ratios \u001b[38;5;28;01mif\u001b[39;00m ratios[key] \u001b[38;5;241m==\u001b[39m best_score]\n\u001b[0;32m---> 35\u001b[0m \u001b[38;5;28;01mreturn\u001b[39;00m \u001b[43mbest_circuits\u001b[49m\u001b[43m[\u001b[49m\u001b[38;5;241;43m0\u001b[39;49m\u001b[43m]\u001b[49m, ratios\n",
      "\u001b[0;31mIndexError\u001b[0m: list index out of range"
     ]
    }
   ],
   "source": [
    "find_best_circuit(circ_list, target_model, P, 256, num_evals=3)"
   ]
  },
  {
   "cell_type": "code",
   "execution_count": null,
   "id": "be865c5f-63f1-4e04-800f-73ac080ba8fe",
   "metadata": {},
   "outputs": [],
   "source": []
  }
 ],
 "metadata": {
  "kernelspec": {
   "display_name": "Python 3 (ipykernel)",
   "language": "python",
   "name": "python3"
  },
  "language_info": {
   "codemirror_mode": {
    "name": "ipython",
    "version": 3
   },
   "file_extension": ".py",
   "mimetype": "text/x-python",
   "name": "python",
   "nbconvert_exporter": "python",
   "pygments_lexer": "ipython3",
   "version": "3.10.2"
  }
 },
 "nbformat": 4,
 "nbformat_minor": 5
}
