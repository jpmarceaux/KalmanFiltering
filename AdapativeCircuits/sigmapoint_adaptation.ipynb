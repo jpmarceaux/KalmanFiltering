{
 "cells": [
  {
   "cell_type": "code",
   "execution_count": 1,
   "id": "117cb9dd-427f-4760-82c9-84991211051c",
   "metadata": {},
   "outputs": [],
   "source": [
    "import os\n",
    "os.chdir('/home/jpmarceaux/Simulations/KalmanFiltering_Sandia2021')\n",
    "from kalman_gst import *\n",
    "os.chdir('/home/jpmarceaux/Simulations/KalmanFiltering_Sandia2021/AdaptiveCircuit')\n",
    "from pygsti.modelpacks import smq1Q_XYZI as std"
   ]
  },
  {
   "cell_type": "code",
   "execution_count": 2,
   "id": "3b1c663b-2b14-46d8-9646-56dd27976061",
   "metadata": {},
   "outputs": [],
   "source": [
    "def filter_dataset(prior_model, prior_covar, dataset, circ_list, \n",
    "                   Q_add, R_add, clip_range=[-1, 1],\n",
    "                   max_itr=1, itr_eps=1e-4,\n",
    "                   save_params_and_covars=False, save_prior_innovations=False, save_posterior_innovations=False, save_kgains=False):\n",
    "    param_history = []\n",
    "    covar_history = []\n",
    "    prior_innovs = []\n",
    "    post_innovs = []\n",
    "    kgains = []\n",
    "    \n",
    "    ekf = ExtendedKalmanFilter(prior_model.copy(), prior_covar)\n",
    "    if save_params_and_covars:\n",
    "        param_history.append(prior_model.to_vector())\n",
    "        covar_history.append(prior_covar)\n",
    "    for circ in tqdm(circ_list):\n",
    "        counts = dataset[circ].counts\n",
    "        cvec = vector_from_outcomes(counts, 2**circ.width)\n",
    "        innov, kgain = ekf.update(circ, cvec, clip_range=clip_range, Q=Q_add, R_additional=R_add, max_itr=max_itr, itr_eps=itr_eps)\n",
    "        if save_prior_innovations:\n",
    "            prior_innovs.append(innov)\n",
    "        if save_kgains:\n",
    "            kgains.append(kgain)\n",
    "        if save_posterior_innovations:\n",
    "            post_predict = vector_from_outcomes(ekf.model.probabilities(circ), 2**circ.width)\n",
    "            post_innov = cvec/sum(cvec) - post_predict\n",
    "            post_innovs.append(post_innov)\n",
    "        if save_params_and_covars:\n",
    "            param_history.append(ekf.model.to_vector())\n",
    "            covar_history.append(ekf.P)\n",
    "    return ekf.model, ekf.P, (param_history, covar_history, prior_innovs, post_innovs, kgains)"
   ]
  },
  {
   "cell_type": "code",
   "execution_count": 3,
   "id": "5598e4e3-8aa7-4838-a3ae-88bff856c583",
   "metadata": {},
   "outputs": [],
   "source": [
    "SEED = 2021\n",
    "NUM_SHOTS = 256\n",
    "np.random.seed(SEED)"
   ]
  },
  {
   "cell_type": "code",
   "execution_count": 4,
   "id": "ad5eb0a8-6d04-4c86-91c0-1e9a2cdff619",
   "metadata": {},
   "outputs": [],
   "source": [
    "# setup the datagen model\n",
    "max_fogi_error_rate = 0.01\n",
    "mdl_datagen = std.target_model('H+s')\n",
    "basis1q = pygsti.baseobjs.Basis.cast('pp', 4)\n",
    "gauge_basis = pygsti.baseobjs.CompleteElementaryErrorgenBasis(\n",
    "                        basis1q, mdl_datagen.state_space, elementary_errorgen_types='HS')\n",
    "mdl_datagen.setup_fogi(gauge_basis, None, None, reparameterize=True,\n",
    "                     dependent_fogi_action='drop', include_spam=True)\n",
    "ar = mdl_datagen.fogi_errorgen_components_array(include_fogv=False, normalized_elem_gens=True)\n",
    "target_model = mdl_datagen.copy()\n",
    "np.random.seed(SEED)\n",
    "ar = max_fogi_error_rate * np.random.rand(len(ar))\n",
    "mdl_datagen.set_fogi_errorgen_components_array(ar, include_fogv=False, normalized_elem_gens=True)"
   ]
  },
  {
   "cell_type": "code",
   "execution_count": 5,
   "id": "20499fd8-4d0e-4314-b22b-87859ab81402",
   "metadata": {},
   "outputs": [
    {
     "name": "stdout",
     "output_type": "stream",
     "text": [
      "Model is CPTP...  True\n",
      "avg. gate-set infidelity:  0.009278804429917908\n",
      "mean square error:  0.000771129612974869\n"
     ]
    }
   ],
   "source": [
    "# check that the datagen model is CPTP and print metrics w.r.t. the target model\n",
    "print('Model is CPTP... ', model_is_cptp(mdl_datagen))\n",
    "print('avg. gate-set infidelity: ', avg_gs_infidelity(mdl_datagen, target_model))\n",
    "print('mean square error: ', mserror(mdl_datagen, target_model))"
   ]
  },
  {
   "cell_type": "code",
   "execution_count": 6,
   "id": "37ac7fcb-6d28-45be-a640-1b38dd1cb7d3",
   "metadata": {},
   "outputs": [],
   "source": [
    "# make an edesign and simulate the data\n",
    "maxLengths = [1,2,4, 8]\n",
    "edesign = pygsti.protocols.StandardGSTDesign(target_model, std.prep_fiducials(), std.meas_fiducials(),\n",
    "                                                std.germs(), maxLengths)\n",
    "dataset = pygsti.data.simulate_data(mdl_datagen, edesign, NUM_SHOTS, seed=SEED) #, sample_error='none')"
   ]
  },
  {
   "cell_type": "code",
   "execution_count": 7,
   "id": "ae6f4471-0b1b-4a01-b1ae-dfb2cb8f27b2",
   "metadata": {},
   "outputs": [
    {
     "name": "stdout",
     "output_type": "stream",
     "text": [
      "--- Iterative GST: [##################################################] 100.0%  128 circuits ---\n",
      "Iterative GST Total Time: 0.8s\n",
      "--- Iterative GST: [##################################################] 100.0%  258 circuits ---\n",
      "Iterative GST Total Time: 1.2s\n",
      "--- Iterative GST: [##################################################] 100.0%  531 circuits ---\n",
      "Iterative GST Total Time: 1.7s\n",
      "--- Iterative GST: [##################################################] 100.0%  874 circuits ---\n",
      "Iterative GST Total Time: 2.5s\n"
     ]
    }
   ],
   "source": [
    "mle_estimates, edesigns = make_mle_estimates(dataset, std, target_model, maxLengths)"
   ]
  },
  {
   "cell_type": "code",
   "execution_count": 8,
   "id": "ee8051d7-2dd3-4b22-a63a-859052deae53",
   "metadata": {},
   "outputs": [],
   "source": [
    "germ_length_ranges = {\n",
    "    0: [0, 92], \n",
    "    1: [92, 168], \n",
    "    2: [168, 285], \n",
    "    3: [285, 448],\n",
    "    4: [448, 616]\n",
    "}"
   ]
  },
  {
   "cell_type": "code",
   "execution_count": 13,
   "id": "7d2bfb79-5ae3-426e-8f6e-7581628e99d8",
   "metadata": {},
   "outputs": [
    {
     "name": "stderr",
     "output_type": "stream",
     "text": [
      "100%|██████████████████████████████████████████████████████████████████████████████████████████████████████████████████████████████████████████████████████████████████████████████████████████████████████| 874/874 [00:44<00:00, 19.61it/s]\n"
     ]
    }
   ],
   "source": [
    "# run a Kalman filter in the usual way\n",
    "prior_covar = 0.001*np.eye(target_model.num_params)\n",
    "usual_post_model, usual_post_covar, saved_data = filter_dataset(target_model, prior_covar, dataset, edesign.circuit_lists[-1], \n",
    "    None, None, clip_range=[-1, 1],\n",
    "    max_itr=1, itr_eps=1e-4,\n",
    "    save_params_and_covars=True, save_prior_innovations=False, save_posterior_innovations=False, save_kgains=False)"
   ]
  },
  {
   "cell_type": "code",
   "execution_count": 16,
   "id": "0ed7fa23-34c4-4d65-a1ea-2f692226eb76",
   "metadata": {},
   "outputs": [],
   "source": [
    "usual_parameter_history = saved_data[0]\n",
    "usual_covar_history = saved_data[1]"
   ]
  },
  {
   "cell_type": "code",
   "execution_count": 15,
   "id": "a821eadd-a8b3-4f6c-b2e1-8194de8ab92f",
   "metadata": {},
   "outputs": [
    {
     "data": {
      "image/png": "[encoded data removed]",
      "text/plain": [
       "<Figure size 432x288 with 2 Axes>"
      ]
     },
     "metadata": {
      "needs_background": "light"
     },
     "output_type": "display_data"
    }
   ],
   "source": [
    "%matplottarget_model inline\n",
    "plt_spacing = 5\n",
    "yrange = [-5, -0.5]\n",
    "make_error_plot('Usual evolution', usual_parameter_history, mdl_datagen.to_vector(), usual_covar_history, yrange, mle_estimates, germ_length_ranges, plt_spacing)"
   ]
  },
  {
   "cell_type": "code",
   "execution_count": 12,
   "id": "c20534ba-836c-4efe-98be-4a9f58f1cdf8",
   "metadata": {},
   "outputs": [],
   "source": [
    "from filterpy.kalman import UnscentedKalmanFilter, MerweScaledSigmaPoints\n",
    "from filterpy.common import Q_discrete_white_noise"
   ]
  },
  {
   "cell_type": "code",
   "execution_count": 20,
   "id": "317b3818-d28c-40f9-9e67-78013280cc52",
   "metadata": {},
   "outputs": [],
   "source": [
    "model = target_model\n",
    "P = 0.001*np.eye(target_model.num_params)\n",
    "circ_list = edesign.circuit_lists[-1]"
   ]
  },
  {
   "cell_type": "code",
   "execution_count": 18,
   "id": "e4cf3d36-5bc3-4f9d-a2f9-36a6b83dcd69",
   "metadata": {},
   "outputs": [],
   "source": [
    "def fx(x, dt):\n",
    "    return x\n",
    "\n",
    "def model_wrapper(x_state, circ, model):\n",
    "    model.from_vector(x_state)\n",
    "    return vector_from_outcomes(model.probabilities(circ), 2**circ.width)\n",
    "\n",
    "model = target_model\n",
    "P = 0.1*np.eye(model.num_params)\n",
    "\n",
    "dt = 1\n",
    "points = MerweScaledSigmaPoints(model.num_params, alpha=.1, beta=2., kappa=-1)\n",
    "ukf = UnscentedKalmanFilter(model.num_params, 2, dt=0, hx=model_wrapper, fx=fx, points=points)\n",
    "ukf.Q = 1e-9*np.eye(model.num_params)\n",
    "R_add = 1e-9*np.eye(2)\n",
    "ukf_filter_model = model.copy()\n",
    "\n",
    "ukf.x = target_model.to_vector()\n",
    "ukf.P = P"
   ]
  },
  {
   "cell_type": "code",
   "execution_count": 21,
   "id": "271df5c3-baa5-4d28-959c-052009d132d0",
   "metadata": {},
   "outputs": [
    {
     "name": "stderr",
     "output_type": "stream",
     "text": [
      "100%|██████████████████████████████████████████████████████████████████████████████████████████████████████████████████████████████████████████████████████████████████████████████████████████████████████| 874/874 [03:37<00:00,  4.02it/s]\n"
     ]
    }
   ],
   "source": [
    "ukf_model_vectors = dict()\n",
    "ukf_covars = dict()\n",
    "\n",
    "idx = 0\n",
    "ukf_model_vectors[idx] = ukf.x\n",
    "ukf_covars[idx] = ukf.P\n",
    "idx += 1\n",
    "\n",
    "# run over the largest set of GST circuits\n",
    "for circ in tqdm(circ_list):\n",
    "    counts = dataset[circ].counts\n",
    "    cvec = vector_from_outcomes(counts, 2**circ.width)\n",
    "    freq = cvec/sum(cvec)\n",
    "    #req = cvec/sum(cvec)\n",
    "\n",
    "    #_filter_prior = vector_from_outcomes(ekf.model.probabilities(circ), 2**circ.width)\n",
    "    #ata_prior_innnovs[idx] = freq - p_filter_prior\n",
    "    \n",
    "    R_obs = categorical_covar(freq)/sum(cvec)\n",
    "    ukf.predict()\n",
    "    ukf.update(freq, R=R_obs+R_add, circ=circ, model=ukf_filter_model)\n",
    "    \n",
    "    #kgain = ekf.update_approx(circ, cvec, jdict[circ], hdict[circ], max_itr, max_itr_epsilon, Q_add, R_add)\n",
    "    \n",
    "    \n",
    "    ukf_model_vectors[idx] = ukf.x\n",
    "    ukf_covars[idx] = ukf.P\n",
    "\n",
    "    idx += 1\n",
    "num_circs = idx"
   ]
  },
  {
   "cell_type": "code",
   "execution_count": 22,
   "id": "f0452c41-30ca-4b7d-9912-e67e96d9c1ad",
   "metadata": {},
   "outputs": [
    {
     "data": {
      "image/png": "[encoded data removed]",
      "text/plain": [
       "<Figure size 432x288 with 2 Axes>"
      ]
     },
     "metadata": {
      "needs_background": "light"
     },
     "output_type": "display_data"
    }
   ],
   "source": [
    "plt_spacing = 5\n",
    "yrange = [-5, -0.5]\n",
    "make_error_plot('Usual evolution', ukf_model_vectors, mdl_datagen.to_vector(), ukf_covars, yrange, mle_estimates, germ_length_ranges, plt_spacing)"
   ]
  },
  {
   "cell_type": "markdown",
   "id": "e20aba1d-c1d6-40b0-870f-cfee06ba4a43",
   "metadata": {},
   "source": [
    "# a simple score function \n",
    "\n",
    "We'll compare the the ratio of the product of the largest N eigenvalues of the prior and posterior $P$ to pick the best circuit\n",
    "\n",
    "The Kalman update for the covariance is\n",
    "$$ P_\\text{post} = (1 - K_k H_k) P_\\text{prior} $$\n",
    "where the Kalman gain is \n",
    "$$ K_k = P_\\text{prior} H_k^T (H_k P_{\\text{prior}} H_k^T + R_k)^{-1} $$\n",
    "\n",
    "To estimate circuit shot noise, we'll use a pseduo-count vector:\n",
    "$$ \n",
    "    \\vec{\\alpha} = N \\vec{p}_\\text{estimate} + \\vec{1}\n",
    "$$\n",
    "and the covariance\n",
    "$$\n",
    "    R_k = \\frac{1}{N+d+1} \\bigg( \\frac{\\text{diag}( \\vec{\\alpha}) }{N+d} - \\frac{ \\alpha \\alpha^T}{(N+d)^2} \\bigg)\n",
    "$$"
   ]
  },
  {
   "cell_type": "code",
   "execution_count": 23,
   "id": "097a1d26-7661-4842-a215-9f5e0ad431a9",
   "metadata": {},
   "outputs": [],
   "source": [
    "def largest_n_evals(matrix, num_evals):\n",
    "    evals = np.linalg.eigvals(matrix)\n",
    "    sorted_evals = np.argsort(evals)\n",
    "    return sorted_evals[0:num_evals]"
   ]
  },
  {
   "cell_type": "code",
   "execution_count": 32,
   "id": "06bf2c25-6de9-4e64-8a53-e52751dbc745",
   "metadata": {},
   "outputs": [],
   "source": [
    "def find_best_circuit(circ_list, model, covar, num_shots, num_evals=10):\n",
    "    \"\"\"\n",
    "    The simpliest function to find the best next circuit\n",
    "        \n",
    "    We estimate the observation noise for each circuit using the filter's prediction\n",
    "    \n",
    "    The algo is to go through each circuit and assign a score per:\n",
    "        1) estimate the sampling noise\n",
    "        2) calculate the model jacobian\n",
    "        3) calculate the kgain\n",
    "        4) assign a score as the ratio of the largest n evals of the prior and posterior\n",
    "    Pick the smallest score\n",
    "    \"\"\"\n",
    "    prior_score = np.prod(largest_n_evals(covar, num_evals))\n",
    "    ratios = dict()\n",
    "    for circ in tqdm(circ_list):\n",
    "        hdims = 2**circ.width\n",
    "        # simulate circuit probs\n",
    "        p_model = vector_from_outcomes(model.probabilities(circ), hdims)\n",
    "        # estimate sampling covar\n",
    "        pseudo_counts = num_shots*p_model + np.ones(hdims)\n",
    "        sampling_covar = (1/(num_shots + hdims + 1)) * (\n",
    "            np.diag(pseudo_counts)/(num_shots + hdims) + \n",
    "            np.outer(pseudo_counts, pseudo_counts)/(num_shots + hdims)**2\n",
    "        )\n",
    "        # calculate kgain\n",
    "        jac = matrix_from_jacob(model.sim.dprobs(circ), hdims) \n",
    "        kgain = covar@jac.T@np.linalg.pinv(jac@covar@jac.T + sampling_covar)\n",
    "        # find the resulting posterior covariance\n",
    "        post_covar = (np.eye(covar.shape[0]) - kgain@jac)@covar\n",
    "        post_score = np.prod(largest_n_evals(covar, num_evals))\n",
    "        ratios[circ] = np.log(prior_score) - np.log(post_score)\n",
    "    best_score = max(ratios.values())\n",
    "    best_circuits = [key for key in ratios if ratios[key] == best_score]\n",
    "    return best_circuits[0], ratios"
   ]
  },
  {
   "cell_type": "code",
   "execution_count": 33,
   "id": "c73829d7-ba5b-4838-89fe-49489572e583",
   "metadata": {},
   "outputs": [
    {
     "name": "stderr",
     "output_type": "stream",
     "text": [
      "  0%|                                                                                                                                                                                                                | 0/874 [00:00<?, ?it/s]/tmp/ipykernel_25234/165580232.py:32: RuntimeWarning: divide by zero encountered in log\n",
      "  ratios[circ] = np.log(prior_score) - np.log(post_score)\n",
      "/tmp/ipykernel_25234/165580232.py:32: RuntimeWarning: invalid value encountered in double_scalars\n",
      "  ratios[circ] = np.log(prior_score) - np.log(post_score)\n",
      "100%|██████████████████████████████████████████████████████████████████████████████████████████████████████████████████████████████████████████████████████████████████████████████████████████████████████| 874/874 [00:42<00:00, 20.39it/s]\n"
     ]
    },
    {
     "ename": "IndexError",
     "evalue": "list index out of range",
     "output_type": "error",
     "traceback": [
      "\u001b[0;31m---------------------------------------------------------------------------\u001b[0m",
      "\u001b[0;31mIndexError\u001b[0m                                Traceback (most recent call last)",
      "Input \u001b[0;32mIn [33]\u001b[0m, in \u001b[0;36m<cell line: 1>\u001b[0;34m()\u001b[0m\n\u001b[0;32m----> 1\u001b[0m \u001b[43mfind_best_circuit\u001b[49m\u001b[43m(\u001b[49m\u001b[43mcirc_list\u001b[49m\u001b[43m,\u001b[49m\u001b[43m \u001b[49m\u001b[43mtarget_model\u001b[49m\u001b[43m,\u001b[49m\u001b[43m \u001b[49m\u001b[43mP\u001b[49m\u001b[43m,\u001b[49m\u001b[43m \u001b[49m\u001b[38;5;241;43m256\u001b[39;49m\u001b[43m,\u001b[49m\u001b[43m \u001b[49m\u001b[43mnum_evals\u001b[49m\u001b[38;5;241;43m=\u001b[39;49m\u001b[38;5;241;43m3\u001b[39;49m\u001b[43m)\u001b[49m\n",
      "Input \u001b[0;32mIn [32]\u001b[0m, in \u001b[0;36mfind_best_circuit\u001b[0;34m(circ_list, model, covar, num_shots, num_evals)\u001b[0m\n\u001b[1;32m     33\u001b[0m best_score \u001b[38;5;241m=\u001b[39m \u001b[38;5;28mmax\u001b[39m(ratios\u001b[38;5;241m.\u001b[39mvalues())\n\u001b[1;32m     34\u001b[0m best_circuits \u001b[38;5;241m=\u001b[39m [key \u001b[38;5;28;01mfor\u001b[39;00m key \u001b[38;5;129;01min\u001b[39;00m ratios \u001b[38;5;28;01mif\u001b[39;00m ratios[key] \u001b[38;5;241m==\u001b[39m best_score]\n\u001b[0;32m---> 35\u001b[0m \u001b[38;5;28;01mreturn\u001b[39;00m \u001b[43mbest_circuits\u001b[49m\u001b[43m[\u001b[49m\u001b[38;5;241;43m0\u001b[39;49m\u001b[43m]\u001b[49m, ratios\n",
      "\u001b[0;31mIndexError\u001b[0m: list index out of range"
     ]
    }
   ],
   "source": [
    "find_best_circuit(circ_list, target_model, P, 256, num_evals=3)"
   ]
  },
  {
   "cell_type": "code",
   "execution_count": null,
   "id": "be865c5f-63f1-4e04-800f-73ac080ba8fe",
   "metadata": {},
   "outputs": [],
   "source": []
  }
 ],
 "metadata": {
  "kernelspec": {
   "display_name": "Python 3 (ipykernel)",
   "language": "python",
   "name": "python3"
  },
  "language_info": {
   "codemirror_mode": {
    "name": "ipython",
    "version": 3
   },
   "file_extension": ".py",
   "mimetype": "text/x-python",
   "name": "python",
   "nbconvert_exporter": "python",
   "pygments_lexer": "ipython3",
   "version": "3.10.4"
  }
 },
 "nbformat": 4,
 "nbformat_minor": 5
}
