{
 "cells": [
  {
   "cell_type": "code",
   "execution_count": 1,
   "id": "d8b0832f-2941-4fc4-8fd1-5c8375840e28",
   "metadata": {},
   "outputs": [],
   "source": [
    "import sys\n",
    "sys.path.append(\"..\")\n",
    "from lib.kalman_gst import *  \n",
    "from pygsti.modelpacks import smq1Q_XY as std"
   ]
  },
  {
   "cell_type": "code",
   "execution_count": 2,
   "id": "36d9ab3c-ff69-4b92-93d0-c79b256c4218",
   "metadata": {},
   "outputs": [],
   "source": [
    "from pygsti.forwardsims import SimpleMatrixForwardSimulator"
   ]
  },
  {
   "cell_type": "code",
   "execution_count": 3,
   "id": "4147c2e4-08b9-4ec1-9a65-0053083925f0",
   "metadata": {},
   "outputs": [],
   "source": [
    "SAMPLES = 256"
   ]
  },
  {
   "cell_type": "code",
   "execution_count": 4,
   "id": "d90c1084-f29c-48ad-92b6-72baa2e963be",
   "metadata": {},
   "outputs": [],
   "source": [
    "# setup the FOGI model\n",
    "mdl_datagen = std.target_model('H+s')\n",
    "basis1q = pygsti.baseobjs.Basis.cast('pp', 4)\n",
    "gauge_basis = pygsti.baseobjs.CompleteElementaryErrorgenBasis(\n",
    "                        basis1q, mdl_datagen.state_space, elementary_errorgen_types='HS')\n",
    "mdl_datagen.setup_fogi(gauge_basis, None, None, reparameterize=True,\n",
    "                     dependent_fogi_action='drop', include_spam=True)\n",
    "target_model = mdl_datagen.copy()\n",
    "filter_model = mdl_datagen.copy()"
   ]
  },
  {
   "cell_type": "code",
   "execution_count": 5,
   "id": "97eba086-ded6-4b9b-b9df-67a37404796c",
   "metadata": {},
   "outputs": [
    {
     "data": {
      "text/plain": [
       "('H(X:0)_Gxpi2:0',\n",
       " 'S(X:0)_Gxpi2:0',\n",
       " '(0.5 S(Y:0) + 0.5 S(Z:0))_Gxpi2:0',\n",
       " 'H(Y:0)_Gypi2:0',\n",
       " '(0.5 S(X:0) + 0.5 S(Z:0))_Gypi2:0',\n",
       " 'S(Y:0)_Gypi2:0',\n",
       " 'ga(-H(Z:0))_Gypi2:0 - ga(-H(Z:0))_Gxpi2:0',\n",
       " 'ga(H(Y:0))_rho0 - ga(H(Y:0))_Gxpi2:0',\n",
       " 'ga(-H(Y:0))_Mdefault - ga(-H(Y:0))_Gxpi2:0',\n",
       " 'ga(H(X:0))_rho0 - ga(H(X:0))_Gypi2:0',\n",
       " 'ga(-H(X:0))_Mdefault - ga(-H(X:0))_Gypi2:0',\n",
       " 'ga(-0.5 S(X:0) - 0.5 S(Y:0))_Mdefault - ga(-0.5 S(X:0) - 0.5 S(Y:0))_rho0')"
      ]
     },
     "execution_count": 5,
     "metadata": {},
     "output_type": "execute_result"
    }
   ],
   "source": [
    "filter_model.fogi_errorgen_component_labels()"
   ]
  },
  {
   "cell_type": "code",
   "execution_count": 6,
   "id": "8db73bf7-e7aa-4426-8a3b-0f0c11ea4920",
   "metadata": {},
   "outputs": [
    {
     "data": {
      "text/plain": [
       "12"
      ]
     },
     "execution_count": 6,
     "metadata": {},
     "output_type": "execute_result"
    }
   ],
   "source": [
    "filter_model.num_params"
   ]
  },
  {
   "cell_type": "code",
   "execution_count": 7,
   "id": "548892a4-3c25-4c21-a287-cef7fddf757d",
   "metadata": {},
   "outputs": [
    {
     "name": "stdout",
     "output_type": "stream",
     "text": [
      "slice(0, 6, None)\n",
      "slice(6, 12, None)\n",
      "slice(12, 18, None)\n",
      "slice(18, 24, None)\n"
     ]
    }
   ],
   "source": [
    "# print the model gate's gpindicies\n",
    "print(filter_model[('rho0')].gpindices)\n",
    "print(filter_model[('Mdefault')].gpindices)\n",
    "for g in std.gates:\n",
    "    print(filter_model[g].gpindices)"
   ]
  },
  {
   "cell_type": "code",
   "execution_count": 8,
   "id": "cb2ea48b-e899-43ee-99cd-e59c11b54441",
   "metadata": {},
   "outputs": [],
   "source": [
    "keys = ['Mdefault', 'rho0', 'Gxpi2', 'Gypi2']\n",
    "gpidxs = { k : [] for k in keys } \n",
    "for key in keys:\n",
    "    for idx, lbl in enumerate(filter_model.fogi_errorgen_component_labels()):\n",
    "        if key in lbl:\n",
    "            gpidxs[key].append(idx)"
   ]
  },
  {
   "cell_type": "code",
   "execution_count": 9,
   "id": "4a84ae4a-0dff-4277-b9e5-74f052896fd3",
   "metadata": {},
   "outputs": [
    {
     "data": {
      "text/plain": [
       "{'Mdefault': [8, 10, 11],\n",
       " 'rho0': [7, 9, 11],\n",
       " 'Gxpi2': [0, 1, 2, 6, 7, 8],\n",
       " 'Gypi2': [3, 4, 5, 6, 9, 10]}"
      ]
     },
     "execution_count": 9,
     "metadata": {},
     "output_type": "execute_result"
    }
   ],
   "source": [
    "gpidxs"
   ]
  },
  {
   "cell_type": "code",
   "execution_count": 10,
   "id": "f4b97b30-b06f-4148-9660-2ce0ee8c0ca8",
   "metadata": {},
   "outputs": [],
   "source": [
    "# reset the model gate's gpinidices\n",
    "filter_model[('Gxpi2', 0)].set_gpindices(gpidxs['Gxpi2'], filter_model[('Gxpi2', 0)])\n",
    "filter_model[('Gypi2', 0)].set_gpindices(gpidxs['Gypi2'], filter_model[('Gypi2', 0)])\n",
    "filter_model[('Mdefault')].set_gpindices(gpidxs['Mdefault'], filter_model[('Mdefault')])\n",
    "filter_model[('rho0')].set_gpindices(gpidxs['rho0'], filter_model[('rho0')])"
   ]
  },
  {
   "cell_type": "code",
   "execution_count": 11,
   "id": "09509bf0-9bce-4f44-bfb3-f62989b06f73",
   "metadata": {},
   "outputs": [
    {
     "name": "stdout",
     "output_type": "stream",
     "text": [
      "[7, 9, 11]\n",
      "[8, 10, 11]\n",
      "[0, 1, 2, 6, 7, 8]\n",
      "[3, 4, 5, 6, 9, 10]\n"
     ]
    }
   ],
   "source": [
    "# print the model gate's gpindicies\n",
    "print(filter_model[('rho0')].gpindices)\n",
    "print(filter_model[('Mdefault')].gpindices)\n",
    "for g in std.gates:\n",
    "    print(filter_model[g].gpindices)"
   ]
  },
  {
   "cell_type": "code",
   "execution_count": 12,
   "id": "bee52750-a6f7-40aa-b73f-40dadf345177",
   "metadata": {},
   "outputs": [
    {
     "data": {
      "text/plain": [
       "[Circuit({}@(0)),\n",
       " Circuit(Gxpi2:0@(0)),\n",
       " Circuit(Gypi2:0@(0)),\n",
       " Circuit(Gxpi2:0Gxpi2:0@(0)),\n",
       " Circuit(Gxpi2:0Gxpi2:0Gxpi2:0@(0)),\n",
       " Circuit(Gypi2:0Gypi2:0Gypi2:0@(0))]"
      ]
     },
     "execution_count": 12,
     "metadata": {},
     "output_type": "execute_result"
    }
   ],
   "source": [
    "std.fiducials()"
   ]
  },
  {
   "cell_type": "code",
   "execution_count": 13,
   "id": "4558fb9f-3c36-41af-8d13-86547989267a",
   "metadata": {},
   "outputs": [],
   "source": [
    "mfs = SimpleMatrixForwardSimulator(filter_model)\n",
    "germs = std.germs()\n",
    "\n",
    "dgerms = dict()\n",
    "for g in germs:\n",
    "    dgerms[g] = mfs.dproduct(g).reshape(filter_model.num_params, -1)"
   ]
  },
  {
   "cell_type": "code",
   "execution_count": 14,
   "id": "eeb4d50b-2444-4a91-bc9d-3546efc8f0fb",
   "metadata": {},
   "outputs": [
    {
     "data": {
      "text/plain": [
       "(12, 16)"
      ]
     },
     "execution_count": 14,
     "metadata": {},
     "output_type": "execute_result"
    }
   ],
   "source": [
    "dgerms[germs[1]].shape"
   ]
  },
  {
   "cell_type": "code",
   "execution_count": 15,
   "id": "8c906371-eb67-498d-a650-6ed2e330db92",
   "metadata": {},
   "outputs": [
    {
     "data": {
      "text/plain": [
       "OutcomeLabelDict([(('0',),\n",
       "                   array([-2.29934694e-17,  0.00000000e+00,  0.00000000e+00,  0.00000000e+00,\n",
       "                           1.25092819e-34, -2.81392211e-16,  4.49792587e-17,  6.52116990e-16,\n",
       "                           2.28905593e-16, -3.06186218e-01, -9.18558654e-01, -5.00000000e-01])),\n",
       "                  (('1',),\n",
       "                   array([-2.29934694e-17,  0.00000000e+00,  0.00000000e+00,  0.00000000e+00,\n",
       "                          -1.25092819e-34,  2.81392211e-16, -4.49792587e-17, -6.92323949e-16,\n",
       "                          -3.49526471e-16,  3.06186218e-01,  9.18558654e-01,  5.00000000e-01]))])"
      ]
     },
     "execution_count": 15,
     "metadata": {},
     "output_type": "execute_result"
    }
   ],
   "source": [
    "filter_model.sim.dprobs(std.meas_fiducials()[1]+germs[1]+std.prep_fiducials()[0] )"
   ]
  },
  {
   "cell_type": "code",
   "execution_count": 17,
   "id": "9e418440-f515-4670-82ba-1a7f5dbf2517",
   "metadata": {},
   "outputs": [
    {
     "ename": "AssertionError",
     "evalue": "",
     "output_type": "error",
     "traceback": [
      "\u001b[0;31m---------------------------------------------------------------------------\u001b[0m",
      "\u001b[0;31mAssertionError\u001b[0m                            Traceback (most recent call last)",
      "Cell \u001b[0;32mIn[17], line 1\u001b[0m\n\u001b[0;32m----> 1\u001b[0m \u001b[43mmfs\u001b[49m\u001b[38;5;241;43m.\u001b[39;49m\u001b[43mdprobs\u001b[49m\u001b[43m(\u001b[49m\u001b[43mgerms\u001b[49m\u001b[43m[\u001b[49m\u001b[38;5;241;43m0\u001b[39;49m\u001b[43m]\u001b[49m\u001b[43m)\u001b[49m\n",
      "File \u001b[0;32m~/Applications/pyGSTi/pygsti/forwardsims/forwardsim.py:265\u001b[0m, in \u001b[0;36mForwardSimulator.dprobs\u001b[0;34m(self, circuit, resource_alloc)\u001b[0m\n\u001b[1;32m    263\u001b[0m copa_layout \u001b[38;5;241m=\u001b[39m \u001b[38;5;28mself\u001b[39m\u001b[38;5;241m.\u001b[39mcreate_layout([circuit], array_types\u001b[38;5;241m=\u001b[39m(\u001b[38;5;124m'\u001b[39m\u001b[38;5;124mep\u001b[39m\u001b[38;5;124m'\u001b[39m,), resource_alloc\u001b[38;5;241m=\u001b[39mresource_alloc)\n\u001b[1;32m    264\u001b[0m dprobs_array \u001b[38;5;241m=\u001b[39m _np\u001b[38;5;241m.\u001b[39mempty((copa_layout\u001b[38;5;241m.\u001b[39mnum_elements, \u001b[38;5;28mself\u001b[39m\u001b[38;5;241m.\u001b[39mmodel\u001b[38;5;241m.\u001b[39mnum_params), \u001b[38;5;124m'\u001b[39m\u001b[38;5;124md\u001b[39m\u001b[38;5;124m'\u001b[39m)\n\u001b[0;32m--> 265\u001b[0m \u001b[38;5;28;43mself\u001b[39;49m\u001b[38;5;241;43m.\u001b[39;49m\u001b[43mbulk_fill_dprobs\u001b[49m\u001b[43m(\u001b[49m\u001b[43mdprobs_array\u001b[49m\u001b[43m,\u001b[49m\u001b[43m \u001b[49m\u001b[43mcopa_layout\u001b[49m\u001b[43m)\u001b[49m\n\u001b[1;32m    267\u001b[0m dprobs \u001b[38;5;241m=\u001b[39m _ld\u001b[38;5;241m.\u001b[39mOutcomeLabelDict()\n\u001b[1;32m    268\u001b[0m elindices, outcomes \u001b[38;5;241m=\u001b[39m copa_layout\u001b[38;5;241m.\u001b[39mindices_and_outcomes_for_index(\u001b[38;5;241m0\u001b[39m)\n",
      "File \u001b[0;32m~/Applications/pyGSTi/pygsti/forwardsims/forwardsim.py:605\u001b[0m, in \u001b[0;36mForwardSimulator.bulk_fill_dprobs\u001b[0;34m(self, array_to_fill, layout, pr_array_to_fill)\u001b[0m\n\u001b[1;32m    576\u001b[0m \u001b[38;5;28;01mdef\u001b[39;00m \u001b[38;5;21mbulk_fill_dprobs\u001b[39m(\u001b[38;5;28mself\u001b[39m, array_to_fill, layout, pr_array_to_fill\u001b[38;5;241m=\u001b[39m\u001b[38;5;28;01mNone\u001b[39;00m):\n\u001b[1;32m    577\u001b[0m \u001b[38;5;250m    \u001b[39m\u001b[38;5;124;03m\"\"\"\u001b[39;00m\n\u001b[1;32m    578\u001b[0m \u001b[38;5;124;03m    Compute the outcome probability-derivatives for an entire tree of circuits.\u001b[39;00m\n\u001b[1;32m    579\u001b[0m \n\u001b[0;32m   (...)\u001b[0m\n\u001b[1;32m    603\u001b[0m \u001b[38;5;124;03m    None\u001b[39;00m\n\u001b[1;32m    604\u001b[0m \u001b[38;5;124;03m    \"\"\"\u001b[39;00m\n\u001b[0;32m--> 605\u001b[0m     \u001b[38;5;28;01mreturn\u001b[39;00m \u001b[38;5;28;43mself\u001b[39;49m\u001b[38;5;241;43m.\u001b[39;49m\u001b[43m_bulk_fill_dprobs\u001b[49m\u001b[43m(\u001b[49m\u001b[43marray_to_fill\u001b[49m\u001b[43m,\u001b[49m\u001b[43m \u001b[49m\u001b[43mlayout\u001b[49m\u001b[43m,\u001b[49m\u001b[43m \u001b[49m\u001b[43mpr_array_to_fill\u001b[49m\u001b[43m)\u001b[49m\n",
      "File \u001b[0;32m~/Applications/pyGSTi/pygsti/forwardsims/forwardsim.py:610\u001b[0m, in \u001b[0;36mForwardSimulator._bulk_fill_dprobs\u001b[0;34m(self, array_to_fill, layout, pr_array_to_fill)\u001b[0m\n\u001b[1;32m    608\u001b[0m \u001b[38;5;28;01mif\u001b[39;00m pr_array_to_fill \u001b[38;5;129;01mis\u001b[39;00m \u001b[38;5;129;01mnot\u001b[39;00m \u001b[38;5;28;01mNone\u001b[39;00m:\n\u001b[1;32m    609\u001b[0m     \u001b[38;5;28mself\u001b[39m\u001b[38;5;241m.\u001b[39m_bulk_fill_probs_block(pr_array_to_fill, layout)\n\u001b[0;32m--> 610\u001b[0m \u001b[38;5;28;01mreturn\u001b[39;00m \u001b[38;5;28;43mself\u001b[39;49m\u001b[38;5;241;43m.\u001b[39;49m\u001b[43m_bulk_fill_dprobs_block\u001b[49m\u001b[43m(\u001b[49m\u001b[43marray_to_fill\u001b[49m\u001b[43m,\u001b[49m\u001b[43m \u001b[49m\u001b[38;5;28;43;01mNone\u001b[39;49;00m\u001b[43m,\u001b[49m\u001b[43m \u001b[49m\u001b[43mlayout\u001b[49m\u001b[43m,\u001b[49m\u001b[43m \u001b[49m\u001b[38;5;28;43;01mNone\u001b[39;49;00m\u001b[43m)\u001b[49m\n",
      "File \u001b[0;32m~/Applications/pyGSTi/pygsti/forwardsims/forwardsim.py:644\u001b[0m, in \u001b[0;36mForwardSimulator._bulk_fill_dprobs_block\u001b[0;34m(self, array_to_fill, dest_param_slice, layout, param_slice)\u001b[0m\n\u001b[1;32m    642\u001b[0m iFinal \u001b[38;5;241m=\u001b[39m iParamToFinal[i]\n\u001b[1;32m    643\u001b[0m vec \u001b[38;5;241m=\u001b[39m orig_vec\u001b[38;5;241m.\u001b[39mcopy(); vec[i] \u001b[38;5;241m+\u001b[39m\u001b[38;5;241m=\u001b[39m eps\n\u001b[0;32m--> 644\u001b[0m \u001b[38;5;28;43mself\u001b[39;49m\u001b[38;5;241;43m.\u001b[39;49m\u001b[43mmodel\u001b[49m\u001b[38;5;241;43m.\u001b[39;49m\u001b[43mfrom_vector\u001b[49m\u001b[43m(\u001b[49m\u001b[43mvec\u001b[49m\u001b[43m,\u001b[49m\u001b[43m \u001b[49m\u001b[43mclose\u001b[49m\u001b[38;5;241;43m=\u001b[39;49m\u001b[38;5;28;43;01mTrue\u001b[39;49;00m\u001b[43m)\u001b[49m\n\u001b[1;32m    645\u001b[0m \u001b[38;5;28mself\u001b[39m\u001b[38;5;241m.\u001b[39m_bulk_fill_probs_block(probs2, layout, resource_alloc)\n\u001b[1;32m    646\u001b[0m array_to_fill[:, iFinal] \u001b[38;5;241m=\u001b[39m (probs2 \u001b[38;5;241m-\u001b[39m probs) \u001b[38;5;241m/\u001b[39m eps\n",
      "File \u001b[0;32m~/Applications/pyGSTi/pygsti/models/model.py:1094\u001b[0m, in \u001b[0;36mOpModel.from_vector\u001b[0;34m(self, v, close)\u001b[0m\n\u001b[1;32m   1092\u001b[0m w \u001b[38;5;241m=\u001b[39m \u001b[38;5;28mself\u001b[39m\u001b[38;5;241m.\u001b[39m_model_paramvec_to_ops_paramvec(v)\n\u001b[1;32m   1093\u001b[0m \u001b[38;5;28;01mfor\u001b[39;00m _, obj \u001b[38;5;129;01min\u001b[39;00m \u001b[38;5;28mself\u001b[39m\u001b[38;5;241m.\u001b[39m_iter_parameterized_objs():\n\u001b[0;32m-> 1094\u001b[0m     \u001b[43mobj\u001b[49m\u001b[38;5;241;43m.\u001b[39;49m\u001b[43mfrom_vector\u001b[49m\u001b[43m(\u001b[49m\u001b[43mw\u001b[49m\u001b[43m[\u001b[49m\u001b[43mobj\u001b[49m\u001b[38;5;241;43m.\u001b[39;49m\u001b[43mgpindices\u001b[49m\u001b[43m]\u001b[49m\u001b[43m,\u001b[49m\u001b[43m \u001b[49m\u001b[43mclose\u001b[49m\u001b[43m,\u001b[49m\u001b[43m \u001b[49m\u001b[43mdirty_value\u001b[49m\u001b[38;5;241;43m=\u001b[39;49m\u001b[38;5;28;43;01mFalse\u001b[39;49;00m\u001b[43m)\u001b[49m\n\u001b[1;32m   1095\u001b[0m     \u001b[38;5;66;03m# dirty_value=False => obj.dirty = False b/c object is known to be consistent with _paramvec\u001b[39;00m\n\u001b[1;32m   1096\u001b[0m \n\u001b[1;32m   1097\u001b[0m \u001b[38;5;66;03m# Call from_vector on elements of the cache\u001b[39;00m\n\u001b[1;32m   1098\u001b[0m \u001b[38;5;28;01mif\u001b[39;00m \u001b[38;5;28mself\u001b[39m\u001b[38;5;241m.\u001b[39m_call_fromvector_on_cache:\n",
      "File \u001b[0;32m~/Applications/pyGSTi/pygsti/modelmembers/states/composedstate.py:706\u001b[0m, in \u001b[0;36mComposedState.from_vector\u001b[0;34m(self, v, close, dirty_value)\u001b[0m\n\u001b[1;32m    682\u001b[0m \u001b[38;5;28;01mdef\u001b[39;00m \u001b[38;5;21mfrom_vector\u001b[39m(\u001b[38;5;28mself\u001b[39m, v, close\u001b[38;5;241m=\u001b[39m\u001b[38;5;28;01mFalse\u001b[39;00m, dirty_value\u001b[38;5;241m=\u001b[39m\u001b[38;5;28;01mTrue\u001b[39;00m):\n\u001b[1;32m    683\u001b[0m \u001b[38;5;250m    \u001b[39m\u001b[38;5;124;03m\"\"\"\u001b[39;00m\n\u001b[1;32m    684\u001b[0m \u001b[38;5;124;03m    Initialize the state vector using a 1D array of parameters.\u001b[39;00m\n\u001b[1;32m    685\u001b[0m \n\u001b[0;32m   (...)\u001b[0m\n\u001b[1;32m    704\u001b[0m \u001b[38;5;124;03m    None\u001b[39;00m\n\u001b[1;32m    705\u001b[0m \u001b[38;5;124;03m    \"\"\"\u001b[39;00m\n\u001b[0;32m--> 706\u001b[0m     \u001b[38;5;28;43mself\u001b[39;49m\u001b[38;5;241;43m.\u001b[39;49m\u001b[43merror_map\u001b[49m\u001b[38;5;241;43m.\u001b[39;49m\u001b[43mfrom_vector\u001b[49m\u001b[43m(\u001b[49m\u001b[43mv\u001b[49m\u001b[43m,\u001b[49m\u001b[43m \u001b[49m\u001b[43mclose\u001b[49m\u001b[43m,\u001b[49m\u001b[43m \u001b[49m\u001b[43mdirty_value\u001b[49m\u001b[43m)\u001b[49m\n\u001b[1;32m    707\u001b[0m     \u001b[38;5;28mself\u001b[39m\u001b[38;5;241m.\u001b[39m_update_rep()\n\u001b[1;32m    708\u001b[0m     \u001b[38;5;28mself\u001b[39m\u001b[38;5;241m.\u001b[39mdirty \u001b[38;5;241m=\u001b[39m dirty_value\n",
      "File \u001b[0;32m~/Applications/pyGSTi/pygsti/modelmembers/operations/experrorgenop.py:398\u001b[0m, in \u001b[0;36mExpErrorgenOp.from_vector\u001b[0;34m(self, v, close, dirty_value)\u001b[0m\n\u001b[1;32m    374\u001b[0m \u001b[38;5;28;01mdef\u001b[39;00m \u001b[38;5;21mfrom_vector\u001b[39m(\u001b[38;5;28mself\u001b[39m, v, close\u001b[38;5;241m=\u001b[39m\u001b[38;5;28;01mFalse\u001b[39;00m, dirty_value\u001b[38;5;241m=\u001b[39m\u001b[38;5;28;01mTrue\u001b[39;00m):\n\u001b[1;32m    375\u001b[0m \u001b[38;5;250m    \u001b[39m\u001b[38;5;124;03m\"\"\"\u001b[39;00m\n\u001b[1;32m    376\u001b[0m \u001b[38;5;124;03m    Initialize the operation using a vector of parameters.\u001b[39;00m\n\u001b[1;32m    377\u001b[0m \n\u001b[0;32m   (...)\u001b[0m\n\u001b[1;32m    396\u001b[0m \u001b[38;5;124;03m    None\u001b[39;00m\n\u001b[1;32m    397\u001b[0m \u001b[38;5;124;03m    \"\"\"\u001b[39;00m\n\u001b[0;32m--> 398\u001b[0m     \u001b[38;5;28;43mself\u001b[39;49m\u001b[38;5;241;43m.\u001b[39;49m\u001b[43merrorgen\u001b[49m\u001b[38;5;241;43m.\u001b[39;49m\u001b[43mfrom_vector\u001b[49m\u001b[43m(\u001b[49m\u001b[43mv\u001b[49m\u001b[43m,\u001b[49m\u001b[43m \u001b[49m\u001b[43mclose\u001b[49m\u001b[43m,\u001b[49m\u001b[43m \u001b[49m\u001b[43mdirty_value\u001b[49m\u001b[43m)\u001b[49m\n\u001b[1;32m    399\u001b[0m     \u001b[38;5;28mself\u001b[39m\u001b[38;5;241m.\u001b[39m_update_rep(close)\n\u001b[1;32m    400\u001b[0m     \u001b[38;5;28mself\u001b[39m\u001b[38;5;241m.\u001b[39mdirty \u001b[38;5;241m=\u001b[39m dirty_value\n",
      "File \u001b[0;32m~/Applications/pyGSTi/pygsti/modelmembers/operations/lindbladerrorgen.py:985\u001b[0m, in \u001b[0;36mLindbladErrorgen.from_vector\u001b[0;34m(self, v, close, dirty_value)\u001b[0m\n\u001b[1;32m    961\u001b[0m \u001b[38;5;28;01mdef\u001b[39;00m \u001b[38;5;21mfrom_vector\u001b[39m(\u001b[38;5;28mself\u001b[39m, v, close\u001b[38;5;241m=\u001b[39m\u001b[38;5;28;01mFalse\u001b[39;00m, dirty_value\u001b[38;5;241m=\u001b[39m\u001b[38;5;28;01mTrue\u001b[39;00m):\n\u001b[1;32m    962\u001b[0m \u001b[38;5;250m    \u001b[39m\u001b[38;5;124;03m\"\"\"\u001b[39;00m\n\u001b[1;32m    963\u001b[0m \u001b[38;5;124;03m    Initialize the operation using a vector of parameters.\u001b[39;00m\n\u001b[1;32m    964\u001b[0m \n\u001b[0;32m   (...)\u001b[0m\n\u001b[1;32m    983\u001b[0m \u001b[38;5;124;03m    None\u001b[39;00m\n\u001b[1;32m    984\u001b[0m \u001b[38;5;124;03m    \"\"\"\u001b[39;00m\n\u001b[0;32m--> 985\u001b[0m     \u001b[38;5;28;01massert\u001b[39;00m(\u001b[38;5;28mlen\u001b[39m(v) \u001b[38;5;241m==\u001b[39m \u001b[38;5;28mself\u001b[39m\u001b[38;5;241m.\u001b[39mnum_params)\n\u001b[1;32m    986\u001b[0m     \u001b[38;5;28mself\u001b[39m\u001b[38;5;241m.\u001b[39mparamvals[:] \u001b[38;5;241m=\u001b[39m v\n\u001b[1;32m    988\u001b[0m     off \u001b[38;5;241m=\u001b[39m \u001b[38;5;241m0\u001b[39m\n",
      "\u001b[0;31mAssertionError\u001b[0m: "
     ]
    }
   ],
   "source": [
    "mfs.dprobs(germs[0])"
   ]
  },
  {
   "cell_type": "code",
   "execution_count": 16,
   "id": "0efcb031-fee6-4d03-870f-84369a5bfc70",
   "metadata": {},
   "outputs": [],
   "source": [
    "class ExtendedKalmanFilter():\n",
    "    \"\"\"\n",
    "    An extended Kalman filter for gate-set tomography\n",
    "    \n",
    "    --- Parameters ---\n",
    "    model: an underlying pygsti model\n",
    "    num_params: number of parameters in the pygsti model\n",
    "    P: current covariance matrix\n",
    "    \"\"\"\n",
    "    def __init__(self, model, P0):\n",
    "        self.model = model\n",
    "        self.P = P0\n",
    "        self.param_history = [self.model.to_vector()]\n",
    "        self.covar_history = [self.P]\n",
    "        \n",
    "    def select_germ(self, germs, reps):\n",
    "        cost_funs = []\n",
    "        tfs = SimpleMatrixForwardSimulator(self.model)\n",
    "        for g in germs:\n",
    "            dgerms = tfs.dproduct(g*reps).reshape(filter_model.num_params, -1)\n",
    "            print(dgerms.shape)\n",
    "            cost_funs.append(np.trace(np.linalg.pinv(dgerms.T@self.P@dgerms)))\n",
    "        return germs[np.argmax(cost_funs)]\n",
    "    \n",
    "    def select_fiducial(self, germ, reps, meas_fids, prep_fids):\n",
    "        cost_funs = []\n",
    "        cost_funs = np.zeros((len(meas_fids), len(prep_fids)))\n",
    "        for idm, mf in enumerate(meas_fids):\n",
    "            for idp, pf in enumerate(prep_fids):\n",
    "                print(idm, idp)\n",
    "                dprob = vector_from_outcomes(self.model.sim.dprobs(mf+germ*reps+pf), 2)\n",
    "                print(dprob)\n",
    "                cost_funs[mf, pf] = np.trace(np.linalg.pinv(dprob@self.P@dprob.T, 1e-6))\n",
    "        idx_maxs = np.argmax(cost_funs)\n",
    "        return (meas_fids[idx_maxs[0]], prep_fids[idx_maxs[1]])\n",
    "        \n",
    "        \n",
    "    def update(self, circ, count_vec, clip_range=[-1,1], Q=None, R_additional=None, max_itr=1, itr_eps=1e-4):\n",
    "        \"\"\"\n",
    "        Makes an exact update to the model\n",
    "        where the jacobian is calculated as the current estimate\n",
    "        \n",
    "        --- Arguments ---\n",
    "        circ: pygsti circuit used in the update\n",
    "        count_vec: vector of observed counts\n",
    "        clip_range: reasonable clipping range for the parameter update\n",
    "        Q: state-space covariance \n",
    "        R_additional: additional measurement covariance\n",
    "        max_itr: maximum number of iterations to the update\n",
    "        itr_eps: epsilon for minimum difference to end iterated updates\n",
    "        \n",
    "        --- Returns --- \n",
    "        innovation: the prior innovation\n",
    "        kgain: the Kalman gain\n",
    "        \"\"\"\n",
    "        prior_covar = self.P\n",
    "        prior_state = self.model.to_vector()\n",
    "        hilbert_dims = 2**(circ.width)\n",
    "        \n",
    "        # find the predicted frequency for the circuit outcome under the model\n",
    "        probs = self.model.probabilities(circ)\n",
    "        p_model = vector_from_outcomes(probs, hilbert_dims)\n",
    "\n",
    "        # calculate the observed frequency\n",
    "        total_counts = sum(count_vec)\n",
    "        observation = count_vec/total_counts\n",
    "\n",
    "        # calculate jacobian\n",
    "        jacob = matrix_from_jacob(self.model.sim.dprobs(circ), 2**circ.width)\n",
    "\n",
    "        # calculate the covaraiance of the observation\n",
    "        mean_frequency = ( count_vec+np.ones(len(count_vec)) )/( sum(count_vec)+len(count_vec) )\n",
    "        R = (1/(sum(count_vec)+len(count_vec)+1))*categorical_covar(mean_frequency)\n",
    "\n",
    "        # add any additional noise\n",
    "        if R_additional is not None:\n",
    "            R += R_additional\n",
    "        if Q is None: \n",
    "            Q = 0*np.eye(self.model.num_params)\n",
    "\n",
    "        # Kalman gain\n",
    "        P = prior_covar + Q\n",
    "        kgain = P@jacob.T@np.linalg.pinv(jacob@P@jacob.T + R, 1e-15)\n",
    "\n",
    "        # Kalman update\n",
    "        innovation = observation - p_model\n",
    "        post_state = prior_state + kgain@innovation\n",
    "        post_state = np.clip(post_state, clip_range[0], clip_range[1])\n",
    "            \n",
    "\n",
    "        \n",
    "        # update class parameters\n",
    "        self.P = (np.eye(self.model.num_params) - kgain@jacob)@P\n",
    "        self.model.from_vector(post_state)\n",
    "        \n",
    "        self.param_history.append(post_state)\n",
    "        self.covar_history.append(self.P)\n",
    "        \n",
    "        return innovation, kgain "
   ]
  },
  {
   "cell_type": "code",
   "execution_count": 17,
   "id": "a7bf7dcf-2f28-4f2d-b384-1ffe4838d1c4",
   "metadata": {},
   "outputs": [
    {
     "name": "stdout",
     "output_type": "stream",
     "text": [
      "hamiltonian-only MSE with target 0.013944923672360084\n",
      "hamiltonian-only agsi with target -0.00972702911544579\n",
      "MSE with target 0.01394719147439365\n",
      "agi with target -0.00948075559480882\n"
     ]
    }
   ],
   "source": [
    "# add noise to the stochastic and hamiltonian parts of the FOGI rates\n",
    "SEED = 3122\n",
    "np.random.seed(SEED)\n",
    "\n",
    "max_stochastic_error_rate = 0.001\n",
    "hamiltonian_error_var = 0.05\n",
    "ar = mdl_datagen.fogi_errorgen_components_array(include_fogv=False, normalized_elem_gens=True)\n",
    "\n",
    "\n",
    "# add hamiltonian noise\n",
    "ar[0:3] = np.random.normal(0, hamiltonian_error_var, 3)\n",
    "ar[9] = np.random.normal(0, hamiltonian_error_var)\n",
    "ar[6] = np.random.normal(0, hamiltonian_error_var)\n",
    "mdl_datagen.set_fogi_errorgen_components_array(ar, include_fogv=False, normalized_elem_gens=True)\n",
    "print('hamiltonian-only MSE with target', mserror(mdl_datagen, target_model))\n",
    "print('hamiltonian-only agsi with target', avg_gs_infidelity(mdl_datagen, target_model))\n",
    "\n",
    "# add stochastic noise\n",
    "ar[3:6] = max_stochastic_error_rate*np.random.rand(3)\n",
    "ar[7:9] = max_stochastic_error_rate*np.random.rand(2)\n",
    "ar[10:12] = max_stochastic_error_rate*np.random.rand(2)\n",
    "mdl_datagen.set_fogi_errorgen_components_array(ar, include_fogv=False, normalized_elem_gens=True)\n",
    "\n",
    "print('MSE with target', mserror(mdl_datagen, target_model))\n",
    "print('agi with target', avg_gs_infidelity(mdl_datagen, target_model))"
   ]
  },
  {
   "cell_type": "code",
   "execution_count": 18,
   "id": "9e7c4ecb-c42d-4c1e-bd25-d2a6964d4664",
   "metadata": {},
   "outputs": [],
   "source": [
    "prior_covar = (mserror(mdl_datagen, target_model)/target_model.num_params)*np.eye(target_model.num_params)\n",
    "ekf = ExtendedKalmanFilter(filter_model, prior_covar)"
   ]
  },
  {
   "cell_type": "code",
   "execution_count": null,
   "id": "1cd749fb-fde4-408b-9482-46d9cc188f39",
   "metadata": {},
   "outputs": [],
   "source": []
  },
  {
   "cell_type": "code",
   "execution_count": 20,
   "id": "4efff650-ff31-48f0-b916-e1e17a7f7f2f",
   "metadata": {},
   "outputs": [],
   "source": [
    "pfids = std.prep_fiducials()\n",
    "mfids = std.meas_fiducials()"
   ]
  },
  {
   "cell_type": "code",
   "execution_count": 23,
   "id": "d0a28d71-b66b-4af8-a67d-68e2015ba27f",
   "metadata": {},
   "outputs": [
    {
     "name": "stdout",
     "output_type": "stream",
     "text": [
      "0 0\n"
     ]
    },
    {
     "ename": "ValueError",
     "evalue": "setting an array element with a sequence.",
     "output_type": "error",
     "traceback": [
      "\u001b[0;31m---------------------------------------------------------------------------\u001b[0m",
      "\u001b[0;31mTypeError\u001b[0m                                 Traceback (most recent call last)",
      "\u001b[0;31mTypeError\u001b[0m: only size-1 arrays can be converted to Python scalars",
      "\nThe above exception was the direct cause of the following exception:\n",
      "\u001b[0;31mValueError\u001b[0m                                Traceback (most recent call last)",
      "Cell \u001b[0;32mIn[23], line 1\u001b[0m\n\u001b[0;32m----> 1\u001b[0m \u001b[43mekf\u001b[49m\u001b[38;5;241;43m.\u001b[39;49m\u001b[43mselect_fiducial\u001b[49m\u001b[43m(\u001b[49m\u001b[43mgerms\u001b[49m\u001b[43m[\u001b[49m\u001b[38;5;241;43m0\u001b[39;49m\u001b[43m]\u001b[49m\u001b[43m,\u001b[49m\u001b[43m \u001b[49m\u001b[38;5;241;43m1\u001b[39;49m\u001b[43m,\u001b[49m\u001b[43m \u001b[49m\u001b[43mmfids\u001b[49m\u001b[43m,\u001b[49m\u001b[43m \u001b[49m\u001b[43mpfids\u001b[49m\u001b[43m)\u001b[49m\n",
      "Cell \u001b[0;32mIn[19], line 31\u001b[0m, in \u001b[0;36mExtendedKalmanFilter.select_fiducial\u001b[0;34m(self, germ, reps, meas_fids, prep_fids)\u001b[0m\n\u001b[1;32m     29\u001b[0m \u001b[38;5;28;01mfor\u001b[39;00m idp, pf \u001b[38;5;129;01min\u001b[39;00m \u001b[38;5;28menumerate\u001b[39m(prep_fids):\n\u001b[1;32m     30\u001b[0m     \u001b[38;5;28mprint\u001b[39m(idm, idp)\n\u001b[0;32m---> 31\u001b[0m     dprob \u001b[38;5;241m=\u001b[39m \u001b[43mvector_from_outcomes\u001b[49m\u001b[43m(\u001b[49m\u001b[38;5;28;43mself\u001b[39;49m\u001b[38;5;241;43m.\u001b[39;49m\u001b[43mmodel\u001b[49m\u001b[38;5;241;43m.\u001b[39;49m\u001b[43msim\u001b[49m\u001b[38;5;241;43m.\u001b[39;49m\u001b[43mdprobs\u001b[49m\u001b[43m(\u001b[49m\u001b[43mmf\u001b[49m\u001b[38;5;241;43m+\u001b[39;49m\u001b[43mgerm\u001b[49m\u001b[38;5;241;43m*\u001b[39;49m\u001b[43mreps\u001b[49m\u001b[38;5;241;43m+\u001b[39;49m\u001b[43mpf\u001b[49m\u001b[43m)\u001b[49m\u001b[43m,\u001b[49m\u001b[43m \u001b[49m\u001b[38;5;241;43m2\u001b[39;49m\u001b[43m)\u001b[49m\n\u001b[1;32m     32\u001b[0m     \u001b[38;5;28mprint\u001b[39m(dprob)\n\u001b[1;32m     33\u001b[0m     cost_funs[mf, pf] \u001b[38;5;241m=\u001b[39m np\u001b[38;5;241m.\u001b[39mtrace(np\u001b[38;5;241m.\u001b[39mlinalg\u001b[38;5;241m.\u001b[39mpinv(dprob\u001b[38;5;129m@self\u001b[39m\u001b[38;5;241m.\u001b[39mP\u001b[38;5;129m@dprob\u001b[39m\u001b[38;5;241m.\u001b[39mT, \u001b[38;5;241m1e-6\u001b[39m))\n",
      "File \u001b[0;32m~/Projects/KalmanFiltering/lib/kalman_gst.py:61\u001b[0m, in \u001b[0;36mvector_from_outcomes\u001b[0;34m(outcomes, num_outcomes)\u001b[0m\n\u001b[1;32m     59\u001b[0m vecout \u001b[38;5;241m=\u001b[39m np\u001b[38;5;241m.\u001b[39mzeros((num_outcomes))\n\u001b[1;32m     60\u001b[0m \u001b[38;5;28;01mfor\u001b[39;00m key \u001b[38;5;129;01min\u001b[39;00m outcomes\u001b[38;5;241m.\u001b[39mkeys():\n\u001b[0;32m---> 61\u001b[0m     \u001b[43mvecout\u001b[49m\u001b[43m[\u001b[49m\u001b[38;5;28;43mint\u001b[39;49m\u001b[43m(\u001b[49m\u001b[43mkey\u001b[49m\u001b[43m[\u001b[49m\u001b[38;5;241;43m0\u001b[39;49m\u001b[43m]\u001b[49m\u001b[43m,\u001b[49m\u001b[43m \u001b[49m\u001b[38;5;241;43m2\u001b[39;49m\u001b[43m)\u001b[49m\u001b[43m]\u001b[49m \u001b[38;5;241m=\u001b[39m outcomes[key]\n\u001b[1;32m     62\u001b[0m \u001b[38;5;28;01mreturn\u001b[39;00m(vecout)\n",
      "\u001b[0;31mValueError\u001b[0m: setting an array element with a sequence."
     ]
    }
   ],
   "source": [
    "ekf.select_fiducial(germs[0], 1, mfids, pfids)"
   ]
  },
  {
   "cell_type": "code",
   "execution_count": null,
   "id": "dd0be7db-4255-4706-bbdc-ce75d9db9694",
   "metadata": {},
   "outputs": [],
   "source": []
  },
  {
   "cell_type": "code",
   "execution_count": null,
   "id": "db70f0f4-65f9-4e7d-90e0-f27047e3b6d8",
   "metadata": {},
   "outputs": [],
   "source": []
  }
 ],
 "metadata": {
  "kernelspec": {
   "display_name": "Python 3 (ipykernel)",
   "language": "python",
   "name": "python3"
  },
  "language_info": {
   "codemirror_mode": {
    "name": "ipython",
    "version": 3
   },
   "file_extension": ".py",
   "mimetype": "text/x-python",
   "name": "python",
   "nbconvert_exporter": "python",
   "pygments_lexer": "ipython3",
   "version": "3.10.9"
  }
 },
 "nbformat": 4,
 "nbformat_minor": 5
}
