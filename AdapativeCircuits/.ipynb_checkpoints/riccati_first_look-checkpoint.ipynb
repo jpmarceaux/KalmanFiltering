{
 "cells": [
  {
   "cell_type": "code",
   "execution_count": 33,
   "id": "559669ee-260c-4c74-beca-1568873c1aab",
   "metadata": {},
   "outputs": [],
   "source": [
    "import os\n",
    "os.chdir('/home/jpmarceaux/Simulations/KalmanFiltering_Sandia2021')\n",
    "from kalman_gst import *\n",
    "os.chdir('/home/jpmarceaux/Simulations/KalmanFiltering_Sandia2021/RiccatiEquation')\n",
    "from pygsti.modelpacks import smq1Q_XYZI as std\n",
    "import scipy"
   ]
  },
  {
   "cell_type": "code",
   "execution_count": 11,
   "id": "9af1836c-ae37-448d-8aa3-53efe3d909d7",
   "metadata": {},
   "outputs": [],
   "source": [
    "SEED = 2021\n",
    "NUM_SHOTS = 256\n",
    "np.random.seed(SEED)"
   ]
  },
  {
   "cell_type": "code",
   "execution_count": 16,
   "id": "c360ea48-51b7-454c-ad21-d3f2222ef1e6",
   "metadata": {},
   "outputs": [],
   "source": [
    "# setup the fogi model and make a noisy model\n",
    "target_model = std.target_model('H+s')\n",
    "basis1q = pygsti.baseobjs.Basis.cast('pp', 4)\n",
    "gauge_basis = pygsti.baseobjs.CompleteElementaryErrorgenBasis(\n",
    "                        basis1q, target_model.state_space, elementary_errorgen_types='HS')\n",
    "target_model.setup_fogi(gauge_basis, None, None, reparameterize=True,\n",
    "                     dependent_fogi_action='drop', include_spam=True)\n",
    "max_fogi_error_rate = 0.1\n",
    "mdl_datagen = target_model.copy()\n",
    "ar = mdl_datagen.fogi_errorgen_components_array(include_fogv=False, normalized_elem_gens=True)\n",
    "np.random.seed(SEED)\n",
    "ar = max_fogi_error_rate * np.random.rand(len(ar))\n",
    "mdl_datagen.set_fogi_errorgen_components_array(ar, include_fogv=False, normalized_elem_gens=True)"
   ]
  },
  {
   "cell_type": "code",
   "execution_count": 17,
   "id": "54b5fe5f-497e-4849-bc9a-3d87292571e9",
   "metadata": {},
   "outputs": [
    {
     "name": "stdout",
     "output_type": "stream",
     "text": [
      "Model is CPTP...  True\n",
      "avg. gate-set infidelity:  0.09240756473428763\n",
      "mean square error:  0.07711296129748693\n"
     ]
    }
   ],
   "source": [
    "# check that the datagen model is CPTP and print metrics w.r.t. the target model\n",
    "print('Model is CPTP... ', model_is_cptp(mdl_datagen))\n",
    "print('avg. gate-set infidelity: ', avg_gs_infidelity(mdl_datagen, target_model))\n",
    "print('mean square error: ', mserror(mdl_datagen, target_model))"
   ]
  },
  {
   "cell_type": "code",
   "execution_count": 47,
   "id": "51309db9-0217-43ae-adcc-8acbf5b4995e",
   "metadata": {},
   "outputs": [],
   "source": [
    "# make an edesign and simulate data\n",
    "maxLengths = [1,2,4,8,16,32,64]\n",
    "edesign = pygsti.protocols.StandardGSTDesign(target_model, std.prep_fiducials(), std.meas_fiducials(),\n",
    "                                                std.germs(), maxLengths)\n",
    "dataset = pygsti.data.simulate_data(mdl_datagen, edesign, NUM_SHOTS, seed=SEED) #, sample_error='none')"
   ]
  },
  {
   "cell_type": "code",
   "execution_count": 48,
   "id": "d734fe73-736b-412b-8622-31d3e03b6f48",
   "metadata": {},
   "outputs": [
    {
     "name": "stdout",
     "output_type": "stream",
     "text": [
      "--- Iterative GST: [##################################################] 100.0%  128 circuits ---\n",
      "Iterative GST Total Time: 0.8s\n",
      "--- Iterative GST: [##################################################] 100.0%  258 circuits ---\n",
      "Iterative GST Total Time: 1.1s\n",
      "--- Iterative GST: [##################################################] 100.0%  531 circuits ---\n",
      "Iterative GST Total Time: 1.7s\n",
      "--- Iterative GST: [##################################################] 100.0%  874 circuits ---\n",
      "Iterative GST Total Time: 2.7s\n",
      "--- Iterative GST: [##################################################] 100.0%  1222 circuits ---\n",
      "Iterative GST Total Time: 3.1s\n",
      "--- Iterative GST: [##################################################] 100.0%  1570 circuits ---\n",
      "Iterative GST Total Time: 4.6s\n",
      "--- Iterative GST: [##################################################] 100.0%  1918 circuits ---\n",
      "Iterative GST Total Time: 5.9s\n"
     ]
    }
   ],
   "source": [
    "# make MLE estimates \n",
    "mle_estimates, edesigns = make_mle_estimates(dataset, std, target_model, maxLengths)"
   ]
  },
  {
   "cell_type": "markdown",
   "id": "bbdb3568-abab-4fd4-96d4-d9dccf375685",
   "metadata": {},
   "source": [
    "# Solving the Riccati equation for this edesign\n",
    "\n",
    "The Riccati equation is\n",
    "$$\n",
    "    P = P - P H^T (R + H P H^T)^{-1} H P + G Q G^T\n",
    "$$\n",
    "ignore the process noise $Q$ for now. The goal is to find $P$ that solves the equality given the rest of the elements. This can be seen as a type of ''fixed point operator equation'' for the Kalman covariance update.\n",
    "\n",
    "$H$ is the total design matrix, a rectangular matrix of shape $(KD, M)$, where $K$ is the number of circuits in the experiment, $D$ is the dimension of the hilbert space of the register in quesiton, and $M$ is the number of parameters in the model. \n",
    "\n",
    "$R$ is the shot noise covariance. The total $R$ is the block diagonal matrix with $R_k$ on the diagonal. To estimate $R_k$, we'll use predictions from a model, define pseudo counts $\\alpha = N p_\\text{prediction} + \\vec{1}$. Then each shot noise covariance is estimated as \n",
    "$$\n",
    "    R_k = \\frac{1}{N+d+1} \\bigg( \\frac{\\text{diag}(\\alpha)}{N + d} - \\frac{\\alpha \\alpha^T}{(N + d)^2} \\bigg).\n",
    "$$"
   ]
  },
  {
   "cell_type": "code",
   "execution_count": 49,
   "id": "f36f7412-9915-43df-ae03-3b0113e0238a",
   "metadata": {},
   "outputs": [
    {
     "name": "stderr",
     "output_type": "stream",
     "text": [
      "100%|████████████████████████████████████████████████████████████████████████████████████████████████████████████████████████████████████████████████████████████████████████████████████████████████████| 1918/1918 [03:45<00:00,  8.50it/s]\n"
     ]
    }
   ],
   "source": [
    "# first, calculate the design matrix. We'll do this at the MLE estimate\n",
    "mle_model = mle_estimates[-1]\n",
    "circ_list = edesign.circuit_lists[-1]\n",
    "\n",
    "design_matrix = np.zeros((0, mle_model.num_params))\n",
    "\n",
    "for circ in tqdm(circ_list):\n",
    "    jac = matrix_from_jacob(mle_model.sim.dprobs(circ), 2**circ.width)\n",
    "    design_matrix = np.vstack([design_matrix, jac])"
   ]
  },
  {
   "cell_type": "code",
   "execution_count": 51,
   "id": "30f05a87-b1e8-4bc2-8492-15174c5817ac",
   "metadata": {},
   "outputs": [],
   "source": [
    "def estimate_sampling_covar(circ, model, num_samples):\n",
    "    hdims = 2**circ.width\n",
    "    pvec = vector_from_outcomes(model.probabilities(circ), hdims)\n",
    "    alpha = num_samples*pvec + np.ones(hdims)\n",
    "    return (1/(num_samples+hdims+1))*(\n",
    "        np.diag(alpha)/(hdims+num_samples) + \n",
    "        np.outer(alpha, alpha)/(hdims+num_samples)**2\n",
    "    )"
   ]
  },
  {
   "cell_type": "code",
   "execution_count": 52,
   "id": "0cb9a15e-0b01-47e3-89a0-6e4171224a63",
   "metadata": {},
   "outputs": [
    {
     "name": "stderr",
     "output_type": "stream",
     "text": [
      "100%|████████████████████████████████████████████████████████████████████████████████████████████████████████████████████████████████████████████████████████████████████████████████████████████████████| 1918/1918 [00:40<00:00, 47.82it/s]\n"
     ]
    }
   ],
   "source": [
    "# next, build the R matrix\n",
    "R = np.zeros((0,0))\n",
    "for circ in tqdm(circ_list):\n",
    "    Rk = estimate_sampling_covar(circ, mle_model, NUM_SHOTS)\n",
    "    R = scipy.linalg.block_diag(R, Rk)"
   ]
  },
  {
   "cell_type": "code",
   "execution_count": 53,
   "id": "3d928044-69c8-4e5a-a0c3-db7390fece34",
   "metadata": {},
   "outputs": [
    {
     "name": "stdout",
     "output_type": "stream",
     "text": [
      "(3836, 3836)\n"
     ]
    }
   ],
   "source": [
    "print(R.shape)"
   ]
  },
  {
   "cell_type": "code",
   "execution_count": 56,
   "id": "b6860e33-5f21-43b4-9750-776362087e6f",
   "metadata": {},
   "outputs": [],
   "source": [
    "# solve it \n",
    "num_params = mle_model.num_params\n",
    "Q = 1e-9*np.eye(num_params)\n",
    "A = np.eye(num_params) # the dyanmic model matrices \n",
    "P = scipy.linalg.solve_discrete_are(A, design_matrix.T, Q, R)"
   ]
  },
  {
   "cell_type": "code",
   "execution_count": 55,
   "id": "e8c64c23-6859-4fa4-a516-745fc4a0a7d6",
   "metadata": {},
   "outputs": [
    {
     "data": {
      "text/plain": [
       "<matplotlib.image.AxesImage at 0x7f1aad4c6170>"
      ]
     },
     "execution_count": 55,
     "metadata": {},
     "output_type": "execute_result"
    },
    {
     "data": {
      "image/png": "[encoded data removed]",
      "text/plain": [
       "<Figure size 288x288 with 1 Axes>"
      ]
     },
     "metadata": {
      "needs_background": "light"
     },
     "output_type": "display_data"
    }
   ],
   "source": [
    "plt.matshow(P)"
   ]
  },
  {
   "cell_type": "code",
   "execution_count": null,
   "id": "cd738281-99e2-4f0d-91aa-4c55ffd0a3e1",
   "metadata": {},
   "outputs": [],
   "source": []
  }
 ],
 "metadata": {
  "kernelspec": {
   "display_name": "Python 3 (ipykernel)",
   "language": "python",
   "name": "python3"
  },
  "language_info": {
   "codemirror_mode": {
    "name": "ipython",
    "version": 3
   },
   "file_extension": ".py",
   "mimetype": "text/x-python",
   "name": "python",
   "nbconvert_exporter": "python",
   "pygments_lexer": "ipython3",
   "version": "3.10.2"
  }
 },
 "nbformat": 4,
 "nbformat_minor": 5
}
