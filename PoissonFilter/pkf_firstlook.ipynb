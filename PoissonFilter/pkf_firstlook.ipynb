{
 "cells": [
  {
   "cell_type": "code",
   "execution_count": 1,
   "id": "ec999c70-bffc-4c90-b20f-8b67a9d3c6e7",
   "metadata": {},
   "outputs": [],
   "source": [
    "import sys\n",
    "sys.path.append(\"..\")\n",
    "from lib.kalman_gst import *  \n",
    "from pygsti.modelpacks import smq1Q_XY as std"
   ]
  },
  {
   "cell_type": "code",
   "execution_count": 2,
   "id": "cd9af18b-7756-4740-9376-1abfdd574b97",
   "metadata": {},
   "outputs": [],
   "source": [
    "def filter_dataset(prior_model, prior_covar, dataset, circ_list, \n",
    "                   Q_add, R_add, clip_range=[-1, 1],\n",
    "                   max_itr=1, itr_eps=1e-4,\n",
    "                   save_params_and_covars=False, save_prior_innovations=False, save_posterior_innovations=False, save_kgains=False):\n",
    "    param_history = []\n",
    "    covar_history = []\n",
    "    prior_innovs = []\n",
    "    post_innovs = []\n",
    "    kgains = []\n",
    "    \n",
    "    ekf = ExtendedKalmanFilter(prior_model.copy(), prior_covar)\n",
    "    if save_params_and_covars:\n",
    "        param_history.append(prior_model.to_vector())\n",
    "        covar_history.append(prior_covar)\n",
    "    for circ in tqdm(circ_list):\n",
    "        counts = dataset[circ].counts\n",
    "        cvec = vector_from_outcomes(counts, 2**circ.width)\n",
    "        innov, kgain = ekf.update(circ, cvec, clip_range=clip_range, Q=Q_add, R_additional=R_add, max_itr=max_itr, itr_eps=itr_eps)\n",
    "        if save_prior_innovations:\n",
    "            prior_innovs.append(innov)\n",
    "        if save_kgains:\n",
    "            kgains.append(kgain)\n",
    "        if save_posterior_innovations:\n",
    "            post_predict = vector_from_outcomes(ekf.model.probabilities(circ), 2**circ.width)\n",
    "            post_innov = cvec/sum(cvec) - post_predict\n",
    "            post_innovs.append(post_innov)\n",
    "        if save_params_and_covars:\n",
    "            param_history.append(ekf.model.to_vector())\n",
    "            covar_history.append(ekf.P)\n",
    "    return ekf.model, ekf.P, (param_history, covar_history, prior_innovs, post_innovs, kgains)"
   ]
  },
  {
   "cell_type": "code",
   "execution_count": 3,
   "id": "f846464f-dcc1-427c-a53e-727cfb19342b",
   "metadata": {},
   "outputs": [],
   "source": [
    "NUM_SHOTS = 256\n",
    "SEED = 2022"
   ]
  },
  {
   "cell_type": "code",
   "execution_count": 4,
   "id": "ee930593-7dba-4241-8e7a-1d1d0ec70abd",
   "metadata": {},
   "outputs": [],
   "source": [
    "# setup the datagen model\n",
    "max_fogi_error_rate = 0.01\n",
    "mdl_datagen = std.target_model('H+s')\n",
    "basis1q = pygsti.baseobjs.Basis.cast('pp', 4)\n",
    "gauge_basis = pygsti.baseobjs.CompleteElementaryErrorgenBasis(\n",
    "                        basis1q, mdl_datagen.state_space, elementary_errorgen_types='HS')\n",
    "mdl_datagen.setup_fogi(gauge_basis, None, None, reparameterize=True,\n",
    "                     dependent_fogi_action='drop', include_spam=True)\n",
    "ar = mdl_datagen.fogi_errorgen_components_array(include_fogv=False, normalized_elem_gens=True)\n",
    "target_model = mdl_datagen.copy()\n",
    "ar = max_fogi_error_rate * np.random.rand(len(ar))\n",
    "mdl_datagen.set_fogi_errorgen_components_array(ar, include_fogv=False, normalized_elem_gens=True)"
   ]
  },
  {
   "cell_type": "code",
   "execution_count": 5,
   "id": "39e4cc01-e5fe-4b15-a1a5-f54d14ddda88",
   "metadata": {},
   "outputs": [],
   "source": [
    "prior_covar = max_fogi_error_rate**2*np.eye(target_model.num_params)\n",
    "uniform_prior_model = target_model.copy()\n",
    "uniform_prior_model.from_vector(np.random.uniform(0, 1, target_model.num_params))"
   ]
  },
  {
   "cell_type": "code",
   "execution_count": 6,
   "id": "d81e63f9-5cec-4ae5-bdc4-eac956771678",
   "metadata": {},
   "outputs": [
    {
     "name": "stdout",
     "output_type": "stream",
     "text": [
      "Model is CPTP...  True\n",
      "avg. gate-set infidelity:  0.009748927582832523\n",
      "mean square error:  0.00041734140099992126\n"
     ]
    }
   ],
   "source": [
    "# check that the datagen model is CPTP and print metrics w.r.t. the target model\n",
    "print('Model is CPTP... ', model_is_cptp(mdl_datagen))\n",
    "print('avg. gate-set infidelity: ', avg_gs_infidelity(mdl_datagen, target_model))\n",
    "print('mean square error: ', mserror(mdl_datagen, target_model))"
   ]
  },
  {
   "cell_type": "code",
   "execution_count": 7,
   "id": "a5085d4c-2f90-41af-ab94-364789baa811",
   "metadata": {},
   "outputs": [],
   "source": [
    "# make an edesign and simulate the data\n",
    "maxLengths = [1,2,4, 8]\n",
    "edesign = pygsti.protocols.StandardGSTDesign(target_model, std.prep_fiducials(), std.meas_fiducials(),\n",
    "                                                std.germs(), maxLengths)\n",
    "dataset = pygsti.data.simulate_data(mdl_datagen, edesign, NUM_SHOTS, seed=SEED) #, sample_error='none')"
   ]
  },
  {
   "cell_type": "code",
   "execution_count": 8,
   "id": "fc31c104-719c-4965-bb66-fbf1615eab0c",
   "metadata": {},
   "outputs": [
    {
     "name": "stdout",
     "output_type": "stream",
     "text": [
      "--- Iterative GST: [##################################################] 100.0%  56 circuits ---\n",
      "Iterative GST Total Time: 3.4s\n",
      "--- Iterative GST: [##################################################] 100.0%  96 circuits ---\n",
      "Iterative GST Total Time: 0.8s\n",
      "--- Iterative GST: [##################################################] 100.0%  177 circuits ---\n",
      "Iterative GST Total Time: 0.7s\n",
      "--- Iterative GST: [##################################################] 100.0%  304 circuits ---\n",
      "Iterative GST Total Time: 1.1s\n"
     ]
    }
   ],
   "source": [
    "mle_estimates, edesigns = make_mle_estimates(dataset, std, target_model, maxLengths)"
   ]
  },
  {
   "cell_type": "code",
   "execution_count": 9,
   "id": "d42490b0-bf3e-4982-ab57-a1b7a50c34ea",
   "metadata": {},
   "outputs": [],
   "source": [
    "germ_length_ranges = {\n",
    "    0: [0, 92], \n",
    "    1: [92, 168], \n",
    "    2: [168, 285], \n",
    "    3: [285, 448],\n",
    "    4: [448, 616]\n",
    "}\n",
    "\n",
    "germ_length_ranges = {\n",
    "    0: [0, 56], \n",
    "    1: [56, 96], \n",
    "    2: [96, 177], \n",
    "    3: [177, 304]\n",
    "}"
   ]
  },
  {
   "cell_type": "code",
   "execution_count": 10,
   "id": "2e9f87c9-6d97-428e-8eaf-6f3584a98630",
   "metadata": {},
   "outputs": [
    {
     "name": "stderr",
     "output_type": "stream",
     "text": [
      "100%|██████████████████████████████████████████████████████████████████████████████████████████████████████████████████████████████████████████████████████████████████████████████████████████████████████| 304/304 [00:15<00:00, 19.47it/s]\n"
     ]
    }
   ],
   "source": [
    "# run a Kalman filter in the usual way\n",
    "usual_post_model, usual_post_covar, saved_data = filter_dataset(target_model, prior_covar, dataset, edesign.circuit_lists[-1], \n",
    "    None, None, clip_range=[-1, 1],\n",
    "    max_itr=1, itr_eps=1e-4,\n",
    "    save_params_and_covars=True, save_prior_innovations=False, save_posterior_innovations=False, save_kgains=False)"
   ]
  },
  {
   "cell_type": "code",
   "execution_count": 11,
   "id": "fc313003-922c-4bf8-8b81-62c85d283227",
   "metadata": {},
   "outputs": [],
   "source": [
    "usual_parameter_history = saved_data[0]\n",
    "usual_covar_history = saved_data[1]"
   ]
  },
  {
   "cell_type": "code",
   "execution_count": 12,
   "id": "495efb27-5ec1-4951-a726-e9402870b400",
   "metadata": {},
   "outputs": [
    {
     "data": {
      "image/png": "[encoded data removed]",
      "text/plain": [
       "<Figure size 432x288 with 2 Axes>"
      ]
     },
     "metadata": {
      "needs_background": "light"
     },
     "output_type": "display_data"
    }
   ],
   "source": [
    "%matplotlib inline\n",
    "plt_spacing = 5\n",
    "yrange = [-5, -0.5]\n",
    "make_error_plot('Usual evolution', usual_parameter_history, mdl_datagen.to_vector(), usual_covar_history, yrange, mle_estimates, germ_length_ranges, plt_spacing)"
   ]
  },
  {
   "cell_type": "code",
   "execution_count": 66,
   "id": "bc4c5f6b-3e86-4ed0-a7dc-8d2303248c01",
   "metadata": {},
   "outputs": [],
   "source": [
    "class PoissonKalmanFilter():\n",
    "    def __init__(self, model, P0):\n",
    "        self.model = model.copy()\n",
    "        self.num_params = len(model.to_vector())\n",
    "        self.P = P0\n",
    "        \n",
    "        self.param_hist = [model.to_vector()]\n",
    "        self.covar_hist = [self.P]\n",
    "        \n",
    "    def update(self, circ, count_vec, Q=None):\n",
    "        prior_covar = self.P\n",
    "        x_prior = self.model.to_vector()\n",
    "        hilbert_dims = 2**(circ.width)\n",
    "        \n",
    "        jacob = matrix_from_jacob(self.model.sim.dprobs(circ), 2**circ.width)\n",
    "        \n",
    "        P = prior_covar \n",
    "        if Q is not None:\n",
    "            P += Q\n",
    "        \n",
    "        p_pred = vector_from_outcomes(self.model.probabilities(circ), hilbert_dims)\n",
    "        N_counts = sum(count_vec)\n",
    "        c_pred = N_counts*p_pred\n",
    "        \n",
    "        obs_covar = np.diag(c_pred+np.ones(len(c_pred)))\n",
    "        obs_mat = N_counts*jacob\n",
    "        \n",
    "        Kgain = P@obs_mat.T@np.linalg.inv(obs_mat@P@obs_mat.T + obs_covar)\n",
    "        \n",
    "        x_post = x_prior + Kgain@(count_vec - c_pred)\n",
    "        \n",
    "        covar_proj = np.eye(P.shape[0]) - Kgain@obs_mat\n",
    "        post_covar = covar_proj@P@covar_proj.T + Kgain@obs_covar@Kgain.T\n",
    "        \n",
    "        self.param_hist.append(x_post)\n",
    "        self.covar_hist.append(post_covar)\n",
    "        \n",
    "        self.model.from_vector(x_post)\n",
    "        self.P = post_covar\n",
    "        \n",
    "    def observe_model(self, mdl_in, circ_list, counts):\n",
    "        for circ in tqdm(circ_list):\n",
    "            obs_pvec = vector_from_outcomes(mdl_in.probabilities(circ), 2**circ.width)\n",
    "            obs_cvec = np.random.multinomial(counts, obs_pvec)\n",
    "            self.update(circ, obs_cvec)"
   ]
  },
  {
   "cell_type": "code",
   "execution_count": 67,
   "id": "5c5b9e8d-d18d-47c4-8d30-ef371dc223d9",
   "metadata": {},
   "outputs": [],
   "source": [
    "def pfilter_dataset(prior_model, prior_covar, dataset, circ_list):\n",
    "    pkf = PoissonKalmanFilter(prior_model.copy(), prior_covar)\n",
    "    for circ in tqdm(circ_list):\n",
    "        counts = dataset[circ].counts\n",
    "        cvec = vector_from_outcomes(counts, 2**circ.width)\n",
    "        pkf.update(circ, cvec)\n",
    "    return pkf"
   ]
  },
  {
   "cell_type": "code",
   "execution_count": 68,
   "id": "550be1f3-c5be-454d-9778-6eeacf4029b0",
   "metadata": {},
   "outputs": [
    {
     "name": "stderr",
     "output_type": "stream",
     "text": [
      "100%|██████████████████████████████████████████████████████████████████████████████████████████████████████████████████████████████████████████████████████████████████████████████████████████████████████| 304/304 [00:16<00:00, 18.85it/s]\n"
     ]
    }
   ],
   "source": [
    "# run Poission filter in the usual way\n",
    "pkf_post = pfilter_dataset(target_model, prior_covar, dataset, edesign.circuit_lists[-1])"
   ]
  },
  {
   "cell_type": "code",
   "execution_count": 69,
   "id": "44ecc49e-7589-427f-aa8e-e57929ac1418",
   "metadata": {},
   "outputs": [
    {
     "data": {
      "image/png": "[encoded data removed]",
      "text/plain": [
       "<Figure size 432x288 with 2 Axes>"
      ]
     },
     "metadata": {
      "needs_background": "light"
     },
     "output_type": "display_data"
    }
   ],
   "source": [
    "%matplotlib inline\n",
    "plt_spacing = 5\n",
    "yrange = [-5, -0.5]\n",
    "make_error_plot('Usual evolution', pkf_post.param_hist, mdl_datagen.to_vector(), pkf_post.covar_hist, yrange, mle_estimates, germ_length_ranges, plt_spacing)"
   ]
  },
  {
   "cell_type": "code",
   "execution_count": 70,
   "id": "bece5519-fd30-452e-b250-0cef5e99673d",
   "metadata": {},
   "outputs": [
    {
     "data": {
      "text/plain": [
       "[<matplotlib.lines.Line2D at 0x7fb7e5e620b0>]"
      ]
     },
     "execution_count": 70,
     "metadata": {},
     "output_type": "execute_result"
    },
    {
     "data": {
      "image/png": "[encoded data removed]",
      "text/plain": [
       "<Figure size 432x288 with 1 Axes>"
      ]
     },
     "metadata": {
      "needs_background": "light"
     },
     "output_type": "display_data"
    }
   ],
   "source": [
    "plt.plot([np.linalg.norm(usual_parameter_history[i] - pkf_post.param_hist[i]) for i in range(len(pkf_post.param_hist))]) "
   ]
  },
  {
   "cell_type": "code",
   "execution_count": 71,
   "id": "f15f99a4-0650-4f5d-ab4b-dfeddbe516bc",
   "metadata": {},
   "outputs": [],
   "source": [
    "pkf = PoissonKalmanFilter(mle_estimates[0], prior_covar)"
   ]
  },
  {
   "cell_type": "code",
   "execution_count": 72,
   "id": "c0d510b7-98c3-4bb7-b9ec-442ce8b6d22d",
   "metadata": {},
   "outputs": [
    {
     "name": "stderr",
     "output_type": "stream",
     "text": [
      "100%|██████████████████████████████████████████████████████████████████████████████████████████████████████████████████████████████████████████████████████████████████████████████████████████████████████| 304/304 [00:17<00:00, 17.49it/s]\n"
     ]
    }
   ],
   "source": [
    "pkf.observe_model(mdl_datagen, edesign.circuit_lists[-1], 100)"
   ]
  },
  {
   "cell_type": "code",
   "execution_count": 73,
   "id": "f02c2d33-ff2a-4f81-812a-c549b8e2f749",
   "metadata": {},
   "outputs": [
    {
     "data": {
      "image/png": "[encoded data removed]",
      "text/plain": [
       "<Figure size 432x288 with 2 Axes>"
      ]
     },
     "metadata": {
      "needs_background": "light"
     },
     "output_type": "display_data"
    }
   ],
   "source": [
    "make_error_plot('Usual evolution', pkf.param_hist, mdl_datagen.to_vector(), pkf.covar_hist, [-5, 0], mle_estimates, germ_length_ranges, plt_spacing)"
   ]
  },
  {
   "cell_type": "code",
   "execution_count": null,
   "id": "364644e8-90c2-45b6-ac2e-ce940479b631",
   "metadata": {},
   "outputs": [],
   "source": []
  },
  {
   "cell_type": "code",
   "execution_count": null,
   "id": "faf09eea-ed12-401b-af66-a7e74ebdd61d",
   "metadata": {},
   "outputs": [],
   "source": []
  }
 ],
 "metadata": {
  "kernelspec": {
   "display_name": "Python 3 (ipykernel)",
   "language": "python",
   "name": "python3"
  },
  "language_info": {
   "codemirror_mode": {
    "name": "ipython",
    "version": 3
   },
   "file_extension": ".py",
   "mimetype": "text/x-python",
   "name": "python",
   "nbconvert_exporter": "python",
   "pygments_lexer": "ipython3",
   "version": "3.10.4"
  }
 },
 "nbformat": 4,
 "nbformat_minor": 5
}
