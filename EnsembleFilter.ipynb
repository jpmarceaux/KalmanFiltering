{
 "cells": [
  {
   "cell_type": "code",
   "execution_count": 1,
   "id": "d29108ca-5074-49f5-a0c5-3a22ca4f3f93",
   "metadata": {},
   "outputs": [],
   "source": [
    "import numpy as np\n",
    "import pygsti as pig\n",
    "import matplotlib.pyplot as plt\n",
    "import random\n",
    "import time\n",
    "import pandas\n",
    "from scipy.linalg import expm, sqrtm\n",
    "import scipy as sp\n",
    "# from qutip import *\n",
    "\n",
    "from pygsti.modelmembers.operations import LindbladErrorgen as _LinbladErrorgen\n",
    "from pygsti.modelmembers.operations import EmbeddedErrorgen as _EmbeddedErrorgen\n",
    "from pygsti.modelmembers.operations import ExpErrorgenOp as _ExpErrorgenOp\n",
    "from pygsti.modelmembers.operations import ComposedOp as _ComposedOp\n",
    "import  pygsti.modelmembers as _mdmb\n",
    "import pygsti.processors as _proc\n",
    "\n",
    "from pygsti.tools import pdftools as _pdftools\n",
    "\n",
    "from pygsti.circuits.gstcircuits import create_lsgst_circuits\n",
    "\n",
    "from pygsti.models.memberdict import OrderedMemberDict as _OrderedMemberDict\n",
    "from pygsti.baseobjs.label import Label as _Label, CircuitLabel as _CircuitLabel\n",
    "from pygsti.circuits import Circuit\n",
    "import pygsti.circuits as _circ\n",
    "import pygsti.models as _mdl\n",
    "from pygsti.modelmembers import operations as _op"
   ]
  },
  {
   "cell_type": "code",
   "execution_count": 2,
   "id": "c01818dd-9c70-4d39-a42b-c3932cabd82c",
   "metadata": {},
   "outputs": [],
   "source": [
    "def random_circuit(depth, proc_spec):\n",
    "    \"\"\"\n",
    "    works for any 1-qubit model pack and the XYZICnot 2-qubit pack\n",
    "    \"\"\"\n",
    "    layers = []\n",
    "    for i in range(depth):\n",
    "        gate = random.choice(proc_spec.gate_names)\n",
    "        if gate == '(idle)':\n",
    "            pass\n",
    "        elif gate == 'Gcnot':\n",
    "            layers.append((gate, 0, 1))\n",
    "        else:\n",
    "            layers.append((gate, random.choice(proc_spec.qubit_labels)))\n",
    "    return Circuit(layers, proc_spec.qubit_labels)"
   ]
  },
  {
   "cell_type": "code",
   "execution_count": 3,
   "id": "9869a7fb-729d-410b-9149-391d0987facf",
   "metadata": {},
   "outputs": [],
   "source": [
    "def vector_from_outcomes(outcomes, num_outcomes):\n",
    "    vecout = np.zeros((num_outcomes))\n",
    "    for key in outcomes.keys():\n",
    "        vecout[int(key[0], 2)] = outcomes[key]\n",
    "    return(vecout)\n",
    "\n",
    "def matrix_from_jacob(jacob, num_outcomes):\n",
    "    matout = np.zeros((num_outcomes, len(jacob['0'*int(np.log2(num_outcomes))])))\n",
    "    for key in jacob.keys():\n",
    "        matout[int(key[0], 2), :] = np.array(jacob[key])\n",
    "    return matout\n",
    "\n",
    "def tensor_from_hessian(hessian, hilbert_dims):\n",
    "    \"\"\"\n",
    "    returns a 3d-array that when dotted into the state returns the jacobian \n",
    "    \"\"\"\n",
    "    num_params = len(hessian['0'*int(np.log2(hilbert_dims))])\n",
    "    tensor_out = np.zeros((hilbert_dims, num_params, num_params))\n",
    "    for key in hessian.keys():\n",
    "        tensor_out[int(key[0], 2), :, :] = hessian[key]\n",
    "    return tensor_out"
   ]
  },
  {
   "cell_type": "code",
   "execution_count": 4,
   "id": "37e0c144-af13-40ac-9c80-aa86edcba449",
   "metadata": {},
   "outputs": [],
   "source": [
    "def compare_models(true_model, model1, model2, circuit_list, name1='x', name2='y'):\n",
    "    distribution1 = []\n",
    "    distribution2 = []\n",
    "    for idx, circ in enumerate(circuit_list): \n",
    "        true_outcomes = true_model.probabilities(circ)\n",
    "        outcome_set1 = model1.probabilities(circ)\n",
    "        outcome_set2 = model2.probabilities(circ)\n",
    "        dist1 = _pdftools.tvd(true_outcomes, outcome_set1)\n",
    "        dist2 = _pdftools.tvd(true_outcomes, outcome_set2)\n",
    "        distribution1.append(dist1)\n",
    "        distribution2.append(dist2)\n",
    "        plt.scatter(dist1, dist2)\n",
    "    plt.xlabel(name1)\n",
    "    plt.ylabel(name2)\n",
    "    mx = max([max(distribution1), max(distribution2)])\n",
    "    plt.plot((0, mx), (0, mx), c='black')\n",
    "    plt.show()"
   ]
  },
  {
   "cell_type": "code",
   "execution_count": 5,
   "id": "70b3743d-37b1-4886-9fa7-d3c801eb5a33",
   "metadata": {},
   "outputs": [],
   "source": [
    "def calculate_jacobs(circ_list, model):\n",
    "    jacobs = {}\n",
    "    for circ in circ_list:\n",
    "        hilbert_dims = 2**circ.width\n",
    "        jacobs[circ] = matrix_from_jacob(model.sim.dprobs(circ), hilbert_dims)\n",
    "    return jacobs"
   ]
  },
  {
   "cell_type": "code",
   "execution_count": 6,
   "id": "9165338b-a02b-4d2e-bc71-e99aa4e0cc74",
   "metadata": {},
   "outputs": [],
   "source": [
    "from pygsti.processors import CliffordCompilationRules as CCR\n",
    "\n",
    "def make_rb_param(noise_model, model_pack, length_powers=5, circuits_at_length=10):\n",
    "    pspec = model_pack.processor_spec()\n",
    "    \n",
    "    depths = [2**i for i in range(length_powers)]\n",
    "    \n",
    "    compilations = {'absolute': CCR.create_standard(pspec, 'absolute', ('paulis', '1Qcliffords'), verbosity=0),            \n",
    "                'paulieq': CCR.create_standard(pspec, 'paulieq', ('1Qcliffords', 'allcnots'), verbosity=0)}\n",
    "\n",
    "    design = pig.protocols.DirectRBDesign(model_pack.processor_spec(), compilations, depths, circuits_at_length, qubit_labels=model_pack.processor_spec().qubit_labels, sampler='edgegrab', \n",
    "                                           samplerargs=[0.5], randomizeout=True,\n",
    "                                           citerations=20)\n",
    "    pig.io.write_empty_protocol_data(design, 'RB_Data', clobber_ok=True)\n",
    "    pig.io.fill_in_empty_dataset_with_fake_data(noise_model, 'RB_Data/data/dataset.txt', num_samples=1000)\n",
    "    data = pig.io.load_data_from_dir('RB_Data')\n",
    "    protocol = pig.protocols.RB()\n",
    "    results = protocol.run(data)\n",
    "    return results.fits['full'].estimates['r'] "
   ]
  },
  {
   "cell_type": "code",
   "execution_count": 7,
   "id": "b3e567bf-fbab-4fb0-a07e-c88472d5597f",
   "metadata": {},
   "outputs": [],
   "source": [
    "def make_dirichlet_covar(counts, hilbert_dims):\n",
    "    if type(counts) is dict: \n",
    "        total_counts = sum([counts[key] for key in counts.keys()])    \n",
    "        count_vec = np.ones(hilbert_dims)\n",
    "        for key in counts.keys():\n",
    "            count_vec[int(key[0], 2)] += counts[key]\n",
    "        prefactor = 1/( (total_counts + hilbert_dims)**2 * (total_counts + hilbert_dims + 1) )\n",
    "        meas_covar = prefactor*(\n",
    "            (total_counts + hilbert_dims)*np.diag(count_vec) - np.outer(count_vec, count_vec)\n",
    "        )\n",
    "    else:\n",
    "        total_counts = sum(counts)    \n",
    "        prefactor = 1/( (total_counts + hilbert_dims)**2 * (total_counts + hilbert_dims + 1) )\n",
    "        meas_covar = prefactor*(\n",
    "            (total_counts + hilbert_dims)*np.diag(counts) - np.outer(counts, counts)\n",
    "        )\n",
    "    return meas_covar"
   ]
  },
  {
   "cell_type": "code",
   "execution_count": 8,
   "id": "a404487f-ad5c-424b-99af-b1e2236162cc",
   "metadata": {},
   "outputs": [],
   "source": [
    "def make_multinom_covar(prob_vec):\n",
    "    return np.eye(len(prob_vec)) - np.outer(prob_vec, prob_vec)"
   ]
  },
  {
   "cell_type": "code",
   "execution_count": 9,
   "id": "20ac1671-229e-4a96-863d-8a7c50cf34ca",
   "metadata": {},
   "outputs": [],
   "source": [
    "from pygsti.modelpacks import smq1Q_XYI as _smq1Q_XYI\n",
    "from pygsti.modelpacks import smq1Q_XYZI as _smq1Q_XYZI\n",
    "from pygsti.modelpacks import smq1Q_XYI as _smq1Q_XZ\n",
    "from pygsti.modelpacks import smq2Q_XYZICNOT as _smq2Q_XYZICNOT"
   ]
  },
  {
   "cell_type": "code",
   "execution_count": 24,
   "id": "66f879fe-9ccc-44b7-8e4e-cd06cc79cde8",
   "metadata": {},
   "outputs": [
    {
     "name": "stdout",
     "output_type": "stream",
     "text": [
      "0.0 20.0\n",
      "1.0 20.0\n",
      "2.0 20.0\n",
      "3.0 20.0\n",
      "4.0 20.0\n",
      "5.0 20.0\n",
      "6.0 20.0\n",
      "7.0 20.0\n",
      "8.0 20.0\n",
      "9.0 20.0\n",
      "10.0 20.0\n",
      "11.0 20.0\n",
      "12.0 20.0\n",
      "13.0 20.0\n",
      "14.0 20.0\n",
      "15.0 20.0\n",
      "16.0 20.0\n",
      "17.0 20.0\n",
      "18.0 20.0\n",
      "19.0 20.0\n"
     ]
    }
   ],
   "source": [
    "# make random circuits \n",
    "N_circs = 200\n",
    "depth = 20\n",
    "\n",
    "circ_list = []\n",
    "for n in range(N_circs):\n",
    "    circ_list.append(random_circuit(random.choice(range(depth)), MODEL_PACK.processor_spec()))\n",
    "circ_list = _circ.to_circuits(circ_list) \n",
    "\n",
    "jdict = dict()\n",
    "hdict = dict()\n",
    "for idx, circ in enumerate(circ_list):\n",
    "    if idx%10 == 0:\n",
    "        print(idx/10, N_circs/10)\n",
    "    jdict[circ] = matrix_from_jacob(ref_model.sim.dprobs(circ), 2**circ.width)\n",
    "    hdict[circ] = tensor_from_hessian(ref_model.sim.hprobs(circ), 2**circ.width)"
   ]
  },
  {
   "cell_type": "markdown",
   "id": "956f2063-d683-442f-8a3f-eeb910d72588",
   "metadata": {},
   "source": [
    "# Ensemble Kalman Filter "
   ]
  },
  {
   "cell_type": "code",
   "execution_count": 80,
   "id": "42f83514-67da-4caf-a0d3-ceff95b5249f",
   "metadata": {},
   "outputs": [],
   "source": [
    "# make a model from a model pack\n",
    "MODEL_PACK = _smq1Q_XYZI\n",
    "ref_model = MODEL_PACK.target_model('H+S')\n",
    "filter_model = MODEL_PACK.target_model('H+S')\n",
    "noise_model = MODEL_PACK.target_model()\n",
    "noise_model = noise_model.depolarize(max_op_noise=0.01)\n",
    "noise_model = noise_model.rotate(max_rotate=0.01)"
   ]
  },
  {
   "cell_type": "code",
   "execution_count": 81,
   "id": "4eddb598-2986-4502-98b6-668993423053",
   "metadata": {},
   "outputs": [],
   "source": [
    "# sample circuits\n",
    "import pygsti\n",
    "num_samples = 1000\n",
    "edesign = pig.protocols.ExperimentDesign(circ_list)\n",
    "def simulate_taking_data(data_template_filename, noise_model, num_samples):\n",
    "    \"\"\"Simulate taking 1-qubit data and filling the results into a template dataset.txt file\"\"\"\n",
    "    datagen_model = noise_model\n",
    "    pygsti.io.fill_in_empty_dataset_with_fake_data(datagen_model, data_template_filename, num_samples=num_samples, seed=1234)\n",
    "    \n",
    "pygsti.io.write_empty_protocol_data(edesign, 'test', clobber_ok=True)\n",
    "\n",
    "# -- fill in the dataset file in tutorial_files/test_gst_dir/data/dataset.txt --\n",
    "simulate_taking_data(\"test/data/dataset.txt\", noise_model, num_samples)  # REPLACE with actual data-taking\n",
    "\n",
    "data = pygsti.io.load_data_from_dir('test')\n",
    "data_set = data.dataset"
   ]
  },
  {
   "cell_type": "code",
   "execution_count": 82,
   "id": "29642958-b293-443e-a012-839aada9d66f",
   "metadata": {},
   "outputs": [
    {
     "name": "stdout",
     "output_type": "stream",
     "text": [
      "- Sampling 10 circuits at DRB length 1 (1 of 5 depths) with seed 592962\n",
      "- Sampling 10 circuits at DRB length 2 (2 of 5 depths) with seed 592972\n",
      "- Sampling 10 circuits at DRB length 4 (3 of 5 depths) with seed 592982\n",
      "- Sampling 10 circuits at DRB length 8 (4 of 5 depths) with seed 592992\n",
      "- Sampling 10 circuits at DRB length 16 (5 of 5 depths) with seed 593002\n",
      "0.026174533882217327 0.16178545633714214\n"
     ]
    }
   ],
   "source": [
    "# make rb param\n",
    "rb_param = make_rb_param(noise_model, MODEL_PACK)\n",
    "print(rb_param, np.sqrt(rb_param))"
   ]
  },
  {
   "cell_type": "code",
   "execution_count": 83,
   "id": "a44b86e2-8671-4b0b-8c8a-e5716b8a9c7f",
   "metadata": {},
   "outputs": [],
   "source": [
    "# Setup Filter \n",
    "hilbert_dims = 2**len(MODEL_PACK.processor_spec().qubit_labels)\n",
    "num_params = len(filter_model.to_vector())\n",
    "\n",
    "\n",
    "def make_gaussian_ensemble(num_elements, mean, covar):\n",
    "    dim_x = len(mean)\n",
    "    assert (dim_x, dim_x) == covar.shape\n",
    "    Amat = np.zeros((dim_x, num_elements))\n",
    "    rv = sp.stats.multivariate_normal(mean=mean, cov=covar)\n",
    "    for n in range(num_elements):\n",
    "        Amat[:, n] = rv.rvs()\n",
    "    return Amat\n",
    "\n",
    "def ensemble_covar(ensemble_matrix):\n",
    "    # covarance of ensemble memebers from the mean \n",
    "    \n",
    "    #[0] calculate the perterbation matrix\n",
    "    # that is the difference between the ensemble and its mean\n",
    "    num_elements = ensemble_matrix.shape[1]\n",
    "    num_params = ensemble_matrix.shape[0]\n",
    "    \n",
    "    A_pert = ensemble_matrix@(np.eye(num_elements) - (1/num_elements)*np.ones((num_elements, num_elements)))\n",
    "    return (1/(num_elements-1))*A_pert@A_pert.T\n",
    "    \n",
    "\n",
    "class EnsembleFilter:\n",
    "    def __init__(self, num_elements, model, h_dim, rb_param):\n",
    "        self.model = model.copy()\n",
    "        self.x_dim = len(model.to_vector())\n",
    "        self.h_dim = h_dim\n",
    "        \n",
    "        self.A = make_gaussian_ensemble(num_elements, np.zeros(self.x_dim), np.sqrt(rb_param)*np.eye(self.x_dim))\n",
    "        self.num_elements = num_elements\n",
    "    \n",
    "#     def predict_model(self, circ, model):\n",
    "#         \"\"\"\n",
    "#         returns a matrix of model predictions \n",
    "#             for the given circ with internal ensemble \n",
    "            \n",
    "#         this one uses a pygsti model\n",
    "#         \"\"\"\n",
    "        \n",
    "#         pmat = np.zeros((self.h_dim, self.num_elements))\n",
    "        \n",
    "#         for n in range(self.num_elements):\n",
    "#             model.from_vector(self.A[:, n])\n",
    "#             pmat[:, n] = vector_from_outcomes(model.probabilities(circ))\n",
    "            \n",
    "#         return pmat\n",
    "    \n",
    "    def update(self, circ, count_vec, jdict, hdict):\n",
    "        \"\"\"\n",
    "        this one uses pygsti models\n",
    "        \"\"\"\n",
    "        \n",
    "        # [1] calculate model probability predictions\n",
    "        pmat = np.zeros((self.h_dim, self.num_elements))\n",
    "        for n in range(self.num_elements):\n",
    "            self.model.from_vector(self.A[:, n])\n",
    "            pmat[:, n] = vector_from_outcomes(self.model.probabilities(circ), self.h_dim)\n",
    "            \n",
    "        # [2] sample Dirichlet dist\n",
    "        observation = np.zeros((self.h_dim, self.num_elements))\n",
    "        for n in range(self.num_elements):\n",
    "            observation[:, n] = np.random.dirichlet(count_vec)\n",
    "        \n",
    "        # [3] calculate observation covar\n",
    "        R = make_dirichlet_covar(count_vec, self.h_dim)\n",
    "        \n",
    "        # [4] calculate model covar\n",
    "        C = ensemble_covar(self.A)\n",
    "        \n",
    "        # perterbative correction to model jacboian \n",
    "        J = jdict[circ] + self.mean()@hdict[circ]\n",
    "        \n",
    "        # kalman gain \n",
    "        K = C@J.T@np.linalg.pinv(J@C@J.T + R, 1e-6)\n",
    "        \n",
    "        # [] update the model\n",
    "        self.A = self.A + K@(observation-pmat)\n",
    "        \n",
    "        \n",
    "#     def update_tensors(self, circ, count_vec, p0, jacob, hessian):\n",
    "#         \"\"\"\n",
    "#         this one uses model tensors\n",
    "#         \"\"\"\n",
    "#         # [1] estimate model probability predictions\n",
    "#         pmat = np.zeros((self.h_dim, self.num_elements))\n",
    "        \n",
    "#         for n in range(self.num_elements):\n",
    "#             pmat[:, n] = p0 + jacob@self.A[:, n] + self.A[:, n]@hessian@self.A[:, n]\n",
    "            \n",
    "#         # [2] sample Dirichlet dist\n",
    "#         observation = np.zeros((self.h_dim, self.num_elements))\n",
    "        \n",
    "#         for n in range(self.num_elements):\n",
    "#             observation[:, n] = np.random.dirichlet(count_vec)\n",
    "        \n",
    "#         # [3] calculate measurement covar\n",
    "#         counts = sum(count_vec)\n",
    "#         obs_mean = (count_vec + np.ones((self.h_dim)))/(self.h_dim + counts)\n",
    "#         pert_obs = observation - np.outer(obs_mean, np.ones(self.num_elements))\n",
    "        \n",
    "#         # [4] calculate model mean and perterbation matrices\n",
    "#         Amean = (1/self.num_elements)*self.A@np.ones((self.num_elements, self.num_elements))\n",
    "#         Apert = self.A - Amean\n",
    "        \n",
    "#         # [] update the model\n",
    "#         self.A = self.A + Apert@observation.T@np.linalg.pinv(observation@observation.T + pert_obs@pert_obs.T)@(pmat - observation)\n",
    "        \n",
    "    \n",
    "    def mean(self):\n",
    "        return (1/self.num_elements)*np.sum(self.A, axis=1)\n",
    "        \n",
    "    \n",
    "          \n",
    "        "
   ]
  },
  {
   "cell_type": "code",
   "execution_count": 84,
   "id": "8d2fd184-a359-48ff-86c9-56cde4426dd7",
   "metadata": {},
   "outputs": [],
   "source": [
    "# run filter\n",
    "\n",
    "hilbert_dims = 2**len(MODEL_PACK.processor_spec().qubit_labels)\n",
    "num_params = len(filter_model.to_vector())\n",
    "\n",
    "ekf = EnsembleFilter(500, filter_model, hilbert_dims, rb_param)\n",
    "\n",
    "for idx, circ in enumerate(circ_list): \n",
    "    # calcaulte model probabilities\n",
    "    p_model = np.zeros(hilbert_dims)\n",
    "    probs = filter_model.probabilities(circ)\n",
    "    for key in probs.keys():\n",
    "        p_model[int(key[0], 2)] = probs[key]\n",
    "    \n",
    "    \n",
    "    # make observation\n",
    "    counts = vector_from_outcomes(data_set[circ].counts, hilbert_dims) + np.ones(hilbert_dims)\n",
    "    ekf.update(circ, counts, jdict, hdict)"
   ]
  },
  {
   "cell_type": "code",
   "execution_count": 85,
   "id": "a8c00904-f407-4a54-ba4f-e8f5639db06b",
   "metadata": {},
   "outputs": [
    {
     "name": "stdout",
     "output_type": "stream",
     "text": [
      "[ 0.03723718  0.36717691  0.10859367 -0.1086615   0.20301038 -0.24585905\n",
      "  0.2864919  -0.23404764 -0.03870368 -0.01358418  0.22359022 -0.08999649\n",
      "  0.15181224  0.05517259 -0.17158973  0.19903626  0.10638186 -0.02445688\n",
      " -0.09012626 -0.21572706 -0.0635151  -0.06457812  0.02723806  0.01094762\n",
      " -0.02642063 -0.19097234 -0.02193076  0.14643971  0.09257132 -0.04644494\n",
      " -0.33723741  0.07166496  0.10157818 -0.0365062   0.01804591  0.05380815]\n"
     ]
    }
   ],
   "source": [
    "filter_model.from_vector(ekf.mean())\n",
    "print(ekf.mean())"
   ]
  },
  {
   "cell_type": "code",
   "execution_count": 86,
   "id": "5a40ce39-3a59-4386-a937-b28d9ab92fb4",
   "metadata": {},
   "outputs": [
    {
     "data": {
      "image/png": "[encoded data removed]",
      "text/plain": [
       "<Figure size 432x288 with 1 Axes>"
      ]
     },
     "metadata": {},
     "output_type": "display_data"
    }
   ],
   "source": [
    "# make random circuits \n",
    "N_circs = 350\n",
    "depth = 20\n",
    "new_circ_list = []\n",
    "for n in range(N_circs):\n",
    "    new_circ_list.append(random_circuit(depth, MODEL_PACK.processor_spec()))\n",
    "new_circ_list = _circ.to_circuits(circ_list) \n",
    "\n",
    "compare_models(noise_model, ref_model, filter_model, new_circ_list, 'ref', 'filter')"
   ]
  },
  {
   "cell_type": "code",
   "execution_count": null,
   "id": "ce5c1ccc-e356-45f3-9d41-f6956c94db04",
   "metadata": {},
   "outputs": [],
   "source": []
  },
  {
   "cell_type": "code",
   "execution_count": 41,
   "id": "5e066fb6-b975-4019-98c3-9edef5c3a4fe",
   "metadata": {},
   "outputs": [
    {
     "name": "stdout",
     "output_type": "stream",
     "text": [
      "[[0.71470713 0.30528106]\n",
      " [0.30528106 0.90461953]]\n"
     ]
    },
    {
     "data": {
      "image/png": "[encoded data removed]",
      "text/plain": [
       "<Figure size 432x288 with 1 Axes>"
      ]
     },
     "metadata": {},
     "output_type": "display_data"
    }
   ],
   "source": [
    "en = make_gaussian_ensemble(1000, np.zeros(2), np.array([[0.7, 0.3], [0.3, 0.9]]))\n",
    "\n",
    "print(ensemble_covar(en))\n",
    "\n",
    "for idx, e in enumerate(en.T):\n",
    "    plt.scatter(en[0], en[1])"
   ]
  },
  {
   "cell_type": "code",
   "execution_count": null,
   "id": "fd7e0f50-00a8-412b-b4b7-5e7582ce21ba",
   "metadata": {},
   "outputs": [],
   "source": []
  }
 ],
 "metadata": {
  "kernelspec": {
   "display_name": "Python 3",
   "language": "python",
   "name": "python3"
  },
  "language_info": {
   "codemirror_mode": {
    "name": "ipython",
    "version": 3
   },
   "file_extension": ".py",
   "mimetype": "text/x-python",
   "name": "python",
   "nbconvert_exporter": "python",
   "pygments_lexer": "ipython3",
   "version": "3.9.5"
  }
 },
 "nbformat": 4,
 "nbformat_minor": 5
}
